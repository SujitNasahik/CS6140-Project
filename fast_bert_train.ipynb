{
  "cells": [
    {
      "cell_type": "code",
      "execution_count": null,
      "metadata": {
        "execution": {
          "iopub.execute_input": "2021-02-19T09:51:50.741292Z",
          "iopub.status.busy": "2021-02-19T09:51:50.740333Z",
          "iopub.status.idle": "2021-02-19T09:51:50.742974Z",
          "shell.execute_reply": "2021-02-19T09:51:50.742297Z"
        },
        "id": "wnLCcxxZRQua",
        "papermill": {
          "duration": 0.046428,
          "end_time": "2021-02-19T09:51:50.743103",
          "exception": false,
          "start_time": "2021-02-19T09:51:50.696675",
          "status": "completed"
        },
        "tags": []
      },
      "outputs": [],
      "source": [
        "import os\n",
        "import json\n",
        "import numpy as np\n",
        "import pandas as pd\n",
        "\n",
        "pd.set_option(\"display.max_columns\", None)"
      ]
    },
    {
      "cell_type": "code",
      "execution_count": null,
      "metadata": {
        "execution": {
          "iopub.execute_input": "2021-02-19T09:51:50.834747Z",
          "iopub.status.busy": "2021-02-19T09:51:50.834029Z",
          "iopub.status.idle": "2021-02-19T09:51:50.997772Z",
          "shell.execute_reply": "2021-02-19T09:51:50.996607Z"
        },
        "id": "BCuE3pICRQua",
        "papermill": {
          "duration": 0.216795,
          "end_time": "2021-02-19T09:51:50.997962",
          "exception": false,
          "start_time": "2021-02-19T09:51:50.781167",
          "status": "completed"
        },
        "tags": []
      },
      "outputs": [],
      "source": [
        "df_train = pd.read_csv(\"nlp_data/train.tsv\", sep='\\t', header=None, names=['Text', 'Class', 'ID'])\n",
        "df_test = pd.read_csv(\"nlp_data/test.tsv\", sep='\\t', header=None, names=['Text', 'Class', 'ID'])"
      ]
    },
    {
      "cell_type": "code",
      "execution_count": null,
      "metadata": {
        "execution": {
          "iopub.execute_input": "2021-02-19T09:51:51.090477Z",
          "iopub.status.busy": "2021-02-19T09:51:51.089495Z",
          "iopub.status.idle": "2021-02-19T09:51:51.156707Z",
          "shell.execute_reply": "2021-02-19T09:51:51.157244Z"
        },
        "id": "3eGUGjyaRQub",
        "papermill": {
          "duration": 0.119464,
          "end_time": "2021-02-19T09:51:51.157444",
          "exception": false,
          "start_time": "2021-02-19T09:51:51.037980",
          "status": "completed"
        },
        "tags": []
      },
      "outputs": [],
      "source": [
        "df_train['List of classes'] = df_train['Class'].apply(lambda x: x.split(','))\n",
        "df_train['Len of classes'] = df_train['List of classes'].apply(lambda x: len(x))\n",
        "df_test['List of classes'] = df_test['Class'].apply(lambda x: x.split(','))\n",
        "df_test['Len of classes'] = df_test['List of classes'].apply(lambda x: len(x))"
      ]
    },
    {
      "cell_type": "code",
      "execution_count": null,
      "metadata": {
        "execution": {
          "iopub.execute_input": "2021-02-19T09:51:51.239745Z",
          "iopub.status.busy": "2021-02-19T09:51:51.239124Z",
          "iopub.status.idle": "2021-02-19T09:51:51.251761Z",
          "shell.execute_reply": "2021-02-19T09:51:51.251231Z"
        },
        "id": "CTnT0Zt6RQub",
        "papermill": {
          "duration": 0.055754,
          "end_time": "2021-02-19T09:51:51.251955",
          "exception": false,
          "start_time": "2021-02-19T09:51:51.196201",
          "status": "completed"
        },
        "tags": []
      },
      "outputs": [],
      "source": [
        "with open('nlp_data/ekman_mapping.json') as file:\n",
        "    ekman_mapping = json.load(file)"
      ]
    },
    {
      "cell_type": "code",
      "execution_count": null,
      "metadata": {
        "execution": {
          "iopub.execute_input": "2021-02-19T09:51:51.339654Z",
          "iopub.status.busy": "2021-02-19T09:51:51.338879Z",
          "iopub.status.idle": "2021-02-19T09:51:51.342374Z",
          "shell.execute_reply": "2021-02-19T09:51:51.342875Z"
        },
        "id": "f723cXkKRQub",
        "papermill": {
          "duration": 0.052023,
          "end_time": "2021-02-19T09:51:51.343027",
          "exception": false,
          "start_time": "2021-02-19T09:51:51.291004",
          "status": "completed"
        },
        "tags": [],
        "outputId": "80f3c9a9-1b6b-41a7-bfdb-324f63a9a358"
      },
      "outputs": [
        {
          "data": {
            "text/plain": [
              "{'anger': ['anger', 'annoyance', 'disapproval'],\n",
              " 'disgust': ['disgust'],\n",
              " 'fear': ['fear', 'nervousness'],\n",
              " 'joy': ['joy',\n",
              "  'amusement',\n",
              "  'approval',\n",
              "  'excitement',\n",
              "  'gratitude',\n",
              "  'love',\n",
              "  'optimism',\n",
              "  'relief',\n",
              "  'pride',\n",
              "  'admiration',\n",
              "  'desire',\n",
              "  'caring'],\n",
              " 'sadness': ['sadness', 'disappointment', 'embarrassment', 'grief', 'remorse'],\n",
              " 'surprise': ['surprise', 'realization', 'confusion', 'curiosity']}"
            ]
          },
          "execution_count": 5,
          "metadata": {},
          "output_type": "execute_result"
        }
      ],
      "source": [
        "ekman_mapping"
      ]
    },
    {
      "cell_type": "code",
      "execution_count": null,
      "metadata": {
        "colab": {
          "base_uri": "https://localhost:8080/"
        },
        "execution": {
          "iopub.execute_input": "2021-02-19T09:51:51.426428Z",
          "iopub.status.busy": "2021-02-19T09:51:51.425743Z",
          "iopub.status.idle": "2021-02-19T09:51:51.440178Z",
          "shell.execute_reply": "2021-02-19T09:51:51.439644Z"
        },
        "id": "aFMAncU5RQub",
        "outputId": "8bdf8a6a-a297-4641-e3cc-44627e233910",
        "papermill": {
          "duration": 0.058199,
          "end_time": "2021-02-19T09:51:51.440315",
          "exception": false,
          "start_time": "2021-02-19T09:51:51.382116",
          "status": "completed"
        },
        "tags": []
      },
      "outputs": [
        {
          "name": "stdout",
          "output_type": "stream",
          "text": [
            "['admiration', 'amusement', 'anger', 'annoyance', 'approval', 'caring', 'confusion', 'curiosity', 'desire', 'disappointment', 'disapproval', 'disgust', 'embarrassment', 'excitement', 'fear', 'gratitude', 'grief', 'joy', 'love', 'nervousness', 'optimism', 'pride', 'realization', 'relief', 'remorse', 'sadness', 'surprise', 'neutral', '']\n"
          ]
        }
      ],
      "source": [
        "emotion_file = open(\"nlp_data/emotions.txt\", \"r\")\n",
        "emotion_list = emotion_file.read()\n",
        "emotion_list = emotion_list.split(\"\\n\")\n",
        "print(emotion_list)"
      ]
    },
    {
      "cell_type": "code",
      "execution_count": null,
      "metadata": {
        "execution": {
          "iopub.execute_input": "2021-02-19T09:51:51.526022Z",
          "iopub.status.busy": "2021-02-19T09:51:51.525063Z",
          "iopub.status.idle": "2021-02-19T09:51:51.528414Z",
          "shell.execute_reply": "2021-02-19T09:51:51.527894Z"
        },
        "id": "K6i0JNhgRQuc",
        "papermill": {
          "duration": 0.048951,
          "end_time": "2021-02-19T09:51:51.528554",
          "exception": false,
          "start_time": "2021-02-19T09:51:51.479603",
          "status": "completed"
        },
        "tags": []
      },
      "outputs": [],
      "source": [
        "def idx2class(idx_list):\n",
        "    arr = []\n",
        "    for i in idx_list:\n",
        "        arr.append(emotion_list[int(i)])\n",
        "    return arr"
      ]
    },
    {
      "cell_type": "code",
      "execution_count": null,
      "metadata": {
        "execution": {
          "iopub.execute_input": "2021-02-19T09:51:51.632410Z",
          "iopub.status.busy": "2021-02-19T09:51:51.617020Z",
          "iopub.status.idle": "2021-02-19T09:51:51.749420Z",
          "shell.execute_reply": "2021-02-19T09:51:51.748849Z"
        },
        "id": "-gsmhhHsRQuc",
        "papermill": {
          "duration": 0.178943,
          "end_time": "2021-02-19T09:51:51.749561",
          "exception": false,
          "start_time": "2021-02-19T09:51:51.570618",
          "status": "completed"
        },
        "tags": []
      },
      "outputs": [],
      "source": [
        "df_train['Emotions'] = df_train['List of classes'].apply(idx2class)\n",
        "df_test['Emotions'] = df_test['List of classes'].apply(idx2class)"
      ]
    },
    {
      "cell_type": "code",
      "execution_count": null,
      "metadata": {
        "execution": {
          "iopub.execute_input": "2021-02-19T09:51:51.836451Z",
          "iopub.status.busy": "2021-02-19T09:51:51.835481Z",
          "iopub.status.idle": "2021-02-19T09:51:51.838753Z",
          "shell.execute_reply": "2021-02-19T09:51:51.838221Z"
        },
        "id": "tBkXHPk9RQuc",
        "papermill": {
          "duration": 0.050072,
          "end_time": "2021-02-19T09:51:51.838949",
          "exception": false,
          "start_time": "2021-02-19T09:51:51.788877",
          "status": "completed"
        },
        "tags": []
      },
      "outputs": [],
      "source": [
        "def EmotionMapping(emotion_list):\n",
        "    map_list = []\n",
        "\n",
        "    for i in emotion_list:\n",
        "        if i in ekman_mapping['anger']:\n",
        "            map_list.append('anger')\n",
        "        if i in ekman_mapping['disgust']:\n",
        "            map_list.append('disgust')\n",
        "        if i in ekman_mapping['fear']:\n",
        "            map_list.append('fear')\n",
        "        if i in ekman_mapping['joy']:\n",
        "            map_list.append('joy')\n",
        "        if i in ekman_mapping['sadness']:\n",
        "            map_list.append('sadness')\n",
        "        if i in ekman_mapping['surprise']:\n",
        "            map_list.append('surprise')\n",
        "        if i == 'neutral':\n",
        "            map_list.append('neutral')\n",
        "\n",
        "    return map_list"
      ]
    },
    {
      "cell_type": "code",
      "execution_count": null,
      "metadata": {
        "execution": {
          "iopub.execute_input": "2021-02-19T09:51:51.941688Z",
          "iopub.status.busy": "2021-02-19T09:51:51.936594Z",
          "iopub.status.idle": "2021-02-19T09:51:52.023609Z",
          "shell.execute_reply": "2021-02-19T09:51:52.022988Z"
        },
        "id": "O25y1zzxRQud",
        "papermill": {
          "duration": 0.143458,
          "end_time": "2021-02-19T09:51:52.023776",
          "exception": false,
          "start_time": "2021-02-19T09:51:51.880318",
          "status": "completed"
        },
        "tags": []
      },
      "outputs": [],
      "source": [
        "df_train['Mapped Emotions'] = df_train['Emotions'].apply(EmotionMapping)\n",
        "df_test['Mapped Emotions'] = df_test['Emotions'].apply(EmotionMapping)"
      ]
    },
    {
      "cell_type": "code",
      "execution_count": null,
      "metadata": {
        "execution": {
          "iopub.execute_input": "2021-02-19T09:51:52.120928Z",
          "iopub.status.busy": "2021-02-19T09:51:52.119937Z",
          "iopub.status.idle": "2021-02-19T09:51:52.131795Z",
          "shell.execute_reply": "2021-02-19T09:51:52.131259Z"
        },
        "id": "43E2-e53RQud",
        "papermill": {
          "duration": 0.065978,
          "end_time": "2021-02-19T09:51:52.131955",
          "exception": false,
          "start_time": "2021-02-19T09:51:52.065977",
          "status": "completed"
        },
        "tags": []
      },
      "outputs": [],
      "source": [
        "df_train['anger'] = np.zeros((len(df_train),1))\n",
        "df_train['disgust'] = np.zeros((len(df_train),1))\n",
        "df_train['fear'] = np.zeros((len(df_train),1))\n",
        "df_train['joy'] = np.zeros((len(df_train),1))\n",
        "df_train['sadness'] = np.zeros((len(df_train),1))\n",
        "df_train['surprise'] = np.zeros((len(df_train),1))\n",
        "df_train['neutral'] = np.zeros((len(df_train),1))\n",
        "\n",
        "df_test['anger'] = np.zeros((len(df_test),1))\n",
        "df_test['disgust'] = np.zeros((len(df_test),1))\n",
        "df_test['fear'] = np.zeros((len(df_test),1))\n",
        "df_test['joy'] = np.zeros((len(df_test),1))\n",
        "df_test['sadness'] = np.zeros((len(df_test),1))\n",
        "df_test['surprise'] = np.zeros((len(df_test),1))\n",
        "df_test['neutral'] = np.zeros((len(df_test),1))"
      ]
    },
    {
      "cell_type": "code",
      "execution_count": null,
      "metadata": {
        "execution": {
          "iopub.execute_input": "2021-02-19T09:51:52.220528Z",
          "iopub.status.busy": "2021-02-19T09:51:52.219599Z",
          "iopub.status.idle": "2021-02-19T09:51:52.451114Z",
          "shell.execute_reply": "2021-02-19T09:51:52.450538Z"
        },
        "id": "usHbS3YARQud",
        "papermill": {
          "duration": 0.2783,
          "end_time": "2021-02-19T09:51:52.451267",
          "exception": false,
          "start_time": "2021-02-19T09:51:52.172967",
          "status": "completed"
        },
        "tags": []
      },
      "outputs": [],
      "source": [
        "for i in ['anger', 'disgust', 'fear', 'joy', 'sadness', 'surprise','neutral']:\n",
        "    df_train[i] = df_train['Mapped Emotions'].apply(lambda x: 1 if i in x else 0)\n",
        "    df_test[i] = df_test['Mapped Emotions'].apply(lambda x: 1 if i in x else 0)"
      ]
    },
    {
      "cell_type": "code",
      "execution_count": null,
      "metadata": {
        "execution": {
          "iopub.execute_input": "2021-02-19T09:51:52.550475Z",
          "iopub.status.busy": "2021-02-19T09:51:52.540212Z",
          "iopub.status.idle": "2021-02-19T09:51:52.564983Z",
          "shell.execute_reply": "2021-02-19T09:51:52.565476Z"
        },
        "id": "LRr2sue-RQud",
        "papermill": {
          "duration": 0.072371,
          "end_time": "2021-02-19T09:51:52.565651",
          "exception": false,
          "start_time": "2021-02-19T09:51:52.493280",
          "status": "completed"
        },
        "tags": [],
        "outputId": "5826d7be-f028-4a2f-e3d9-44b97b12e585"
      },
      "outputs": [
        {
          "data": {
            "text/html": [
              "<div>\n",
              "<style scoped>\n",
              "    .dataframe tbody tr th:only-of-type {\n",
              "        vertical-align: middle;\n",
              "    }\n",
              "\n",
              "    .dataframe tbody tr th {\n",
              "        vertical-align: top;\n",
              "    }\n",
              "\n",
              "    .dataframe thead th {\n",
              "        text-align: right;\n",
              "    }\n",
              "</style>\n",
              "<table border=\"1\" class=\"dataframe\">\n",
              "  <thead>\n",
              "    <tr style=\"text-align: right;\">\n",
              "      <th></th>\n",
              "      <th>Text</th>\n",
              "      <th>Class</th>\n",
              "      <th>ID</th>\n",
              "      <th>List of classes</th>\n",
              "      <th>Len of classes</th>\n",
              "      <th>Emotions</th>\n",
              "      <th>Mapped Emotions</th>\n",
              "      <th>anger</th>\n",
              "      <th>disgust</th>\n",
              "      <th>fear</th>\n",
              "      <th>joy</th>\n",
              "      <th>sadness</th>\n",
              "      <th>surprise</th>\n",
              "      <th>neutral</th>\n",
              "    </tr>\n",
              "  </thead>\n",
              "  <tbody>\n",
              "    <tr>\n",
              "      <th>0</th>\n",
              "      <td>My favourite food is anything I didn't have to...</td>\n",
              "      <td>27</td>\n",
              "      <td>eebbqej</td>\n",
              "      <td>[27]</td>\n",
              "      <td>1</td>\n",
              "      <td>[neutral]</td>\n",
              "      <td>[neutral]</td>\n",
              "      <td>0</td>\n",
              "      <td>0</td>\n",
              "      <td>0</td>\n",
              "      <td>0</td>\n",
              "      <td>0</td>\n",
              "      <td>0</td>\n",
              "      <td>1</td>\n",
              "    </tr>\n",
              "    <tr>\n",
              "      <th>1</th>\n",
              "      <td>Now if he does off himself, everyone will thin...</td>\n",
              "      <td>27</td>\n",
              "      <td>ed00q6i</td>\n",
              "      <td>[27]</td>\n",
              "      <td>1</td>\n",
              "      <td>[neutral]</td>\n",
              "      <td>[neutral]</td>\n",
              "      <td>0</td>\n",
              "      <td>0</td>\n",
              "      <td>0</td>\n",
              "      <td>0</td>\n",
              "      <td>0</td>\n",
              "      <td>0</td>\n",
              "      <td>1</td>\n",
              "    </tr>\n",
              "    <tr>\n",
              "      <th>2</th>\n",
              "      <td>WHY THE FUCK IS BAYLESS ISOING</td>\n",
              "      <td>2</td>\n",
              "      <td>eezlygj</td>\n",
              "      <td>[2]</td>\n",
              "      <td>1</td>\n",
              "      <td>[anger]</td>\n",
              "      <td>[anger]</td>\n",
              "      <td>1</td>\n",
              "      <td>0</td>\n",
              "      <td>0</td>\n",
              "      <td>0</td>\n",
              "      <td>0</td>\n",
              "      <td>0</td>\n",
              "      <td>0</td>\n",
              "    </tr>\n",
              "    <tr>\n",
              "      <th>3</th>\n",
              "      <td>To make her feel threatened</td>\n",
              "      <td>14</td>\n",
              "      <td>ed7ypvh</td>\n",
              "      <td>[14]</td>\n",
              "      <td>1</td>\n",
              "      <td>[fear]</td>\n",
              "      <td>[fear]</td>\n",
              "      <td>0</td>\n",
              "      <td>0</td>\n",
              "      <td>1</td>\n",
              "      <td>0</td>\n",
              "      <td>0</td>\n",
              "      <td>0</td>\n",
              "      <td>0</td>\n",
              "    </tr>\n",
              "    <tr>\n",
              "      <th>4</th>\n",
              "      <td>Dirty Southern Wankers</td>\n",
              "      <td>3</td>\n",
              "      <td>ed0bdzj</td>\n",
              "      <td>[3]</td>\n",
              "      <td>1</td>\n",
              "      <td>[annoyance]</td>\n",
              "      <td>[anger]</td>\n",
              "      <td>1</td>\n",
              "      <td>0</td>\n",
              "      <td>0</td>\n",
              "      <td>0</td>\n",
              "      <td>0</td>\n",
              "      <td>0</td>\n",
              "      <td>0</td>\n",
              "    </tr>\n",
              "  </tbody>\n",
              "</table>\n",
              "</div>"
            ],
            "text/plain": [
              "                                                Text Class       ID  \\\n",
              "0  My favourite food is anything I didn't have to...    27  eebbqej   \n",
              "1  Now if he does off himself, everyone will thin...    27  ed00q6i   \n",
              "2                     WHY THE FUCK IS BAYLESS ISOING     2  eezlygj   \n",
              "3                        To make her feel threatened    14  ed7ypvh   \n",
              "4                             Dirty Southern Wankers     3  ed0bdzj   \n",
              "\n",
              "  List of classes  Len of classes     Emotions Mapped Emotions  anger  \\\n",
              "0            [27]               1    [neutral]       [neutral]      0   \n",
              "1            [27]               1    [neutral]       [neutral]      0   \n",
              "2             [2]               1      [anger]         [anger]      1   \n",
              "3            [14]               1       [fear]          [fear]      0   \n",
              "4             [3]               1  [annoyance]         [anger]      1   \n",
              "\n",
              "   disgust  fear  joy  sadness  surprise  neutral  \n",
              "0        0     0    0        0         0        1  \n",
              "1        0     0    0        0         0        1  \n",
              "2        0     0    0        0         0        0  \n",
              "3        0     1    0        0         0        0  \n",
              "4        0     0    0        0         0        0  "
            ]
          },
          "execution_count": 13,
          "metadata": {},
          "output_type": "execute_result"
        }
      ],
      "source": [
        "df_train.head()"
      ]
    },
    {
      "cell_type": "code",
      "execution_count": null,
      "metadata": {
        "execution": {
          "iopub.execute_input": "2021-02-19T09:51:52.666607Z",
          "iopub.status.busy": "2021-02-19T09:51:52.665403Z",
          "iopub.status.idle": "2021-02-19T09:51:52.679451Z",
          "shell.execute_reply": "2021-02-19T09:51:52.680054Z"
        },
        "id": "PIiwI5HHRQue",
        "papermill": {
          "duration": 0.070402,
          "end_time": "2021-02-19T09:51:52.680280",
          "exception": false,
          "start_time": "2021-02-19T09:51:52.609878",
          "status": "completed"
        },
        "tags": [],
        "outputId": "e742cf06-a0b1-47e1-81ed-98c97b40f1fd"
      },
      "outputs": [
        {
          "data": {
            "text/html": [
              "<div>\n",
              "<style scoped>\n",
              "    .dataframe tbody tr th:only-of-type {\n",
              "        vertical-align: middle;\n",
              "    }\n",
              "\n",
              "    .dataframe tbody tr th {\n",
              "        vertical-align: top;\n",
              "    }\n",
              "\n",
              "    .dataframe thead th {\n",
              "        text-align: right;\n",
              "    }\n",
              "</style>\n",
              "<table border=\"1\" class=\"dataframe\">\n",
              "  <thead>\n",
              "    <tr style=\"text-align: right;\">\n",
              "      <th></th>\n",
              "      <th>Text</th>\n",
              "      <th>Class</th>\n",
              "      <th>ID</th>\n",
              "      <th>List of classes</th>\n",
              "      <th>Len of classes</th>\n",
              "      <th>Emotions</th>\n",
              "      <th>Mapped Emotions</th>\n",
              "      <th>anger</th>\n",
              "      <th>disgust</th>\n",
              "      <th>fear</th>\n",
              "      <th>joy</th>\n",
              "      <th>sadness</th>\n",
              "      <th>surprise</th>\n",
              "      <th>neutral</th>\n",
              "    </tr>\n",
              "  </thead>\n",
              "  <tbody>\n",
              "    <tr>\n",
              "      <th>0</th>\n",
              "      <td>I’m really sorry about your situation :( Altho...</td>\n",
              "      <td>25</td>\n",
              "      <td>eecwqtt</td>\n",
              "      <td>[25]</td>\n",
              "      <td>1</td>\n",
              "      <td>[sadness]</td>\n",
              "      <td>[sadness]</td>\n",
              "      <td>0</td>\n",
              "      <td>0</td>\n",
              "      <td>0</td>\n",
              "      <td>0</td>\n",
              "      <td>1</td>\n",
              "      <td>0</td>\n",
              "      <td>0</td>\n",
              "    </tr>\n",
              "    <tr>\n",
              "      <th>1</th>\n",
              "      <td>It's wonderful because it's awful. At not with.</td>\n",
              "      <td>0</td>\n",
              "      <td>ed5f85d</td>\n",
              "      <td>[0]</td>\n",
              "      <td>1</td>\n",
              "      <td>[admiration]</td>\n",
              "      <td>[joy]</td>\n",
              "      <td>0</td>\n",
              "      <td>0</td>\n",
              "      <td>0</td>\n",
              "      <td>1</td>\n",
              "      <td>0</td>\n",
              "      <td>0</td>\n",
              "      <td>0</td>\n",
              "    </tr>\n",
              "    <tr>\n",
              "      <th>2</th>\n",
              "      <td>Kings fan here, good luck to you guys! Will be...</td>\n",
              "      <td>13</td>\n",
              "      <td>een27c3</td>\n",
              "      <td>[13]</td>\n",
              "      <td>1</td>\n",
              "      <td>[excitement]</td>\n",
              "      <td>[joy]</td>\n",
              "      <td>0</td>\n",
              "      <td>0</td>\n",
              "      <td>0</td>\n",
              "      <td>1</td>\n",
              "      <td>0</td>\n",
              "      <td>0</td>\n",
              "      <td>0</td>\n",
              "    </tr>\n",
              "    <tr>\n",
              "      <th>3</th>\n",
              "      <td>I didn't know that, thank you for teaching me ...</td>\n",
              "      <td>15</td>\n",
              "      <td>eelgwd1</td>\n",
              "      <td>[15]</td>\n",
              "      <td>1</td>\n",
              "      <td>[gratitude]</td>\n",
              "      <td>[joy]</td>\n",
              "      <td>0</td>\n",
              "      <td>0</td>\n",
              "      <td>0</td>\n",
              "      <td>1</td>\n",
              "      <td>0</td>\n",
              "      <td>0</td>\n",
              "      <td>0</td>\n",
              "    </tr>\n",
              "    <tr>\n",
              "      <th>4</th>\n",
              "      <td>They got bored from haunting earth for thousan...</td>\n",
              "      <td>27</td>\n",
              "      <td>eem5uti</td>\n",
              "      <td>[27]</td>\n",
              "      <td>1</td>\n",
              "      <td>[neutral]</td>\n",
              "      <td>[neutral]</td>\n",
              "      <td>0</td>\n",
              "      <td>0</td>\n",
              "      <td>0</td>\n",
              "      <td>0</td>\n",
              "      <td>0</td>\n",
              "      <td>0</td>\n",
              "      <td>1</td>\n",
              "    </tr>\n",
              "  </tbody>\n",
              "</table>\n",
              "</div>"
            ],
            "text/plain": [
              "                                                Text Class       ID  \\\n",
              "0  I’m really sorry about your situation :( Altho...    25  eecwqtt   \n",
              "1    It's wonderful because it's awful. At not with.     0  ed5f85d   \n",
              "2  Kings fan here, good luck to you guys! Will be...    13  een27c3   \n",
              "3  I didn't know that, thank you for teaching me ...    15  eelgwd1   \n",
              "4  They got bored from haunting earth for thousan...    27  eem5uti   \n",
              "\n",
              "  List of classes  Len of classes      Emotions Mapped Emotions  anger  \\\n",
              "0            [25]               1     [sadness]       [sadness]      0   \n",
              "1             [0]               1  [admiration]           [joy]      0   \n",
              "2            [13]               1  [excitement]           [joy]      0   \n",
              "3            [15]               1   [gratitude]           [joy]      0   \n",
              "4            [27]               1     [neutral]       [neutral]      0   \n",
              "\n",
              "   disgust  fear  joy  sadness  surprise  neutral  \n",
              "0        0     0    0        1         0        0  \n",
              "1        0     0    1        0         0        0  \n",
              "2        0     0    1        0         0        0  \n",
              "3        0     0    1        0         0        0  \n",
              "4        0     0    0        0         0        1  "
            ]
          },
          "execution_count": 14,
          "metadata": {},
          "output_type": "execute_result"
        }
      ],
      "source": [
        "df_test.head()"
      ]
    },
    {
      "cell_type": "code",
      "execution_count": null,
      "metadata": {
        "id": "M7R86io41F0t",
        "outputId": "4b6f822a-e947-49a8-b578-9d95802fe7cb"
      },
      "outputs": [
        {
          "name": "stdout",
          "output_type": "stream",
          "text": [
            "Defaulting to user installation because normal site-packages is not writeable\n",
            "Looking in indexes: https://pypi.org/simple, https://pip.repos.neuron.amazonaws.com\n",
            "Requirement already satisfied: emoji in ./.local/lib/python3.6/site-packages (2.9.0)\n"
          ]
        }
      ],
      "source": [
        "!pip install emoji\n"
      ]
    },
    {
      "cell_type": "code",
      "execution_count": null,
      "metadata": {
        "id": "xG4TFpRtyzSc"
      },
      "outputs": [],
      "source": [
        "import emoji\n",
        "import re\n",
        "\n",
        "def preprocess_corpus(x):\n",
        "\n",
        "  # Demojize\n",
        "  x = emoji.demojize(x)\n",
        "\n",
        "\n",
        "  # Lower\n",
        "  x = x.lower()\n",
        "\n",
        "\n",
        "  # Handling emojis\n",
        "  x = re.sub(r\"<3\", \" love \", x)\n",
        "  x = re.sub(r\"xd\", \" smiling_face_with_open_mouth_and_tightly_closed_eyes \", x)\n",
        "  x = re.sub(r\":\\)\", \" smiling_face \", x)\n",
        "  x = re.sub(r\"^_^\", \" smiling_face \", x)\n",
        "  x = re.sub(r\"\\*_\\*\", \" star_struck \", x)\n",
        "  x = re.sub(r\":\\(\", \" frowning_face \", x)\n",
        "  x = re.sub(r\":\\^\\(\", \" frowning_face \", x)\n",
        "  x = re.sub(r\";\\(\", \" frowning_face \", x)\n",
        "  x = re.sub(r\":\\/\",  \" confused_face\", x)\n",
        "  x = re.sub(r\";\\)\",  \" wink\", x)\n",
        "  x = re.sub(r\">__<\",  \" unamused \", x)\n",
        "  x = re.sub(r\"\\b([xo]+x*)\\b\", \" xoxo \", x)\n",
        "  x = re.sub(r\"\\b(n+a+h+)\\b\", \"no\", x)\n",
        "\n",
        "  x = x.strip()\n",
        "\n",
        "  return x"
      ]
    },
    {
      "cell_type": "code",
      "execution_count": null,
      "metadata": {
        "id": "HmYdnFFL0alv",
        "outputId": "2e395f34-d649-4dd4-d739-a2fd469b5d3f"
      },
      "outputs": [
        {
          "data": {
            "text/html": [
              "<div>\n",
              "<style scoped>\n",
              "    .dataframe tbody tr th:only-of-type {\n",
              "        vertical-align: middle;\n",
              "    }\n",
              "\n",
              "    .dataframe tbody tr th {\n",
              "        vertical-align: top;\n",
              "    }\n",
              "\n",
              "    .dataframe thead th {\n",
              "        text-align: right;\n",
              "    }\n",
              "</style>\n",
              "<table border=\"1\" class=\"dataframe\">\n",
              "  <thead>\n",
              "    <tr style=\"text-align: right;\">\n",
              "      <th></th>\n",
              "      <th>Text</th>\n",
              "      <th>Clean_text</th>\n",
              "    </tr>\n",
              "  </thead>\n",
              "  <tbody>\n",
              "    <tr>\n",
              "      <th>2554</th>\n",
              "      <td>Skiing is great but I haven’t been skiing yet ...</td>\n",
              "      <td>skiing is great but i haven’t been skiing yet ...</td>\n",
              "    </tr>\n",
              "    <tr>\n",
              "      <th>9594</th>\n",
              "      <td>[RELIGION] is indian tho lol</td>\n",
              "      <td>[religion] is indian tho lol</td>\n",
              "    </tr>\n",
              "    <tr>\n",
              "      <th>22746</th>\n",
              "      <td>Protecting the border is self-defense. It's no...</td>\n",
              "      <td>protecting the border is self-defense. it's no...</td>\n",
              "    </tr>\n",
              "    <tr>\n",
              "      <th>14479</th>\n",
              "      <td>Struggling to find :(</td>\n",
              "      <td>struggling to find  frowning_face</td>\n",
              "    </tr>\n",
              "    <tr>\n",
              "      <th>10725</th>\n",
              "      <td>We're 40 minutes into this episode and I don't...</td>\n",
              "      <td>we're 40 minutes into this episode and i don't...</td>\n",
              "    </tr>\n",
              "  </tbody>\n",
              "</table>\n",
              "</div>"
            ],
            "text/plain": [
              "                                                    Text  \\\n",
              "2554   Skiing is great but I haven’t been skiing yet ...   \n",
              "9594                        [RELIGION] is indian tho lol   \n",
              "22746  Protecting the border is self-defense. It's no...   \n",
              "14479                              Struggling to find :(   \n",
              "10725  We're 40 minutes into this episode and I don't...   \n",
              "\n",
              "                                              Clean_text  \n",
              "2554   skiing is great but i haven’t been skiing yet ...  \n",
              "9594                        [religion] is indian tho lol  \n",
              "22746  protecting the border is self-defense. it's no...  \n",
              "14479                  struggling to find  frowning_face  \n",
              "10725  we're 40 minutes into this episode and i don't...  "
            ]
          },
          "metadata": {},
          "output_type": "display_data"
        }
      ],
      "source": [
        "df_train[\"Clean_text\"] = df_train[\"Text\"].apply(preprocess_corpus)\n",
        "df_test[\"Clean_text\"] = df_test[\"Text\"].apply(preprocess_corpus)\n",
        "display(df_train[['Text', 'Clean_text']].sample(5))"
      ]
    },
    {
      "cell_type": "code",
      "execution_count": null,
      "metadata": {
        "id": "g9q3IDtQ2dIS"
      },
      "outputs": [],
      "source": [
        "df_train = df_train[ ['Clean_text'] + [ col for col in df_train.columns if col not in ['Text', 'Clean_text'] ] ]\n",
        "df_test = df_test[ ['Clean_text'] + [ col for col in df_test.columns if col not in ['Text', 'Clean_text'] ] ]"
      ]
    },
    {
      "cell_type": "code",
      "execution_count": null,
      "metadata": {
        "colab": {
          "base_uri": "https://localhost:8080/",
          "height": 354
        },
        "id": "e4W5Yh-A2qkW",
        "outputId": "77cc5007-8af6-4e3b-9958-b622fc03e563"
      },
      "outputs": [
        {
          "data": {
            "text/html": [
              "<div>\n",
              "<style scoped>\n",
              "    .dataframe tbody tr th:only-of-type {\n",
              "        vertical-align: middle;\n",
              "    }\n",
              "\n",
              "    .dataframe tbody tr th {\n",
              "        vertical-align: top;\n",
              "    }\n",
              "\n",
              "    .dataframe thead th {\n",
              "        text-align: right;\n",
              "    }\n",
              "</style>\n",
              "<table border=\"1\" class=\"dataframe\">\n",
              "  <thead>\n",
              "    <tr style=\"text-align: right;\">\n",
              "      <th></th>\n",
              "      <th>Clean_text</th>\n",
              "      <th>Class</th>\n",
              "      <th>ID</th>\n",
              "      <th>List of classes</th>\n",
              "      <th>Len of classes</th>\n",
              "      <th>Emotions</th>\n",
              "      <th>Mapped Emotions</th>\n",
              "      <th>anger</th>\n",
              "      <th>disgust</th>\n",
              "      <th>fear</th>\n",
              "      <th>joy</th>\n",
              "      <th>sadness</th>\n",
              "      <th>surprise</th>\n",
              "      <th>neutral</th>\n",
              "    </tr>\n",
              "  </thead>\n",
              "  <tbody>\n",
              "    <tr>\n",
              "      <th>0</th>\n",
              "      <td>i’m really sorry about your situation  frownin...</td>\n",
              "      <td>25</td>\n",
              "      <td>eecwqtt</td>\n",
              "      <td>[25]</td>\n",
              "      <td>1</td>\n",
              "      <td>[sadness]</td>\n",
              "      <td>[sadness]</td>\n",
              "      <td>0</td>\n",
              "      <td>0</td>\n",
              "      <td>0</td>\n",
              "      <td>0</td>\n",
              "      <td>1</td>\n",
              "      <td>0</td>\n",
              "      <td>0</td>\n",
              "    </tr>\n",
              "    <tr>\n",
              "      <th>1</th>\n",
              "      <td>it's wonderful because it's awful. at not with.</td>\n",
              "      <td>0</td>\n",
              "      <td>ed5f85d</td>\n",
              "      <td>[0]</td>\n",
              "      <td>1</td>\n",
              "      <td>[admiration]</td>\n",
              "      <td>[joy]</td>\n",
              "      <td>0</td>\n",
              "      <td>0</td>\n",
              "      <td>0</td>\n",
              "      <td>1</td>\n",
              "      <td>0</td>\n",
              "      <td>0</td>\n",
              "      <td>0</td>\n",
              "    </tr>\n",
              "    <tr>\n",
              "      <th>2</th>\n",
              "      <td>kings fan here, good luck to you guys! will be...</td>\n",
              "      <td>13</td>\n",
              "      <td>een27c3</td>\n",
              "      <td>[13]</td>\n",
              "      <td>1</td>\n",
              "      <td>[excitement]</td>\n",
              "      <td>[joy]</td>\n",
              "      <td>0</td>\n",
              "      <td>0</td>\n",
              "      <td>0</td>\n",
              "      <td>1</td>\n",
              "      <td>0</td>\n",
              "      <td>0</td>\n",
              "      <td>0</td>\n",
              "    </tr>\n",
              "  </tbody>\n",
              "</table>\n",
              "</div>"
            ],
            "text/plain": [
              "                                          Clean_text Class       ID  \\\n",
              "0  i’m really sorry about your situation  frownin...    25  eecwqtt   \n",
              "1    it's wonderful because it's awful. at not with.     0  ed5f85d   \n",
              "2  kings fan here, good luck to you guys! will be...    13  een27c3   \n",
              "\n",
              "  List of classes  Len of classes      Emotions Mapped Emotions  anger  \\\n",
              "0            [25]               1     [sadness]       [sadness]      0   \n",
              "1             [0]               1  [admiration]           [joy]      0   \n",
              "2            [13]               1  [excitement]           [joy]      0   \n",
              "\n",
              "   disgust  fear  joy  sadness  surprise  neutral  \n",
              "0        0     0    0        1         0        0  \n",
              "1        0     0    1        0         0        0  \n",
              "2        0     0    1        0         0        0  "
            ]
          },
          "metadata": {},
          "output_type": "display_data"
        }
      ],
      "source": [
        "display(df_test.head(3))"
      ]
    },
    {
      "cell_type": "code",
      "execution_count": null,
      "metadata": {
        "execution": {
          "iopub.execute_input": "2021-02-19T09:51:52.769033Z",
          "iopub.status.busy": "2021-02-19T09:51:52.768035Z",
          "iopub.status.idle": "2021-02-19T09:51:52.789759Z",
          "shell.execute_reply": "2021-02-19T09:51:52.789262Z"
        },
        "id": "qlWGjtucRQue",
        "papermill": {
          "duration": 0.068224,
          "end_time": "2021-02-19T09:51:52.789917",
          "exception": false,
          "start_time": "2021-02-19T09:51:52.721693",
          "status": "completed"
        },
        "tags": []
      },
      "outputs": [],
      "source": [
        "df_train.drop(['Class', 'List of classes', 'Len of classes', 'Emotions', 'Mapped Emotions'], axis=1, inplace=True)\n",
        "df_test.drop(['Class', 'List of classes', 'Len of classes', 'Emotions', 'Mapped Emotions'], axis=1, inplace=True)"
      ]
    },
    {
      "cell_type": "code",
      "execution_count": null,
      "metadata": {
        "execution": {
          "iopub.execute_input": "2021-02-19T09:51:52.885745Z",
          "iopub.status.busy": "2021-02-19T09:51:52.884913Z",
          "iopub.status.idle": "2021-02-19T09:51:53.408198Z",
          "shell.execute_reply": "2021-02-19T09:51:53.407425Z"
        },
        "id": "wSKF6OnRRQue",
        "papermill": {
          "duration": 0.578325,
          "end_time": "2021-02-19T09:51:53.408357",
          "exception": false,
          "start_time": "2021-02-19T09:51:52.830032",
          "status": "completed"
        },
        "tags": []
      },
      "outputs": [],
      "source": [
        "df_train.to_csv(\"train.csv\", index=False)\n",
        "df_test.to_csv(\"val.csv\", index=False)"
      ]
    },
    {
      "cell_type": "code",
      "execution_count": null,
      "metadata": {
        "execution": {
          "iopub.execute_input": "2021-02-19T09:51:53.501254Z",
          "iopub.status.busy": "2021-02-19T09:51:53.500302Z",
          "iopub.status.idle": "2021-02-19T09:52:45.820449Z",
          "shell.execute_reply": "2021-02-19T09:52:45.819359Z"
        },
        "id": "zieno1yXRQue",
        "papermill": {
          "duration": 52.37026,
          "end_time": "2021-02-19T09:52:45.820620",
          "exception": false,
          "start_time": "2021-02-19T09:51:53.450360",
          "status": "completed"
        },
        "tags": []
      },
      "outputs": [],
      "source": [
        "from fast_bert.data_cls import BertDataBunch\n",
        "\n",
        "databunch = BertDataBunch(\"./\", \"nlp_data\",\n",
        "                          tokenizer='bert-base-uncased',\n",
        "                          train_file='train.csv',\n",
        "                          val_file='val.csv',\n",
        "                          label_file='ekman_labels.csv',\n",
        "                          text_col='Clean_text',\n",
        "                          label_col=['anger', 'disgust', 'fear', 'joy', 'sadness', 'surprise','neutral'],\n",
        "                          batch_size_per_gpu=16,\n",
        "                          max_seq_length=128,\n",
        "                          multi_gpu=False,\n",
        "                          multi_label=True,\n",
        "                          model_type='bert')"
      ]
    },
    {
      "cell_type": "code",
      "execution_count": null,
      "metadata": {
        "colab": {
          "base_uri": "https://localhost:8080/"
        },
        "execution": {
          "iopub.execute_input": "2021-02-19T09:52:46.311618Z",
          "iopub.status.busy": "2021-02-19T09:52:45.919616Z",
          "iopub.status.idle": "2021-02-19T09:53:11.593441Z",
          "shell.execute_reply": "2021-02-19T09:53:11.592418Z"
        },
        "id": "JbXkuqO1RQuf",
        "outputId": "069f14a3-96ce-4936-8aac-af750e104d3f",
        "papermill": {
          "duration": 25.728058,
          "end_time": "2021-02-19T09:53:11.593609",
          "exception": false,
          "start_time": "2021-02-19T09:52:45.865551",
          "status": "completed"
        },
        "tags": []
      },
      "outputs": [
        {
          "name": "stderr",
          "output_type": "stream",
          "text": [
            "DEBUG:urllib3.connectionpool:Starting new HTTPS connection (1): huggingface.co:443\n",
            "DEBUG:urllib3.connectionpool:https://huggingface.co:443 \"HEAD /bert-base-uncased/resolve/main/config.json HTTP/1.1\" 200 0\n",
            "DEBUG:urllib3.connectionpool:Starting new HTTPS connection (1): huggingface.co:443\n",
            "DEBUG:urllib3.connectionpool:https://huggingface.co:443 \"HEAD /bert-base-uncased/resolve/main/pytorch_model.bin HTTP/1.1\" 302 0\n",
            "Some weights of the model checkpoint at bert-base-uncased were not used when initializing BertForMultiLabelSequenceClassification: ['cls.predictions.transform.LayerNorm.bias', 'cls.seq_relationship.weight', 'cls.predictions.decoder.weight', 'cls.predictions.transform.dense.weight', 'cls.predictions.transform.dense.bias', 'cls.predictions.transform.LayerNorm.weight', 'cls.seq_relationship.bias', 'cls.predictions.bias']\n",
            "- This IS expected if you are initializing BertForMultiLabelSequenceClassification from the checkpoint of a model trained on another task or with another architecture (e.g. initializing a BertForSequenceClassification model from a BertForPreTraining model).\n",
            "- This IS NOT expected if you are initializing BertForMultiLabelSequenceClassification from the checkpoint of a model that you expect to be exactly identical (initializing a BertForSequenceClassification model from a BertForSequenceClassification model).\n",
            "Some weights of BertForMultiLabelSequenceClassification were not initialized from the model checkpoint at bert-base-uncased and are newly initialized: ['classifier.weight', 'classifier.bias']\n",
            "You should probably TRAIN this model on a down-stream task to be able to use it for predictions and inference.\n"
          ]
        }
      ],
      "source": [
        "import torch\n",
        "from fast_bert.learner_cls import BertLearner\n",
        "from fast_bert.metrics import accuracy\n",
        "import logging\n",
        "logging.basicConfig(level=logging.NOTSET)\n",
        "logger = logging.getLogger()\n",
        "device_cuda = torch.device(\"cuda\")\n",
        "metrics = []\n",
        "\n",
        "learner = BertLearner.from_pretrained_model(\n",
        "                        databunch,\n",
        "                        pretrained_path='bert-base-uncased',\n",
        "                        metrics=metrics,\n",
        "                        device=device_cuda,\n",
        "                        logger=logger,\n",
        "                        output_dir=\"nlp_data/model\",\n",
        "                        finetuned_wgts_path=None,\n",
        "                        warmup_steps=10,\n",
        "                        multi_gpu=False,\n",
        "                        is_fp16=True,\n",
        "                        multi_label=True,\n",
        "                        logging_steps=50)"
      ]
    },
    {
      "cell_type": "code",
      "execution_count": null,
      "metadata": {
        "execution": {
          "iopub.execute_input": "2021-02-19T09:53:11.684472Z",
          "iopub.status.busy": "2021-02-19T09:53:11.682513Z",
          "iopub.status.idle": "2021-02-19T09:53:11.685200Z",
          "shell.execute_reply": "2021-02-19T09:53:11.685700Z"
        },
        "id": "8blgZ1FqRQuf",
        "papermill": {
          "duration": 0.049574,
          "end_time": "2021-02-19T09:53:11.685885",
          "exception": false,
          "start_time": "2021-02-19T09:53:11.636311",
          "status": "completed"
        },
        "tags": []
      },
      "outputs": [],
      "source": [
        "learner.lr_find(start_lr=1e-3,optimizer_type='adamw')"
      ]
    },
    {
      "cell_type": "code",
      "execution_count": null,
      "metadata": {
        "execution": {
          "iopub.execute_input": "2021-02-19T09:53:11.778124Z",
          "iopub.status.busy": "2021-02-19T09:53:11.776269Z",
          "iopub.status.idle": "2021-02-19T09:53:11.778974Z",
          "shell.execute_reply": "2021-02-19T09:53:11.779485Z"
        },
        "id": "7epcX6scRQuf",
        "papermill": {
          "duration": 0.049859,
          "end_time": "2021-02-19T09:53:11.779632",
          "exception": false,
          "start_time": "2021-02-19T09:53:11.729773",
          "status": "completed"
        },
        "tags": []
      },
      "outputs": [],
      "source": [
        "learner.plot(show_lr=1e-3)"
      ]
    },
    {
      "cell_type": "code",
      "execution_count": null,
      "metadata": {
        "execution": {
          "iopub.execute_input": "2021-02-19T09:53:11.872759Z",
          "iopub.status.busy": "2021-02-19T09:53:11.872070Z",
          "iopub.status.idle": "2021-02-19T12:56:05.983802Z",
          "shell.execute_reply": "2021-02-19T12:56:05.984338Z"
        },
        "id": "B3liMozRRQuf",
        "papermill": {
          "duration": 10974.162234,
          "end_time": "2021-02-19T12:56:05.984521",
          "exception": false,
          "start_time": "2021-02-19T09:53:11.822287",
          "status": "completed"
        },
        "scrolled": false,
        "tags": []
      },
      "outputs": [],
      "source": [
        "learner.fit(epochs=3,\n",
        "            lr=1e-3,\n",
        "            validate=True, # Evaluate the model after each epoch\n",
        "            schedule_type=\"warmup_cosine\",\n",
        "            optimizer_type=\"adamw\")"
      ]
    },
    {
      "cell_type": "code",
      "execution_count": null,
      "metadata": {
        "execution": {
          "iopub.execute_input": "2021-02-19T12:56:06.554699Z",
          "iopub.status.busy": "2021-02-19T12:56:06.553662Z",
          "iopub.status.idle": "2021-02-19T12:56:07.525563Z",
          "shell.execute_reply": "2021-02-19T12:56:07.525006Z"
        },
        "id": "OdsgW0DbRQug",
        "papermill": {
          "duration": 1.314307,
          "end_time": "2021-02-19T12:56:07.525702",
          "exception": false,
          "start_time": "2021-02-19T12:56:06.211395",
          "status": "completed"
        },
        "tags": []
      },
      "outputs": [],
      "source": [
        "learner.save_model()"
      ]
    },
    {
      "cell_type": "code",
      "execution_count": null,
      "metadata": {
        "execution": {
          "iopub.execute_input": "2021-02-19T12:56:07.996503Z",
          "iopub.status.busy": "2021-02-19T12:56:07.995553Z",
          "iopub.status.idle": "2021-02-19T12:56:08.023778Z",
          "shell.execute_reply": "2021-02-19T12:56:08.024398Z"
        },
        "id": "8n-UYTTBRQug",
        "papermill": {
          "duration": 0.271862,
          "end_time": "2021-02-19T12:56:08.024567",
          "exception": false,
          "start_time": "2021-02-19T12:56:07.752705",
          "status": "completed"
        },
        "tags": []
      },
      "outputs": [],
      "source": [
        "texts = [\"Lol! But I love your last name though. XD\",\n",
        "         \"A surprise turn of events! I'm so glad you heard such great things about yourself!\"]\n",
        "predictions = learner.predict_batch(texts)"
      ]
    },
    {
      "cell_type": "code",
      "execution_count": null,
      "metadata": {
        "id": "DQvUVdZdjbp0"
      },
      "outputs": [],
      "source": [
        "%reload_ext tensorboard"
      ]
    },
    {
      "cell_type": "code",
      "execution_count": null,
      "metadata": {
        "id": "j5K51kNajh2F"
      },
      "outputs": [],
      "source": [
        "%tensorboard --logdir /content/model/tensorboard"
      ]
    },
    {
      "cell_type": "code",
      "execution_count": null,
      "metadata": {
        "id": "sNH7sP8v8Pv7",
        "outputId": "e822ab9b-8887-4134-cd69-4d8d6b532651"
      },
      "outputs": [
        {
          "name": "stderr",
          "output_type": "stream",
          "text": [
            "INFO:root:Writing example 0 of 1\n",
            "INFO:root:Writing example 0 of 1\n",
            "INFO:root:Writing example 0 of 1\n"
          ]
        },
        {
          "name": "stdout",
          "output_type": "stream",
          "text": [
            "0\n",
            "1\n",
            "2\n"
          ]
        },
        {
          "name": "stderr",
          "output_type": "stream",
          "text": [
            "INFO:root:Writing example 0 of 1\n",
            "INFO:root:Writing example 0 of 1\n",
            "INFO:root:Writing example 0 of 1\n"
          ]
        },
        {
          "name": "stdout",
          "output_type": "stream",
          "text": [
            "3\n",
            "4\n",
            "5\n"
          ]
        },
        {
          "name": "stderr",
          "output_type": "stream",
          "text": [
            "INFO:root:Writing example 0 of 1\n",
            "INFO:root:Writing example 0 of 1\n",
            "INFO:root:Writing example 0 of 1\n"
          ]
        },
        {
          "name": "stdout",
          "output_type": "stream",
          "text": [
            "6\n",
            "7\n",
            "8\n",
            "9\n"
          ]
        },
        {
          "name": "stderr",
          "output_type": "stream",
          "text": [
            "INFO:root:Writing example 0 of 1\n",
            "INFO:root:Writing example 0 of 1\n",
            "INFO:root:Writing example 0 of 1\n",
            "INFO:root:Writing example 0 of 1\n"
          ]
        },
        {
          "name": "stdout",
          "output_type": "stream",
          "text": [
            "10\n",
            "11\n",
            "12\n"
          ]
        },
        {
          "name": "stderr",
          "output_type": "stream",
          "text": [
            "INFO:root:Writing example 0 of 1\n",
            "INFO:root:Writing example 0 of 1\n",
            "INFO:root:Writing example 0 of 1\n",
            "INFO:root:Writing example 0 of 1\n"
          ]
        },
        {
          "name": "stdout",
          "output_type": "stream",
          "text": [
            "13\n",
            "14\n",
            "15\n",
            "16\n"
          ]
        },
        {
          "name": "stderr",
          "output_type": "stream",
          "text": [
            "INFO:root:Writing example 0 of 1\n",
            "INFO:root:Writing example 0 of 1\n",
            "INFO:root:Writing example 0 of 1\n",
            "INFO:root:Writing example 0 of 1\n"
          ]
        },
        {
          "name": "stdout",
          "output_type": "stream",
          "text": [
            "17\n",
            "18\n",
            "19\n",
            "20\n"
          ]
        },
        {
          "name": "stderr",
          "output_type": "stream",
          "text": [
            "INFO:root:Writing example 0 of 1\n",
            "INFO:root:Writing example 0 of 1\n",
            "INFO:root:Writing example 0 of 1\n",
            "INFO:root:Writing example 0 of 1\n"
          ]
        },
        {
          "name": "stdout",
          "output_type": "stream",
          "text": [
            "21\n",
            "22\n",
            "23\n",
            "24\n"
          ]
        },
        {
          "name": "stderr",
          "output_type": "stream",
          "text": [
            "INFO:root:Writing example 0 of 1\n",
            "INFO:root:Writing example 0 of 1\n",
            "INFO:root:Writing example 0 of 1\n",
            "INFO:root:Writing example 0 of 1\n"
          ]
        },
        {
          "name": "stdout",
          "output_type": "stream",
          "text": [
            "25\n",
            "26\n",
            "27\n",
            "28\n"
          ]
        },
        {
          "name": "stderr",
          "output_type": "stream",
          "text": [
            "INFO:root:Writing example 0 of 1\n",
            "INFO:root:Writing example 0 of 1\n",
            "INFO:root:Writing example 0 of 1\n",
            "INFO:root:Writing example 0 of 1\n"
          ]
        },
        {
          "name": "stdout",
          "output_type": "stream",
          "text": [
            "29\n",
            "30\n",
            "31\n",
            "32\n"
          ]
        },
        {
          "name": "stderr",
          "output_type": "stream",
          "text": [
            "INFO:root:Writing example 0 of 1\n",
            "INFO:root:Writing example 0 of 1\n",
            "INFO:root:Writing example 0 of 1\n",
            "INFO:root:Writing example 0 of 1\n"
          ]
        },
        {
          "name": "stdout",
          "output_type": "stream",
          "text": [
            "33\n",
            "34\n",
            "35\n",
            "36\n"
          ]
        },
        {
          "name": "stderr",
          "output_type": "stream",
          "text": [
            "INFO:root:Writing example 0 of 1\n",
            "INFO:root:Writing example 0 of 1\n",
            "INFO:root:Writing example 0 of 1\n",
            "INFO:root:Writing example 0 of 1\n"
          ]
        },
        {
          "name": "stdout",
          "output_type": "stream",
          "text": [
            "37\n",
            "38\n",
            "39\n",
            "40\n"
          ]
        },
        {
          "name": "stderr",
          "output_type": "stream",
          "text": [
            "INFO:root:Writing example 0 of 1\n",
            "INFO:root:Writing example 0 of 1\n",
            "INFO:root:Writing example 0 of 1\n",
            "INFO:root:Writing example 0 of 1\n"
          ]
        },
        {
          "name": "stdout",
          "output_type": "stream",
          "text": [
            "41\n",
            "42\n",
            "43\n",
            "44\n"
          ]
        },
        {
          "name": "stderr",
          "output_type": "stream",
          "text": [
            "INFO:root:Writing example 0 of 1\n",
            "INFO:root:Writing example 0 of 1\n",
            "INFO:root:Writing example 0 of 1\n",
            "INFO:root:Writing example 0 of 1\n"
          ]
        },
        {
          "name": "stdout",
          "output_type": "stream",
          "text": [
            "45\n",
            "46\n",
            "47\n",
            "48\n"
          ]
        },
        {
          "name": "stderr",
          "output_type": "stream",
          "text": [
            "INFO:root:Writing example 0 of 1\n",
            "INFO:root:Writing example 0 of 1\n",
            "INFO:root:Writing example 0 of 1\n",
            "INFO:root:Writing example 0 of 1\n"
          ]
        },
        {
          "name": "stdout",
          "output_type": "stream",
          "text": [
            "49\n",
            "50\n",
            "51\n",
            "52\n"
          ]
        },
        {
          "name": "stderr",
          "output_type": "stream",
          "text": [
            "INFO:root:Writing example 0 of 1\n",
            "INFO:root:Writing example 0 of 1\n",
            "INFO:root:Writing example 0 of 1\n",
            "INFO:root:Writing example 0 of 1\n"
          ]
        },
        {
          "name": "stdout",
          "output_type": "stream",
          "text": [
            "53\n",
            "54\n",
            "55\n",
            "56\n"
          ]
        },
        {
          "name": "stderr",
          "output_type": "stream",
          "text": [
            "INFO:root:Writing example 0 of 1\n",
            "INFO:root:Writing example 0 of 1\n",
            "INFO:root:Writing example 0 of 1\n",
            "INFO:root:Writing example 0 of 1\n"
          ]
        },
        {
          "name": "stdout",
          "output_type": "stream",
          "text": [
            "57\n",
            "58\n",
            "59\n",
            "60\n"
          ]
        },
        {
          "name": "stderr",
          "output_type": "stream",
          "text": [
            "INFO:root:Writing example 0 of 1\n",
            "INFO:root:Writing example 0 of 1\n",
            "INFO:root:Writing example 0 of 1\n",
            "INFO:root:Writing example 0 of 1\n"
          ]
        },
        {
          "name": "stdout",
          "output_type": "stream",
          "text": [
            "61\n",
            "62\n",
            "63\n",
            "64\n"
          ]
        },
        {
          "name": "stderr",
          "output_type": "stream",
          "text": [
            "INFO:root:Writing example 0 of 1\n",
            "INFO:root:Writing example 0 of 1\n",
            "INFO:root:Writing example 0 of 1\n",
            "INFO:root:Writing example 0 of 1\n"
          ]
        },
        {
          "name": "stdout",
          "output_type": "stream",
          "text": [
            "65\n",
            "66\n",
            "67\n",
            "68\n"
          ]
        },
        {
          "name": "stderr",
          "output_type": "stream",
          "text": [
            "INFO:root:Writing example 0 of 1\n",
            "INFO:root:Writing example 0 of 1\n",
            "INFO:root:Writing example 0 of 1\n",
            "INFO:root:Writing example 0 of 1\n"
          ]
        },
        {
          "name": "stdout",
          "output_type": "stream",
          "text": [
            "69\n",
            "70\n",
            "71\n",
            "72\n"
          ]
        },
        {
          "name": "stderr",
          "output_type": "stream",
          "text": [
            "INFO:root:Writing example 0 of 1\n",
            "INFO:root:Writing example 0 of 1\n",
            "INFO:root:Writing example 0 of 1\n",
            "INFO:root:Writing example 0 of 1\n"
          ]
        },
        {
          "name": "stdout",
          "output_type": "stream",
          "text": [
            "73\n",
            "74\n",
            "75\n",
            "76\n"
          ]
        },
        {
          "name": "stderr",
          "output_type": "stream",
          "text": [
            "INFO:root:Writing example 0 of 1\n",
            "INFO:root:Writing example 0 of 1\n",
            "INFO:root:Writing example 0 of 1\n",
            "INFO:root:Writing example 0 of 1\n"
          ]
        },
        {
          "name": "stdout",
          "output_type": "stream",
          "text": [
            "77\n",
            "78\n",
            "79\n",
            "80\n"
          ]
        },
        {
          "name": "stderr",
          "output_type": "stream",
          "text": [
            "INFO:root:Writing example 0 of 1\n",
            "INFO:root:Writing example 0 of 1\n",
            "INFO:root:Writing example 0 of 1\n",
            "INFO:root:Writing example 0 of 1\n"
          ]
        },
        {
          "name": "stdout",
          "output_type": "stream",
          "text": [
            "81\n",
            "82\n",
            "83\n",
            "84\n"
          ]
        },
        {
          "name": "stderr",
          "output_type": "stream",
          "text": [
            "INFO:root:Writing example 0 of 1\n",
            "INFO:root:Writing example 0 of 1\n",
            "INFO:root:Writing example 0 of 1\n",
            "INFO:root:Writing example 0 of 1\n"
          ]
        },
        {
          "name": "stdout",
          "output_type": "stream",
          "text": [
            "85\n",
            "86\n",
            "87\n",
            "88\n"
          ]
        },
        {
          "name": "stderr",
          "output_type": "stream",
          "text": [
            "INFO:root:Writing example 0 of 1\n",
            "INFO:root:Writing example 0 of 1\n",
            "INFO:root:Writing example 0 of 1\n",
            "INFO:root:Writing example 0 of 1\n"
          ]
        },
        {
          "name": "stdout",
          "output_type": "stream",
          "text": [
            "89\n",
            "90\n",
            "91\n",
            "92\n"
          ]
        },
        {
          "name": "stderr",
          "output_type": "stream",
          "text": [
            "INFO:root:Writing example 0 of 1\n",
            "INFO:root:Writing example 0 of 1\n",
            "INFO:root:Writing example 0 of 1\n",
            "INFO:root:Writing example 0 of 1\n"
          ]
        },
        {
          "name": "stdout",
          "output_type": "stream",
          "text": [
            "93\n",
            "94\n",
            "95\n",
            "96\n"
          ]
        },
        {
          "name": "stderr",
          "output_type": "stream",
          "text": [
            "INFO:root:Writing example 0 of 1\n",
            "INFO:root:Writing example 0 of 1\n",
            "INFO:root:Writing example 0 of 1\n",
            "INFO:root:Writing example 0 of 1\n"
          ]
        },
        {
          "name": "stdout",
          "output_type": "stream",
          "text": [
            "97\n",
            "98\n",
            "99\n",
            "100\n"
          ]
        },
        {
          "name": "stderr",
          "output_type": "stream",
          "text": [
            "INFO:root:Writing example 0 of 1\n",
            "INFO:root:Writing example 0 of 1\n",
            "INFO:root:Writing example 0 of 1\n",
            "INFO:root:Writing example 0 of 1\n"
          ]
        },
        {
          "name": "stdout",
          "output_type": "stream",
          "text": [
            "101\n",
            "102\n",
            "103\n",
            "104\n"
          ]
        },
        {
          "name": "stderr",
          "output_type": "stream",
          "text": [
            "INFO:root:Writing example 0 of 1\n",
            "INFO:root:Writing example 0 of 1\n",
            "INFO:root:Writing example 0 of 1\n",
            "INFO:root:Writing example 0 of 1\n"
          ]
        },
        {
          "name": "stdout",
          "output_type": "stream",
          "text": [
            "105\n",
            "106\n",
            "107\n",
            "108\n"
          ]
        },
        {
          "name": "stderr",
          "output_type": "stream",
          "text": [
            "INFO:root:Writing example 0 of 1\n",
            "INFO:root:Writing example 0 of 1\n",
            "INFO:root:Writing example 0 of 1\n",
            "INFO:root:Writing example 0 of 1\n"
          ]
        },
        {
          "name": "stdout",
          "output_type": "stream",
          "text": [
            "109\n",
            "110\n",
            "111\n",
            "112\n"
          ]
        },
        {
          "name": "stderr",
          "output_type": "stream",
          "text": [
            "INFO:root:Writing example 0 of 1\n",
            "INFO:root:Writing example 0 of 1\n",
            "INFO:root:Writing example 0 of 1\n",
            "INFO:root:Writing example 0 of 1\n"
          ]
        },
        {
          "name": "stdout",
          "output_type": "stream",
          "text": [
            "113\n",
            "114\n",
            "115\n",
            "116\n"
          ]
        },
        {
          "name": "stderr",
          "output_type": "stream",
          "text": [
            "INFO:root:Writing example 0 of 1\n",
            "INFO:root:Writing example 0 of 1\n",
            "INFO:root:Writing example 0 of 1\n",
            "INFO:root:Writing example 0 of 1\n"
          ]
        },
        {
          "name": "stdout",
          "output_type": "stream",
          "text": [
            "117\n",
            "118\n",
            "119\n",
            "120\n"
          ]
        },
        {
          "name": "stderr",
          "output_type": "stream",
          "text": [
            "INFO:root:Writing example 0 of 1\n",
            "INFO:root:Writing example 0 of 1\n",
            "INFO:root:Writing example 0 of 1\n",
            "INFO:root:Writing example 0 of 1\n"
          ]
        },
        {
          "name": "stdout",
          "output_type": "stream",
          "text": [
            "121\n",
            "122\n",
            "123\n",
            "124\n"
          ]
        },
        {
          "name": "stderr",
          "output_type": "stream",
          "text": [
            "INFO:root:Writing example 0 of 1\n",
            "INFO:root:Writing example 0 of 1\n",
            "INFO:root:Writing example 0 of 1\n",
            "INFO:root:Writing example 0 of 1\n"
          ]
        },
        {
          "name": "stdout",
          "output_type": "stream",
          "text": [
            "125\n",
            "126\n",
            "127\n",
            "128\n"
          ]
        },
        {
          "name": "stderr",
          "output_type": "stream",
          "text": [
            "INFO:root:Writing example 0 of 1\n",
            "INFO:root:Writing example 0 of 1\n",
            "INFO:root:Writing example 0 of 1\n",
            "INFO:root:Writing example 0 of 1\n"
          ]
        },
        {
          "name": "stdout",
          "output_type": "stream",
          "text": [
            "129\n",
            "130\n",
            "131\n",
            "132\n"
          ]
        },
        {
          "name": "stderr",
          "output_type": "stream",
          "text": [
            "INFO:root:Writing example 0 of 1\n",
            "INFO:root:Writing example 0 of 1\n",
            "INFO:root:Writing example 0 of 1\n",
            "INFO:root:Writing example 0 of 1\n"
          ]
        },
        {
          "name": "stdout",
          "output_type": "stream",
          "text": [
            "133\n",
            "134\n",
            "135\n",
            "136\n"
          ]
        },
        {
          "name": "stderr",
          "output_type": "stream",
          "text": [
            "INFO:root:Writing example 0 of 1\n",
            "INFO:root:Writing example 0 of 1\n",
            "INFO:root:Writing example 0 of 1\n",
            "INFO:root:Writing example 0 of 1\n"
          ]
        },
        {
          "name": "stdout",
          "output_type": "stream",
          "text": [
            "137\n",
            "138\n",
            "139\n",
            "140\n"
          ]
        },
        {
          "name": "stderr",
          "output_type": "stream",
          "text": [
            "INFO:root:Writing example 0 of 1\n",
            "INFO:root:Writing example 0 of 1\n",
            "INFO:root:Writing example 0 of 1\n",
            "INFO:root:Writing example 0 of 1\n"
          ]
        },
        {
          "name": "stdout",
          "output_type": "stream",
          "text": [
            "141\n",
            "142\n",
            "143\n",
            "144\n"
          ]
        },
        {
          "name": "stderr",
          "output_type": "stream",
          "text": [
            "INFO:root:Writing example 0 of 1\n",
            "INFO:root:Writing example 0 of 1\n",
            "INFO:root:Writing example 0 of 1\n",
            "INFO:root:Writing example 0 of 1\n"
          ]
        },
        {
          "name": "stdout",
          "output_type": "stream",
          "text": [
            "145\n",
            "146\n",
            "147\n",
            "148\n"
          ]
        },
        {
          "name": "stderr",
          "output_type": "stream",
          "text": [
            "INFO:root:Writing example 0 of 1\n",
            "INFO:root:Writing example 0 of 1\n",
            "INFO:root:Writing example 0 of 1\n",
            "INFO:root:Writing example 0 of 1\n"
          ]
        },
        {
          "name": "stdout",
          "output_type": "stream",
          "text": [
            "149\n",
            "150\n",
            "151\n",
            "152\n"
          ]
        },
        {
          "name": "stderr",
          "output_type": "stream",
          "text": [
            "INFO:root:Writing example 0 of 1\n",
            "INFO:root:Writing example 0 of 1\n",
            "INFO:root:Writing example 0 of 1\n",
            "INFO:root:Writing example 0 of 1\n"
          ]
        },
        {
          "name": "stdout",
          "output_type": "stream",
          "text": [
            "153\n",
            "154\n",
            "155\n",
            "156\n"
          ]
        },
        {
          "name": "stderr",
          "output_type": "stream",
          "text": [
            "INFO:root:Writing example 0 of 1\n",
            "INFO:root:Writing example 0 of 1\n",
            "INFO:root:Writing example 0 of 1\n",
            "INFO:root:Writing example 0 of 1\n"
          ]
        },
        {
          "name": "stdout",
          "output_type": "stream",
          "text": [
            "157\n",
            "158\n",
            "159\n",
            "160\n"
          ]
        },
        {
          "name": "stderr",
          "output_type": "stream",
          "text": [
            "INFO:root:Writing example 0 of 1\n",
            "INFO:root:Writing example 0 of 1\n",
            "INFO:root:Writing example 0 of 1\n",
            "INFO:root:Writing example 0 of 1\n"
          ]
        },
        {
          "name": "stdout",
          "output_type": "stream",
          "text": [
            "161\n",
            "162\n",
            "163\n",
            "164\n"
          ]
        },
        {
          "name": "stderr",
          "output_type": "stream",
          "text": [
            "INFO:root:Writing example 0 of 1\n",
            "INFO:root:Writing example 0 of 1\n",
            "INFO:root:Writing example 0 of 1\n",
            "INFO:root:Writing example 0 of 1\n"
          ]
        },
        {
          "name": "stdout",
          "output_type": "stream",
          "text": [
            "165\n",
            "166\n",
            "167\n",
            "168\n"
          ]
        },
        {
          "name": "stderr",
          "output_type": "stream",
          "text": [
            "INFO:root:Writing example 0 of 1\n",
            "INFO:root:Writing example 0 of 1\n",
            "INFO:root:Writing example 0 of 1\n",
            "INFO:root:Writing example 0 of 1\n"
          ]
        },
        {
          "name": "stdout",
          "output_type": "stream",
          "text": [
            "169\n",
            "170\n",
            "171\n",
            "172\n"
          ]
        },
        {
          "name": "stderr",
          "output_type": "stream",
          "text": [
            "INFO:root:Writing example 0 of 1\n",
            "INFO:root:Writing example 0 of 1\n",
            "INFO:root:Writing example 0 of 1\n",
            "INFO:root:Writing example 0 of 1\n"
          ]
        },
        {
          "name": "stdout",
          "output_type": "stream",
          "text": [
            "173\n",
            "174\n",
            "175\n",
            "176\n"
          ]
        },
        {
          "name": "stderr",
          "output_type": "stream",
          "text": [
            "INFO:root:Writing example 0 of 1\n",
            "INFO:root:Writing example 0 of 1\n",
            "INFO:root:Writing example 0 of 1\n",
            "INFO:root:Writing example 0 of 1\n"
          ]
        },
        {
          "name": "stdout",
          "output_type": "stream",
          "text": [
            "177\n",
            "178\n",
            "179\n",
            "180\n"
          ]
        },
        {
          "name": "stderr",
          "output_type": "stream",
          "text": [
            "INFO:root:Writing example 0 of 1\n",
            "INFO:root:Writing example 0 of 1\n",
            "INFO:root:Writing example 0 of 1\n",
            "INFO:root:Writing example 0 of 1\n"
          ]
        },
        {
          "name": "stdout",
          "output_type": "stream",
          "text": [
            "181\n",
            "182\n",
            "183\n",
            "184\n"
          ]
        },
        {
          "name": "stderr",
          "output_type": "stream",
          "text": [
            "INFO:root:Writing example 0 of 1\n",
            "INFO:root:Writing example 0 of 1\n",
            "INFO:root:Writing example 0 of 1\n",
            "INFO:root:Writing example 0 of 1\n"
          ]
        },
        {
          "name": "stdout",
          "output_type": "stream",
          "text": [
            "185\n",
            "186\n",
            "187\n",
            "188\n"
          ]
        },
        {
          "name": "stderr",
          "output_type": "stream",
          "text": [
            "INFO:root:Writing example 0 of 1\n",
            "INFO:root:Writing example 0 of 1\n",
            "INFO:root:Writing example 0 of 1\n",
            "INFO:root:Writing example 0 of 1\n"
          ]
        },
        {
          "name": "stdout",
          "output_type": "stream",
          "text": [
            "189\n",
            "190\n",
            "191\n",
            "192\n"
          ]
        },
        {
          "name": "stderr",
          "output_type": "stream",
          "text": [
            "INFO:root:Writing example 0 of 1\n",
            "INFO:root:Writing example 0 of 1\n",
            "INFO:root:Writing example 0 of 1\n",
            "INFO:root:Writing example 0 of 1\n"
          ]
        },
        {
          "name": "stdout",
          "output_type": "stream",
          "text": [
            "193\n",
            "194\n",
            "195\n",
            "196\n"
          ]
        },
        {
          "name": "stderr",
          "output_type": "stream",
          "text": [
            "INFO:root:Writing example 0 of 1\n",
            "INFO:root:Writing example 0 of 1\n",
            "INFO:root:Writing example 0 of 1\n",
            "INFO:root:Writing example 0 of 1\n"
          ]
        },
        {
          "name": "stdout",
          "output_type": "stream",
          "text": [
            "197\n",
            "198\n",
            "199\n",
            "200\n"
          ]
        },
        {
          "name": "stderr",
          "output_type": "stream",
          "text": [
            "INFO:root:Writing example 0 of 1\n",
            "INFO:root:Writing example 0 of 1\n",
            "INFO:root:Writing example 0 of 1\n",
            "INFO:root:Writing example 0 of 1\n"
          ]
        },
        {
          "name": "stdout",
          "output_type": "stream",
          "text": [
            "201\n",
            "202\n",
            "203\n",
            "204\n"
          ]
        },
        {
          "name": "stderr",
          "output_type": "stream",
          "text": [
            "INFO:root:Writing example 0 of 1\n",
            "INFO:root:Writing example 0 of 1\n",
            "INFO:root:Writing example 0 of 1\n",
            "INFO:root:Writing example 0 of 1\n"
          ]
        },
        {
          "name": "stdout",
          "output_type": "stream",
          "text": [
            "205\n",
            "206\n",
            "207\n",
            "208\n"
          ]
        },
        {
          "name": "stderr",
          "output_type": "stream",
          "text": [
            "INFO:root:Writing example 0 of 1\n",
            "INFO:root:Writing example 0 of 1\n",
            "INFO:root:Writing example 0 of 1\n",
            "INFO:root:Writing example 0 of 1\n"
          ]
        },
        {
          "name": "stdout",
          "output_type": "stream",
          "text": [
            "209\n",
            "210\n",
            "211\n",
            "212\n"
          ]
        },
        {
          "name": "stderr",
          "output_type": "stream",
          "text": [
            "INFO:root:Writing example 0 of 1\n",
            "INFO:root:Writing example 0 of 1\n",
            "INFO:root:Writing example 0 of 1\n",
            "INFO:root:Writing example 0 of 1\n"
          ]
        },
        {
          "name": "stdout",
          "output_type": "stream",
          "text": [
            "213\n",
            "214\n",
            "215\n",
            "216\n"
          ]
        },
        {
          "name": "stderr",
          "output_type": "stream",
          "text": [
            "INFO:root:Writing example 0 of 1\n",
            "INFO:root:Writing example 0 of 1\n",
            "INFO:root:Writing example 0 of 1\n",
            "INFO:root:Writing example 0 of 1\n"
          ]
        },
        {
          "name": "stdout",
          "output_type": "stream",
          "text": [
            "217\n",
            "218\n",
            "219\n",
            "220\n"
          ]
        },
        {
          "name": "stderr",
          "output_type": "stream",
          "text": [
            "INFO:root:Writing example 0 of 1\n",
            "INFO:root:Writing example 0 of 1\n",
            "INFO:root:Writing example 0 of 1\n",
            "INFO:root:Writing example 0 of 1\n"
          ]
        },
        {
          "name": "stdout",
          "output_type": "stream",
          "text": [
            "221\n",
            "222\n",
            "223\n",
            "224\n"
          ]
        },
        {
          "name": "stderr",
          "output_type": "stream",
          "text": [
            "INFO:root:Writing example 0 of 1\n",
            "INFO:root:Writing example 0 of 1\n",
            "INFO:root:Writing example 0 of 1\n",
            "INFO:root:Writing example 0 of 1\n"
          ]
        },
        {
          "name": "stdout",
          "output_type": "stream",
          "text": [
            "225\n",
            "226\n",
            "227\n",
            "228\n"
          ]
        },
        {
          "name": "stderr",
          "output_type": "stream",
          "text": [
            "INFO:root:Writing example 0 of 1\n",
            "INFO:root:Writing example 0 of 1\n",
            "INFO:root:Writing example 0 of 1\n",
            "INFO:root:Writing example 0 of 1\n"
          ]
        },
        {
          "name": "stdout",
          "output_type": "stream",
          "text": [
            "229\n",
            "230\n",
            "231\n",
            "232\n"
          ]
        },
        {
          "name": "stderr",
          "output_type": "stream",
          "text": [
            "INFO:root:Writing example 0 of 1\n",
            "INFO:root:Writing example 0 of 1\n",
            "INFO:root:Writing example 0 of 1\n",
            "INFO:root:Writing example 0 of 1\n"
          ]
        },
        {
          "name": "stdout",
          "output_type": "stream",
          "text": [
            "233\n",
            "234\n",
            "235\n",
            "236\n"
          ]
        },
        {
          "name": "stderr",
          "output_type": "stream",
          "text": [
            "INFO:root:Writing example 0 of 1\n",
            "INFO:root:Writing example 0 of 1\n",
            "INFO:root:Writing example 0 of 1\n",
            "INFO:root:Writing example 0 of 1\n"
          ]
        },
        {
          "name": "stdout",
          "output_type": "stream",
          "text": [
            "237\n",
            "238\n",
            "239\n",
            "240\n"
          ]
        },
        {
          "name": "stderr",
          "output_type": "stream",
          "text": [
            "INFO:root:Writing example 0 of 1\n",
            "INFO:root:Writing example 0 of 1\n",
            "INFO:root:Writing example 0 of 1\n",
            "INFO:root:Writing example 0 of 1\n"
          ]
        },
        {
          "name": "stdout",
          "output_type": "stream",
          "text": [
            "241\n",
            "242\n",
            "243\n",
            "244\n"
          ]
        },
        {
          "name": "stderr",
          "output_type": "stream",
          "text": [
            "INFO:root:Writing example 0 of 1\n",
            "INFO:root:Writing example 0 of 1\n",
            "INFO:root:Writing example 0 of 1\n",
            "INFO:root:Writing example 0 of 1\n"
          ]
        },
        {
          "name": "stdout",
          "output_type": "stream",
          "text": [
            "245\n",
            "246\n",
            "247\n",
            "248\n"
          ]
        },
        {
          "name": "stderr",
          "output_type": "stream",
          "text": [
            "INFO:root:Writing example 0 of 1\n",
            "INFO:root:Writing example 0 of 1\n",
            "INFO:root:Writing example 0 of 1\n",
            "INFO:root:Writing example 0 of 1\n"
          ]
        },
        {
          "name": "stdout",
          "output_type": "stream",
          "text": [
            "249\n",
            "250\n",
            "251\n",
            "252\n"
          ]
        },
        {
          "name": "stderr",
          "output_type": "stream",
          "text": [
            "INFO:root:Writing example 0 of 1\n",
            "INFO:root:Writing example 0 of 1\n",
            "INFO:root:Writing example 0 of 1\n",
            "INFO:root:Writing example 0 of 1\n"
          ]
        },
        {
          "name": "stdout",
          "output_type": "stream",
          "text": [
            "253\n",
            "254\n",
            "255\n",
            "256\n"
          ]
        },
        {
          "name": "stderr",
          "output_type": "stream",
          "text": [
            "INFO:root:Writing example 0 of 1\n",
            "INFO:root:Writing example 0 of 1\n",
            "INFO:root:Writing example 0 of 1\n",
            "INFO:root:Writing example 0 of 1\n"
          ]
        },
        {
          "name": "stdout",
          "output_type": "stream",
          "text": [
            "257\n",
            "258\n",
            "259\n",
            "260\n"
          ]
        },
        {
          "name": "stderr",
          "output_type": "stream",
          "text": [
            "INFO:root:Writing example 0 of 1\n",
            "INFO:root:Writing example 0 of 1\n",
            "INFO:root:Writing example 0 of 1\n",
            "INFO:root:Writing example 0 of 1\n"
          ]
        },
        {
          "name": "stdout",
          "output_type": "stream",
          "text": [
            "261\n",
            "262\n",
            "263\n",
            "264\n"
          ]
        },
        {
          "name": "stderr",
          "output_type": "stream",
          "text": [
            "INFO:root:Writing example 0 of 1\n",
            "INFO:root:Writing example 0 of 1\n",
            "INFO:root:Writing example 0 of 1\n",
            "INFO:root:Writing example 0 of 1\n"
          ]
        },
        {
          "name": "stdout",
          "output_type": "stream",
          "text": [
            "265\n",
            "266\n",
            "267\n",
            "268\n"
          ]
        },
        {
          "name": "stderr",
          "output_type": "stream",
          "text": [
            "INFO:root:Writing example 0 of 1\n",
            "INFO:root:Writing example 0 of 1\n",
            "INFO:root:Writing example 0 of 1\n",
            "INFO:root:Writing example 0 of 1\n"
          ]
        },
        {
          "name": "stdout",
          "output_type": "stream",
          "text": [
            "269\n",
            "270\n",
            "271\n",
            "272\n"
          ]
        },
        {
          "name": "stderr",
          "output_type": "stream",
          "text": [
            "INFO:root:Writing example 0 of 1\n",
            "INFO:root:Writing example 0 of 1\n",
            "INFO:root:Writing example 0 of 1\n",
            "INFO:root:Writing example 0 of 1\n"
          ]
        },
        {
          "name": "stdout",
          "output_type": "stream",
          "text": [
            "273\n",
            "274\n",
            "275\n",
            "276\n"
          ]
        },
        {
          "name": "stderr",
          "output_type": "stream",
          "text": [
            "INFO:root:Writing example 0 of 1\n",
            "INFO:root:Writing example 0 of 1\n",
            "INFO:root:Writing example 0 of 1\n",
            "INFO:root:Writing example 0 of 1\n"
          ]
        },
        {
          "name": "stdout",
          "output_type": "stream",
          "text": [
            "277\n",
            "278\n",
            "279\n",
            "280\n"
          ]
        },
        {
          "name": "stderr",
          "output_type": "stream",
          "text": [
            "INFO:root:Writing example 0 of 1\n",
            "INFO:root:Writing example 0 of 1\n",
            "INFO:root:Writing example 0 of 1\n",
            "INFO:root:Writing example 0 of 1\n"
          ]
        },
        {
          "name": "stdout",
          "output_type": "stream",
          "text": [
            "281\n",
            "282\n",
            "283\n",
            "284\n"
          ]
        },
        {
          "name": "stderr",
          "output_type": "stream",
          "text": [
            "INFO:root:Writing example 0 of 1\n",
            "INFO:root:Writing example 0 of 1\n",
            "INFO:root:Writing example 0 of 1\n",
            "INFO:root:Writing example 0 of 1\n"
          ]
        },
        {
          "name": "stdout",
          "output_type": "stream",
          "text": [
            "285\n",
            "286\n",
            "287\n",
            "288\n"
          ]
        },
        {
          "name": "stderr",
          "output_type": "stream",
          "text": [
            "INFO:root:Writing example 0 of 1\n",
            "INFO:root:Writing example 0 of 1\n",
            "INFO:root:Writing example 0 of 1\n",
            "INFO:root:Writing example 0 of 1\n"
          ]
        },
        {
          "name": "stdout",
          "output_type": "stream",
          "text": [
            "289\n",
            "290\n",
            "291\n",
            "292\n"
          ]
        },
        {
          "name": "stderr",
          "output_type": "stream",
          "text": [
            "INFO:root:Writing example 0 of 1\n",
            "INFO:root:Writing example 0 of 1\n",
            "INFO:root:Writing example 0 of 1\n",
            "INFO:root:Writing example 0 of 1\n"
          ]
        },
        {
          "name": "stdout",
          "output_type": "stream",
          "text": [
            "293\n",
            "294\n",
            "295\n",
            "296\n"
          ]
        },
        {
          "name": "stderr",
          "output_type": "stream",
          "text": [
            "INFO:root:Writing example 0 of 1\n",
            "INFO:root:Writing example 0 of 1\n",
            "INFO:root:Writing example 0 of 1\n",
            "INFO:root:Writing example 0 of 1\n"
          ]
        },
        {
          "name": "stdout",
          "output_type": "stream",
          "text": [
            "297\n",
            "298\n",
            "299\n",
            "300\n"
          ]
        },
        {
          "name": "stderr",
          "output_type": "stream",
          "text": [
            "INFO:root:Writing example 0 of 1\n",
            "INFO:root:Writing example 0 of 1\n",
            "INFO:root:Writing example 0 of 1\n",
            "INFO:root:Writing example 0 of 1\n"
          ]
        },
        {
          "name": "stdout",
          "output_type": "stream",
          "text": [
            "301\n",
            "302\n",
            "303\n",
            "304\n"
          ]
        },
        {
          "name": "stderr",
          "output_type": "stream",
          "text": [
            "INFO:root:Writing example 0 of 1\n",
            "INFO:root:Writing example 0 of 1\n",
            "INFO:root:Writing example 0 of 1\n",
            "INFO:root:Writing example 0 of 1\n"
          ]
        },
        {
          "name": "stdout",
          "output_type": "stream",
          "text": [
            "305\n",
            "306\n",
            "307\n",
            "308\n"
          ]
        },
        {
          "name": "stderr",
          "output_type": "stream",
          "text": [
            "INFO:root:Writing example 0 of 1\n",
            "INFO:root:Writing example 0 of 1\n",
            "INFO:root:Writing example 0 of 1\n",
            "INFO:root:Writing example 0 of 1\n"
          ]
        },
        {
          "name": "stdout",
          "output_type": "stream",
          "text": [
            "309\n",
            "310\n",
            "311\n",
            "312\n"
          ]
        },
        {
          "name": "stderr",
          "output_type": "stream",
          "text": [
            "INFO:root:Writing example 0 of 1\n",
            "INFO:root:Writing example 0 of 1\n",
            "INFO:root:Writing example 0 of 1\n",
            "INFO:root:Writing example 0 of 1\n"
          ]
        },
        {
          "name": "stdout",
          "output_type": "stream",
          "text": [
            "313\n",
            "314\n",
            "315\n",
            "316\n"
          ]
        },
        {
          "name": "stderr",
          "output_type": "stream",
          "text": [
            "INFO:root:Writing example 0 of 1\n",
            "INFO:root:Writing example 0 of 1\n",
            "INFO:root:Writing example 0 of 1\n",
            "INFO:root:Writing example 0 of 1\n"
          ]
        },
        {
          "name": "stdout",
          "output_type": "stream",
          "text": [
            "317\n",
            "318\n",
            "319\n",
            "320\n"
          ]
        },
        {
          "name": "stderr",
          "output_type": "stream",
          "text": [
            "INFO:root:Writing example 0 of 1\n",
            "INFO:root:Writing example 0 of 1\n",
            "INFO:root:Writing example 0 of 1\n",
            "INFO:root:Writing example 0 of 1\n"
          ]
        },
        {
          "name": "stdout",
          "output_type": "stream",
          "text": [
            "321\n",
            "322\n",
            "323\n",
            "324\n"
          ]
        },
        {
          "name": "stderr",
          "output_type": "stream",
          "text": [
            "INFO:root:Writing example 0 of 1\n",
            "INFO:root:Writing example 0 of 1\n",
            "INFO:root:Writing example 0 of 1\n",
            "INFO:root:Writing example 0 of 1\n"
          ]
        },
        {
          "name": "stdout",
          "output_type": "stream",
          "text": [
            "325\n",
            "326\n",
            "327\n",
            "328\n"
          ]
        },
        {
          "name": "stderr",
          "output_type": "stream",
          "text": [
            "INFO:root:Writing example 0 of 1\n",
            "INFO:root:Writing example 0 of 1\n",
            "INFO:root:Writing example 0 of 1\n",
            "INFO:root:Writing example 0 of 1\n"
          ]
        },
        {
          "name": "stdout",
          "output_type": "stream",
          "text": [
            "329\n",
            "330\n",
            "331\n",
            "332\n"
          ]
        },
        {
          "name": "stderr",
          "output_type": "stream",
          "text": [
            "INFO:root:Writing example 0 of 1\n",
            "INFO:root:Writing example 0 of 1\n",
            "INFO:root:Writing example 0 of 1\n",
            "INFO:root:Writing example 0 of 1\n"
          ]
        },
        {
          "name": "stdout",
          "output_type": "stream",
          "text": [
            "333\n",
            "334\n",
            "335\n",
            "336\n"
          ]
        },
        {
          "name": "stderr",
          "output_type": "stream",
          "text": [
            "INFO:root:Writing example 0 of 1\n",
            "INFO:root:Writing example 0 of 1\n",
            "INFO:root:Writing example 0 of 1\n",
            "INFO:root:Writing example 0 of 1\n"
          ]
        },
        {
          "name": "stdout",
          "output_type": "stream",
          "text": [
            "337\n",
            "338\n",
            "339\n",
            "340\n"
          ]
        },
        {
          "name": "stderr",
          "output_type": "stream",
          "text": [
            "INFO:root:Writing example 0 of 1\n",
            "INFO:root:Writing example 0 of 1\n",
            "INFO:root:Writing example 0 of 1\n",
            "INFO:root:Writing example 0 of 1\n"
          ]
        },
        {
          "name": "stdout",
          "output_type": "stream",
          "text": [
            "341\n",
            "342\n",
            "343\n",
            "344\n"
          ]
        },
        {
          "name": "stderr",
          "output_type": "stream",
          "text": [
            "INFO:root:Writing example 0 of 1\n",
            "INFO:root:Writing example 0 of 1\n",
            "INFO:root:Writing example 0 of 1\n",
            "INFO:root:Writing example 0 of 1\n"
          ]
        },
        {
          "name": "stdout",
          "output_type": "stream",
          "text": [
            "345\n",
            "346\n",
            "347\n",
            "348\n"
          ]
        },
        {
          "name": "stderr",
          "output_type": "stream",
          "text": [
            "INFO:root:Writing example 0 of 1\n",
            "INFO:root:Writing example 0 of 1\n",
            "INFO:root:Writing example 0 of 1\n",
            "INFO:root:Writing example 0 of 1\n"
          ]
        },
        {
          "name": "stdout",
          "output_type": "stream",
          "text": [
            "349\n",
            "350\n",
            "351\n",
            "352\n"
          ]
        },
        {
          "name": "stderr",
          "output_type": "stream",
          "text": [
            "INFO:root:Writing example 0 of 1\n",
            "INFO:root:Writing example 0 of 1\n",
            "INFO:root:Writing example 0 of 1\n",
            "INFO:root:Writing example 0 of 1\n"
          ]
        },
        {
          "name": "stdout",
          "output_type": "stream",
          "text": [
            "353\n",
            "354\n",
            "355\n",
            "356\n"
          ]
        },
        {
          "name": "stderr",
          "output_type": "stream",
          "text": [
            "INFO:root:Writing example 0 of 1\n",
            "INFO:root:Writing example 0 of 1\n",
            "INFO:root:Writing example 0 of 1\n",
            "INFO:root:Writing example 0 of 1\n"
          ]
        },
        {
          "name": "stdout",
          "output_type": "stream",
          "text": [
            "357\n",
            "358\n",
            "359\n",
            "360\n"
          ]
        },
        {
          "name": "stderr",
          "output_type": "stream",
          "text": [
            "INFO:root:Writing example 0 of 1\n",
            "INFO:root:Writing example 0 of 1\n",
            "INFO:root:Writing example 0 of 1\n",
            "INFO:root:Writing example 0 of 1\n"
          ]
        },
        {
          "name": "stdout",
          "output_type": "stream",
          "text": [
            "361\n",
            "362\n",
            "363\n",
            "364\n"
          ]
        },
        {
          "name": "stderr",
          "output_type": "stream",
          "text": [
            "INFO:root:Writing example 0 of 1\n",
            "INFO:root:Writing example 0 of 1\n",
            "INFO:root:Writing example 0 of 1\n",
            "INFO:root:Writing example 0 of 1\n"
          ]
        },
        {
          "name": "stdout",
          "output_type": "stream",
          "text": [
            "365\n",
            "366\n",
            "367\n",
            "368\n"
          ]
        },
        {
          "name": "stderr",
          "output_type": "stream",
          "text": [
            "INFO:root:Writing example 0 of 1\n",
            "INFO:root:Writing example 0 of 1\n",
            "INFO:root:Writing example 0 of 1\n",
            "INFO:root:Writing example 0 of 1\n"
          ]
        },
        {
          "name": "stdout",
          "output_type": "stream",
          "text": [
            "369\n",
            "370\n",
            "371\n",
            "372\n"
          ]
        },
        {
          "name": "stderr",
          "output_type": "stream",
          "text": [
            "INFO:root:Writing example 0 of 1\n",
            "INFO:root:Writing example 0 of 1\n",
            "INFO:root:Writing example 0 of 1\n",
            "INFO:root:Writing example 0 of 1\n"
          ]
        },
        {
          "name": "stdout",
          "output_type": "stream",
          "text": [
            "373\n",
            "374\n",
            "375\n",
            "376\n"
          ]
        },
        {
          "name": "stderr",
          "output_type": "stream",
          "text": [
            "INFO:root:Writing example 0 of 1\n",
            "INFO:root:Writing example 0 of 1\n",
            "INFO:root:Writing example 0 of 1\n",
            "INFO:root:Writing example 0 of 1\n"
          ]
        },
        {
          "name": "stdout",
          "output_type": "stream",
          "text": [
            "377\n",
            "378\n",
            "379\n",
            "380\n"
          ]
        },
        {
          "name": "stderr",
          "output_type": "stream",
          "text": [
            "INFO:root:Writing example 0 of 1\n",
            "INFO:root:Writing example 0 of 1\n",
            "INFO:root:Writing example 0 of 1\n",
            "INFO:root:Writing example 0 of 1\n"
          ]
        },
        {
          "name": "stdout",
          "output_type": "stream",
          "text": [
            "381\n",
            "382\n",
            "383\n",
            "384\n"
          ]
        },
        {
          "name": "stderr",
          "output_type": "stream",
          "text": [
            "INFO:root:Writing example 0 of 1\n",
            "INFO:root:Writing example 0 of 1\n",
            "INFO:root:Writing example 0 of 1\n",
            "INFO:root:Writing example 0 of 1\n"
          ]
        },
        {
          "name": "stdout",
          "output_type": "stream",
          "text": [
            "385\n",
            "386\n",
            "387\n",
            "388\n"
          ]
        },
        {
          "name": "stderr",
          "output_type": "stream",
          "text": [
            "INFO:root:Writing example 0 of 1\n",
            "INFO:root:Writing example 0 of 1\n",
            "INFO:root:Writing example 0 of 1\n",
            "INFO:root:Writing example 0 of 1\n"
          ]
        },
        {
          "name": "stdout",
          "output_type": "stream",
          "text": [
            "389\n",
            "390\n",
            "391\n",
            "392\n"
          ]
        },
        {
          "name": "stderr",
          "output_type": "stream",
          "text": [
            "INFO:root:Writing example 0 of 1\n",
            "INFO:root:Writing example 0 of 1\n",
            "INFO:root:Writing example 0 of 1\n",
            "INFO:root:Writing example 0 of 1\n"
          ]
        },
        {
          "name": "stdout",
          "output_type": "stream",
          "text": [
            "393\n",
            "394\n",
            "395\n",
            "396\n"
          ]
        },
        {
          "name": "stderr",
          "output_type": "stream",
          "text": [
            "INFO:root:Writing example 0 of 1\n",
            "INFO:root:Writing example 0 of 1\n",
            "INFO:root:Writing example 0 of 1\n",
            "INFO:root:Writing example 0 of 1\n"
          ]
        },
        {
          "name": "stdout",
          "output_type": "stream",
          "text": [
            "397\n",
            "398\n",
            "399\n",
            "400\n"
          ]
        },
        {
          "name": "stderr",
          "output_type": "stream",
          "text": [
            "INFO:root:Writing example 0 of 1\n",
            "INFO:root:Writing example 0 of 1\n",
            "INFO:root:Writing example 0 of 1\n",
            "INFO:root:Writing example 0 of 1\n"
          ]
        },
        {
          "name": "stdout",
          "output_type": "stream",
          "text": [
            "401\n",
            "402\n",
            "403\n",
            "404\n"
          ]
        },
        {
          "name": "stderr",
          "output_type": "stream",
          "text": [
            "INFO:root:Writing example 0 of 1\n",
            "INFO:root:Writing example 0 of 1\n",
            "INFO:root:Writing example 0 of 1\n",
            "INFO:root:Writing example 0 of 1\n"
          ]
        },
        {
          "name": "stdout",
          "output_type": "stream",
          "text": [
            "405\n",
            "406\n",
            "407\n",
            "408\n"
          ]
        },
        {
          "name": "stderr",
          "output_type": "stream",
          "text": [
            "INFO:root:Writing example 0 of 1\n",
            "INFO:root:Writing example 0 of 1\n",
            "INFO:root:Writing example 0 of 1\n",
            "INFO:root:Writing example 0 of 1\n"
          ]
        },
        {
          "name": "stdout",
          "output_type": "stream",
          "text": [
            "409\n",
            "410\n",
            "411\n",
            "412\n"
          ]
        },
        {
          "name": "stderr",
          "output_type": "stream",
          "text": [
            "INFO:root:Writing example 0 of 1\n",
            "INFO:root:Writing example 0 of 1\n",
            "INFO:root:Writing example 0 of 1\n",
            "INFO:root:Writing example 0 of 1\n"
          ]
        },
        {
          "name": "stdout",
          "output_type": "stream",
          "text": [
            "413\n",
            "414\n",
            "415\n",
            "416\n"
          ]
        },
        {
          "name": "stderr",
          "output_type": "stream",
          "text": [
            "INFO:root:Writing example 0 of 1\n",
            "INFO:root:Writing example 0 of 1\n",
            "INFO:root:Writing example 0 of 1\n",
            "INFO:root:Writing example 0 of 1\n"
          ]
        },
        {
          "name": "stdout",
          "output_type": "stream",
          "text": [
            "417\n",
            "418\n",
            "419\n",
            "420\n"
          ]
        },
        {
          "name": "stderr",
          "output_type": "stream",
          "text": [
            "INFO:root:Writing example 0 of 1\n",
            "INFO:root:Writing example 0 of 1\n",
            "INFO:root:Writing example 0 of 1\n",
            "INFO:root:Writing example 0 of 1\n"
          ]
        },
        {
          "name": "stdout",
          "output_type": "stream",
          "text": [
            "421\n",
            "422\n",
            "423\n",
            "424\n"
          ]
        },
        {
          "name": "stderr",
          "output_type": "stream",
          "text": [
            "INFO:root:Writing example 0 of 1\n",
            "INFO:root:Writing example 0 of 1\n",
            "INFO:root:Writing example 0 of 1\n",
            "INFO:root:Writing example 0 of 1\n"
          ]
        },
        {
          "name": "stdout",
          "output_type": "stream",
          "text": [
            "425\n",
            "426\n",
            "427\n",
            "428\n"
          ]
        },
        {
          "name": "stderr",
          "output_type": "stream",
          "text": [
            "INFO:root:Writing example 0 of 1\n",
            "INFO:root:Writing example 0 of 1\n",
            "INFO:root:Writing example 0 of 1\n",
            "INFO:root:Writing example 0 of 1\n"
          ]
        },
        {
          "name": "stdout",
          "output_type": "stream",
          "text": [
            "429\n",
            "430\n",
            "431\n",
            "432\n"
          ]
        },
        {
          "name": "stderr",
          "output_type": "stream",
          "text": [
            "INFO:root:Writing example 0 of 1\n",
            "INFO:root:Writing example 0 of 1\n",
            "INFO:root:Writing example 0 of 1\n",
            "INFO:root:Writing example 0 of 1\n"
          ]
        },
        {
          "name": "stdout",
          "output_type": "stream",
          "text": [
            "433\n",
            "434\n",
            "435\n",
            "436\n"
          ]
        },
        {
          "name": "stderr",
          "output_type": "stream",
          "text": [
            "INFO:root:Writing example 0 of 1\n",
            "INFO:root:Writing example 0 of 1\n",
            "INFO:root:Writing example 0 of 1\n",
            "INFO:root:Writing example 0 of 1\n"
          ]
        },
        {
          "name": "stdout",
          "output_type": "stream",
          "text": [
            "437\n",
            "438\n",
            "439\n",
            "440\n"
          ]
        },
        {
          "name": "stderr",
          "output_type": "stream",
          "text": [
            "INFO:root:Writing example 0 of 1\n",
            "INFO:root:Writing example 0 of 1\n",
            "INFO:root:Writing example 0 of 1\n",
            "INFO:root:Writing example 0 of 1\n"
          ]
        },
        {
          "name": "stdout",
          "output_type": "stream",
          "text": [
            "441\n",
            "442\n",
            "443\n",
            "444\n"
          ]
        },
        {
          "name": "stderr",
          "output_type": "stream",
          "text": [
            "INFO:root:Writing example 0 of 1\n",
            "INFO:root:Writing example 0 of 1\n",
            "INFO:root:Writing example 0 of 1\n",
            "INFO:root:Writing example 0 of 1\n"
          ]
        },
        {
          "name": "stdout",
          "output_type": "stream",
          "text": [
            "445\n",
            "446\n",
            "447\n",
            "448\n"
          ]
        },
        {
          "name": "stderr",
          "output_type": "stream",
          "text": [
            "INFO:root:Writing example 0 of 1\n",
            "INFO:root:Writing example 0 of 1\n",
            "INFO:root:Writing example 0 of 1\n",
            "INFO:root:Writing example 0 of 1\n"
          ]
        },
        {
          "name": "stdout",
          "output_type": "stream",
          "text": [
            "449\n",
            "450\n",
            "451\n",
            "452\n"
          ]
        },
        {
          "name": "stderr",
          "output_type": "stream",
          "text": [
            "INFO:root:Writing example 0 of 1\n",
            "INFO:root:Writing example 0 of 1\n",
            "INFO:root:Writing example 0 of 1\n",
            "INFO:root:Writing example 0 of 1\n"
          ]
        },
        {
          "name": "stdout",
          "output_type": "stream",
          "text": [
            "453\n",
            "454\n",
            "455\n",
            "456\n"
          ]
        },
        {
          "name": "stderr",
          "output_type": "stream",
          "text": [
            "INFO:root:Writing example 0 of 1\n",
            "INFO:root:Writing example 0 of 1\n",
            "INFO:root:Writing example 0 of 1\n",
            "INFO:root:Writing example 0 of 1\n"
          ]
        },
        {
          "name": "stdout",
          "output_type": "stream",
          "text": [
            "457\n",
            "458\n",
            "459\n",
            "460\n"
          ]
        },
        {
          "name": "stderr",
          "output_type": "stream",
          "text": [
            "INFO:root:Writing example 0 of 1\n",
            "INFO:root:Writing example 0 of 1\n",
            "INFO:root:Writing example 0 of 1\n",
            "INFO:root:Writing example 0 of 1\n"
          ]
        },
        {
          "name": "stdout",
          "output_type": "stream",
          "text": [
            "461\n",
            "462\n",
            "463\n",
            "464\n"
          ]
        },
        {
          "name": "stderr",
          "output_type": "stream",
          "text": [
            "INFO:root:Writing example 0 of 1\n",
            "INFO:root:Writing example 0 of 1\n",
            "INFO:root:Writing example 0 of 1\n",
            "INFO:root:Writing example 0 of 1\n"
          ]
        },
        {
          "name": "stdout",
          "output_type": "stream",
          "text": [
            "465\n",
            "466\n",
            "467\n",
            "468\n"
          ]
        },
        {
          "name": "stderr",
          "output_type": "stream",
          "text": [
            "INFO:root:Writing example 0 of 1\n",
            "INFO:root:Writing example 0 of 1\n",
            "INFO:root:Writing example 0 of 1\n",
            "INFO:root:Writing example 0 of 1\n"
          ]
        },
        {
          "name": "stdout",
          "output_type": "stream",
          "text": [
            "469\n",
            "470\n",
            "471\n",
            "472\n"
          ]
        },
        {
          "name": "stderr",
          "output_type": "stream",
          "text": [
            "INFO:root:Writing example 0 of 1\n",
            "INFO:root:Writing example 0 of 1\n",
            "INFO:root:Writing example 0 of 1\n",
            "INFO:root:Writing example 0 of 1\n"
          ]
        },
        {
          "name": "stdout",
          "output_type": "stream",
          "text": [
            "473\n",
            "474\n",
            "475\n",
            "476\n"
          ]
        },
        {
          "name": "stderr",
          "output_type": "stream",
          "text": [
            "INFO:root:Writing example 0 of 1\n",
            "INFO:root:Writing example 0 of 1\n",
            "INFO:root:Writing example 0 of 1\n",
            "INFO:root:Writing example 0 of 1\n"
          ]
        },
        {
          "name": "stdout",
          "output_type": "stream",
          "text": [
            "477\n",
            "478\n",
            "479\n",
            "480\n"
          ]
        },
        {
          "name": "stderr",
          "output_type": "stream",
          "text": [
            "INFO:root:Writing example 0 of 1\n",
            "INFO:root:Writing example 0 of 1\n",
            "INFO:root:Writing example 0 of 1\n",
            "INFO:root:Writing example 0 of 1\n"
          ]
        },
        {
          "name": "stdout",
          "output_type": "stream",
          "text": [
            "481\n",
            "482\n",
            "483\n",
            "484\n"
          ]
        },
        {
          "name": "stderr",
          "output_type": "stream",
          "text": [
            "INFO:root:Writing example 0 of 1\n",
            "INFO:root:Writing example 0 of 1\n",
            "INFO:root:Writing example 0 of 1\n",
            "INFO:root:Writing example 0 of 1\n"
          ]
        },
        {
          "name": "stdout",
          "output_type": "stream",
          "text": [
            "485\n",
            "486\n",
            "487\n",
            "488\n"
          ]
        },
        {
          "name": "stderr",
          "output_type": "stream",
          "text": [
            "INFO:root:Writing example 0 of 1\n",
            "INFO:root:Writing example 0 of 1\n",
            "INFO:root:Writing example 0 of 1\n",
            "INFO:root:Writing example 0 of 1\n"
          ]
        },
        {
          "name": "stdout",
          "output_type": "stream",
          "text": [
            "489\n",
            "490\n",
            "491\n",
            "492\n"
          ]
        },
        {
          "name": "stderr",
          "output_type": "stream",
          "text": [
            "INFO:root:Writing example 0 of 1\n",
            "INFO:root:Writing example 0 of 1\n",
            "INFO:root:Writing example 0 of 1\n",
            "INFO:root:Writing example 0 of 1\n"
          ]
        },
        {
          "name": "stdout",
          "output_type": "stream",
          "text": [
            "493\n",
            "494\n",
            "495\n",
            "496\n"
          ]
        },
        {
          "name": "stderr",
          "output_type": "stream",
          "text": [
            "INFO:root:Writing example 0 of 1\n",
            "INFO:root:Writing example 0 of 1\n",
            "INFO:root:Writing example 0 of 1\n",
            "INFO:root:Writing example 0 of 1\n"
          ]
        },
        {
          "name": "stdout",
          "output_type": "stream",
          "text": [
            "497\n",
            "498\n",
            "499\n",
            "500\n"
          ]
        },
        {
          "name": "stderr",
          "output_type": "stream",
          "text": [
            "INFO:root:Writing example 0 of 1\n",
            "INFO:root:Writing example 0 of 1\n",
            "INFO:root:Writing example 0 of 1\n",
            "INFO:root:Writing example 0 of 1\n"
          ]
        },
        {
          "name": "stdout",
          "output_type": "stream",
          "text": [
            "501\n",
            "502\n",
            "503\n",
            "504\n"
          ]
        },
        {
          "name": "stderr",
          "output_type": "stream",
          "text": [
            "INFO:root:Writing example 0 of 1\n",
            "INFO:root:Writing example 0 of 1\n",
            "INFO:root:Writing example 0 of 1\n",
            "INFO:root:Writing example 0 of 1\n"
          ]
        },
        {
          "name": "stdout",
          "output_type": "stream",
          "text": [
            "505\n",
            "506\n",
            "507\n",
            "508\n"
          ]
        },
        {
          "name": "stderr",
          "output_type": "stream",
          "text": [
            "INFO:root:Writing example 0 of 1\n",
            "INFO:root:Writing example 0 of 1\n",
            "INFO:root:Writing example 0 of 1\n",
            "INFO:root:Writing example 0 of 1\n"
          ]
        },
        {
          "name": "stdout",
          "output_type": "stream",
          "text": [
            "509\n",
            "510\n",
            "511\n",
            "512\n"
          ]
        },
        {
          "name": "stderr",
          "output_type": "stream",
          "text": [
            "INFO:root:Writing example 0 of 1\n",
            "INFO:root:Writing example 0 of 1\n",
            "INFO:root:Writing example 0 of 1\n",
            "INFO:root:Writing example 0 of 1\n"
          ]
        },
        {
          "name": "stdout",
          "output_type": "stream",
          "text": [
            "513\n",
            "514\n",
            "515\n",
            "516\n"
          ]
        },
        {
          "name": "stderr",
          "output_type": "stream",
          "text": [
            "INFO:root:Writing example 0 of 1\n",
            "INFO:root:Writing example 0 of 1\n",
            "INFO:root:Writing example 0 of 1\n",
            "INFO:root:Writing example 0 of 1\n"
          ]
        },
        {
          "name": "stdout",
          "output_type": "stream",
          "text": [
            "517\n",
            "518\n",
            "519\n",
            "520\n"
          ]
        },
        {
          "name": "stderr",
          "output_type": "stream",
          "text": [
            "INFO:root:Writing example 0 of 1\n",
            "INFO:root:Writing example 0 of 1\n",
            "INFO:root:Writing example 0 of 1\n",
            "INFO:root:Writing example 0 of 1\n"
          ]
        },
        {
          "name": "stdout",
          "output_type": "stream",
          "text": [
            "521\n",
            "522\n",
            "523\n",
            "524\n"
          ]
        },
        {
          "name": "stderr",
          "output_type": "stream",
          "text": [
            "INFO:root:Writing example 0 of 1\n",
            "INFO:root:Writing example 0 of 1\n",
            "INFO:root:Writing example 0 of 1\n",
            "INFO:root:Writing example 0 of 1\n"
          ]
        },
        {
          "name": "stdout",
          "output_type": "stream",
          "text": [
            "525\n",
            "526\n",
            "527\n",
            "528\n"
          ]
        },
        {
          "name": "stderr",
          "output_type": "stream",
          "text": [
            "INFO:root:Writing example 0 of 1\n",
            "INFO:root:Writing example 0 of 1\n",
            "INFO:root:Writing example 0 of 1\n",
            "INFO:root:Writing example 0 of 1\n"
          ]
        },
        {
          "name": "stdout",
          "output_type": "stream",
          "text": [
            "529\n",
            "530\n",
            "531\n",
            "532\n"
          ]
        },
        {
          "name": "stderr",
          "output_type": "stream",
          "text": [
            "INFO:root:Writing example 0 of 1\n",
            "INFO:root:Writing example 0 of 1\n",
            "INFO:root:Writing example 0 of 1\n",
            "INFO:root:Writing example 0 of 1\n"
          ]
        },
        {
          "name": "stdout",
          "output_type": "stream",
          "text": [
            "533\n",
            "534\n",
            "535\n",
            "536\n"
          ]
        },
        {
          "name": "stderr",
          "output_type": "stream",
          "text": [
            "INFO:root:Writing example 0 of 1\n",
            "INFO:root:Writing example 0 of 1\n",
            "INFO:root:Writing example 0 of 1\n",
            "INFO:root:Writing example 0 of 1\n"
          ]
        },
        {
          "name": "stdout",
          "output_type": "stream",
          "text": [
            "537\n",
            "538\n",
            "539\n",
            "540\n"
          ]
        },
        {
          "name": "stderr",
          "output_type": "stream",
          "text": [
            "INFO:root:Writing example 0 of 1\n",
            "INFO:root:Writing example 0 of 1\n",
            "INFO:root:Writing example 0 of 1\n",
            "INFO:root:Writing example 0 of 1\n"
          ]
        },
        {
          "name": "stdout",
          "output_type": "stream",
          "text": [
            "541\n",
            "542\n",
            "543\n",
            "544\n"
          ]
        },
        {
          "name": "stderr",
          "output_type": "stream",
          "text": [
            "INFO:root:Writing example 0 of 1\n",
            "INFO:root:Writing example 0 of 1\n",
            "INFO:root:Writing example 0 of 1\n",
            "INFO:root:Writing example 0 of 1\n"
          ]
        },
        {
          "name": "stdout",
          "output_type": "stream",
          "text": [
            "545\n",
            "546\n",
            "547\n",
            "548\n"
          ]
        },
        {
          "name": "stderr",
          "output_type": "stream",
          "text": [
            "INFO:root:Writing example 0 of 1\n",
            "INFO:root:Writing example 0 of 1\n",
            "INFO:root:Writing example 0 of 1\n",
            "INFO:root:Writing example 0 of 1\n"
          ]
        },
        {
          "name": "stdout",
          "output_type": "stream",
          "text": [
            "549\n",
            "550\n",
            "551\n",
            "552\n"
          ]
        },
        {
          "name": "stderr",
          "output_type": "stream",
          "text": [
            "INFO:root:Writing example 0 of 1\n",
            "INFO:root:Writing example 0 of 1\n",
            "INFO:root:Writing example 0 of 1\n",
            "INFO:root:Writing example 0 of 1\n"
          ]
        },
        {
          "name": "stdout",
          "output_type": "stream",
          "text": [
            "553\n",
            "554\n",
            "555\n",
            "556\n"
          ]
        },
        {
          "name": "stderr",
          "output_type": "stream",
          "text": [
            "INFO:root:Writing example 0 of 1\n",
            "INFO:root:Writing example 0 of 1\n",
            "INFO:root:Writing example 0 of 1\n",
            "INFO:root:Writing example 0 of 1\n"
          ]
        },
        {
          "name": "stdout",
          "output_type": "stream",
          "text": [
            "557\n",
            "558\n",
            "559\n",
            "560\n"
          ]
        },
        {
          "name": "stderr",
          "output_type": "stream",
          "text": [
            "INFO:root:Writing example 0 of 1\n",
            "INFO:root:Writing example 0 of 1\n",
            "INFO:root:Writing example 0 of 1\n",
            "INFO:root:Writing example 0 of 1\n"
          ]
        },
        {
          "name": "stdout",
          "output_type": "stream",
          "text": [
            "561\n",
            "562\n",
            "563\n",
            "564\n"
          ]
        },
        {
          "name": "stderr",
          "output_type": "stream",
          "text": [
            "INFO:root:Writing example 0 of 1\n",
            "INFO:root:Writing example 0 of 1\n",
            "INFO:root:Writing example 0 of 1\n",
            "INFO:root:Writing example 0 of 1\n"
          ]
        },
        {
          "name": "stdout",
          "output_type": "stream",
          "text": [
            "565\n",
            "566\n",
            "567\n",
            "568\n"
          ]
        },
        {
          "name": "stderr",
          "output_type": "stream",
          "text": [
            "INFO:root:Writing example 0 of 1\n",
            "INFO:root:Writing example 0 of 1\n",
            "INFO:root:Writing example 0 of 1\n",
            "INFO:root:Writing example 0 of 1\n"
          ]
        },
        {
          "name": "stdout",
          "output_type": "stream",
          "text": [
            "569\n",
            "570\n",
            "571\n",
            "572\n"
          ]
        },
        {
          "name": "stderr",
          "output_type": "stream",
          "text": [
            "INFO:root:Writing example 0 of 1\n",
            "INFO:root:Writing example 0 of 1\n",
            "INFO:root:Writing example 0 of 1\n",
            "INFO:root:Writing example 0 of 1\n"
          ]
        },
        {
          "name": "stdout",
          "output_type": "stream",
          "text": [
            "573\n",
            "574\n",
            "575\n",
            "576\n"
          ]
        },
        {
          "name": "stderr",
          "output_type": "stream",
          "text": [
            "INFO:root:Writing example 0 of 1\n",
            "INFO:root:Writing example 0 of 1\n",
            "INFO:root:Writing example 0 of 1\n",
            "INFO:root:Writing example 0 of 1\n"
          ]
        },
        {
          "name": "stdout",
          "output_type": "stream",
          "text": [
            "577\n",
            "578\n",
            "579\n",
            "580\n"
          ]
        },
        {
          "name": "stderr",
          "output_type": "stream",
          "text": [
            "INFO:root:Writing example 0 of 1\n",
            "INFO:root:Writing example 0 of 1\n",
            "INFO:root:Writing example 0 of 1\n",
            "INFO:root:Writing example 0 of 1\n"
          ]
        },
        {
          "name": "stdout",
          "output_type": "stream",
          "text": [
            "581\n",
            "582\n",
            "583\n",
            "584\n"
          ]
        },
        {
          "name": "stderr",
          "output_type": "stream",
          "text": [
            "INFO:root:Writing example 0 of 1\n",
            "INFO:root:Writing example 0 of 1\n",
            "INFO:root:Writing example 0 of 1\n",
            "INFO:root:Writing example 0 of 1\n"
          ]
        },
        {
          "name": "stdout",
          "output_type": "stream",
          "text": [
            "585\n",
            "586\n",
            "587\n",
            "588\n"
          ]
        },
        {
          "name": "stderr",
          "output_type": "stream",
          "text": [
            "INFO:root:Writing example 0 of 1\n",
            "INFO:root:Writing example 0 of 1\n",
            "INFO:root:Writing example 0 of 1\n",
            "INFO:root:Writing example 0 of 1\n"
          ]
        },
        {
          "name": "stdout",
          "output_type": "stream",
          "text": [
            "589\n",
            "590\n",
            "591\n",
            "592\n"
          ]
        },
        {
          "name": "stderr",
          "output_type": "stream",
          "text": [
            "INFO:root:Writing example 0 of 1\n",
            "INFO:root:Writing example 0 of 1\n",
            "INFO:root:Writing example 0 of 1\n",
            "INFO:root:Writing example 0 of 1\n"
          ]
        },
        {
          "name": "stdout",
          "output_type": "stream",
          "text": [
            "593\n",
            "594\n",
            "595\n",
            "596\n"
          ]
        },
        {
          "name": "stderr",
          "output_type": "stream",
          "text": [
            "INFO:root:Writing example 0 of 1\n",
            "INFO:root:Writing example 0 of 1\n",
            "INFO:root:Writing example 0 of 1\n",
            "INFO:root:Writing example 0 of 1\n"
          ]
        },
        {
          "name": "stdout",
          "output_type": "stream",
          "text": [
            "597\n",
            "598\n",
            "599\n",
            "600\n"
          ]
        },
        {
          "name": "stderr",
          "output_type": "stream",
          "text": [
            "INFO:root:Writing example 0 of 1\n",
            "INFO:root:Writing example 0 of 1\n",
            "INFO:root:Writing example 0 of 1\n",
            "INFO:root:Writing example 0 of 1\n"
          ]
        },
        {
          "name": "stdout",
          "output_type": "stream",
          "text": [
            "601\n",
            "602\n",
            "603\n",
            "604\n"
          ]
        },
        {
          "name": "stderr",
          "output_type": "stream",
          "text": [
            "INFO:root:Writing example 0 of 1\n",
            "INFO:root:Writing example 0 of 1\n",
            "INFO:root:Writing example 0 of 1\n",
            "INFO:root:Writing example 0 of 1\n"
          ]
        },
        {
          "name": "stdout",
          "output_type": "stream",
          "text": [
            "605\n",
            "606\n",
            "607\n",
            "608\n"
          ]
        },
        {
          "name": "stderr",
          "output_type": "stream",
          "text": [
            "INFO:root:Writing example 0 of 1\n",
            "INFO:root:Writing example 0 of 1\n",
            "INFO:root:Writing example 0 of 1\n",
            "INFO:root:Writing example 0 of 1\n"
          ]
        },
        {
          "name": "stdout",
          "output_type": "stream",
          "text": [
            "609\n",
            "610\n",
            "611\n",
            "612\n"
          ]
        },
        {
          "name": "stderr",
          "output_type": "stream",
          "text": [
            "INFO:root:Writing example 0 of 1\n",
            "INFO:root:Writing example 0 of 1\n",
            "INFO:root:Writing example 0 of 1\n",
            "INFO:root:Writing example 0 of 1\n"
          ]
        },
        {
          "name": "stdout",
          "output_type": "stream",
          "text": [
            "613\n",
            "614\n",
            "615\n",
            "616\n"
          ]
        },
        {
          "name": "stderr",
          "output_type": "stream",
          "text": [
            "INFO:root:Writing example 0 of 1\n",
            "INFO:root:Writing example 0 of 1\n",
            "INFO:root:Writing example 0 of 1\n",
            "INFO:root:Writing example 0 of 1\n"
          ]
        },
        {
          "name": "stdout",
          "output_type": "stream",
          "text": [
            "617\n",
            "618\n",
            "619\n",
            "620\n"
          ]
        },
        {
          "name": "stderr",
          "output_type": "stream",
          "text": [
            "INFO:root:Writing example 0 of 1\n",
            "INFO:root:Writing example 0 of 1\n",
            "INFO:root:Writing example 0 of 1\n",
            "INFO:root:Writing example 0 of 1\n"
          ]
        },
        {
          "name": "stdout",
          "output_type": "stream",
          "text": [
            "621\n",
            "622\n",
            "623\n",
            "624\n"
          ]
        },
        {
          "name": "stderr",
          "output_type": "stream",
          "text": [
            "INFO:root:Writing example 0 of 1\n",
            "INFO:root:Writing example 0 of 1\n",
            "INFO:root:Writing example 0 of 1\n",
            "INFO:root:Writing example 0 of 1\n"
          ]
        },
        {
          "name": "stdout",
          "output_type": "stream",
          "text": [
            "625\n",
            "626\n",
            "627\n",
            "628\n"
          ]
        },
        {
          "name": "stderr",
          "output_type": "stream",
          "text": [
            "INFO:root:Writing example 0 of 1\n",
            "INFO:root:Writing example 0 of 1\n",
            "INFO:root:Writing example 0 of 1\n",
            "INFO:root:Writing example 0 of 1\n"
          ]
        },
        {
          "name": "stdout",
          "output_type": "stream",
          "text": [
            "629\n",
            "630\n",
            "631\n",
            "632\n"
          ]
        },
        {
          "name": "stderr",
          "output_type": "stream",
          "text": [
            "INFO:root:Writing example 0 of 1\n",
            "INFO:root:Writing example 0 of 1\n",
            "INFO:root:Writing example 0 of 1\n",
            "INFO:root:Writing example 0 of 1\n"
          ]
        },
        {
          "name": "stdout",
          "output_type": "stream",
          "text": [
            "633\n",
            "634\n",
            "635\n",
            "636\n"
          ]
        },
        {
          "name": "stderr",
          "output_type": "stream",
          "text": [
            "INFO:root:Writing example 0 of 1\n",
            "INFO:root:Writing example 0 of 1\n",
            "INFO:root:Writing example 0 of 1\n",
            "INFO:root:Writing example 0 of 1\n"
          ]
        },
        {
          "name": "stdout",
          "output_type": "stream",
          "text": [
            "637\n",
            "638\n",
            "639\n",
            "640\n"
          ]
        },
        {
          "name": "stderr",
          "output_type": "stream",
          "text": [
            "INFO:root:Writing example 0 of 1\n",
            "INFO:root:Writing example 0 of 1\n",
            "INFO:root:Writing example 0 of 1\n",
            "INFO:root:Writing example 0 of 1\n"
          ]
        },
        {
          "name": "stdout",
          "output_type": "stream",
          "text": [
            "641\n",
            "642\n",
            "643\n",
            "644\n"
          ]
        },
        {
          "name": "stderr",
          "output_type": "stream",
          "text": [
            "INFO:root:Writing example 0 of 1\n",
            "INFO:root:Writing example 0 of 1\n",
            "INFO:root:Writing example 0 of 1\n",
            "INFO:root:Writing example 0 of 1\n"
          ]
        },
        {
          "name": "stdout",
          "output_type": "stream",
          "text": [
            "645\n",
            "646\n",
            "647\n",
            "648\n"
          ]
        },
        {
          "name": "stderr",
          "output_type": "stream",
          "text": [
            "INFO:root:Writing example 0 of 1\n",
            "INFO:root:Writing example 0 of 1\n",
            "INFO:root:Writing example 0 of 1\n",
            "INFO:root:Writing example 0 of 1\n"
          ]
        },
        {
          "name": "stdout",
          "output_type": "stream",
          "text": [
            "649\n",
            "650\n",
            "651\n",
            "652\n"
          ]
        },
        {
          "name": "stderr",
          "output_type": "stream",
          "text": [
            "INFO:root:Writing example 0 of 1\n",
            "INFO:root:Writing example 0 of 1\n",
            "INFO:root:Writing example 0 of 1\n",
            "INFO:root:Writing example 0 of 1\n"
          ]
        },
        {
          "name": "stdout",
          "output_type": "stream",
          "text": [
            "653\n",
            "654\n",
            "655\n",
            "656\n"
          ]
        },
        {
          "name": "stderr",
          "output_type": "stream",
          "text": [
            "INFO:root:Writing example 0 of 1\n",
            "INFO:root:Writing example 0 of 1\n",
            "INFO:root:Writing example 0 of 1\n",
            "INFO:root:Writing example 0 of 1\n"
          ]
        },
        {
          "name": "stdout",
          "output_type": "stream",
          "text": [
            "657\n",
            "658\n",
            "659\n",
            "660\n"
          ]
        },
        {
          "name": "stderr",
          "output_type": "stream",
          "text": [
            "INFO:root:Writing example 0 of 1\n",
            "INFO:root:Writing example 0 of 1\n",
            "INFO:root:Writing example 0 of 1\n",
            "INFO:root:Writing example 0 of 1\n"
          ]
        },
        {
          "name": "stdout",
          "output_type": "stream",
          "text": [
            "661\n",
            "662\n",
            "663\n",
            "664\n"
          ]
        },
        {
          "name": "stderr",
          "output_type": "stream",
          "text": [
            "INFO:root:Writing example 0 of 1\n",
            "INFO:root:Writing example 0 of 1\n",
            "INFO:root:Writing example 0 of 1\n",
            "INFO:root:Writing example 0 of 1\n"
          ]
        },
        {
          "name": "stdout",
          "output_type": "stream",
          "text": [
            "665\n",
            "666\n",
            "667\n",
            "668\n"
          ]
        },
        {
          "name": "stderr",
          "output_type": "stream",
          "text": [
            "INFO:root:Writing example 0 of 1\n",
            "INFO:root:Writing example 0 of 1\n",
            "INFO:root:Writing example 0 of 1\n",
            "INFO:root:Writing example 0 of 1\n"
          ]
        },
        {
          "name": "stdout",
          "output_type": "stream",
          "text": [
            "669\n",
            "670\n",
            "671\n",
            "672\n"
          ]
        },
        {
          "name": "stderr",
          "output_type": "stream",
          "text": [
            "INFO:root:Writing example 0 of 1\n",
            "INFO:root:Writing example 0 of 1\n",
            "INFO:root:Writing example 0 of 1\n",
            "INFO:root:Writing example 0 of 1\n"
          ]
        },
        {
          "name": "stdout",
          "output_type": "stream",
          "text": [
            "673\n",
            "674\n",
            "675\n",
            "676\n"
          ]
        },
        {
          "name": "stderr",
          "output_type": "stream",
          "text": [
            "INFO:root:Writing example 0 of 1\n",
            "INFO:root:Writing example 0 of 1\n",
            "INFO:root:Writing example 0 of 1\n",
            "INFO:root:Writing example 0 of 1\n"
          ]
        },
        {
          "name": "stdout",
          "output_type": "stream",
          "text": [
            "677\n",
            "678\n",
            "679\n",
            "680\n"
          ]
        },
        {
          "name": "stderr",
          "output_type": "stream",
          "text": [
            "INFO:root:Writing example 0 of 1\n",
            "INFO:root:Writing example 0 of 1\n",
            "INFO:root:Writing example 0 of 1\n",
            "INFO:root:Writing example 0 of 1\n"
          ]
        },
        {
          "name": "stdout",
          "output_type": "stream",
          "text": [
            "681\n",
            "682\n",
            "683\n",
            "684\n"
          ]
        },
        {
          "name": "stderr",
          "output_type": "stream",
          "text": [
            "INFO:root:Writing example 0 of 1\n",
            "INFO:root:Writing example 0 of 1\n",
            "INFO:root:Writing example 0 of 1\n",
            "INFO:root:Writing example 0 of 1\n"
          ]
        },
        {
          "name": "stdout",
          "output_type": "stream",
          "text": [
            "685\n",
            "686\n",
            "687\n",
            "688\n"
          ]
        },
        {
          "name": "stderr",
          "output_type": "stream",
          "text": [
            "INFO:root:Writing example 0 of 1\n",
            "INFO:root:Writing example 0 of 1\n",
            "INFO:root:Writing example 0 of 1\n",
            "INFO:root:Writing example 0 of 1\n"
          ]
        },
        {
          "name": "stdout",
          "output_type": "stream",
          "text": [
            "689\n",
            "690\n",
            "691\n",
            "692\n"
          ]
        },
        {
          "name": "stderr",
          "output_type": "stream",
          "text": [
            "INFO:root:Writing example 0 of 1\n",
            "INFO:root:Writing example 0 of 1\n",
            "INFO:root:Writing example 0 of 1\n",
            "INFO:root:Writing example 0 of 1\n"
          ]
        },
        {
          "name": "stdout",
          "output_type": "stream",
          "text": [
            "693\n",
            "694\n",
            "695\n",
            "696\n"
          ]
        },
        {
          "name": "stderr",
          "output_type": "stream",
          "text": [
            "INFO:root:Writing example 0 of 1\n",
            "INFO:root:Writing example 0 of 1\n",
            "INFO:root:Writing example 0 of 1\n",
            "INFO:root:Writing example 0 of 1\n"
          ]
        },
        {
          "name": "stdout",
          "output_type": "stream",
          "text": [
            "697\n",
            "698\n",
            "699\n",
            "700\n"
          ]
        },
        {
          "name": "stderr",
          "output_type": "stream",
          "text": [
            "INFO:root:Writing example 0 of 1\n",
            "INFO:root:Writing example 0 of 1\n",
            "INFO:root:Writing example 0 of 1\n",
            "INFO:root:Writing example 0 of 1\n"
          ]
        },
        {
          "name": "stdout",
          "output_type": "stream",
          "text": [
            "701\n",
            "702\n",
            "703\n",
            "704\n"
          ]
        },
        {
          "name": "stderr",
          "output_type": "stream",
          "text": [
            "INFO:root:Writing example 0 of 1\n",
            "INFO:root:Writing example 0 of 1\n",
            "INFO:root:Writing example 0 of 1\n",
            "INFO:root:Writing example 0 of 1\n"
          ]
        },
        {
          "name": "stdout",
          "output_type": "stream",
          "text": [
            "705\n",
            "706\n",
            "707\n",
            "708\n"
          ]
        },
        {
          "name": "stderr",
          "output_type": "stream",
          "text": [
            "INFO:root:Writing example 0 of 1\n",
            "INFO:root:Writing example 0 of 1\n",
            "INFO:root:Writing example 0 of 1\n",
            "INFO:root:Writing example 0 of 1\n"
          ]
        },
        {
          "name": "stdout",
          "output_type": "stream",
          "text": [
            "709\n",
            "710\n",
            "711\n",
            "712\n"
          ]
        },
        {
          "name": "stderr",
          "output_type": "stream",
          "text": [
            "INFO:root:Writing example 0 of 1\n",
            "INFO:root:Writing example 0 of 1\n",
            "INFO:root:Writing example 0 of 1\n",
            "INFO:root:Writing example 0 of 1\n"
          ]
        },
        {
          "name": "stdout",
          "output_type": "stream",
          "text": [
            "713\n",
            "714\n",
            "715\n",
            "716\n"
          ]
        },
        {
          "name": "stderr",
          "output_type": "stream",
          "text": [
            "INFO:root:Writing example 0 of 1\n",
            "INFO:root:Writing example 0 of 1\n",
            "INFO:root:Writing example 0 of 1\n",
            "INFO:root:Writing example 0 of 1\n"
          ]
        },
        {
          "name": "stdout",
          "output_type": "stream",
          "text": [
            "717\n",
            "718\n",
            "719\n",
            "720\n"
          ]
        },
        {
          "name": "stderr",
          "output_type": "stream",
          "text": [
            "INFO:root:Writing example 0 of 1\n",
            "INFO:root:Writing example 0 of 1\n",
            "INFO:root:Writing example 0 of 1\n",
            "INFO:root:Writing example 0 of 1\n"
          ]
        },
        {
          "name": "stdout",
          "output_type": "stream",
          "text": [
            "721\n",
            "722\n",
            "723\n",
            "724\n"
          ]
        },
        {
          "name": "stderr",
          "output_type": "stream",
          "text": [
            "INFO:root:Writing example 0 of 1\n",
            "INFO:root:Writing example 0 of 1\n",
            "INFO:root:Writing example 0 of 1\n",
            "INFO:root:Writing example 0 of 1\n"
          ]
        },
        {
          "name": "stdout",
          "output_type": "stream",
          "text": [
            "725\n",
            "726\n",
            "727\n",
            "728\n"
          ]
        },
        {
          "name": "stderr",
          "output_type": "stream",
          "text": [
            "INFO:root:Writing example 0 of 1\n",
            "INFO:root:Writing example 0 of 1\n",
            "INFO:root:Writing example 0 of 1\n",
            "INFO:root:Writing example 0 of 1\n"
          ]
        },
        {
          "name": "stdout",
          "output_type": "stream",
          "text": [
            "729\n",
            "730\n",
            "731\n",
            "732\n"
          ]
        },
        {
          "name": "stderr",
          "output_type": "stream",
          "text": [
            "INFO:root:Writing example 0 of 1\n",
            "INFO:root:Writing example 0 of 1\n",
            "INFO:root:Writing example 0 of 1\n",
            "INFO:root:Writing example 0 of 1\n"
          ]
        },
        {
          "name": "stdout",
          "output_type": "stream",
          "text": [
            "733\n",
            "734\n",
            "735\n",
            "736\n"
          ]
        },
        {
          "name": "stderr",
          "output_type": "stream",
          "text": [
            "INFO:root:Writing example 0 of 1\n",
            "INFO:root:Writing example 0 of 1\n",
            "INFO:root:Writing example 0 of 1\n",
            "INFO:root:Writing example 0 of 1\n"
          ]
        },
        {
          "name": "stdout",
          "output_type": "stream",
          "text": [
            "737\n",
            "738\n",
            "739\n",
            "740\n"
          ]
        },
        {
          "name": "stderr",
          "output_type": "stream",
          "text": [
            "INFO:root:Writing example 0 of 1\n",
            "INFO:root:Writing example 0 of 1\n",
            "INFO:root:Writing example 0 of 1\n",
            "INFO:root:Writing example 0 of 1\n"
          ]
        },
        {
          "name": "stdout",
          "output_type": "stream",
          "text": [
            "741\n",
            "742\n",
            "743\n",
            "744\n"
          ]
        },
        {
          "name": "stderr",
          "output_type": "stream",
          "text": [
            "INFO:root:Writing example 0 of 1\n",
            "INFO:root:Writing example 0 of 1\n",
            "INFO:root:Writing example 0 of 1\n",
            "INFO:root:Writing example 0 of 1\n"
          ]
        },
        {
          "name": "stdout",
          "output_type": "stream",
          "text": [
            "745\n",
            "746\n",
            "747\n",
            "748\n"
          ]
        },
        {
          "name": "stderr",
          "output_type": "stream",
          "text": [
            "INFO:root:Writing example 0 of 1\n",
            "INFO:root:Writing example 0 of 1\n",
            "INFO:root:Writing example 0 of 1\n",
            "INFO:root:Writing example 0 of 1\n"
          ]
        },
        {
          "name": "stdout",
          "output_type": "stream",
          "text": [
            "749\n",
            "750\n",
            "751\n",
            "752\n"
          ]
        },
        {
          "name": "stderr",
          "output_type": "stream",
          "text": [
            "INFO:root:Writing example 0 of 1\n",
            "INFO:root:Writing example 0 of 1\n",
            "INFO:root:Writing example 0 of 1\n",
            "INFO:root:Writing example 0 of 1\n"
          ]
        },
        {
          "name": "stdout",
          "output_type": "stream",
          "text": [
            "753\n",
            "754\n",
            "755\n",
            "756\n"
          ]
        },
        {
          "name": "stderr",
          "output_type": "stream",
          "text": [
            "INFO:root:Writing example 0 of 1\n",
            "INFO:root:Writing example 0 of 1\n",
            "INFO:root:Writing example 0 of 1\n",
            "INFO:root:Writing example 0 of 1\n"
          ]
        },
        {
          "name": "stdout",
          "output_type": "stream",
          "text": [
            "757\n",
            "758\n",
            "759\n",
            "760\n"
          ]
        },
        {
          "name": "stderr",
          "output_type": "stream",
          "text": [
            "INFO:root:Writing example 0 of 1\n",
            "INFO:root:Writing example 0 of 1\n",
            "INFO:root:Writing example 0 of 1\n",
            "INFO:root:Writing example 0 of 1\n"
          ]
        },
        {
          "name": "stdout",
          "output_type": "stream",
          "text": [
            "761\n",
            "762\n",
            "763\n",
            "764\n"
          ]
        },
        {
          "name": "stderr",
          "output_type": "stream",
          "text": [
            "INFO:root:Writing example 0 of 1\n",
            "INFO:root:Writing example 0 of 1\n",
            "INFO:root:Writing example 0 of 1\n",
            "INFO:root:Writing example 0 of 1\n"
          ]
        },
        {
          "name": "stdout",
          "output_type": "stream",
          "text": [
            "765\n",
            "766\n",
            "767\n",
            "768\n"
          ]
        },
        {
          "name": "stderr",
          "output_type": "stream",
          "text": [
            "INFO:root:Writing example 0 of 1\n",
            "INFO:root:Writing example 0 of 1\n",
            "INFO:root:Writing example 0 of 1\n",
            "INFO:root:Writing example 0 of 1\n"
          ]
        },
        {
          "name": "stdout",
          "output_type": "stream",
          "text": [
            "769\n",
            "770\n",
            "771\n",
            "772\n"
          ]
        },
        {
          "name": "stderr",
          "output_type": "stream",
          "text": [
            "INFO:root:Writing example 0 of 1\n",
            "INFO:root:Writing example 0 of 1\n",
            "INFO:root:Writing example 0 of 1\n",
            "INFO:root:Writing example 0 of 1\n"
          ]
        },
        {
          "name": "stdout",
          "output_type": "stream",
          "text": [
            "773\n",
            "774\n",
            "775\n",
            "776\n"
          ]
        },
        {
          "name": "stderr",
          "output_type": "stream",
          "text": [
            "INFO:root:Writing example 0 of 1\n",
            "INFO:root:Writing example 0 of 1\n",
            "INFO:root:Writing example 0 of 1\n",
            "INFO:root:Writing example 0 of 1\n"
          ]
        },
        {
          "name": "stdout",
          "output_type": "stream",
          "text": [
            "777\n",
            "778\n",
            "779\n",
            "780\n"
          ]
        },
        {
          "name": "stderr",
          "output_type": "stream",
          "text": [
            "INFO:root:Writing example 0 of 1\n",
            "INFO:root:Writing example 0 of 1\n",
            "INFO:root:Writing example 0 of 1\n",
            "INFO:root:Writing example 0 of 1\n"
          ]
        },
        {
          "name": "stdout",
          "output_type": "stream",
          "text": [
            "781\n",
            "782\n",
            "783\n",
            "784\n"
          ]
        },
        {
          "name": "stderr",
          "output_type": "stream",
          "text": [
            "INFO:root:Writing example 0 of 1\n",
            "INFO:root:Writing example 0 of 1\n",
            "INFO:root:Writing example 0 of 1\n",
            "INFO:root:Writing example 0 of 1\n"
          ]
        },
        {
          "name": "stdout",
          "output_type": "stream",
          "text": [
            "785\n",
            "786\n",
            "787\n",
            "788\n"
          ]
        },
        {
          "name": "stderr",
          "output_type": "stream",
          "text": [
            "INFO:root:Writing example 0 of 1\n",
            "INFO:root:Writing example 0 of 1\n",
            "INFO:root:Writing example 0 of 1\n",
            "INFO:root:Writing example 0 of 1\n"
          ]
        },
        {
          "name": "stdout",
          "output_type": "stream",
          "text": [
            "789\n",
            "790\n",
            "791\n",
            "792\n"
          ]
        },
        {
          "name": "stderr",
          "output_type": "stream",
          "text": [
            "INFO:root:Writing example 0 of 1\n",
            "INFO:root:Writing example 0 of 1\n",
            "INFO:root:Writing example 0 of 1\n",
            "INFO:root:Writing example 0 of 1\n"
          ]
        },
        {
          "name": "stdout",
          "output_type": "stream",
          "text": [
            "793\n",
            "794\n",
            "795\n",
            "796\n"
          ]
        },
        {
          "name": "stderr",
          "output_type": "stream",
          "text": [
            "INFO:root:Writing example 0 of 1\n",
            "INFO:root:Writing example 0 of 1\n",
            "INFO:root:Writing example 0 of 1\n",
            "INFO:root:Writing example 0 of 1\n"
          ]
        },
        {
          "name": "stdout",
          "output_type": "stream",
          "text": [
            "797\n",
            "798\n",
            "799\n",
            "800\n"
          ]
        },
        {
          "name": "stderr",
          "output_type": "stream",
          "text": [
            "INFO:root:Writing example 0 of 1\n",
            "INFO:root:Writing example 0 of 1\n",
            "INFO:root:Writing example 0 of 1\n",
            "INFO:root:Writing example 0 of 1\n"
          ]
        },
        {
          "name": "stdout",
          "output_type": "stream",
          "text": [
            "801\n",
            "802\n",
            "803\n",
            "804\n"
          ]
        },
        {
          "name": "stderr",
          "output_type": "stream",
          "text": [
            "INFO:root:Writing example 0 of 1\n",
            "INFO:root:Writing example 0 of 1\n",
            "INFO:root:Writing example 0 of 1\n",
            "INFO:root:Writing example 0 of 1\n"
          ]
        },
        {
          "name": "stdout",
          "output_type": "stream",
          "text": [
            "805\n",
            "806\n",
            "807\n",
            "808\n"
          ]
        },
        {
          "name": "stderr",
          "output_type": "stream",
          "text": [
            "INFO:root:Writing example 0 of 1\n",
            "INFO:root:Writing example 0 of 1\n",
            "INFO:root:Writing example 0 of 1\n",
            "INFO:root:Writing example 0 of 1\n"
          ]
        },
        {
          "name": "stdout",
          "output_type": "stream",
          "text": [
            "809\n",
            "810\n",
            "811\n",
            "812\n"
          ]
        },
        {
          "name": "stderr",
          "output_type": "stream",
          "text": [
            "INFO:root:Writing example 0 of 1\n",
            "INFO:root:Writing example 0 of 1\n",
            "INFO:root:Writing example 0 of 1\n",
            "INFO:root:Writing example 0 of 1\n"
          ]
        },
        {
          "name": "stdout",
          "output_type": "stream",
          "text": [
            "813\n",
            "814\n",
            "815\n",
            "816\n"
          ]
        },
        {
          "name": "stderr",
          "output_type": "stream",
          "text": [
            "INFO:root:Writing example 0 of 1\n",
            "INFO:root:Writing example 0 of 1\n",
            "INFO:root:Writing example 0 of 1\n",
            "INFO:root:Writing example 0 of 1\n"
          ]
        },
        {
          "name": "stdout",
          "output_type": "stream",
          "text": [
            "817\n",
            "818\n",
            "819\n",
            "820\n"
          ]
        },
        {
          "name": "stderr",
          "output_type": "stream",
          "text": [
            "INFO:root:Writing example 0 of 1\n",
            "INFO:root:Writing example 0 of 1\n",
            "INFO:root:Writing example 0 of 1\n",
            "INFO:root:Writing example 0 of 1\n"
          ]
        },
        {
          "name": "stdout",
          "output_type": "stream",
          "text": [
            "821\n",
            "822\n",
            "823\n",
            "824\n"
          ]
        },
        {
          "name": "stderr",
          "output_type": "stream",
          "text": [
            "INFO:root:Writing example 0 of 1\n",
            "INFO:root:Writing example 0 of 1\n",
            "INFO:root:Writing example 0 of 1\n",
            "INFO:root:Writing example 0 of 1\n"
          ]
        },
        {
          "name": "stdout",
          "output_type": "stream",
          "text": [
            "825\n",
            "826\n",
            "827\n",
            "828\n"
          ]
        },
        {
          "name": "stderr",
          "output_type": "stream",
          "text": [
            "INFO:root:Writing example 0 of 1\n",
            "INFO:root:Writing example 0 of 1\n",
            "INFO:root:Writing example 0 of 1\n",
            "INFO:root:Writing example 0 of 1\n"
          ]
        },
        {
          "name": "stdout",
          "output_type": "stream",
          "text": [
            "829\n",
            "830\n",
            "831\n",
            "832\n"
          ]
        },
        {
          "name": "stderr",
          "output_type": "stream",
          "text": [
            "INFO:root:Writing example 0 of 1\n",
            "INFO:root:Writing example 0 of 1\n",
            "INFO:root:Writing example 0 of 1\n",
            "INFO:root:Writing example 0 of 1\n"
          ]
        },
        {
          "name": "stdout",
          "output_type": "stream",
          "text": [
            "833\n",
            "834\n",
            "835\n",
            "836\n"
          ]
        },
        {
          "name": "stderr",
          "output_type": "stream",
          "text": [
            "INFO:root:Writing example 0 of 1\n",
            "INFO:root:Writing example 0 of 1\n",
            "INFO:root:Writing example 0 of 1\n",
            "INFO:root:Writing example 0 of 1\n"
          ]
        },
        {
          "name": "stdout",
          "output_type": "stream",
          "text": [
            "837\n",
            "838\n",
            "839\n",
            "840\n"
          ]
        },
        {
          "name": "stderr",
          "output_type": "stream",
          "text": [
            "INFO:root:Writing example 0 of 1\n",
            "INFO:root:Writing example 0 of 1\n",
            "INFO:root:Writing example 0 of 1\n",
            "INFO:root:Writing example 0 of 1\n"
          ]
        },
        {
          "name": "stdout",
          "output_type": "stream",
          "text": [
            "841\n",
            "842\n",
            "843\n",
            "844\n"
          ]
        },
        {
          "name": "stderr",
          "output_type": "stream",
          "text": [
            "INFO:root:Writing example 0 of 1\n",
            "INFO:root:Writing example 0 of 1\n",
            "INFO:root:Writing example 0 of 1\n",
            "INFO:root:Writing example 0 of 1\n"
          ]
        },
        {
          "name": "stdout",
          "output_type": "stream",
          "text": [
            "845\n",
            "846\n",
            "847\n",
            "848\n"
          ]
        },
        {
          "name": "stderr",
          "output_type": "stream",
          "text": [
            "INFO:root:Writing example 0 of 1\n",
            "INFO:root:Writing example 0 of 1\n",
            "INFO:root:Writing example 0 of 1\n",
            "INFO:root:Writing example 0 of 1\n"
          ]
        },
        {
          "name": "stdout",
          "output_type": "stream",
          "text": [
            "849\n",
            "850\n",
            "851\n",
            "852\n"
          ]
        },
        {
          "name": "stderr",
          "output_type": "stream",
          "text": [
            "INFO:root:Writing example 0 of 1\n",
            "INFO:root:Writing example 0 of 1\n",
            "INFO:root:Writing example 0 of 1\n",
            "INFO:root:Writing example 0 of 1\n"
          ]
        },
        {
          "name": "stdout",
          "output_type": "stream",
          "text": [
            "853\n",
            "854\n",
            "855\n",
            "856\n"
          ]
        },
        {
          "name": "stderr",
          "output_type": "stream",
          "text": [
            "INFO:root:Writing example 0 of 1\n",
            "INFO:root:Writing example 0 of 1\n",
            "INFO:root:Writing example 0 of 1\n",
            "INFO:root:Writing example 0 of 1\n"
          ]
        },
        {
          "name": "stdout",
          "output_type": "stream",
          "text": [
            "857\n",
            "858\n",
            "859\n",
            "860\n"
          ]
        },
        {
          "name": "stderr",
          "output_type": "stream",
          "text": [
            "INFO:root:Writing example 0 of 1\n",
            "INFO:root:Writing example 0 of 1\n",
            "INFO:root:Writing example 0 of 1\n",
            "INFO:root:Writing example 0 of 1\n"
          ]
        },
        {
          "name": "stdout",
          "output_type": "stream",
          "text": [
            "861\n",
            "862\n",
            "863\n",
            "864\n"
          ]
        },
        {
          "name": "stderr",
          "output_type": "stream",
          "text": [
            "INFO:root:Writing example 0 of 1\n",
            "INFO:root:Writing example 0 of 1\n",
            "INFO:root:Writing example 0 of 1\n",
            "INFO:root:Writing example 0 of 1\n"
          ]
        },
        {
          "name": "stdout",
          "output_type": "stream",
          "text": [
            "865\n",
            "866\n",
            "867\n",
            "868\n"
          ]
        },
        {
          "name": "stderr",
          "output_type": "stream",
          "text": [
            "INFO:root:Writing example 0 of 1\n",
            "INFO:root:Writing example 0 of 1\n",
            "INFO:root:Writing example 0 of 1\n",
            "INFO:root:Writing example 0 of 1\n"
          ]
        },
        {
          "name": "stdout",
          "output_type": "stream",
          "text": [
            "869\n",
            "870\n",
            "871\n",
            "872\n"
          ]
        },
        {
          "name": "stderr",
          "output_type": "stream",
          "text": [
            "INFO:root:Writing example 0 of 1\n",
            "INFO:root:Writing example 0 of 1\n",
            "INFO:root:Writing example 0 of 1\n",
            "INFO:root:Writing example 0 of 1\n"
          ]
        },
        {
          "name": "stdout",
          "output_type": "stream",
          "text": [
            "873\n",
            "874\n",
            "875\n",
            "876\n"
          ]
        },
        {
          "name": "stderr",
          "output_type": "stream",
          "text": [
            "INFO:root:Writing example 0 of 1\n",
            "INFO:root:Writing example 0 of 1\n",
            "INFO:root:Writing example 0 of 1\n",
            "INFO:root:Writing example 0 of 1\n"
          ]
        },
        {
          "name": "stdout",
          "output_type": "stream",
          "text": [
            "877\n",
            "878\n",
            "879\n",
            "880\n"
          ]
        },
        {
          "name": "stderr",
          "output_type": "stream",
          "text": [
            "INFO:root:Writing example 0 of 1\n",
            "INFO:root:Writing example 0 of 1\n",
            "INFO:root:Writing example 0 of 1\n",
            "INFO:root:Writing example 0 of 1\n"
          ]
        },
        {
          "name": "stdout",
          "output_type": "stream",
          "text": [
            "881\n",
            "882\n",
            "883\n",
            "884\n"
          ]
        },
        {
          "name": "stderr",
          "output_type": "stream",
          "text": [
            "INFO:root:Writing example 0 of 1\n",
            "INFO:root:Writing example 0 of 1\n",
            "INFO:root:Writing example 0 of 1\n",
            "INFO:root:Writing example 0 of 1\n"
          ]
        },
        {
          "name": "stdout",
          "output_type": "stream",
          "text": [
            "885\n",
            "886\n",
            "887\n",
            "888\n"
          ]
        },
        {
          "name": "stderr",
          "output_type": "stream",
          "text": [
            "INFO:root:Writing example 0 of 1\n",
            "INFO:root:Writing example 0 of 1\n",
            "INFO:root:Writing example 0 of 1\n",
            "INFO:root:Writing example 0 of 1\n"
          ]
        },
        {
          "name": "stdout",
          "output_type": "stream",
          "text": [
            "889\n",
            "890\n",
            "891\n",
            "892\n"
          ]
        },
        {
          "name": "stderr",
          "output_type": "stream",
          "text": [
            "INFO:root:Writing example 0 of 1\n",
            "INFO:root:Writing example 0 of 1\n",
            "INFO:root:Writing example 0 of 1\n",
            "INFO:root:Writing example 0 of 1\n"
          ]
        },
        {
          "name": "stdout",
          "output_type": "stream",
          "text": [
            "893\n",
            "894\n",
            "895\n",
            "896\n"
          ]
        },
        {
          "name": "stderr",
          "output_type": "stream",
          "text": [
            "INFO:root:Writing example 0 of 1\n",
            "INFO:root:Writing example 0 of 1\n",
            "INFO:root:Writing example 0 of 1\n",
            "INFO:root:Writing example 0 of 1\n"
          ]
        },
        {
          "name": "stdout",
          "output_type": "stream",
          "text": [
            "897\n",
            "898\n",
            "899\n",
            "900\n"
          ]
        },
        {
          "name": "stderr",
          "output_type": "stream",
          "text": [
            "INFO:root:Writing example 0 of 1\n",
            "INFO:root:Writing example 0 of 1\n",
            "INFO:root:Writing example 0 of 1\n",
            "INFO:root:Writing example 0 of 1\n"
          ]
        },
        {
          "name": "stdout",
          "output_type": "stream",
          "text": [
            "901\n",
            "902\n",
            "903\n",
            "904\n"
          ]
        },
        {
          "name": "stderr",
          "output_type": "stream",
          "text": [
            "INFO:root:Writing example 0 of 1\n",
            "INFO:root:Writing example 0 of 1\n",
            "INFO:root:Writing example 0 of 1\n",
            "INFO:root:Writing example 0 of 1\n"
          ]
        },
        {
          "name": "stdout",
          "output_type": "stream",
          "text": [
            "905\n",
            "906\n",
            "907\n",
            "908\n"
          ]
        },
        {
          "name": "stderr",
          "output_type": "stream",
          "text": [
            "INFO:root:Writing example 0 of 1\n",
            "INFO:root:Writing example 0 of 1\n",
            "INFO:root:Writing example 0 of 1\n",
            "INFO:root:Writing example 0 of 1\n"
          ]
        },
        {
          "name": "stdout",
          "output_type": "stream",
          "text": [
            "909\n",
            "910\n",
            "911\n",
            "912\n"
          ]
        },
        {
          "name": "stderr",
          "output_type": "stream",
          "text": [
            "INFO:root:Writing example 0 of 1\n",
            "INFO:root:Writing example 0 of 1\n",
            "INFO:root:Writing example 0 of 1\n",
            "INFO:root:Writing example 0 of 1\n"
          ]
        },
        {
          "name": "stdout",
          "output_type": "stream",
          "text": [
            "913\n",
            "914\n",
            "915\n",
            "916\n"
          ]
        },
        {
          "name": "stderr",
          "output_type": "stream",
          "text": [
            "INFO:root:Writing example 0 of 1\n",
            "INFO:root:Writing example 0 of 1\n",
            "INFO:root:Writing example 0 of 1\n",
            "INFO:root:Writing example 0 of 1\n"
          ]
        },
        {
          "name": "stdout",
          "output_type": "stream",
          "text": [
            "917\n",
            "918\n",
            "919\n",
            "920\n"
          ]
        },
        {
          "name": "stderr",
          "output_type": "stream",
          "text": [
            "INFO:root:Writing example 0 of 1\n",
            "INFO:root:Writing example 0 of 1\n",
            "INFO:root:Writing example 0 of 1\n",
            "INFO:root:Writing example 0 of 1\n"
          ]
        },
        {
          "name": "stdout",
          "output_type": "stream",
          "text": [
            "921\n",
            "922\n",
            "923\n",
            "924\n"
          ]
        },
        {
          "name": "stderr",
          "output_type": "stream",
          "text": [
            "INFO:root:Writing example 0 of 1\n",
            "INFO:root:Writing example 0 of 1\n",
            "INFO:root:Writing example 0 of 1\n",
            "INFO:root:Writing example 0 of 1\n"
          ]
        },
        {
          "name": "stdout",
          "output_type": "stream",
          "text": [
            "925\n",
            "926\n",
            "927\n",
            "928\n"
          ]
        },
        {
          "name": "stderr",
          "output_type": "stream",
          "text": [
            "INFO:root:Writing example 0 of 1\n",
            "INFO:root:Writing example 0 of 1\n",
            "INFO:root:Writing example 0 of 1\n",
            "INFO:root:Writing example 0 of 1\n"
          ]
        },
        {
          "name": "stdout",
          "output_type": "stream",
          "text": [
            "929\n",
            "930\n",
            "931\n",
            "932\n"
          ]
        },
        {
          "name": "stderr",
          "output_type": "stream",
          "text": [
            "INFO:root:Writing example 0 of 1\n",
            "INFO:root:Writing example 0 of 1\n",
            "INFO:root:Writing example 0 of 1\n",
            "INFO:root:Writing example 0 of 1\n"
          ]
        },
        {
          "name": "stdout",
          "output_type": "stream",
          "text": [
            "933\n",
            "934\n",
            "935\n",
            "936\n"
          ]
        },
        {
          "name": "stderr",
          "output_type": "stream",
          "text": [
            "INFO:root:Writing example 0 of 1\n",
            "INFO:root:Writing example 0 of 1\n",
            "INFO:root:Writing example 0 of 1\n",
            "INFO:root:Writing example 0 of 1\n"
          ]
        },
        {
          "name": "stdout",
          "output_type": "stream",
          "text": [
            "937\n",
            "938\n",
            "939\n",
            "940\n"
          ]
        },
        {
          "name": "stderr",
          "output_type": "stream",
          "text": [
            "INFO:root:Writing example 0 of 1\n",
            "INFO:root:Writing example 0 of 1\n",
            "INFO:root:Writing example 0 of 1\n",
            "INFO:root:Writing example 0 of 1\n"
          ]
        },
        {
          "name": "stdout",
          "output_type": "stream",
          "text": [
            "941\n",
            "942\n",
            "943\n",
            "944\n"
          ]
        },
        {
          "name": "stderr",
          "output_type": "stream",
          "text": [
            "INFO:root:Writing example 0 of 1\n",
            "INFO:root:Writing example 0 of 1\n",
            "INFO:root:Writing example 0 of 1\n",
            "INFO:root:Writing example 0 of 1\n"
          ]
        },
        {
          "name": "stdout",
          "output_type": "stream",
          "text": [
            "945\n",
            "946\n",
            "947\n",
            "948\n"
          ]
        },
        {
          "name": "stderr",
          "output_type": "stream",
          "text": [
            "INFO:root:Writing example 0 of 1\n",
            "INFO:root:Writing example 0 of 1\n",
            "INFO:root:Writing example 0 of 1\n",
            "INFO:root:Writing example 0 of 1\n"
          ]
        },
        {
          "name": "stdout",
          "output_type": "stream",
          "text": [
            "949\n",
            "950\n",
            "951\n",
            "952\n"
          ]
        },
        {
          "name": "stderr",
          "output_type": "stream",
          "text": [
            "INFO:root:Writing example 0 of 1\n",
            "INFO:root:Writing example 0 of 1\n",
            "INFO:root:Writing example 0 of 1\n",
            "INFO:root:Writing example 0 of 1\n"
          ]
        },
        {
          "name": "stdout",
          "output_type": "stream",
          "text": [
            "953\n",
            "954\n",
            "955\n",
            "956\n"
          ]
        },
        {
          "name": "stderr",
          "output_type": "stream",
          "text": [
            "INFO:root:Writing example 0 of 1\n",
            "INFO:root:Writing example 0 of 1\n",
            "INFO:root:Writing example 0 of 1\n",
            "INFO:root:Writing example 0 of 1\n"
          ]
        },
        {
          "name": "stdout",
          "output_type": "stream",
          "text": [
            "957\n",
            "958\n",
            "959\n",
            "960\n"
          ]
        },
        {
          "name": "stderr",
          "output_type": "stream",
          "text": [
            "INFO:root:Writing example 0 of 1\n",
            "INFO:root:Writing example 0 of 1\n",
            "INFO:root:Writing example 0 of 1\n",
            "INFO:root:Writing example 0 of 1\n"
          ]
        },
        {
          "name": "stdout",
          "output_type": "stream",
          "text": [
            "961\n",
            "962\n",
            "963\n",
            "964\n"
          ]
        },
        {
          "name": "stderr",
          "output_type": "stream",
          "text": [
            "INFO:root:Writing example 0 of 1\n",
            "INFO:root:Writing example 0 of 1\n",
            "INFO:root:Writing example 0 of 1\n",
            "INFO:root:Writing example 0 of 1\n"
          ]
        },
        {
          "name": "stdout",
          "output_type": "stream",
          "text": [
            "965\n",
            "966\n",
            "967\n",
            "968\n"
          ]
        },
        {
          "name": "stderr",
          "output_type": "stream",
          "text": [
            "INFO:root:Writing example 0 of 1\n",
            "INFO:root:Writing example 0 of 1\n",
            "INFO:root:Writing example 0 of 1\n",
            "INFO:root:Writing example 0 of 1\n"
          ]
        },
        {
          "name": "stdout",
          "output_type": "stream",
          "text": [
            "969\n",
            "970\n",
            "971\n",
            "972\n"
          ]
        },
        {
          "name": "stderr",
          "output_type": "stream",
          "text": [
            "INFO:root:Writing example 0 of 1\n",
            "INFO:root:Writing example 0 of 1\n",
            "INFO:root:Writing example 0 of 1\n",
            "INFO:root:Writing example 0 of 1\n"
          ]
        },
        {
          "name": "stdout",
          "output_type": "stream",
          "text": [
            "973\n",
            "974\n",
            "975\n",
            "976\n"
          ]
        },
        {
          "name": "stderr",
          "output_type": "stream",
          "text": [
            "INFO:root:Writing example 0 of 1\n",
            "INFO:root:Writing example 0 of 1\n",
            "INFO:root:Writing example 0 of 1\n",
            "INFO:root:Writing example 0 of 1\n"
          ]
        },
        {
          "name": "stdout",
          "output_type": "stream",
          "text": [
            "977\n",
            "978\n",
            "979\n",
            "980\n"
          ]
        },
        {
          "name": "stderr",
          "output_type": "stream",
          "text": [
            "INFO:root:Writing example 0 of 1\n",
            "INFO:root:Writing example 0 of 1\n",
            "INFO:root:Writing example 0 of 1\n",
            "INFO:root:Writing example 0 of 1\n"
          ]
        },
        {
          "name": "stdout",
          "output_type": "stream",
          "text": [
            "981\n",
            "982\n",
            "983\n",
            "984\n"
          ]
        },
        {
          "name": "stderr",
          "output_type": "stream",
          "text": [
            "INFO:root:Writing example 0 of 1\n",
            "INFO:root:Writing example 0 of 1\n",
            "INFO:root:Writing example 0 of 1\n",
            "INFO:root:Writing example 0 of 1\n"
          ]
        },
        {
          "name": "stdout",
          "output_type": "stream",
          "text": [
            "985\n",
            "986\n",
            "987\n",
            "988\n"
          ]
        },
        {
          "name": "stderr",
          "output_type": "stream",
          "text": [
            "INFO:root:Writing example 0 of 1\n",
            "INFO:root:Writing example 0 of 1\n",
            "INFO:root:Writing example 0 of 1\n",
            "INFO:root:Writing example 0 of 1\n"
          ]
        },
        {
          "name": "stdout",
          "output_type": "stream",
          "text": [
            "989\n",
            "990\n",
            "991\n",
            "992\n"
          ]
        },
        {
          "name": "stderr",
          "output_type": "stream",
          "text": [
            "INFO:root:Writing example 0 of 1\n",
            "INFO:root:Writing example 0 of 1\n",
            "INFO:root:Writing example 0 of 1\n",
            "INFO:root:Writing example 0 of 1\n"
          ]
        },
        {
          "name": "stdout",
          "output_type": "stream",
          "text": [
            "993\n",
            "994\n",
            "995\n",
            "996\n"
          ]
        },
        {
          "name": "stderr",
          "output_type": "stream",
          "text": [
            "INFO:root:Writing example 0 of 1\n",
            "INFO:root:Writing example 0 of 1\n",
            "INFO:root:Writing example 0 of 1\n",
            "INFO:root:Writing example 0 of 1\n"
          ]
        },
        {
          "name": "stdout",
          "output_type": "stream",
          "text": [
            "997\n",
            "998\n",
            "999\n",
            "1000\n"
          ]
        },
        {
          "name": "stderr",
          "output_type": "stream",
          "text": [
            "INFO:root:Writing example 0 of 1\n",
            "INFO:root:Writing example 0 of 1\n",
            "INFO:root:Writing example 0 of 1\n",
            "INFO:root:Writing example 0 of 1\n"
          ]
        },
        {
          "name": "stdout",
          "output_type": "stream",
          "text": [
            "1001\n",
            "1002\n",
            "1003\n",
            "1004\n"
          ]
        },
        {
          "name": "stderr",
          "output_type": "stream",
          "text": [
            "INFO:root:Writing example 0 of 1\n",
            "INFO:root:Writing example 0 of 1\n",
            "INFO:root:Writing example 0 of 1\n",
            "INFO:root:Writing example 0 of 1\n"
          ]
        },
        {
          "name": "stdout",
          "output_type": "stream",
          "text": [
            "1005\n",
            "1006\n",
            "1007\n",
            "1008\n"
          ]
        },
        {
          "name": "stderr",
          "output_type": "stream",
          "text": [
            "INFO:root:Writing example 0 of 1\n",
            "INFO:root:Writing example 0 of 1\n",
            "INFO:root:Writing example 0 of 1\n",
            "INFO:root:Writing example 0 of 1\n"
          ]
        },
        {
          "name": "stdout",
          "output_type": "stream",
          "text": [
            "1009\n",
            "1010\n",
            "1011\n",
            "1012\n"
          ]
        },
        {
          "name": "stderr",
          "output_type": "stream",
          "text": [
            "INFO:root:Writing example 0 of 1\n",
            "INFO:root:Writing example 0 of 1\n",
            "INFO:root:Writing example 0 of 1\n",
            "INFO:root:Writing example 0 of 1\n"
          ]
        },
        {
          "name": "stdout",
          "output_type": "stream",
          "text": [
            "1013\n",
            "1014\n",
            "1015\n",
            "1016\n"
          ]
        },
        {
          "name": "stderr",
          "output_type": "stream",
          "text": [
            "INFO:root:Writing example 0 of 1\n",
            "INFO:root:Writing example 0 of 1\n",
            "INFO:root:Writing example 0 of 1\n",
            "INFO:root:Writing example 0 of 1\n"
          ]
        },
        {
          "name": "stdout",
          "output_type": "stream",
          "text": [
            "1017\n",
            "1018\n",
            "1019\n",
            "1020\n"
          ]
        },
        {
          "name": "stderr",
          "output_type": "stream",
          "text": [
            "INFO:root:Writing example 0 of 1\n",
            "INFO:root:Writing example 0 of 1\n",
            "INFO:root:Writing example 0 of 1\n",
            "INFO:root:Writing example 0 of 1\n"
          ]
        },
        {
          "name": "stdout",
          "output_type": "stream",
          "text": [
            "1021\n",
            "1022\n",
            "1023\n",
            "1024\n"
          ]
        },
        {
          "name": "stderr",
          "output_type": "stream",
          "text": [
            "INFO:root:Writing example 0 of 1\n",
            "INFO:root:Writing example 0 of 1\n",
            "INFO:root:Writing example 0 of 1\n",
            "INFO:root:Writing example 0 of 1\n"
          ]
        },
        {
          "name": "stdout",
          "output_type": "stream",
          "text": [
            "1025\n",
            "1026\n",
            "1027\n",
            "1028\n"
          ]
        },
        {
          "name": "stderr",
          "output_type": "stream",
          "text": [
            "INFO:root:Writing example 0 of 1\n",
            "INFO:root:Writing example 0 of 1\n",
            "INFO:root:Writing example 0 of 1\n",
            "INFO:root:Writing example 0 of 1\n"
          ]
        },
        {
          "name": "stdout",
          "output_type": "stream",
          "text": [
            "1029\n",
            "1030\n",
            "1031\n",
            "1032\n"
          ]
        },
        {
          "name": "stderr",
          "output_type": "stream",
          "text": [
            "INFO:root:Writing example 0 of 1\n",
            "INFO:root:Writing example 0 of 1\n",
            "INFO:root:Writing example 0 of 1\n",
            "INFO:root:Writing example 0 of 1\n"
          ]
        },
        {
          "name": "stdout",
          "output_type": "stream",
          "text": [
            "1033\n",
            "1034\n",
            "1035\n",
            "1036\n"
          ]
        },
        {
          "name": "stderr",
          "output_type": "stream",
          "text": [
            "INFO:root:Writing example 0 of 1\n",
            "INFO:root:Writing example 0 of 1\n",
            "INFO:root:Writing example 0 of 1\n",
            "INFO:root:Writing example 0 of 1\n"
          ]
        },
        {
          "name": "stdout",
          "output_type": "stream",
          "text": [
            "1037\n",
            "1038\n",
            "1039\n",
            "1040\n"
          ]
        },
        {
          "name": "stderr",
          "output_type": "stream",
          "text": [
            "INFO:root:Writing example 0 of 1\n",
            "INFO:root:Writing example 0 of 1\n",
            "INFO:root:Writing example 0 of 1\n",
            "INFO:root:Writing example 0 of 1\n"
          ]
        },
        {
          "name": "stdout",
          "output_type": "stream",
          "text": [
            "1041\n",
            "1042\n",
            "1043\n",
            "1044\n"
          ]
        },
        {
          "name": "stderr",
          "output_type": "stream",
          "text": [
            "INFO:root:Writing example 0 of 1\n",
            "INFO:root:Writing example 0 of 1\n",
            "INFO:root:Writing example 0 of 1\n",
            "INFO:root:Writing example 0 of 1\n"
          ]
        },
        {
          "name": "stdout",
          "output_type": "stream",
          "text": [
            "1045\n",
            "1046\n",
            "1047\n",
            "1048\n"
          ]
        },
        {
          "name": "stderr",
          "output_type": "stream",
          "text": [
            "INFO:root:Writing example 0 of 1\n",
            "INFO:root:Writing example 0 of 1\n",
            "INFO:root:Writing example 0 of 1\n",
            "INFO:root:Writing example 0 of 1\n"
          ]
        },
        {
          "name": "stdout",
          "output_type": "stream",
          "text": [
            "1049\n",
            "1050\n",
            "1051\n",
            "1052\n"
          ]
        },
        {
          "name": "stderr",
          "output_type": "stream",
          "text": [
            "INFO:root:Writing example 0 of 1\n",
            "INFO:root:Writing example 0 of 1\n",
            "INFO:root:Writing example 0 of 1\n",
            "INFO:root:Writing example 0 of 1\n"
          ]
        },
        {
          "name": "stdout",
          "output_type": "stream",
          "text": [
            "1053\n",
            "1054\n",
            "1055\n",
            "1056\n"
          ]
        },
        {
          "name": "stderr",
          "output_type": "stream",
          "text": [
            "INFO:root:Writing example 0 of 1\n",
            "INFO:root:Writing example 0 of 1\n",
            "INFO:root:Writing example 0 of 1\n",
            "INFO:root:Writing example 0 of 1\n"
          ]
        },
        {
          "name": "stdout",
          "output_type": "stream",
          "text": [
            "1057\n",
            "1058\n",
            "1059\n",
            "1060\n"
          ]
        },
        {
          "name": "stderr",
          "output_type": "stream",
          "text": [
            "INFO:root:Writing example 0 of 1\n",
            "INFO:root:Writing example 0 of 1\n",
            "INFO:root:Writing example 0 of 1\n",
            "INFO:root:Writing example 0 of 1\n"
          ]
        },
        {
          "name": "stdout",
          "output_type": "stream",
          "text": [
            "1061\n",
            "1062\n",
            "1063\n",
            "1064\n"
          ]
        },
        {
          "name": "stderr",
          "output_type": "stream",
          "text": [
            "INFO:root:Writing example 0 of 1\n",
            "INFO:root:Writing example 0 of 1\n",
            "INFO:root:Writing example 0 of 1\n",
            "INFO:root:Writing example 0 of 1\n"
          ]
        },
        {
          "name": "stdout",
          "output_type": "stream",
          "text": [
            "1065\n",
            "1066\n",
            "1067\n",
            "1068\n"
          ]
        },
        {
          "name": "stderr",
          "output_type": "stream",
          "text": [
            "INFO:root:Writing example 0 of 1\n",
            "INFO:root:Writing example 0 of 1\n",
            "INFO:root:Writing example 0 of 1\n",
            "INFO:root:Writing example 0 of 1\n"
          ]
        },
        {
          "name": "stdout",
          "output_type": "stream",
          "text": [
            "1069\n",
            "1070\n",
            "1071\n",
            "1072\n"
          ]
        },
        {
          "name": "stderr",
          "output_type": "stream",
          "text": [
            "INFO:root:Writing example 0 of 1\n",
            "INFO:root:Writing example 0 of 1\n",
            "INFO:root:Writing example 0 of 1\n",
            "INFO:root:Writing example 0 of 1\n"
          ]
        },
        {
          "name": "stdout",
          "output_type": "stream",
          "text": [
            "1073\n",
            "1074\n",
            "1075\n",
            "1076\n"
          ]
        },
        {
          "name": "stderr",
          "output_type": "stream",
          "text": [
            "INFO:root:Writing example 0 of 1\n",
            "INFO:root:Writing example 0 of 1\n",
            "INFO:root:Writing example 0 of 1\n",
            "INFO:root:Writing example 0 of 1\n"
          ]
        },
        {
          "name": "stdout",
          "output_type": "stream",
          "text": [
            "1077\n",
            "1078\n",
            "1079\n",
            "1080\n"
          ]
        },
        {
          "name": "stderr",
          "output_type": "stream",
          "text": [
            "INFO:root:Writing example 0 of 1\n",
            "INFO:root:Writing example 0 of 1\n",
            "INFO:root:Writing example 0 of 1\n",
            "INFO:root:Writing example 0 of 1\n"
          ]
        },
        {
          "name": "stdout",
          "output_type": "stream",
          "text": [
            "1081\n",
            "1082\n",
            "1083\n",
            "1084\n"
          ]
        },
        {
          "name": "stderr",
          "output_type": "stream",
          "text": [
            "INFO:root:Writing example 0 of 1\n",
            "INFO:root:Writing example 0 of 1\n",
            "INFO:root:Writing example 0 of 1\n",
            "INFO:root:Writing example 0 of 1\n"
          ]
        },
        {
          "name": "stdout",
          "output_type": "stream",
          "text": [
            "1085\n",
            "1086\n",
            "1087\n",
            "1088\n"
          ]
        },
        {
          "name": "stderr",
          "output_type": "stream",
          "text": [
            "INFO:root:Writing example 0 of 1\n",
            "INFO:root:Writing example 0 of 1\n",
            "INFO:root:Writing example 0 of 1\n",
            "INFO:root:Writing example 0 of 1\n"
          ]
        },
        {
          "name": "stdout",
          "output_type": "stream",
          "text": [
            "1089\n",
            "1090\n",
            "1091\n",
            "1092\n"
          ]
        },
        {
          "name": "stderr",
          "output_type": "stream",
          "text": [
            "INFO:root:Writing example 0 of 1\n",
            "INFO:root:Writing example 0 of 1\n",
            "INFO:root:Writing example 0 of 1\n",
            "INFO:root:Writing example 0 of 1\n"
          ]
        },
        {
          "name": "stdout",
          "output_type": "stream",
          "text": [
            "1093\n",
            "1094\n",
            "1095\n",
            "1096\n"
          ]
        },
        {
          "name": "stderr",
          "output_type": "stream",
          "text": [
            "INFO:root:Writing example 0 of 1\n",
            "INFO:root:Writing example 0 of 1\n",
            "INFO:root:Writing example 0 of 1\n",
            "INFO:root:Writing example 0 of 1\n"
          ]
        },
        {
          "name": "stdout",
          "output_type": "stream",
          "text": [
            "1097\n",
            "1098\n",
            "1099\n",
            "1100\n"
          ]
        },
        {
          "name": "stderr",
          "output_type": "stream",
          "text": [
            "INFO:root:Writing example 0 of 1\n",
            "INFO:root:Writing example 0 of 1\n",
            "INFO:root:Writing example 0 of 1\n",
            "INFO:root:Writing example 0 of 1\n"
          ]
        },
        {
          "name": "stdout",
          "output_type": "stream",
          "text": [
            "1101\n",
            "1102\n",
            "1103\n",
            "1104\n"
          ]
        },
        {
          "name": "stderr",
          "output_type": "stream",
          "text": [
            "INFO:root:Writing example 0 of 1\n",
            "INFO:root:Writing example 0 of 1\n",
            "INFO:root:Writing example 0 of 1\n",
            "INFO:root:Writing example 0 of 1\n"
          ]
        },
        {
          "name": "stdout",
          "output_type": "stream",
          "text": [
            "1105\n",
            "1106\n",
            "1107\n",
            "1108\n"
          ]
        },
        {
          "name": "stderr",
          "output_type": "stream",
          "text": [
            "INFO:root:Writing example 0 of 1\n",
            "INFO:root:Writing example 0 of 1\n",
            "INFO:root:Writing example 0 of 1\n",
            "INFO:root:Writing example 0 of 1\n"
          ]
        },
        {
          "name": "stdout",
          "output_type": "stream",
          "text": [
            "1109\n",
            "1110\n",
            "1111\n",
            "1112\n"
          ]
        },
        {
          "name": "stderr",
          "output_type": "stream",
          "text": [
            "INFO:root:Writing example 0 of 1\n",
            "INFO:root:Writing example 0 of 1\n",
            "INFO:root:Writing example 0 of 1\n",
            "INFO:root:Writing example 0 of 1\n"
          ]
        },
        {
          "name": "stdout",
          "output_type": "stream",
          "text": [
            "1113\n",
            "1114\n",
            "1115\n",
            "1116\n"
          ]
        },
        {
          "name": "stderr",
          "output_type": "stream",
          "text": [
            "INFO:root:Writing example 0 of 1\n",
            "INFO:root:Writing example 0 of 1\n",
            "INFO:root:Writing example 0 of 1\n",
            "INFO:root:Writing example 0 of 1\n"
          ]
        },
        {
          "name": "stdout",
          "output_type": "stream",
          "text": [
            "1117\n",
            "1118\n",
            "1119\n",
            "1120\n"
          ]
        },
        {
          "name": "stderr",
          "output_type": "stream",
          "text": [
            "INFO:root:Writing example 0 of 1\n",
            "INFO:root:Writing example 0 of 1\n",
            "INFO:root:Writing example 0 of 1\n",
            "INFO:root:Writing example 0 of 1\n"
          ]
        },
        {
          "name": "stdout",
          "output_type": "stream",
          "text": [
            "1121\n",
            "1122\n",
            "1123\n",
            "1124\n"
          ]
        },
        {
          "name": "stderr",
          "output_type": "stream",
          "text": [
            "INFO:root:Writing example 0 of 1\n",
            "INFO:root:Writing example 0 of 1\n",
            "INFO:root:Writing example 0 of 1\n",
            "INFO:root:Writing example 0 of 1\n"
          ]
        },
        {
          "name": "stdout",
          "output_type": "stream",
          "text": [
            "1125\n",
            "1126\n",
            "1127\n",
            "1128\n"
          ]
        },
        {
          "name": "stderr",
          "output_type": "stream",
          "text": [
            "INFO:root:Writing example 0 of 1\n",
            "INFO:root:Writing example 0 of 1\n",
            "INFO:root:Writing example 0 of 1\n",
            "INFO:root:Writing example 0 of 1\n"
          ]
        },
        {
          "name": "stdout",
          "output_type": "stream",
          "text": [
            "1129\n",
            "1130\n",
            "1131\n",
            "1132\n"
          ]
        },
        {
          "name": "stderr",
          "output_type": "stream",
          "text": [
            "INFO:root:Writing example 0 of 1\n",
            "INFO:root:Writing example 0 of 1\n",
            "INFO:root:Writing example 0 of 1\n",
            "INFO:root:Writing example 0 of 1\n"
          ]
        },
        {
          "name": "stdout",
          "output_type": "stream",
          "text": [
            "1133\n",
            "1134\n",
            "1135\n",
            "1136\n"
          ]
        },
        {
          "name": "stderr",
          "output_type": "stream",
          "text": [
            "INFO:root:Writing example 0 of 1\n",
            "INFO:root:Writing example 0 of 1\n",
            "INFO:root:Writing example 0 of 1\n",
            "INFO:root:Writing example 0 of 1\n"
          ]
        },
        {
          "name": "stdout",
          "output_type": "stream",
          "text": [
            "1137\n",
            "1138\n",
            "1139\n",
            "1140\n"
          ]
        },
        {
          "name": "stderr",
          "output_type": "stream",
          "text": [
            "INFO:root:Writing example 0 of 1\n",
            "INFO:root:Writing example 0 of 1\n",
            "INFO:root:Writing example 0 of 1\n",
            "INFO:root:Writing example 0 of 1\n"
          ]
        },
        {
          "name": "stdout",
          "output_type": "stream",
          "text": [
            "1141\n",
            "1142\n",
            "1143\n",
            "1144\n"
          ]
        },
        {
          "name": "stderr",
          "output_type": "stream",
          "text": [
            "INFO:root:Writing example 0 of 1\n",
            "INFO:root:Writing example 0 of 1\n",
            "INFO:root:Writing example 0 of 1\n",
            "INFO:root:Writing example 0 of 1\n"
          ]
        },
        {
          "name": "stdout",
          "output_type": "stream",
          "text": [
            "1145\n",
            "1146\n",
            "1147\n",
            "1148\n"
          ]
        },
        {
          "name": "stderr",
          "output_type": "stream",
          "text": [
            "INFO:root:Writing example 0 of 1\n",
            "INFO:root:Writing example 0 of 1\n",
            "INFO:root:Writing example 0 of 1\n",
            "INFO:root:Writing example 0 of 1\n"
          ]
        },
        {
          "name": "stdout",
          "output_type": "stream",
          "text": [
            "1149\n",
            "1150\n",
            "1151\n",
            "1152\n"
          ]
        },
        {
          "name": "stderr",
          "output_type": "stream",
          "text": [
            "INFO:root:Writing example 0 of 1\n",
            "INFO:root:Writing example 0 of 1\n",
            "INFO:root:Writing example 0 of 1\n",
            "INFO:root:Writing example 0 of 1\n"
          ]
        },
        {
          "name": "stdout",
          "output_type": "stream",
          "text": [
            "1153\n",
            "1154\n",
            "1155\n",
            "1156\n"
          ]
        },
        {
          "name": "stderr",
          "output_type": "stream",
          "text": [
            "INFO:root:Writing example 0 of 1\n",
            "INFO:root:Writing example 0 of 1\n",
            "INFO:root:Writing example 0 of 1\n",
            "INFO:root:Writing example 0 of 1\n"
          ]
        },
        {
          "name": "stdout",
          "output_type": "stream",
          "text": [
            "1157\n",
            "1158\n",
            "1159\n",
            "1160\n"
          ]
        },
        {
          "name": "stderr",
          "output_type": "stream",
          "text": [
            "INFO:root:Writing example 0 of 1\n",
            "INFO:root:Writing example 0 of 1\n",
            "INFO:root:Writing example 0 of 1\n",
            "INFO:root:Writing example 0 of 1\n"
          ]
        },
        {
          "name": "stdout",
          "output_type": "stream",
          "text": [
            "1161\n",
            "1162\n",
            "1163\n",
            "1164\n"
          ]
        },
        {
          "name": "stderr",
          "output_type": "stream",
          "text": [
            "INFO:root:Writing example 0 of 1\n",
            "INFO:root:Writing example 0 of 1\n",
            "INFO:root:Writing example 0 of 1\n",
            "INFO:root:Writing example 0 of 1\n"
          ]
        },
        {
          "name": "stdout",
          "output_type": "stream",
          "text": [
            "1165\n",
            "1166\n",
            "1167\n",
            "1168\n"
          ]
        },
        {
          "name": "stderr",
          "output_type": "stream",
          "text": [
            "INFO:root:Writing example 0 of 1\n",
            "INFO:root:Writing example 0 of 1\n",
            "INFO:root:Writing example 0 of 1\n",
            "INFO:root:Writing example 0 of 1\n"
          ]
        },
        {
          "name": "stdout",
          "output_type": "stream",
          "text": [
            "1169\n",
            "1170\n",
            "1171\n",
            "1172\n"
          ]
        },
        {
          "name": "stderr",
          "output_type": "stream",
          "text": [
            "INFO:root:Writing example 0 of 1\n",
            "INFO:root:Writing example 0 of 1\n",
            "INFO:root:Writing example 0 of 1\n",
            "INFO:root:Writing example 0 of 1\n"
          ]
        },
        {
          "name": "stdout",
          "output_type": "stream",
          "text": [
            "1173\n",
            "1174\n",
            "1175\n",
            "1176\n"
          ]
        },
        {
          "name": "stderr",
          "output_type": "stream",
          "text": [
            "INFO:root:Writing example 0 of 1\n",
            "INFO:root:Writing example 0 of 1\n",
            "INFO:root:Writing example 0 of 1\n",
            "INFO:root:Writing example 0 of 1\n"
          ]
        },
        {
          "name": "stdout",
          "output_type": "stream",
          "text": [
            "1177\n",
            "1178\n",
            "1179\n",
            "1180\n"
          ]
        },
        {
          "name": "stderr",
          "output_type": "stream",
          "text": [
            "INFO:root:Writing example 0 of 1\n",
            "INFO:root:Writing example 0 of 1\n",
            "INFO:root:Writing example 0 of 1\n",
            "INFO:root:Writing example 0 of 1\n"
          ]
        },
        {
          "name": "stdout",
          "output_type": "stream",
          "text": [
            "1181\n",
            "1182\n",
            "1183\n",
            "1184\n"
          ]
        },
        {
          "name": "stderr",
          "output_type": "stream",
          "text": [
            "INFO:root:Writing example 0 of 1\n",
            "INFO:root:Writing example 0 of 1\n",
            "INFO:root:Writing example 0 of 1\n",
            "INFO:root:Writing example 0 of 1\n"
          ]
        },
        {
          "name": "stdout",
          "output_type": "stream",
          "text": [
            "1185\n",
            "1186\n",
            "1187\n",
            "1188\n"
          ]
        },
        {
          "name": "stderr",
          "output_type": "stream",
          "text": [
            "INFO:root:Writing example 0 of 1\n",
            "INFO:root:Writing example 0 of 1\n",
            "INFO:root:Writing example 0 of 1\n",
            "INFO:root:Writing example 0 of 1\n"
          ]
        },
        {
          "name": "stdout",
          "output_type": "stream",
          "text": [
            "1189\n",
            "1190\n",
            "1191\n",
            "1192\n"
          ]
        },
        {
          "name": "stderr",
          "output_type": "stream",
          "text": [
            "INFO:root:Writing example 0 of 1\n",
            "INFO:root:Writing example 0 of 1\n",
            "INFO:root:Writing example 0 of 1\n",
            "INFO:root:Writing example 0 of 1\n"
          ]
        },
        {
          "name": "stdout",
          "output_type": "stream",
          "text": [
            "1193\n",
            "1194\n",
            "1195\n",
            "1196\n"
          ]
        },
        {
          "name": "stderr",
          "output_type": "stream",
          "text": [
            "INFO:root:Writing example 0 of 1\n",
            "INFO:root:Writing example 0 of 1\n",
            "INFO:root:Writing example 0 of 1\n",
            "INFO:root:Writing example 0 of 1\n"
          ]
        },
        {
          "name": "stdout",
          "output_type": "stream",
          "text": [
            "1197\n",
            "1198\n",
            "1199\n",
            "1200\n"
          ]
        },
        {
          "name": "stderr",
          "output_type": "stream",
          "text": [
            "INFO:root:Writing example 0 of 1\n",
            "INFO:root:Writing example 0 of 1\n",
            "INFO:root:Writing example 0 of 1\n",
            "INFO:root:Writing example 0 of 1\n"
          ]
        },
        {
          "name": "stdout",
          "output_type": "stream",
          "text": [
            "1201\n",
            "1202\n",
            "1203\n",
            "1204\n"
          ]
        },
        {
          "name": "stderr",
          "output_type": "stream",
          "text": [
            "INFO:root:Writing example 0 of 1\n",
            "INFO:root:Writing example 0 of 1\n",
            "INFO:root:Writing example 0 of 1\n",
            "INFO:root:Writing example 0 of 1\n"
          ]
        },
        {
          "name": "stdout",
          "output_type": "stream",
          "text": [
            "1205\n",
            "1206\n",
            "1207\n",
            "1208\n"
          ]
        },
        {
          "name": "stderr",
          "output_type": "stream",
          "text": [
            "INFO:root:Writing example 0 of 1\n",
            "INFO:root:Writing example 0 of 1\n",
            "INFO:root:Writing example 0 of 1\n",
            "INFO:root:Writing example 0 of 1\n"
          ]
        },
        {
          "name": "stdout",
          "output_type": "stream",
          "text": [
            "1209\n",
            "1210\n",
            "1211\n",
            "1212\n"
          ]
        },
        {
          "name": "stderr",
          "output_type": "stream",
          "text": [
            "INFO:root:Writing example 0 of 1\n",
            "INFO:root:Writing example 0 of 1\n",
            "INFO:root:Writing example 0 of 1\n",
            "INFO:root:Writing example 0 of 1\n"
          ]
        },
        {
          "name": "stdout",
          "output_type": "stream",
          "text": [
            "1213\n",
            "1214\n",
            "1215\n",
            "1216\n"
          ]
        },
        {
          "name": "stderr",
          "output_type": "stream",
          "text": [
            "INFO:root:Writing example 0 of 1\n",
            "INFO:root:Writing example 0 of 1\n",
            "INFO:root:Writing example 0 of 1\n",
            "INFO:root:Writing example 0 of 1\n"
          ]
        },
        {
          "name": "stdout",
          "output_type": "stream",
          "text": [
            "1217\n",
            "1218\n",
            "1219\n",
            "1220\n"
          ]
        },
        {
          "name": "stderr",
          "output_type": "stream",
          "text": [
            "INFO:root:Writing example 0 of 1\n",
            "INFO:root:Writing example 0 of 1\n",
            "INFO:root:Writing example 0 of 1\n",
            "INFO:root:Writing example 0 of 1\n"
          ]
        },
        {
          "name": "stdout",
          "output_type": "stream",
          "text": [
            "1221\n",
            "1222\n",
            "1223\n",
            "1224\n"
          ]
        },
        {
          "name": "stderr",
          "output_type": "stream",
          "text": [
            "INFO:root:Writing example 0 of 1\n",
            "INFO:root:Writing example 0 of 1\n",
            "INFO:root:Writing example 0 of 1\n",
            "INFO:root:Writing example 0 of 1\n"
          ]
        },
        {
          "name": "stdout",
          "output_type": "stream",
          "text": [
            "1225\n",
            "1226\n",
            "1227\n",
            "1228\n"
          ]
        },
        {
          "name": "stderr",
          "output_type": "stream",
          "text": [
            "INFO:root:Writing example 0 of 1\n",
            "INFO:root:Writing example 0 of 1\n",
            "INFO:root:Writing example 0 of 1\n",
            "INFO:root:Writing example 0 of 1\n"
          ]
        },
        {
          "name": "stdout",
          "output_type": "stream",
          "text": [
            "1229\n",
            "1230\n",
            "1231\n",
            "1232\n"
          ]
        },
        {
          "name": "stderr",
          "output_type": "stream",
          "text": [
            "INFO:root:Writing example 0 of 1\n",
            "INFO:root:Writing example 0 of 1\n",
            "INFO:root:Writing example 0 of 1\n",
            "INFO:root:Writing example 0 of 1\n"
          ]
        },
        {
          "name": "stdout",
          "output_type": "stream",
          "text": [
            "1233\n",
            "1234\n",
            "1235\n",
            "1236\n"
          ]
        },
        {
          "name": "stderr",
          "output_type": "stream",
          "text": [
            "INFO:root:Writing example 0 of 1\n",
            "INFO:root:Writing example 0 of 1\n",
            "INFO:root:Writing example 0 of 1\n",
            "INFO:root:Writing example 0 of 1\n"
          ]
        },
        {
          "name": "stdout",
          "output_type": "stream",
          "text": [
            "1237\n",
            "1238\n",
            "1239\n",
            "1240\n"
          ]
        },
        {
          "name": "stderr",
          "output_type": "stream",
          "text": [
            "INFO:root:Writing example 0 of 1\n",
            "INFO:root:Writing example 0 of 1\n",
            "INFO:root:Writing example 0 of 1\n",
            "INFO:root:Writing example 0 of 1\n"
          ]
        },
        {
          "name": "stdout",
          "output_type": "stream",
          "text": [
            "1241\n",
            "1242\n",
            "1243\n",
            "1244\n"
          ]
        },
        {
          "name": "stderr",
          "output_type": "stream",
          "text": [
            "INFO:root:Writing example 0 of 1\n",
            "INFO:root:Writing example 0 of 1\n",
            "INFO:root:Writing example 0 of 1\n",
            "INFO:root:Writing example 0 of 1\n"
          ]
        },
        {
          "name": "stdout",
          "output_type": "stream",
          "text": [
            "1245\n",
            "1246\n",
            "1247\n",
            "1248\n"
          ]
        },
        {
          "name": "stderr",
          "output_type": "stream",
          "text": [
            "INFO:root:Writing example 0 of 1\n",
            "INFO:root:Writing example 0 of 1\n",
            "INFO:root:Writing example 0 of 1\n",
            "INFO:root:Writing example 0 of 1\n"
          ]
        },
        {
          "name": "stdout",
          "output_type": "stream",
          "text": [
            "1249\n",
            "1250\n",
            "1251\n",
            "1252\n"
          ]
        },
        {
          "name": "stderr",
          "output_type": "stream",
          "text": [
            "INFO:root:Writing example 0 of 1\n",
            "INFO:root:Writing example 0 of 1\n",
            "INFO:root:Writing example 0 of 1\n",
            "INFO:root:Writing example 0 of 1\n"
          ]
        },
        {
          "name": "stdout",
          "output_type": "stream",
          "text": [
            "1253\n",
            "1254\n",
            "1255\n",
            "1256\n"
          ]
        },
        {
          "name": "stderr",
          "output_type": "stream",
          "text": [
            "INFO:root:Writing example 0 of 1\n",
            "INFO:root:Writing example 0 of 1\n",
            "INFO:root:Writing example 0 of 1\n",
            "INFO:root:Writing example 0 of 1\n"
          ]
        },
        {
          "name": "stdout",
          "output_type": "stream",
          "text": [
            "1257\n",
            "1258\n",
            "1259\n",
            "1260\n"
          ]
        },
        {
          "name": "stderr",
          "output_type": "stream",
          "text": [
            "INFO:root:Writing example 0 of 1\n",
            "INFO:root:Writing example 0 of 1\n",
            "INFO:root:Writing example 0 of 1\n",
            "INFO:root:Writing example 0 of 1\n"
          ]
        },
        {
          "name": "stdout",
          "output_type": "stream",
          "text": [
            "1261\n",
            "1262\n",
            "1263\n",
            "1264\n"
          ]
        },
        {
          "name": "stderr",
          "output_type": "stream",
          "text": [
            "INFO:root:Writing example 0 of 1\n",
            "INFO:root:Writing example 0 of 1\n",
            "INFO:root:Writing example 0 of 1\n",
            "INFO:root:Writing example 0 of 1\n"
          ]
        },
        {
          "name": "stdout",
          "output_type": "stream",
          "text": [
            "1265\n",
            "1266\n",
            "1267\n",
            "1268\n"
          ]
        },
        {
          "name": "stderr",
          "output_type": "stream",
          "text": [
            "INFO:root:Writing example 0 of 1\n",
            "INFO:root:Writing example 0 of 1\n",
            "INFO:root:Writing example 0 of 1\n",
            "INFO:root:Writing example 0 of 1\n"
          ]
        },
        {
          "name": "stdout",
          "output_type": "stream",
          "text": [
            "1269\n",
            "1270\n",
            "1271\n",
            "1272\n"
          ]
        },
        {
          "name": "stderr",
          "output_type": "stream",
          "text": [
            "INFO:root:Writing example 0 of 1\n",
            "INFO:root:Writing example 0 of 1\n",
            "INFO:root:Writing example 0 of 1\n",
            "INFO:root:Writing example 0 of 1\n"
          ]
        },
        {
          "name": "stdout",
          "output_type": "stream",
          "text": [
            "1273\n",
            "1274\n",
            "1275\n",
            "1276\n"
          ]
        },
        {
          "name": "stderr",
          "output_type": "stream",
          "text": [
            "INFO:root:Writing example 0 of 1\n",
            "INFO:root:Writing example 0 of 1\n",
            "INFO:root:Writing example 0 of 1\n",
            "INFO:root:Writing example 0 of 1\n"
          ]
        },
        {
          "name": "stdout",
          "output_type": "stream",
          "text": [
            "1277\n",
            "1278\n",
            "1279\n",
            "1280\n"
          ]
        },
        {
          "name": "stderr",
          "output_type": "stream",
          "text": [
            "INFO:root:Writing example 0 of 1\n",
            "INFO:root:Writing example 0 of 1\n",
            "INFO:root:Writing example 0 of 1\n",
            "INFO:root:Writing example 0 of 1\n"
          ]
        },
        {
          "name": "stdout",
          "output_type": "stream",
          "text": [
            "1281\n",
            "1282\n",
            "1283\n",
            "1284\n"
          ]
        },
        {
          "name": "stderr",
          "output_type": "stream",
          "text": [
            "INFO:root:Writing example 0 of 1\n",
            "INFO:root:Writing example 0 of 1\n",
            "INFO:root:Writing example 0 of 1\n",
            "INFO:root:Writing example 0 of 1\n"
          ]
        },
        {
          "name": "stdout",
          "output_type": "stream",
          "text": [
            "1285\n",
            "1286\n",
            "1287\n",
            "1288\n"
          ]
        },
        {
          "name": "stderr",
          "output_type": "stream",
          "text": [
            "INFO:root:Writing example 0 of 1\n",
            "INFO:root:Writing example 0 of 1\n",
            "INFO:root:Writing example 0 of 1\n",
            "INFO:root:Writing example 0 of 1\n"
          ]
        },
        {
          "name": "stdout",
          "output_type": "stream",
          "text": [
            "1289\n",
            "1290\n",
            "1291\n",
            "1292\n"
          ]
        },
        {
          "name": "stderr",
          "output_type": "stream",
          "text": [
            "INFO:root:Writing example 0 of 1\n",
            "INFO:root:Writing example 0 of 1\n",
            "INFO:root:Writing example 0 of 1\n",
            "INFO:root:Writing example 0 of 1\n"
          ]
        },
        {
          "name": "stdout",
          "output_type": "stream",
          "text": [
            "1293\n",
            "1294\n",
            "1295\n",
            "1296\n"
          ]
        },
        {
          "name": "stderr",
          "output_type": "stream",
          "text": [
            "INFO:root:Writing example 0 of 1\n",
            "INFO:root:Writing example 0 of 1\n",
            "INFO:root:Writing example 0 of 1\n",
            "INFO:root:Writing example 0 of 1\n"
          ]
        },
        {
          "name": "stdout",
          "output_type": "stream",
          "text": [
            "1297\n",
            "1298\n",
            "1299\n",
            "1300\n"
          ]
        },
        {
          "name": "stderr",
          "output_type": "stream",
          "text": [
            "INFO:root:Writing example 0 of 1\n",
            "INFO:root:Writing example 0 of 1\n",
            "INFO:root:Writing example 0 of 1\n",
            "INFO:root:Writing example 0 of 1\n"
          ]
        },
        {
          "name": "stdout",
          "output_type": "stream",
          "text": [
            "1301\n",
            "1302\n",
            "1303\n",
            "1304\n"
          ]
        },
        {
          "name": "stderr",
          "output_type": "stream",
          "text": [
            "INFO:root:Writing example 0 of 1\n",
            "INFO:root:Writing example 0 of 1\n",
            "INFO:root:Writing example 0 of 1\n",
            "INFO:root:Writing example 0 of 1\n"
          ]
        },
        {
          "name": "stdout",
          "output_type": "stream",
          "text": [
            "1305\n",
            "1306\n",
            "1307\n",
            "1308\n"
          ]
        },
        {
          "name": "stderr",
          "output_type": "stream",
          "text": [
            "INFO:root:Writing example 0 of 1\n",
            "INFO:root:Writing example 0 of 1\n",
            "INFO:root:Writing example 0 of 1\n",
            "INFO:root:Writing example 0 of 1\n"
          ]
        },
        {
          "name": "stdout",
          "output_type": "stream",
          "text": [
            "1309\n",
            "1310\n",
            "1311\n",
            "1312\n"
          ]
        },
        {
          "name": "stderr",
          "output_type": "stream",
          "text": [
            "INFO:root:Writing example 0 of 1\n",
            "INFO:root:Writing example 0 of 1\n",
            "INFO:root:Writing example 0 of 1\n",
            "INFO:root:Writing example 0 of 1\n"
          ]
        },
        {
          "name": "stdout",
          "output_type": "stream",
          "text": [
            "1313\n",
            "1314\n",
            "1315\n",
            "1316\n"
          ]
        },
        {
          "name": "stderr",
          "output_type": "stream",
          "text": [
            "INFO:root:Writing example 0 of 1\n",
            "INFO:root:Writing example 0 of 1\n",
            "INFO:root:Writing example 0 of 1\n",
            "INFO:root:Writing example 0 of 1\n"
          ]
        },
        {
          "name": "stdout",
          "output_type": "stream",
          "text": [
            "1317\n",
            "1318\n",
            "1319\n",
            "1320\n"
          ]
        },
        {
          "name": "stderr",
          "output_type": "stream",
          "text": [
            "INFO:root:Writing example 0 of 1\n",
            "INFO:root:Writing example 0 of 1\n",
            "INFO:root:Writing example 0 of 1\n",
            "INFO:root:Writing example 0 of 1\n"
          ]
        },
        {
          "name": "stdout",
          "output_type": "stream",
          "text": [
            "1321\n",
            "1322\n",
            "1323\n",
            "1324\n"
          ]
        },
        {
          "name": "stderr",
          "output_type": "stream",
          "text": [
            "INFO:root:Writing example 0 of 1\n",
            "INFO:root:Writing example 0 of 1\n",
            "INFO:root:Writing example 0 of 1\n",
            "INFO:root:Writing example 0 of 1\n"
          ]
        },
        {
          "name": "stdout",
          "output_type": "stream",
          "text": [
            "1325\n",
            "1326\n",
            "1327\n",
            "1328\n"
          ]
        },
        {
          "name": "stderr",
          "output_type": "stream",
          "text": [
            "INFO:root:Writing example 0 of 1\n",
            "INFO:root:Writing example 0 of 1\n",
            "INFO:root:Writing example 0 of 1\n",
            "INFO:root:Writing example 0 of 1\n"
          ]
        },
        {
          "name": "stdout",
          "output_type": "stream",
          "text": [
            "1329\n",
            "1330\n",
            "1331\n",
            "1332\n"
          ]
        },
        {
          "name": "stderr",
          "output_type": "stream",
          "text": [
            "INFO:root:Writing example 0 of 1\n",
            "INFO:root:Writing example 0 of 1\n",
            "INFO:root:Writing example 0 of 1\n",
            "INFO:root:Writing example 0 of 1\n"
          ]
        },
        {
          "name": "stdout",
          "output_type": "stream",
          "text": [
            "1333\n",
            "1334\n",
            "1335\n",
            "1336\n"
          ]
        },
        {
          "name": "stderr",
          "output_type": "stream",
          "text": [
            "INFO:root:Writing example 0 of 1\n",
            "INFO:root:Writing example 0 of 1\n",
            "INFO:root:Writing example 0 of 1\n",
            "INFO:root:Writing example 0 of 1\n"
          ]
        },
        {
          "name": "stdout",
          "output_type": "stream",
          "text": [
            "1337\n",
            "1338\n",
            "1339\n",
            "1340\n"
          ]
        },
        {
          "name": "stderr",
          "output_type": "stream",
          "text": [
            "INFO:root:Writing example 0 of 1\n",
            "INFO:root:Writing example 0 of 1\n",
            "INFO:root:Writing example 0 of 1\n",
            "INFO:root:Writing example 0 of 1\n"
          ]
        },
        {
          "name": "stdout",
          "output_type": "stream",
          "text": [
            "1341\n",
            "1342\n",
            "1343\n",
            "1344\n"
          ]
        },
        {
          "name": "stderr",
          "output_type": "stream",
          "text": [
            "INFO:root:Writing example 0 of 1\n",
            "INFO:root:Writing example 0 of 1\n",
            "INFO:root:Writing example 0 of 1\n",
            "INFO:root:Writing example 0 of 1\n"
          ]
        },
        {
          "name": "stdout",
          "output_type": "stream",
          "text": [
            "1345\n",
            "1346\n",
            "1347\n",
            "1348\n"
          ]
        },
        {
          "name": "stderr",
          "output_type": "stream",
          "text": [
            "INFO:root:Writing example 0 of 1\n",
            "INFO:root:Writing example 0 of 1\n",
            "INFO:root:Writing example 0 of 1\n",
            "INFO:root:Writing example 0 of 1\n"
          ]
        },
        {
          "name": "stdout",
          "output_type": "stream",
          "text": [
            "1349\n",
            "1350\n",
            "1351\n",
            "1352\n"
          ]
        },
        {
          "name": "stderr",
          "output_type": "stream",
          "text": [
            "INFO:root:Writing example 0 of 1\n",
            "INFO:root:Writing example 0 of 1\n",
            "INFO:root:Writing example 0 of 1\n",
            "INFO:root:Writing example 0 of 1\n"
          ]
        },
        {
          "name": "stdout",
          "output_type": "stream",
          "text": [
            "1353\n",
            "1354\n",
            "1355\n",
            "1356\n"
          ]
        },
        {
          "name": "stderr",
          "output_type": "stream",
          "text": [
            "INFO:root:Writing example 0 of 1\n",
            "INFO:root:Writing example 0 of 1\n",
            "INFO:root:Writing example 0 of 1\n",
            "INFO:root:Writing example 0 of 1\n"
          ]
        },
        {
          "name": "stdout",
          "output_type": "stream",
          "text": [
            "1357\n",
            "1358\n",
            "1359\n",
            "1360\n"
          ]
        },
        {
          "name": "stderr",
          "output_type": "stream",
          "text": [
            "INFO:root:Writing example 0 of 1\n",
            "INFO:root:Writing example 0 of 1\n",
            "INFO:root:Writing example 0 of 1\n",
            "INFO:root:Writing example 0 of 1\n"
          ]
        },
        {
          "name": "stdout",
          "output_type": "stream",
          "text": [
            "1361\n",
            "1362\n",
            "1363\n",
            "1364\n"
          ]
        },
        {
          "name": "stderr",
          "output_type": "stream",
          "text": [
            "INFO:root:Writing example 0 of 1\n",
            "INFO:root:Writing example 0 of 1\n",
            "INFO:root:Writing example 0 of 1\n",
            "INFO:root:Writing example 0 of 1\n"
          ]
        },
        {
          "name": "stdout",
          "output_type": "stream",
          "text": [
            "1365\n",
            "1366\n",
            "1367\n",
            "1368\n"
          ]
        },
        {
          "name": "stderr",
          "output_type": "stream",
          "text": [
            "INFO:root:Writing example 0 of 1\n",
            "INFO:root:Writing example 0 of 1\n",
            "INFO:root:Writing example 0 of 1\n",
            "INFO:root:Writing example 0 of 1\n"
          ]
        },
        {
          "name": "stdout",
          "output_type": "stream",
          "text": [
            "1369\n",
            "1370\n",
            "1371\n",
            "1372\n"
          ]
        },
        {
          "name": "stderr",
          "output_type": "stream",
          "text": [
            "INFO:root:Writing example 0 of 1\n",
            "INFO:root:Writing example 0 of 1\n",
            "INFO:root:Writing example 0 of 1\n",
            "INFO:root:Writing example 0 of 1\n"
          ]
        },
        {
          "name": "stdout",
          "output_type": "stream",
          "text": [
            "1373\n",
            "1374\n",
            "1375\n",
            "1376\n"
          ]
        },
        {
          "name": "stderr",
          "output_type": "stream",
          "text": [
            "INFO:root:Writing example 0 of 1\n",
            "INFO:root:Writing example 0 of 1\n",
            "INFO:root:Writing example 0 of 1\n",
            "INFO:root:Writing example 0 of 1\n"
          ]
        },
        {
          "name": "stdout",
          "output_type": "stream",
          "text": [
            "1377\n",
            "1378\n",
            "1379\n",
            "1380\n"
          ]
        },
        {
          "name": "stderr",
          "output_type": "stream",
          "text": [
            "INFO:root:Writing example 0 of 1\n",
            "INFO:root:Writing example 0 of 1\n",
            "INFO:root:Writing example 0 of 1\n",
            "INFO:root:Writing example 0 of 1\n"
          ]
        },
        {
          "name": "stdout",
          "output_type": "stream",
          "text": [
            "1381\n",
            "1382\n",
            "1383\n",
            "1384\n"
          ]
        },
        {
          "name": "stderr",
          "output_type": "stream",
          "text": [
            "INFO:root:Writing example 0 of 1\n",
            "INFO:root:Writing example 0 of 1\n",
            "INFO:root:Writing example 0 of 1\n",
            "INFO:root:Writing example 0 of 1\n"
          ]
        },
        {
          "name": "stdout",
          "output_type": "stream",
          "text": [
            "1385\n",
            "1386\n",
            "1387\n",
            "1388\n"
          ]
        },
        {
          "name": "stderr",
          "output_type": "stream",
          "text": [
            "INFO:root:Writing example 0 of 1\n",
            "INFO:root:Writing example 0 of 1\n",
            "INFO:root:Writing example 0 of 1\n",
            "INFO:root:Writing example 0 of 1\n"
          ]
        },
        {
          "name": "stdout",
          "output_type": "stream",
          "text": [
            "1389\n",
            "1390\n",
            "1391\n",
            "1392\n"
          ]
        },
        {
          "name": "stderr",
          "output_type": "stream",
          "text": [
            "INFO:root:Writing example 0 of 1\n",
            "INFO:root:Writing example 0 of 1\n",
            "INFO:root:Writing example 0 of 1\n",
            "INFO:root:Writing example 0 of 1\n"
          ]
        },
        {
          "name": "stdout",
          "output_type": "stream",
          "text": [
            "1393\n",
            "1394\n",
            "1395\n",
            "1396\n"
          ]
        },
        {
          "name": "stderr",
          "output_type": "stream",
          "text": [
            "INFO:root:Writing example 0 of 1\n",
            "INFO:root:Writing example 0 of 1\n",
            "INFO:root:Writing example 0 of 1\n",
            "INFO:root:Writing example 0 of 1\n"
          ]
        },
        {
          "name": "stdout",
          "output_type": "stream",
          "text": [
            "1397\n",
            "1398\n",
            "1399\n",
            "1400\n"
          ]
        },
        {
          "name": "stderr",
          "output_type": "stream",
          "text": [
            "INFO:root:Writing example 0 of 1\n",
            "INFO:root:Writing example 0 of 1\n",
            "INFO:root:Writing example 0 of 1\n",
            "INFO:root:Writing example 0 of 1\n"
          ]
        },
        {
          "name": "stdout",
          "output_type": "stream",
          "text": [
            "1401\n",
            "1402\n",
            "1403\n",
            "1404\n"
          ]
        },
        {
          "name": "stderr",
          "output_type": "stream",
          "text": [
            "INFO:root:Writing example 0 of 1\n",
            "INFO:root:Writing example 0 of 1\n",
            "INFO:root:Writing example 0 of 1\n",
            "INFO:root:Writing example 0 of 1\n"
          ]
        },
        {
          "name": "stdout",
          "output_type": "stream",
          "text": [
            "1405\n",
            "1406\n",
            "1407\n",
            "1408\n"
          ]
        },
        {
          "name": "stderr",
          "output_type": "stream",
          "text": [
            "INFO:root:Writing example 0 of 1\n",
            "INFO:root:Writing example 0 of 1\n",
            "INFO:root:Writing example 0 of 1\n",
            "INFO:root:Writing example 0 of 1\n"
          ]
        },
        {
          "name": "stdout",
          "output_type": "stream",
          "text": [
            "1409\n",
            "1410\n",
            "1411\n",
            "1412\n"
          ]
        },
        {
          "name": "stderr",
          "output_type": "stream",
          "text": [
            "INFO:root:Writing example 0 of 1\n",
            "INFO:root:Writing example 0 of 1\n",
            "INFO:root:Writing example 0 of 1\n",
            "INFO:root:Writing example 0 of 1\n"
          ]
        },
        {
          "name": "stdout",
          "output_type": "stream",
          "text": [
            "1413\n",
            "1414\n",
            "1415\n",
            "1416\n"
          ]
        },
        {
          "name": "stderr",
          "output_type": "stream",
          "text": [
            "INFO:root:Writing example 0 of 1\n",
            "INFO:root:Writing example 0 of 1\n",
            "INFO:root:Writing example 0 of 1\n",
            "INFO:root:Writing example 0 of 1\n"
          ]
        },
        {
          "name": "stdout",
          "output_type": "stream",
          "text": [
            "1417\n",
            "1418\n",
            "1419\n",
            "1420\n"
          ]
        },
        {
          "name": "stderr",
          "output_type": "stream",
          "text": [
            "INFO:root:Writing example 0 of 1\n",
            "INFO:root:Writing example 0 of 1\n",
            "INFO:root:Writing example 0 of 1\n",
            "INFO:root:Writing example 0 of 1\n"
          ]
        },
        {
          "name": "stdout",
          "output_type": "stream",
          "text": [
            "1421\n",
            "1422\n",
            "1423\n",
            "1424\n"
          ]
        },
        {
          "name": "stderr",
          "output_type": "stream",
          "text": [
            "INFO:root:Writing example 0 of 1\n",
            "INFO:root:Writing example 0 of 1\n",
            "INFO:root:Writing example 0 of 1\n",
            "INFO:root:Writing example 0 of 1\n"
          ]
        },
        {
          "name": "stdout",
          "output_type": "stream",
          "text": [
            "1425\n",
            "1426\n",
            "1427\n",
            "1428\n"
          ]
        },
        {
          "name": "stderr",
          "output_type": "stream",
          "text": [
            "INFO:root:Writing example 0 of 1\n",
            "INFO:root:Writing example 0 of 1\n",
            "INFO:root:Writing example 0 of 1\n",
            "INFO:root:Writing example 0 of 1\n"
          ]
        },
        {
          "name": "stdout",
          "output_type": "stream",
          "text": [
            "1429\n",
            "1430\n",
            "1431\n",
            "1432\n"
          ]
        },
        {
          "name": "stderr",
          "output_type": "stream",
          "text": [
            "INFO:root:Writing example 0 of 1\n",
            "INFO:root:Writing example 0 of 1\n",
            "INFO:root:Writing example 0 of 1\n",
            "INFO:root:Writing example 0 of 1\n"
          ]
        },
        {
          "name": "stdout",
          "output_type": "stream",
          "text": [
            "1433\n",
            "1434\n",
            "1435\n",
            "1436\n"
          ]
        },
        {
          "name": "stderr",
          "output_type": "stream",
          "text": [
            "INFO:root:Writing example 0 of 1\n",
            "INFO:root:Writing example 0 of 1\n",
            "INFO:root:Writing example 0 of 1\n",
            "INFO:root:Writing example 0 of 1\n"
          ]
        },
        {
          "name": "stdout",
          "output_type": "stream",
          "text": [
            "1437\n",
            "1438\n",
            "1439\n",
            "1440\n"
          ]
        },
        {
          "name": "stderr",
          "output_type": "stream",
          "text": [
            "INFO:root:Writing example 0 of 1\n",
            "INFO:root:Writing example 0 of 1\n",
            "INFO:root:Writing example 0 of 1\n",
            "INFO:root:Writing example 0 of 1\n"
          ]
        },
        {
          "name": "stdout",
          "output_type": "stream",
          "text": [
            "1441\n",
            "1442\n",
            "1443\n",
            "1444\n"
          ]
        },
        {
          "name": "stderr",
          "output_type": "stream",
          "text": [
            "INFO:root:Writing example 0 of 1\n",
            "INFO:root:Writing example 0 of 1\n",
            "INFO:root:Writing example 0 of 1\n",
            "INFO:root:Writing example 0 of 1\n"
          ]
        },
        {
          "name": "stdout",
          "output_type": "stream",
          "text": [
            "1445\n",
            "1446\n",
            "1447\n",
            "1448\n"
          ]
        },
        {
          "name": "stderr",
          "output_type": "stream",
          "text": [
            "INFO:root:Writing example 0 of 1\n",
            "INFO:root:Writing example 0 of 1\n",
            "INFO:root:Writing example 0 of 1\n",
            "INFO:root:Writing example 0 of 1\n"
          ]
        },
        {
          "name": "stdout",
          "output_type": "stream",
          "text": [
            "1449\n",
            "1450\n",
            "1451\n",
            "1452\n"
          ]
        },
        {
          "name": "stderr",
          "output_type": "stream",
          "text": [
            "INFO:root:Writing example 0 of 1\n",
            "INFO:root:Writing example 0 of 1\n",
            "INFO:root:Writing example 0 of 1\n",
            "INFO:root:Writing example 0 of 1\n"
          ]
        },
        {
          "name": "stdout",
          "output_type": "stream",
          "text": [
            "1453\n",
            "1454\n",
            "1455\n",
            "1456\n"
          ]
        },
        {
          "name": "stderr",
          "output_type": "stream",
          "text": [
            "INFO:root:Writing example 0 of 1\n",
            "INFO:root:Writing example 0 of 1\n",
            "INFO:root:Writing example 0 of 1\n",
            "INFO:root:Writing example 0 of 1\n"
          ]
        },
        {
          "name": "stdout",
          "output_type": "stream",
          "text": [
            "1457\n",
            "1458\n",
            "1459\n",
            "1460\n"
          ]
        },
        {
          "name": "stderr",
          "output_type": "stream",
          "text": [
            "INFO:root:Writing example 0 of 1\n",
            "INFO:root:Writing example 0 of 1\n",
            "INFO:root:Writing example 0 of 1\n",
            "INFO:root:Writing example 0 of 1\n"
          ]
        },
        {
          "name": "stdout",
          "output_type": "stream",
          "text": [
            "1461\n",
            "1462\n",
            "1463\n",
            "1464\n"
          ]
        },
        {
          "name": "stderr",
          "output_type": "stream",
          "text": [
            "INFO:root:Writing example 0 of 1\n",
            "INFO:root:Writing example 0 of 1\n",
            "INFO:root:Writing example 0 of 1\n",
            "INFO:root:Writing example 0 of 1\n"
          ]
        },
        {
          "name": "stdout",
          "output_type": "stream",
          "text": [
            "1465\n",
            "1466\n",
            "1467\n",
            "1468\n"
          ]
        },
        {
          "name": "stderr",
          "output_type": "stream",
          "text": [
            "INFO:root:Writing example 0 of 1\n",
            "INFO:root:Writing example 0 of 1\n",
            "INFO:root:Writing example 0 of 1\n",
            "INFO:root:Writing example 0 of 1\n"
          ]
        },
        {
          "name": "stdout",
          "output_type": "stream",
          "text": [
            "1469\n",
            "1470\n",
            "1471\n",
            "1472\n"
          ]
        },
        {
          "name": "stderr",
          "output_type": "stream",
          "text": [
            "INFO:root:Writing example 0 of 1\n",
            "INFO:root:Writing example 0 of 1\n",
            "INFO:root:Writing example 0 of 1\n",
            "INFO:root:Writing example 0 of 1\n"
          ]
        },
        {
          "name": "stdout",
          "output_type": "stream",
          "text": [
            "1473\n",
            "1474\n",
            "1475\n",
            "1476\n"
          ]
        },
        {
          "name": "stderr",
          "output_type": "stream",
          "text": [
            "INFO:root:Writing example 0 of 1\n",
            "INFO:root:Writing example 0 of 1\n",
            "INFO:root:Writing example 0 of 1\n",
            "INFO:root:Writing example 0 of 1\n"
          ]
        },
        {
          "name": "stdout",
          "output_type": "stream",
          "text": [
            "1477\n",
            "1478\n",
            "1479\n",
            "1480\n"
          ]
        },
        {
          "name": "stderr",
          "output_type": "stream",
          "text": [
            "INFO:root:Writing example 0 of 1\n",
            "INFO:root:Writing example 0 of 1\n",
            "INFO:root:Writing example 0 of 1\n",
            "INFO:root:Writing example 0 of 1\n"
          ]
        },
        {
          "name": "stdout",
          "output_type": "stream",
          "text": [
            "1481\n",
            "1482\n",
            "1483\n",
            "1484\n"
          ]
        },
        {
          "name": "stderr",
          "output_type": "stream",
          "text": [
            "INFO:root:Writing example 0 of 1\n",
            "INFO:root:Writing example 0 of 1\n",
            "INFO:root:Writing example 0 of 1\n",
            "INFO:root:Writing example 0 of 1\n"
          ]
        },
        {
          "name": "stdout",
          "output_type": "stream",
          "text": [
            "1485\n",
            "1486\n",
            "1487\n",
            "1488\n"
          ]
        },
        {
          "name": "stderr",
          "output_type": "stream",
          "text": [
            "INFO:root:Writing example 0 of 1\n",
            "INFO:root:Writing example 0 of 1\n",
            "INFO:root:Writing example 0 of 1\n",
            "INFO:root:Writing example 0 of 1\n"
          ]
        },
        {
          "name": "stdout",
          "output_type": "stream",
          "text": [
            "1489\n",
            "1490\n",
            "1491\n",
            "1492\n"
          ]
        },
        {
          "name": "stderr",
          "output_type": "stream",
          "text": [
            "INFO:root:Writing example 0 of 1\n",
            "INFO:root:Writing example 0 of 1\n",
            "INFO:root:Writing example 0 of 1\n",
            "INFO:root:Writing example 0 of 1\n"
          ]
        },
        {
          "name": "stdout",
          "output_type": "stream",
          "text": [
            "1493\n",
            "1494\n",
            "1495\n",
            "1496\n"
          ]
        },
        {
          "name": "stderr",
          "output_type": "stream",
          "text": [
            "INFO:root:Writing example 0 of 1\n",
            "INFO:root:Writing example 0 of 1\n",
            "INFO:root:Writing example 0 of 1\n",
            "INFO:root:Writing example 0 of 1\n"
          ]
        },
        {
          "name": "stdout",
          "output_type": "stream",
          "text": [
            "1497\n",
            "1498\n",
            "1499\n",
            "1500\n"
          ]
        },
        {
          "name": "stderr",
          "output_type": "stream",
          "text": [
            "INFO:root:Writing example 0 of 1\n",
            "INFO:root:Writing example 0 of 1\n",
            "INFO:root:Writing example 0 of 1\n",
            "INFO:root:Writing example 0 of 1\n"
          ]
        },
        {
          "name": "stdout",
          "output_type": "stream",
          "text": [
            "1501\n",
            "1502\n",
            "1503\n",
            "1504\n"
          ]
        },
        {
          "name": "stderr",
          "output_type": "stream",
          "text": [
            "INFO:root:Writing example 0 of 1\n",
            "INFO:root:Writing example 0 of 1\n",
            "INFO:root:Writing example 0 of 1\n",
            "INFO:root:Writing example 0 of 1\n"
          ]
        },
        {
          "name": "stdout",
          "output_type": "stream",
          "text": [
            "1505\n",
            "1506\n",
            "1507\n",
            "1508\n"
          ]
        },
        {
          "name": "stderr",
          "output_type": "stream",
          "text": [
            "INFO:root:Writing example 0 of 1\n",
            "INFO:root:Writing example 0 of 1\n",
            "INFO:root:Writing example 0 of 1\n",
            "INFO:root:Writing example 0 of 1\n"
          ]
        },
        {
          "name": "stdout",
          "output_type": "stream",
          "text": [
            "1509\n",
            "1510\n",
            "1511\n",
            "1512\n"
          ]
        },
        {
          "name": "stderr",
          "output_type": "stream",
          "text": [
            "INFO:root:Writing example 0 of 1\n",
            "INFO:root:Writing example 0 of 1\n",
            "INFO:root:Writing example 0 of 1\n",
            "INFO:root:Writing example 0 of 1\n"
          ]
        },
        {
          "name": "stdout",
          "output_type": "stream",
          "text": [
            "1513\n",
            "1514\n",
            "1515\n",
            "1516\n"
          ]
        },
        {
          "name": "stderr",
          "output_type": "stream",
          "text": [
            "INFO:root:Writing example 0 of 1\n",
            "INFO:root:Writing example 0 of 1\n",
            "INFO:root:Writing example 0 of 1\n",
            "INFO:root:Writing example 0 of 1\n"
          ]
        },
        {
          "name": "stdout",
          "output_type": "stream",
          "text": [
            "1517\n",
            "1518\n",
            "1519\n",
            "1520\n"
          ]
        },
        {
          "name": "stderr",
          "output_type": "stream",
          "text": [
            "INFO:root:Writing example 0 of 1\n",
            "INFO:root:Writing example 0 of 1\n",
            "INFO:root:Writing example 0 of 1\n",
            "INFO:root:Writing example 0 of 1\n"
          ]
        },
        {
          "name": "stdout",
          "output_type": "stream",
          "text": [
            "1521\n",
            "1522\n",
            "1523\n",
            "1524\n"
          ]
        },
        {
          "name": "stderr",
          "output_type": "stream",
          "text": [
            "INFO:root:Writing example 0 of 1\n",
            "INFO:root:Writing example 0 of 1\n",
            "INFO:root:Writing example 0 of 1\n",
            "INFO:root:Writing example 0 of 1\n"
          ]
        },
        {
          "name": "stdout",
          "output_type": "stream",
          "text": [
            "1525\n",
            "1526\n",
            "1527\n",
            "1528\n"
          ]
        },
        {
          "name": "stderr",
          "output_type": "stream",
          "text": [
            "INFO:root:Writing example 0 of 1\n",
            "INFO:root:Writing example 0 of 1\n",
            "INFO:root:Writing example 0 of 1\n",
            "INFO:root:Writing example 0 of 1\n"
          ]
        },
        {
          "name": "stdout",
          "output_type": "stream",
          "text": [
            "1529\n",
            "1530\n",
            "1531\n",
            "1532\n"
          ]
        },
        {
          "name": "stderr",
          "output_type": "stream",
          "text": [
            "INFO:root:Writing example 0 of 1\n",
            "INFO:root:Writing example 0 of 1\n",
            "INFO:root:Writing example 0 of 1\n",
            "INFO:root:Writing example 0 of 1\n"
          ]
        },
        {
          "name": "stdout",
          "output_type": "stream",
          "text": [
            "1533\n",
            "1534\n",
            "1535\n",
            "1536\n"
          ]
        },
        {
          "name": "stderr",
          "output_type": "stream",
          "text": [
            "INFO:root:Writing example 0 of 1\n",
            "INFO:root:Writing example 0 of 1\n",
            "INFO:root:Writing example 0 of 1\n",
            "INFO:root:Writing example 0 of 1\n"
          ]
        },
        {
          "name": "stdout",
          "output_type": "stream",
          "text": [
            "1537\n",
            "1538\n",
            "1539\n",
            "1540\n"
          ]
        },
        {
          "name": "stderr",
          "output_type": "stream",
          "text": [
            "INFO:root:Writing example 0 of 1\n",
            "INFO:root:Writing example 0 of 1\n",
            "INFO:root:Writing example 0 of 1\n",
            "INFO:root:Writing example 0 of 1\n"
          ]
        },
        {
          "name": "stdout",
          "output_type": "stream",
          "text": [
            "1541\n",
            "1542\n",
            "1543\n",
            "1544\n"
          ]
        },
        {
          "name": "stderr",
          "output_type": "stream",
          "text": [
            "INFO:root:Writing example 0 of 1\n",
            "INFO:root:Writing example 0 of 1\n",
            "INFO:root:Writing example 0 of 1\n",
            "INFO:root:Writing example 0 of 1\n"
          ]
        },
        {
          "name": "stdout",
          "output_type": "stream",
          "text": [
            "1545\n",
            "1546\n",
            "1547\n",
            "1548\n"
          ]
        },
        {
          "name": "stderr",
          "output_type": "stream",
          "text": [
            "INFO:root:Writing example 0 of 1\n",
            "INFO:root:Writing example 0 of 1\n",
            "INFO:root:Writing example 0 of 1\n",
            "INFO:root:Writing example 0 of 1\n"
          ]
        },
        {
          "name": "stdout",
          "output_type": "stream",
          "text": [
            "1549\n",
            "1550\n",
            "1551\n",
            "1552\n"
          ]
        },
        {
          "name": "stderr",
          "output_type": "stream",
          "text": [
            "INFO:root:Writing example 0 of 1\n",
            "INFO:root:Writing example 0 of 1\n",
            "INFO:root:Writing example 0 of 1\n",
            "INFO:root:Writing example 0 of 1\n"
          ]
        },
        {
          "name": "stdout",
          "output_type": "stream",
          "text": [
            "1553\n",
            "1554\n",
            "1555\n",
            "1556\n"
          ]
        },
        {
          "name": "stderr",
          "output_type": "stream",
          "text": [
            "INFO:root:Writing example 0 of 1\n",
            "INFO:root:Writing example 0 of 1\n",
            "INFO:root:Writing example 0 of 1\n",
            "INFO:root:Writing example 0 of 1\n"
          ]
        },
        {
          "name": "stdout",
          "output_type": "stream",
          "text": [
            "1557\n",
            "1558\n",
            "1559\n",
            "1560\n"
          ]
        },
        {
          "name": "stderr",
          "output_type": "stream",
          "text": [
            "INFO:root:Writing example 0 of 1\n",
            "INFO:root:Writing example 0 of 1\n",
            "INFO:root:Writing example 0 of 1\n",
            "INFO:root:Writing example 0 of 1\n"
          ]
        },
        {
          "name": "stdout",
          "output_type": "stream",
          "text": [
            "1561\n",
            "1562\n",
            "1563\n",
            "1564\n"
          ]
        },
        {
          "name": "stderr",
          "output_type": "stream",
          "text": [
            "INFO:root:Writing example 0 of 1\n",
            "INFO:root:Writing example 0 of 1\n",
            "INFO:root:Writing example 0 of 1\n",
            "INFO:root:Writing example 0 of 1\n"
          ]
        },
        {
          "name": "stdout",
          "output_type": "stream",
          "text": [
            "1565\n",
            "1566\n",
            "1567\n",
            "1568\n"
          ]
        },
        {
          "name": "stderr",
          "output_type": "stream",
          "text": [
            "INFO:root:Writing example 0 of 1\n",
            "INFO:root:Writing example 0 of 1\n",
            "INFO:root:Writing example 0 of 1\n",
            "INFO:root:Writing example 0 of 1\n"
          ]
        },
        {
          "name": "stdout",
          "output_type": "stream",
          "text": [
            "1569\n",
            "1570\n",
            "1571\n",
            "1572\n"
          ]
        },
        {
          "name": "stderr",
          "output_type": "stream",
          "text": [
            "INFO:root:Writing example 0 of 1\n",
            "INFO:root:Writing example 0 of 1\n",
            "INFO:root:Writing example 0 of 1\n",
            "INFO:root:Writing example 0 of 1\n"
          ]
        },
        {
          "name": "stdout",
          "output_type": "stream",
          "text": [
            "1573\n",
            "1574\n",
            "1575\n",
            "1576\n"
          ]
        },
        {
          "name": "stderr",
          "output_type": "stream",
          "text": [
            "INFO:root:Writing example 0 of 1\n",
            "INFO:root:Writing example 0 of 1\n",
            "INFO:root:Writing example 0 of 1\n",
            "INFO:root:Writing example 0 of 1\n"
          ]
        },
        {
          "name": "stdout",
          "output_type": "stream",
          "text": [
            "1577\n",
            "1578\n",
            "1579\n",
            "1580\n"
          ]
        },
        {
          "name": "stderr",
          "output_type": "stream",
          "text": [
            "INFO:root:Writing example 0 of 1\n",
            "INFO:root:Writing example 0 of 1\n",
            "INFO:root:Writing example 0 of 1\n",
            "INFO:root:Writing example 0 of 1\n"
          ]
        },
        {
          "name": "stdout",
          "output_type": "stream",
          "text": [
            "1581\n",
            "1582\n",
            "1583\n",
            "1584\n"
          ]
        },
        {
          "name": "stderr",
          "output_type": "stream",
          "text": [
            "INFO:root:Writing example 0 of 1\n",
            "INFO:root:Writing example 0 of 1\n",
            "INFO:root:Writing example 0 of 1\n",
            "INFO:root:Writing example 0 of 1\n"
          ]
        },
        {
          "name": "stdout",
          "output_type": "stream",
          "text": [
            "1585\n",
            "1586\n",
            "1587\n",
            "1588\n"
          ]
        },
        {
          "name": "stderr",
          "output_type": "stream",
          "text": [
            "INFO:root:Writing example 0 of 1\n",
            "INFO:root:Writing example 0 of 1\n",
            "INFO:root:Writing example 0 of 1\n",
            "INFO:root:Writing example 0 of 1\n"
          ]
        },
        {
          "name": "stdout",
          "output_type": "stream",
          "text": [
            "1589\n",
            "1590\n",
            "1591\n",
            "1592\n"
          ]
        },
        {
          "name": "stderr",
          "output_type": "stream",
          "text": [
            "INFO:root:Writing example 0 of 1\n",
            "INFO:root:Writing example 0 of 1\n",
            "INFO:root:Writing example 0 of 1\n",
            "INFO:root:Writing example 0 of 1\n"
          ]
        },
        {
          "name": "stdout",
          "output_type": "stream",
          "text": [
            "1593\n",
            "1594\n",
            "1595\n",
            "1596\n"
          ]
        },
        {
          "name": "stderr",
          "output_type": "stream",
          "text": [
            "INFO:root:Writing example 0 of 1\n",
            "INFO:root:Writing example 0 of 1\n",
            "INFO:root:Writing example 0 of 1\n",
            "INFO:root:Writing example 0 of 1\n"
          ]
        },
        {
          "name": "stdout",
          "output_type": "stream",
          "text": [
            "1597\n",
            "1598\n",
            "1599\n",
            "1600\n"
          ]
        },
        {
          "name": "stderr",
          "output_type": "stream",
          "text": [
            "INFO:root:Writing example 0 of 1\n",
            "INFO:root:Writing example 0 of 1\n",
            "INFO:root:Writing example 0 of 1\n",
            "INFO:root:Writing example 0 of 1\n"
          ]
        },
        {
          "name": "stdout",
          "output_type": "stream",
          "text": [
            "1601\n",
            "1602\n",
            "1603\n",
            "1604\n"
          ]
        },
        {
          "name": "stderr",
          "output_type": "stream",
          "text": [
            "INFO:root:Writing example 0 of 1\n",
            "INFO:root:Writing example 0 of 1\n",
            "INFO:root:Writing example 0 of 1\n",
            "INFO:root:Writing example 0 of 1\n"
          ]
        },
        {
          "name": "stdout",
          "output_type": "stream",
          "text": [
            "1605\n",
            "1606\n",
            "1607\n",
            "1608\n"
          ]
        },
        {
          "name": "stderr",
          "output_type": "stream",
          "text": [
            "INFO:root:Writing example 0 of 1\n",
            "INFO:root:Writing example 0 of 1\n",
            "INFO:root:Writing example 0 of 1\n",
            "INFO:root:Writing example 0 of 1\n"
          ]
        },
        {
          "name": "stdout",
          "output_type": "stream",
          "text": [
            "1609\n",
            "1610\n",
            "1611\n",
            "1612\n"
          ]
        },
        {
          "name": "stderr",
          "output_type": "stream",
          "text": [
            "INFO:root:Writing example 0 of 1\n",
            "INFO:root:Writing example 0 of 1\n",
            "INFO:root:Writing example 0 of 1\n",
            "INFO:root:Writing example 0 of 1\n"
          ]
        },
        {
          "name": "stdout",
          "output_type": "stream",
          "text": [
            "1613\n",
            "1614\n",
            "1615\n",
            "1616\n"
          ]
        },
        {
          "name": "stderr",
          "output_type": "stream",
          "text": [
            "INFO:root:Writing example 0 of 1\n",
            "INFO:root:Writing example 0 of 1\n",
            "INFO:root:Writing example 0 of 1\n",
            "INFO:root:Writing example 0 of 1\n"
          ]
        },
        {
          "name": "stdout",
          "output_type": "stream",
          "text": [
            "1617\n",
            "1618\n",
            "1619\n",
            "1620\n"
          ]
        },
        {
          "name": "stderr",
          "output_type": "stream",
          "text": [
            "INFO:root:Writing example 0 of 1\n",
            "INFO:root:Writing example 0 of 1\n",
            "INFO:root:Writing example 0 of 1\n",
            "INFO:root:Writing example 0 of 1\n"
          ]
        },
        {
          "name": "stdout",
          "output_type": "stream",
          "text": [
            "1621\n",
            "1622\n",
            "1623\n",
            "1624\n"
          ]
        },
        {
          "name": "stderr",
          "output_type": "stream",
          "text": [
            "INFO:root:Writing example 0 of 1\n",
            "INFO:root:Writing example 0 of 1\n",
            "INFO:root:Writing example 0 of 1\n",
            "INFO:root:Writing example 0 of 1\n"
          ]
        },
        {
          "name": "stdout",
          "output_type": "stream",
          "text": [
            "1625\n",
            "1626\n",
            "1627\n",
            "1628\n"
          ]
        },
        {
          "name": "stderr",
          "output_type": "stream",
          "text": [
            "INFO:root:Writing example 0 of 1\n",
            "INFO:root:Writing example 0 of 1\n",
            "INFO:root:Writing example 0 of 1\n",
            "INFO:root:Writing example 0 of 1\n"
          ]
        },
        {
          "name": "stdout",
          "output_type": "stream",
          "text": [
            "1629\n",
            "1630\n",
            "1631\n",
            "1632\n"
          ]
        },
        {
          "name": "stderr",
          "output_type": "stream",
          "text": [
            "INFO:root:Writing example 0 of 1\n",
            "INFO:root:Writing example 0 of 1\n",
            "INFO:root:Writing example 0 of 1\n",
            "INFO:root:Writing example 0 of 1\n"
          ]
        },
        {
          "name": "stdout",
          "output_type": "stream",
          "text": [
            "1633\n",
            "1634\n",
            "1635\n",
            "1636\n"
          ]
        },
        {
          "name": "stderr",
          "output_type": "stream",
          "text": [
            "INFO:root:Writing example 0 of 1\n",
            "INFO:root:Writing example 0 of 1\n",
            "INFO:root:Writing example 0 of 1\n",
            "INFO:root:Writing example 0 of 1\n"
          ]
        },
        {
          "name": "stdout",
          "output_type": "stream",
          "text": [
            "1637\n",
            "1638\n",
            "1639\n",
            "1640\n"
          ]
        },
        {
          "name": "stderr",
          "output_type": "stream",
          "text": [
            "INFO:root:Writing example 0 of 1\n",
            "INFO:root:Writing example 0 of 1\n",
            "INFO:root:Writing example 0 of 1\n",
            "INFO:root:Writing example 0 of 1\n"
          ]
        },
        {
          "name": "stdout",
          "output_type": "stream",
          "text": [
            "1641\n",
            "1642\n",
            "1643\n",
            "1644\n"
          ]
        },
        {
          "name": "stderr",
          "output_type": "stream",
          "text": [
            "INFO:root:Writing example 0 of 1\n",
            "INFO:root:Writing example 0 of 1\n",
            "INFO:root:Writing example 0 of 1\n",
            "INFO:root:Writing example 0 of 1\n"
          ]
        },
        {
          "name": "stdout",
          "output_type": "stream",
          "text": [
            "1645\n",
            "1646\n",
            "1647\n",
            "1648\n"
          ]
        },
        {
          "name": "stderr",
          "output_type": "stream",
          "text": [
            "INFO:root:Writing example 0 of 1\n",
            "INFO:root:Writing example 0 of 1\n",
            "INFO:root:Writing example 0 of 1\n",
            "INFO:root:Writing example 0 of 1\n"
          ]
        },
        {
          "name": "stdout",
          "output_type": "stream",
          "text": [
            "1649\n",
            "1650\n",
            "1651\n",
            "1652\n"
          ]
        },
        {
          "name": "stderr",
          "output_type": "stream",
          "text": [
            "INFO:root:Writing example 0 of 1\n",
            "INFO:root:Writing example 0 of 1\n",
            "INFO:root:Writing example 0 of 1\n",
            "INFO:root:Writing example 0 of 1\n"
          ]
        },
        {
          "name": "stdout",
          "output_type": "stream",
          "text": [
            "1653\n",
            "1654\n",
            "1655\n",
            "1656\n"
          ]
        },
        {
          "name": "stderr",
          "output_type": "stream",
          "text": [
            "INFO:root:Writing example 0 of 1\n",
            "INFO:root:Writing example 0 of 1\n",
            "INFO:root:Writing example 0 of 1\n",
            "INFO:root:Writing example 0 of 1\n"
          ]
        },
        {
          "name": "stdout",
          "output_type": "stream",
          "text": [
            "1657\n",
            "1658\n",
            "1659\n",
            "1660\n"
          ]
        },
        {
          "name": "stderr",
          "output_type": "stream",
          "text": [
            "INFO:root:Writing example 0 of 1\n",
            "INFO:root:Writing example 0 of 1\n",
            "INFO:root:Writing example 0 of 1\n",
            "INFO:root:Writing example 0 of 1\n"
          ]
        },
        {
          "name": "stdout",
          "output_type": "stream",
          "text": [
            "1661\n",
            "1662\n",
            "1663\n",
            "1664\n"
          ]
        },
        {
          "name": "stderr",
          "output_type": "stream",
          "text": [
            "INFO:root:Writing example 0 of 1\n",
            "INFO:root:Writing example 0 of 1\n",
            "INFO:root:Writing example 0 of 1\n",
            "INFO:root:Writing example 0 of 1\n"
          ]
        },
        {
          "name": "stdout",
          "output_type": "stream",
          "text": [
            "1665\n",
            "1666\n",
            "1667\n",
            "1668\n"
          ]
        },
        {
          "name": "stderr",
          "output_type": "stream",
          "text": [
            "INFO:root:Writing example 0 of 1\n",
            "INFO:root:Writing example 0 of 1\n",
            "INFO:root:Writing example 0 of 1\n",
            "INFO:root:Writing example 0 of 1\n"
          ]
        },
        {
          "name": "stdout",
          "output_type": "stream",
          "text": [
            "1669\n",
            "1670\n",
            "1671\n",
            "1672\n"
          ]
        },
        {
          "name": "stderr",
          "output_type": "stream",
          "text": [
            "INFO:root:Writing example 0 of 1\n",
            "INFO:root:Writing example 0 of 1\n",
            "INFO:root:Writing example 0 of 1\n",
            "INFO:root:Writing example 0 of 1\n"
          ]
        },
        {
          "name": "stdout",
          "output_type": "stream",
          "text": [
            "1673\n",
            "1674\n",
            "1675\n",
            "1676\n"
          ]
        },
        {
          "name": "stderr",
          "output_type": "stream",
          "text": [
            "INFO:root:Writing example 0 of 1\n",
            "INFO:root:Writing example 0 of 1\n",
            "INFO:root:Writing example 0 of 1\n",
            "INFO:root:Writing example 0 of 1\n"
          ]
        },
        {
          "name": "stdout",
          "output_type": "stream",
          "text": [
            "1677\n",
            "1678\n",
            "1679\n",
            "1680\n"
          ]
        },
        {
          "name": "stderr",
          "output_type": "stream",
          "text": [
            "INFO:root:Writing example 0 of 1\n",
            "INFO:root:Writing example 0 of 1\n",
            "INFO:root:Writing example 0 of 1\n",
            "INFO:root:Writing example 0 of 1\n"
          ]
        },
        {
          "name": "stdout",
          "output_type": "stream",
          "text": [
            "1681\n",
            "1682\n",
            "1683\n",
            "1684\n"
          ]
        },
        {
          "name": "stderr",
          "output_type": "stream",
          "text": [
            "INFO:root:Writing example 0 of 1\n",
            "INFO:root:Writing example 0 of 1\n",
            "INFO:root:Writing example 0 of 1\n",
            "INFO:root:Writing example 0 of 1\n"
          ]
        },
        {
          "name": "stdout",
          "output_type": "stream",
          "text": [
            "1685\n",
            "1686\n",
            "1687\n",
            "1688\n"
          ]
        },
        {
          "name": "stderr",
          "output_type": "stream",
          "text": [
            "INFO:root:Writing example 0 of 1\n",
            "INFO:root:Writing example 0 of 1\n",
            "INFO:root:Writing example 0 of 1\n",
            "INFO:root:Writing example 0 of 1\n"
          ]
        },
        {
          "name": "stdout",
          "output_type": "stream",
          "text": [
            "1689\n",
            "1690\n",
            "1691\n",
            "1692\n"
          ]
        },
        {
          "name": "stderr",
          "output_type": "stream",
          "text": [
            "INFO:root:Writing example 0 of 1\n",
            "INFO:root:Writing example 0 of 1\n",
            "INFO:root:Writing example 0 of 1\n",
            "INFO:root:Writing example 0 of 1\n"
          ]
        },
        {
          "name": "stdout",
          "output_type": "stream",
          "text": [
            "1693\n",
            "1694\n",
            "1695\n",
            "1696\n"
          ]
        },
        {
          "name": "stderr",
          "output_type": "stream",
          "text": [
            "INFO:root:Writing example 0 of 1\n",
            "INFO:root:Writing example 0 of 1\n",
            "INFO:root:Writing example 0 of 1\n",
            "INFO:root:Writing example 0 of 1\n"
          ]
        },
        {
          "name": "stdout",
          "output_type": "stream",
          "text": [
            "1697\n",
            "1698\n",
            "1699\n",
            "1700\n"
          ]
        },
        {
          "name": "stderr",
          "output_type": "stream",
          "text": [
            "INFO:root:Writing example 0 of 1\n",
            "INFO:root:Writing example 0 of 1\n",
            "INFO:root:Writing example 0 of 1\n",
            "INFO:root:Writing example 0 of 1\n"
          ]
        },
        {
          "name": "stdout",
          "output_type": "stream",
          "text": [
            "1701\n",
            "1702\n",
            "1703\n",
            "1704\n"
          ]
        },
        {
          "name": "stderr",
          "output_type": "stream",
          "text": [
            "INFO:root:Writing example 0 of 1\n",
            "INFO:root:Writing example 0 of 1\n",
            "INFO:root:Writing example 0 of 1\n",
            "INFO:root:Writing example 0 of 1\n"
          ]
        },
        {
          "name": "stdout",
          "output_type": "stream",
          "text": [
            "1705\n",
            "1706\n",
            "1707\n",
            "1708\n"
          ]
        },
        {
          "name": "stderr",
          "output_type": "stream",
          "text": [
            "INFO:root:Writing example 0 of 1\n",
            "INFO:root:Writing example 0 of 1\n",
            "INFO:root:Writing example 0 of 1\n",
            "INFO:root:Writing example 0 of 1\n"
          ]
        },
        {
          "name": "stdout",
          "output_type": "stream",
          "text": [
            "1709\n",
            "1710\n",
            "1711\n",
            "1712\n"
          ]
        },
        {
          "name": "stderr",
          "output_type": "stream",
          "text": [
            "INFO:root:Writing example 0 of 1\n",
            "INFO:root:Writing example 0 of 1\n",
            "INFO:root:Writing example 0 of 1\n",
            "INFO:root:Writing example 0 of 1\n"
          ]
        },
        {
          "name": "stdout",
          "output_type": "stream",
          "text": [
            "1713\n",
            "1714\n",
            "1715\n",
            "1716\n"
          ]
        },
        {
          "name": "stderr",
          "output_type": "stream",
          "text": [
            "INFO:root:Writing example 0 of 1\n",
            "INFO:root:Writing example 0 of 1\n",
            "INFO:root:Writing example 0 of 1\n",
            "INFO:root:Writing example 0 of 1\n"
          ]
        },
        {
          "name": "stdout",
          "output_type": "stream",
          "text": [
            "1717\n",
            "1718\n",
            "1719\n",
            "1720\n"
          ]
        },
        {
          "name": "stderr",
          "output_type": "stream",
          "text": [
            "INFO:root:Writing example 0 of 1\n",
            "INFO:root:Writing example 0 of 1\n",
            "INFO:root:Writing example 0 of 1\n",
            "INFO:root:Writing example 0 of 1\n"
          ]
        },
        {
          "name": "stdout",
          "output_type": "stream",
          "text": [
            "1721\n",
            "1722\n",
            "1723\n",
            "1724\n"
          ]
        },
        {
          "name": "stderr",
          "output_type": "stream",
          "text": [
            "INFO:root:Writing example 0 of 1\n",
            "INFO:root:Writing example 0 of 1\n",
            "INFO:root:Writing example 0 of 1\n",
            "INFO:root:Writing example 0 of 1\n"
          ]
        },
        {
          "name": "stdout",
          "output_type": "stream",
          "text": [
            "1725\n",
            "1726\n",
            "1727\n",
            "1728\n"
          ]
        },
        {
          "name": "stderr",
          "output_type": "stream",
          "text": [
            "INFO:root:Writing example 0 of 1\n",
            "INFO:root:Writing example 0 of 1\n",
            "INFO:root:Writing example 0 of 1\n",
            "INFO:root:Writing example 0 of 1\n"
          ]
        },
        {
          "name": "stdout",
          "output_type": "stream",
          "text": [
            "1729\n",
            "1730\n",
            "1731\n",
            "1732\n"
          ]
        },
        {
          "name": "stderr",
          "output_type": "stream",
          "text": [
            "INFO:root:Writing example 0 of 1\n",
            "INFO:root:Writing example 0 of 1\n",
            "INFO:root:Writing example 0 of 1\n",
            "INFO:root:Writing example 0 of 1\n"
          ]
        },
        {
          "name": "stdout",
          "output_type": "stream",
          "text": [
            "1733\n",
            "1734\n",
            "1735\n",
            "1736\n"
          ]
        },
        {
          "name": "stderr",
          "output_type": "stream",
          "text": [
            "INFO:root:Writing example 0 of 1\n",
            "INFO:root:Writing example 0 of 1\n",
            "INFO:root:Writing example 0 of 1\n",
            "INFO:root:Writing example 0 of 1\n"
          ]
        },
        {
          "name": "stdout",
          "output_type": "stream",
          "text": [
            "1737\n",
            "1738\n",
            "1739\n",
            "1740\n"
          ]
        },
        {
          "name": "stderr",
          "output_type": "stream",
          "text": [
            "INFO:root:Writing example 0 of 1\n",
            "INFO:root:Writing example 0 of 1\n",
            "INFO:root:Writing example 0 of 1\n",
            "INFO:root:Writing example 0 of 1\n"
          ]
        },
        {
          "name": "stdout",
          "output_type": "stream",
          "text": [
            "1741\n",
            "1742\n",
            "1743\n",
            "1744\n"
          ]
        },
        {
          "name": "stderr",
          "output_type": "stream",
          "text": [
            "INFO:root:Writing example 0 of 1\n",
            "INFO:root:Writing example 0 of 1\n",
            "INFO:root:Writing example 0 of 1\n",
            "INFO:root:Writing example 0 of 1\n"
          ]
        },
        {
          "name": "stdout",
          "output_type": "stream",
          "text": [
            "1745\n",
            "1746\n",
            "1747\n",
            "1748\n"
          ]
        },
        {
          "name": "stderr",
          "output_type": "stream",
          "text": [
            "INFO:root:Writing example 0 of 1\n",
            "INFO:root:Writing example 0 of 1\n",
            "INFO:root:Writing example 0 of 1\n",
            "INFO:root:Writing example 0 of 1\n"
          ]
        },
        {
          "name": "stdout",
          "output_type": "stream",
          "text": [
            "1749\n",
            "1750\n",
            "1751\n",
            "1752\n"
          ]
        },
        {
          "name": "stderr",
          "output_type": "stream",
          "text": [
            "INFO:root:Writing example 0 of 1\n",
            "INFO:root:Writing example 0 of 1\n",
            "INFO:root:Writing example 0 of 1\n",
            "INFO:root:Writing example 0 of 1\n"
          ]
        },
        {
          "name": "stdout",
          "output_type": "stream",
          "text": [
            "1753\n",
            "1754\n",
            "1755\n",
            "1756\n"
          ]
        },
        {
          "name": "stderr",
          "output_type": "stream",
          "text": [
            "INFO:root:Writing example 0 of 1\n",
            "INFO:root:Writing example 0 of 1\n",
            "INFO:root:Writing example 0 of 1\n",
            "INFO:root:Writing example 0 of 1\n"
          ]
        },
        {
          "name": "stdout",
          "output_type": "stream",
          "text": [
            "1757\n",
            "1758\n",
            "1759\n",
            "1760\n"
          ]
        },
        {
          "name": "stderr",
          "output_type": "stream",
          "text": [
            "INFO:root:Writing example 0 of 1\n",
            "INFO:root:Writing example 0 of 1\n",
            "INFO:root:Writing example 0 of 1\n",
            "INFO:root:Writing example 0 of 1\n"
          ]
        },
        {
          "name": "stdout",
          "output_type": "stream",
          "text": [
            "1761\n",
            "1762\n",
            "1763\n",
            "1764\n"
          ]
        },
        {
          "name": "stderr",
          "output_type": "stream",
          "text": [
            "INFO:root:Writing example 0 of 1\n",
            "INFO:root:Writing example 0 of 1\n",
            "INFO:root:Writing example 0 of 1\n",
            "INFO:root:Writing example 0 of 1\n"
          ]
        },
        {
          "name": "stdout",
          "output_type": "stream",
          "text": [
            "1765\n",
            "1766\n",
            "1767\n",
            "1768\n"
          ]
        },
        {
          "name": "stderr",
          "output_type": "stream",
          "text": [
            "INFO:root:Writing example 0 of 1\n",
            "INFO:root:Writing example 0 of 1\n",
            "INFO:root:Writing example 0 of 1\n",
            "INFO:root:Writing example 0 of 1\n"
          ]
        },
        {
          "name": "stdout",
          "output_type": "stream",
          "text": [
            "1769\n",
            "1770\n",
            "1771\n",
            "1772\n"
          ]
        },
        {
          "name": "stderr",
          "output_type": "stream",
          "text": [
            "INFO:root:Writing example 0 of 1\n",
            "INFO:root:Writing example 0 of 1\n",
            "INFO:root:Writing example 0 of 1\n",
            "INFO:root:Writing example 0 of 1\n"
          ]
        },
        {
          "name": "stdout",
          "output_type": "stream",
          "text": [
            "1773\n",
            "1774\n",
            "1775\n",
            "1776\n"
          ]
        },
        {
          "name": "stderr",
          "output_type": "stream",
          "text": [
            "INFO:root:Writing example 0 of 1\n",
            "INFO:root:Writing example 0 of 1\n",
            "INFO:root:Writing example 0 of 1\n",
            "INFO:root:Writing example 0 of 1\n"
          ]
        },
        {
          "name": "stdout",
          "output_type": "stream",
          "text": [
            "1777\n",
            "1778\n",
            "1779\n",
            "1780\n"
          ]
        },
        {
          "name": "stderr",
          "output_type": "stream",
          "text": [
            "INFO:root:Writing example 0 of 1\n",
            "INFO:root:Writing example 0 of 1\n",
            "INFO:root:Writing example 0 of 1\n",
            "INFO:root:Writing example 0 of 1\n"
          ]
        },
        {
          "name": "stdout",
          "output_type": "stream",
          "text": [
            "1781\n",
            "1782\n",
            "1783\n",
            "1784\n"
          ]
        },
        {
          "name": "stderr",
          "output_type": "stream",
          "text": [
            "INFO:root:Writing example 0 of 1\n",
            "INFO:root:Writing example 0 of 1\n",
            "INFO:root:Writing example 0 of 1\n",
            "INFO:root:Writing example 0 of 1\n"
          ]
        },
        {
          "name": "stdout",
          "output_type": "stream",
          "text": [
            "1785\n",
            "1786\n",
            "1787\n",
            "1788\n"
          ]
        },
        {
          "name": "stderr",
          "output_type": "stream",
          "text": [
            "INFO:root:Writing example 0 of 1\n",
            "INFO:root:Writing example 0 of 1\n",
            "INFO:root:Writing example 0 of 1\n",
            "INFO:root:Writing example 0 of 1\n"
          ]
        },
        {
          "name": "stdout",
          "output_type": "stream",
          "text": [
            "1789\n",
            "1790\n",
            "1791\n",
            "1792\n"
          ]
        },
        {
          "name": "stderr",
          "output_type": "stream",
          "text": [
            "INFO:root:Writing example 0 of 1\n",
            "INFO:root:Writing example 0 of 1\n",
            "INFO:root:Writing example 0 of 1\n",
            "INFO:root:Writing example 0 of 1\n"
          ]
        },
        {
          "name": "stdout",
          "output_type": "stream",
          "text": [
            "1793\n",
            "1794\n",
            "1795\n",
            "1796\n"
          ]
        },
        {
          "name": "stderr",
          "output_type": "stream",
          "text": [
            "INFO:root:Writing example 0 of 1\n",
            "INFO:root:Writing example 0 of 1\n",
            "INFO:root:Writing example 0 of 1\n",
            "INFO:root:Writing example 0 of 1\n"
          ]
        },
        {
          "name": "stdout",
          "output_type": "stream",
          "text": [
            "1797\n",
            "1798\n",
            "1799\n",
            "1800\n"
          ]
        },
        {
          "name": "stderr",
          "output_type": "stream",
          "text": [
            "INFO:root:Writing example 0 of 1\n",
            "INFO:root:Writing example 0 of 1\n",
            "INFO:root:Writing example 0 of 1\n",
            "INFO:root:Writing example 0 of 1\n"
          ]
        },
        {
          "name": "stdout",
          "output_type": "stream",
          "text": [
            "1801\n",
            "1802\n",
            "1803\n",
            "1804\n"
          ]
        },
        {
          "name": "stderr",
          "output_type": "stream",
          "text": [
            "INFO:root:Writing example 0 of 1\n",
            "INFO:root:Writing example 0 of 1\n",
            "INFO:root:Writing example 0 of 1\n",
            "INFO:root:Writing example 0 of 1\n"
          ]
        },
        {
          "name": "stdout",
          "output_type": "stream",
          "text": [
            "1805\n",
            "1806\n",
            "1807\n",
            "1808\n"
          ]
        },
        {
          "name": "stderr",
          "output_type": "stream",
          "text": [
            "INFO:root:Writing example 0 of 1\n",
            "INFO:root:Writing example 0 of 1\n",
            "INFO:root:Writing example 0 of 1\n",
            "INFO:root:Writing example 0 of 1\n"
          ]
        },
        {
          "name": "stdout",
          "output_type": "stream",
          "text": [
            "1809\n",
            "1810\n",
            "1811\n",
            "1812\n"
          ]
        },
        {
          "name": "stderr",
          "output_type": "stream",
          "text": [
            "INFO:root:Writing example 0 of 1\n",
            "INFO:root:Writing example 0 of 1\n",
            "INFO:root:Writing example 0 of 1\n",
            "INFO:root:Writing example 0 of 1\n"
          ]
        },
        {
          "name": "stdout",
          "output_type": "stream",
          "text": [
            "1813\n",
            "1814\n",
            "1815\n",
            "1816\n"
          ]
        },
        {
          "name": "stderr",
          "output_type": "stream",
          "text": [
            "INFO:root:Writing example 0 of 1\n",
            "INFO:root:Writing example 0 of 1\n",
            "INFO:root:Writing example 0 of 1\n",
            "INFO:root:Writing example 0 of 1\n"
          ]
        },
        {
          "name": "stdout",
          "output_type": "stream",
          "text": [
            "1817\n",
            "1818\n",
            "1819\n",
            "1820\n"
          ]
        },
        {
          "name": "stderr",
          "output_type": "stream",
          "text": [
            "INFO:root:Writing example 0 of 1\n",
            "INFO:root:Writing example 0 of 1\n",
            "INFO:root:Writing example 0 of 1\n",
            "INFO:root:Writing example 0 of 1\n"
          ]
        },
        {
          "name": "stdout",
          "output_type": "stream",
          "text": [
            "1821\n",
            "1822\n",
            "1823\n",
            "1824\n"
          ]
        },
        {
          "name": "stderr",
          "output_type": "stream",
          "text": [
            "INFO:root:Writing example 0 of 1\n",
            "INFO:root:Writing example 0 of 1\n",
            "INFO:root:Writing example 0 of 1\n",
            "INFO:root:Writing example 0 of 1\n"
          ]
        },
        {
          "name": "stdout",
          "output_type": "stream",
          "text": [
            "1825\n",
            "1826\n",
            "1827\n",
            "1828\n"
          ]
        },
        {
          "name": "stderr",
          "output_type": "stream",
          "text": [
            "INFO:root:Writing example 0 of 1\n",
            "INFO:root:Writing example 0 of 1\n",
            "INFO:root:Writing example 0 of 1\n",
            "INFO:root:Writing example 0 of 1\n"
          ]
        },
        {
          "name": "stdout",
          "output_type": "stream",
          "text": [
            "1829\n",
            "1830\n",
            "1831\n",
            "1832\n"
          ]
        },
        {
          "name": "stderr",
          "output_type": "stream",
          "text": [
            "INFO:root:Writing example 0 of 1\n",
            "INFO:root:Writing example 0 of 1\n",
            "INFO:root:Writing example 0 of 1\n",
            "INFO:root:Writing example 0 of 1\n"
          ]
        },
        {
          "name": "stdout",
          "output_type": "stream",
          "text": [
            "1833\n",
            "1834\n",
            "1835\n",
            "1836\n"
          ]
        },
        {
          "name": "stderr",
          "output_type": "stream",
          "text": [
            "INFO:root:Writing example 0 of 1\n",
            "INFO:root:Writing example 0 of 1\n",
            "INFO:root:Writing example 0 of 1\n",
            "INFO:root:Writing example 0 of 1\n"
          ]
        },
        {
          "name": "stdout",
          "output_type": "stream",
          "text": [
            "1837\n",
            "1838\n",
            "1839\n",
            "1840\n"
          ]
        },
        {
          "name": "stderr",
          "output_type": "stream",
          "text": [
            "INFO:root:Writing example 0 of 1\n",
            "INFO:root:Writing example 0 of 1\n",
            "INFO:root:Writing example 0 of 1\n",
            "INFO:root:Writing example 0 of 1\n"
          ]
        },
        {
          "name": "stdout",
          "output_type": "stream",
          "text": [
            "1841\n",
            "1842\n",
            "1843\n",
            "1844\n"
          ]
        },
        {
          "name": "stderr",
          "output_type": "stream",
          "text": [
            "INFO:root:Writing example 0 of 1\n",
            "INFO:root:Writing example 0 of 1\n",
            "INFO:root:Writing example 0 of 1\n",
            "INFO:root:Writing example 0 of 1\n"
          ]
        },
        {
          "name": "stdout",
          "output_type": "stream",
          "text": [
            "1845\n",
            "1846\n",
            "1847\n",
            "1848\n"
          ]
        },
        {
          "name": "stderr",
          "output_type": "stream",
          "text": [
            "INFO:root:Writing example 0 of 1\n",
            "INFO:root:Writing example 0 of 1\n",
            "INFO:root:Writing example 0 of 1\n",
            "INFO:root:Writing example 0 of 1\n"
          ]
        },
        {
          "name": "stdout",
          "output_type": "stream",
          "text": [
            "1849\n",
            "1850\n",
            "1851\n",
            "1852\n"
          ]
        },
        {
          "name": "stderr",
          "output_type": "stream",
          "text": [
            "INFO:root:Writing example 0 of 1\n",
            "INFO:root:Writing example 0 of 1\n",
            "INFO:root:Writing example 0 of 1\n",
            "INFO:root:Writing example 0 of 1\n"
          ]
        },
        {
          "name": "stdout",
          "output_type": "stream",
          "text": [
            "1853\n",
            "1854\n",
            "1855\n",
            "1856\n"
          ]
        },
        {
          "name": "stderr",
          "output_type": "stream",
          "text": [
            "INFO:root:Writing example 0 of 1\n",
            "INFO:root:Writing example 0 of 1\n",
            "INFO:root:Writing example 0 of 1\n",
            "INFO:root:Writing example 0 of 1\n"
          ]
        },
        {
          "name": "stdout",
          "output_type": "stream",
          "text": [
            "1857\n",
            "1858\n",
            "1859\n",
            "1860\n"
          ]
        },
        {
          "name": "stderr",
          "output_type": "stream",
          "text": [
            "INFO:root:Writing example 0 of 1\n",
            "INFO:root:Writing example 0 of 1\n",
            "INFO:root:Writing example 0 of 1\n",
            "INFO:root:Writing example 0 of 1\n"
          ]
        },
        {
          "name": "stdout",
          "output_type": "stream",
          "text": [
            "1861\n",
            "1862\n",
            "1863\n",
            "1864\n"
          ]
        },
        {
          "name": "stderr",
          "output_type": "stream",
          "text": [
            "INFO:root:Writing example 0 of 1\n",
            "INFO:root:Writing example 0 of 1\n",
            "INFO:root:Writing example 0 of 1\n",
            "INFO:root:Writing example 0 of 1\n"
          ]
        },
        {
          "name": "stdout",
          "output_type": "stream",
          "text": [
            "1865\n",
            "1866\n",
            "1867\n",
            "1868\n"
          ]
        },
        {
          "name": "stderr",
          "output_type": "stream",
          "text": [
            "INFO:root:Writing example 0 of 1\n",
            "INFO:root:Writing example 0 of 1\n",
            "INFO:root:Writing example 0 of 1\n",
            "INFO:root:Writing example 0 of 1\n"
          ]
        },
        {
          "name": "stdout",
          "output_type": "stream",
          "text": [
            "1869\n",
            "1870\n",
            "1871\n",
            "1872\n"
          ]
        },
        {
          "name": "stderr",
          "output_type": "stream",
          "text": [
            "INFO:root:Writing example 0 of 1\n",
            "INFO:root:Writing example 0 of 1\n",
            "INFO:root:Writing example 0 of 1\n",
            "INFO:root:Writing example 0 of 1\n"
          ]
        },
        {
          "name": "stdout",
          "output_type": "stream",
          "text": [
            "1873\n",
            "1874\n",
            "1875\n",
            "1876\n"
          ]
        },
        {
          "name": "stderr",
          "output_type": "stream",
          "text": [
            "INFO:root:Writing example 0 of 1\n",
            "INFO:root:Writing example 0 of 1\n",
            "INFO:root:Writing example 0 of 1\n",
            "INFO:root:Writing example 0 of 1\n"
          ]
        },
        {
          "name": "stdout",
          "output_type": "stream",
          "text": [
            "1877\n",
            "1878\n",
            "1879\n",
            "1880\n"
          ]
        },
        {
          "name": "stderr",
          "output_type": "stream",
          "text": [
            "INFO:root:Writing example 0 of 1\n",
            "INFO:root:Writing example 0 of 1\n",
            "INFO:root:Writing example 0 of 1\n",
            "INFO:root:Writing example 0 of 1\n"
          ]
        },
        {
          "name": "stdout",
          "output_type": "stream",
          "text": [
            "1881\n",
            "1882\n",
            "1883\n",
            "1884\n"
          ]
        },
        {
          "name": "stderr",
          "output_type": "stream",
          "text": [
            "INFO:root:Writing example 0 of 1\n",
            "INFO:root:Writing example 0 of 1\n",
            "INFO:root:Writing example 0 of 1\n",
            "INFO:root:Writing example 0 of 1\n"
          ]
        },
        {
          "name": "stdout",
          "output_type": "stream",
          "text": [
            "1885\n",
            "1886\n",
            "1887\n",
            "1888\n"
          ]
        },
        {
          "name": "stderr",
          "output_type": "stream",
          "text": [
            "INFO:root:Writing example 0 of 1\n",
            "INFO:root:Writing example 0 of 1\n",
            "INFO:root:Writing example 0 of 1\n",
            "INFO:root:Writing example 0 of 1\n"
          ]
        },
        {
          "name": "stdout",
          "output_type": "stream",
          "text": [
            "1889\n",
            "1890\n",
            "1891\n",
            "1892\n"
          ]
        },
        {
          "name": "stderr",
          "output_type": "stream",
          "text": [
            "INFO:root:Writing example 0 of 1\n",
            "INFO:root:Writing example 0 of 1\n",
            "INFO:root:Writing example 0 of 1\n",
            "INFO:root:Writing example 0 of 1\n"
          ]
        },
        {
          "name": "stdout",
          "output_type": "stream",
          "text": [
            "1893\n",
            "1894\n",
            "1895\n",
            "1896\n"
          ]
        },
        {
          "name": "stderr",
          "output_type": "stream",
          "text": [
            "INFO:root:Writing example 0 of 1\n",
            "INFO:root:Writing example 0 of 1\n",
            "INFO:root:Writing example 0 of 1\n",
            "INFO:root:Writing example 0 of 1\n"
          ]
        },
        {
          "name": "stdout",
          "output_type": "stream",
          "text": [
            "1897\n",
            "1898\n",
            "1899\n",
            "1900\n"
          ]
        },
        {
          "name": "stderr",
          "output_type": "stream",
          "text": [
            "INFO:root:Writing example 0 of 1\n",
            "INFO:root:Writing example 0 of 1\n",
            "INFO:root:Writing example 0 of 1\n",
            "INFO:root:Writing example 0 of 1\n"
          ]
        },
        {
          "name": "stdout",
          "output_type": "stream",
          "text": [
            "1901\n",
            "1902\n",
            "1903\n",
            "1904\n"
          ]
        },
        {
          "name": "stderr",
          "output_type": "stream",
          "text": [
            "INFO:root:Writing example 0 of 1\n",
            "INFO:root:Writing example 0 of 1\n",
            "INFO:root:Writing example 0 of 1\n",
            "INFO:root:Writing example 0 of 1\n"
          ]
        },
        {
          "name": "stdout",
          "output_type": "stream",
          "text": [
            "1905\n",
            "1906\n",
            "1907\n",
            "1908\n"
          ]
        },
        {
          "name": "stderr",
          "output_type": "stream",
          "text": [
            "INFO:root:Writing example 0 of 1\n",
            "INFO:root:Writing example 0 of 1\n",
            "INFO:root:Writing example 0 of 1\n",
            "INFO:root:Writing example 0 of 1\n"
          ]
        },
        {
          "name": "stdout",
          "output_type": "stream",
          "text": [
            "1909\n",
            "1910\n",
            "1911\n",
            "1912\n"
          ]
        },
        {
          "name": "stderr",
          "output_type": "stream",
          "text": [
            "INFO:root:Writing example 0 of 1\n",
            "INFO:root:Writing example 0 of 1\n",
            "INFO:root:Writing example 0 of 1\n",
            "INFO:root:Writing example 0 of 1\n"
          ]
        },
        {
          "name": "stdout",
          "output_type": "stream",
          "text": [
            "1913\n",
            "1914\n",
            "1915\n",
            "1916\n"
          ]
        },
        {
          "name": "stderr",
          "output_type": "stream",
          "text": [
            "INFO:root:Writing example 0 of 1\n",
            "INFO:root:Writing example 0 of 1\n",
            "INFO:root:Writing example 0 of 1\n",
            "INFO:root:Writing example 0 of 1\n"
          ]
        },
        {
          "name": "stdout",
          "output_type": "stream",
          "text": [
            "1917\n",
            "1918\n",
            "1919\n",
            "1920\n"
          ]
        },
        {
          "name": "stderr",
          "output_type": "stream",
          "text": [
            "INFO:root:Writing example 0 of 1\n",
            "INFO:root:Writing example 0 of 1\n",
            "INFO:root:Writing example 0 of 1\n",
            "INFO:root:Writing example 0 of 1\n"
          ]
        },
        {
          "name": "stdout",
          "output_type": "stream",
          "text": [
            "1921\n",
            "1922\n",
            "1923\n",
            "1924\n"
          ]
        },
        {
          "name": "stderr",
          "output_type": "stream",
          "text": [
            "INFO:root:Writing example 0 of 1\n",
            "INFO:root:Writing example 0 of 1\n",
            "INFO:root:Writing example 0 of 1\n",
            "INFO:root:Writing example 0 of 1\n"
          ]
        },
        {
          "name": "stdout",
          "output_type": "stream",
          "text": [
            "1925\n",
            "1926\n",
            "1927\n",
            "1928\n"
          ]
        },
        {
          "name": "stderr",
          "output_type": "stream",
          "text": [
            "INFO:root:Writing example 0 of 1\n",
            "INFO:root:Writing example 0 of 1\n",
            "INFO:root:Writing example 0 of 1\n",
            "INFO:root:Writing example 0 of 1\n"
          ]
        },
        {
          "name": "stdout",
          "output_type": "stream",
          "text": [
            "1929\n",
            "1930\n",
            "1931\n",
            "1932\n"
          ]
        },
        {
          "name": "stderr",
          "output_type": "stream",
          "text": [
            "INFO:root:Writing example 0 of 1\n",
            "INFO:root:Writing example 0 of 1\n",
            "INFO:root:Writing example 0 of 1\n",
            "INFO:root:Writing example 0 of 1\n"
          ]
        },
        {
          "name": "stdout",
          "output_type": "stream",
          "text": [
            "1933\n",
            "1934\n",
            "1935\n",
            "1936\n"
          ]
        },
        {
          "name": "stderr",
          "output_type": "stream",
          "text": [
            "INFO:root:Writing example 0 of 1\n",
            "INFO:root:Writing example 0 of 1\n",
            "INFO:root:Writing example 0 of 1\n",
            "INFO:root:Writing example 0 of 1\n"
          ]
        },
        {
          "name": "stdout",
          "output_type": "stream",
          "text": [
            "1937\n",
            "1938\n",
            "1939\n",
            "1940\n"
          ]
        },
        {
          "name": "stderr",
          "output_type": "stream",
          "text": [
            "INFO:root:Writing example 0 of 1\n",
            "INFO:root:Writing example 0 of 1\n",
            "INFO:root:Writing example 0 of 1\n",
            "INFO:root:Writing example 0 of 1\n"
          ]
        },
        {
          "name": "stdout",
          "output_type": "stream",
          "text": [
            "1941\n",
            "1942\n",
            "1943\n",
            "1944\n"
          ]
        },
        {
          "name": "stderr",
          "output_type": "stream",
          "text": [
            "INFO:root:Writing example 0 of 1\n",
            "INFO:root:Writing example 0 of 1\n",
            "INFO:root:Writing example 0 of 1\n",
            "INFO:root:Writing example 0 of 1\n"
          ]
        },
        {
          "name": "stdout",
          "output_type": "stream",
          "text": [
            "1945\n",
            "1946\n",
            "1947\n",
            "1948\n"
          ]
        },
        {
          "name": "stderr",
          "output_type": "stream",
          "text": [
            "INFO:root:Writing example 0 of 1\n",
            "INFO:root:Writing example 0 of 1\n",
            "INFO:root:Writing example 0 of 1\n",
            "INFO:root:Writing example 0 of 1\n"
          ]
        },
        {
          "name": "stdout",
          "output_type": "stream",
          "text": [
            "1949\n",
            "1950\n",
            "1951\n",
            "1952\n"
          ]
        },
        {
          "name": "stderr",
          "output_type": "stream",
          "text": [
            "INFO:root:Writing example 0 of 1\n",
            "INFO:root:Writing example 0 of 1\n",
            "INFO:root:Writing example 0 of 1\n",
            "INFO:root:Writing example 0 of 1\n"
          ]
        },
        {
          "name": "stdout",
          "output_type": "stream",
          "text": [
            "1953\n",
            "1954\n",
            "1955\n",
            "1956\n"
          ]
        },
        {
          "name": "stderr",
          "output_type": "stream",
          "text": [
            "INFO:root:Writing example 0 of 1\n",
            "INFO:root:Writing example 0 of 1\n",
            "INFO:root:Writing example 0 of 1\n",
            "INFO:root:Writing example 0 of 1\n"
          ]
        },
        {
          "name": "stdout",
          "output_type": "stream",
          "text": [
            "1957\n",
            "1958\n",
            "1959\n",
            "1960\n"
          ]
        },
        {
          "name": "stderr",
          "output_type": "stream",
          "text": [
            "INFO:root:Writing example 0 of 1\n",
            "INFO:root:Writing example 0 of 1\n",
            "INFO:root:Writing example 0 of 1\n",
            "INFO:root:Writing example 0 of 1\n"
          ]
        },
        {
          "name": "stdout",
          "output_type": "stream",
          "text": [
            "1961\n",
            "1962\n",
            "1963\n",
            "1964\n"
          ]
        },
        {
          "name": "stderr",
          "output_type": "stream",
          "text": [
            "INFO:root:Writing example 0 of 1\n",
            "INFO:root:Writing example 0 of 1\n",
            "INFO:root:Writing example 0 of 1\n",
            "INFO:root:Writing example 0 of 1\n"
          ]
        },
        {
          "name": "stdout",
          "output_type": "stream",
          "text": [
            "1965\n",
            "1966\n",
            "1967\n",
            "1968\n"
          ]
        },
        {
          "name": "stderr",
          "output_type": "stream",
          "text": [
            "INFO:root:Writing example 0 of 1\n",
            "INFO:root:Writing example 0 of 1\n",
            "INFO:root:Writing example 0 of 1\n",
            "INFO:root:Writing example 0 of 1\n"
          ]
        },
        {
          "name": "stdout",
          "output_type": "stream",
          "text": [
            "1969\n",
            "1970\n",
            "1971\n",
            "1972\n"
          ]
        },
        {
          "name": "stderr",
          "output_type": "stream",
          "text": [
            "INFO:root:Writing example 0 of 1\n",
            "INFO:root:Writing example 0 of 1\n",
            "INFO:root:Writing example 0 of 1\n",
            "INFO:root:Writing example 0 of 1\n"
          ]
        },
        {
          "name": "stdout",
          "output_type": "stream",
          "text": [
            "1973\n",
            "1974\n",
            "1975\n",
            "1976\n"
          ]
        },
        {
          "name": "stderr",
          "output_type": "stream",
          "text": [
            "INFO:root:Writing example 0 of 1\n",
            "INFO:root:Writing example 0 of 1\n",
            "INFO:root:Writing example 0 of 1\n",
            "INFO:root:Writing example 0 of 1\n"
          ]
        },
        {
          "name": "stdout",
          "output_type": "stream",
          "text": [
            "1977\n",
            "1978\n",
            "1979\n",
            "1980\n"
          ]
        },
        {
          "name": "stderr",
          "output_type": "stream",
          "text": [
            "INFO:root:Writing example 0 of 1\n",
            "INFO:root:Writing example 0 of 1\n",
            "INFO:root:Writing example 0 of 1\n",
            "INFO:root:Writing example 0 of 1\n"
          ]
        },
        {
          "name": "stdout",
          "output_type": "stream",
          "text": [
            "1981\n",
            "1982\n",
            "1983\n",
            "1984\n"
          ]
        },
        {
          "name": "stderr",
          "output_type": "stream",
          "text": [
            "INFO:root:Writing example 0 of 1\n",
            "INFO:root:Writing example 0 of 1\n",
            "INFO:root:Writing example 0 of 1\n",
            "INFO:root:Writing example 0 of 1\n"
          ]
        },
        {
          "name": "stdout",
          "output_type": "stream",
          "text": [
            "1985\n",
            "1986\n",
            "1987\n",
            "1988\n"
          ]
        },
        {
          "name": "stderr",
          "output_type": "stream",
          "text": [
            "INFO:root:Writing example 0 of 1\n",
            "INFO:root:Writing example 0 of 1\n",
            "INFO:root:Writing example 0 of 1\n",
            "INFO:root:Writing example 0 of 1\n"
          ]
        },
        {
          "name": "stdout",
          "output_type": "stream",
          "text": [
            "1989\n",
            "1990\n",
            "1991\n",
            "1992\n"
          ]
        },
        {
          "name": "stderr",
          "output_type": "stream",
          "text": [
            "INFO:root:Writing example 0 of 1\n",
            "INFO:root:Writing example 0 of 1\n",
            "INFO:root:Writing example 0 of 1\n",
            "INFO:root:Writing example 0 of 1\n"
          ]
        },
        {
          "name": "stdout",
          "output_type": "stream",
          "text": [
            "1993\n",
            "1994\n",
            "1995\n",
            "1996\n"
          ]
        },
        {
          "name": "stderr",
          "output_type": "stream",
          "text": [
            "INFO:root:Writing example 0 of 1\n",
            "INFO:root:Writing example 0 of 1\n",
            "INFO:root:Writing example 0 of 1\n",
            "INFO:root:Writing example 0 of 1\n"
          ]
        },
        {
          "name": "stdout",
          "output_type": "stream",
          "text": [
            "1997\n",
            "1998\n",
            "1999\n",
            "2000\n"
          ]
        },
        {
          "name": "stderr",
          "output_type": "stream",
          "text": [
            "INFO:root:Writing example 0 of 1\n",
            "INFO:root:Writing example 0 of 1\n",
            "INFO:root:Writing example 0 of 1\n",
            "INFO:root:Writing example 0 of 1\n"
          ]
        },
        {
          "name": "stdout",
          "output_type": "stream",
          "text": [
            "2001\n",
            "2002\n",
            "2003\n",
            "2004\n"
          ]
        },
        {
          "name": "stderr",
          "output_type": "stream",
          "text": [
            "INFO:root:Writing example 0 of 1\n",
            "INFO:root:Writing example 0 of 1\n",
            "INFO:root:Writing example 0 of 1\n",
            "INFO:root:Writing example 0 of 1\n"
          ]
        },
        {
          "name": "stdout",
          "output_type": "stream",
          "text": [
            "2005\n",
            "2006\n",
            "2007\n",
            "2008\n"
          ]
        },
        {
          "name": "stderr",
          "output_type": "stream",
          "text": [
            "INFO:root:Writing example 0 of 1\n",
            "INFO:root:Writing example 0 of 1\n",
            "INFO:root:Writing example 0 of 1\n",
            "INFO:root:Writing example 0 of 1\n"
          ]
        },
        {
          "name": "stdout",
          "output_type": "stream",
          "text": [
            "2009\n",
            "2010\n",
            "2011\n",
            "2012\n"
          ]
        },
        {
          "name": "stderr",
          "output_type": "stream",
          "text": [
            "INFO:root:Writing example 0 of 1\n",
            "INFO:root:Writing example 0 of 1\n",
            "INFO:root:Writing example 0 of 1\n",
            "INFO:root:Writing example 0 of 1\n"
          ]
        },
        {
          "name": "stdout",
          "output_type": "stream",
          "text": [
            "2013\n",
            "2014\n",
            "2015\n",
            "2016\n"
          ]
        },
        {
          "name": "stderr",
          "output_type": "stream",
          "text": [
            "INFO:root:Writing example 0 of 1\n",
            "INFO:root:Writing example 0 of 1\n",
            "INFO:root:Writing example 0 of 1\n",
            "INFO:root:Writing example 0 of 1\n"
          ]
        },
        {
          "name": "stdout",
          "output_type": "stream",
          "text": [
            "2017\n",
            "2018\n",
            "2019\n",
            "2020\n"
          ]
        },
        {
          "name": "stderr",
          "output_type": "stream",
          "text": [
            "INFO:root:Writing example 0 of 1\n",
            "INFO:root:Writing example 0 of 1\n",
            "INFO:root:Writing example 0 of 1\n",
            "INFO:root:Writing example 0 of 1\n"
          ]
        },
        {
          "name": "stdout",
          "output_type": "stream",
          "text": [
            "2021\n",
            "2022\n",
            "2023\n",
            "2024\n"
          ]
        },
        {
          "name": "stderr",
          "output_type": "stream",
          "text": [
            "INFO:root:Writing example 0 of 1\n",
            "INFO:root:Writing example 0 of 1\n",
            "INFO:root:Writing example 0 of 1\n",
            "INFO:root:Writing example 0 of 1\n"
          ]
        },
        {
          "name": "stdout",
          "output_type": "stream",
          "text": [
            "2025\n",
            "2026\n",
            "2027\n",
            "2028\n"
          ]
        },
        {
          "name": "stderr",
          "output_type": "stream",
          "text": [
            "INFO:root:Writing example 0 of 1\n",
            "INFO:root:Writing example 0 of 1\n",
            "INFO:root:Writing example 0 of 1\n",
            "INFO:root:Writing example 0 of 1\n"
          ]
        },
        {
          "name": "stdout",
          "output_type": "stream",
          "text": [
            "2029\n",
            "2030\n",
            "2031\n",
            "2032\n"
          ]
        },
        {
          "name": "stderr",
          "output_type": "stream",
          "text": [
            "INFO:root:Writing example 0 of 1\n",
            "INFO:root:Writing example 0 of 1\n",
            "INFO:root:Writing example 0 of 1\n",
            "INFO:root:Writing example 0 of 1\n"
          ]
        },
        {
          "name": "stdout",
          "output_type": "stream",
          "text": [
            "2033\n",
            "2034\n",
            "2035\n",
            "2036\n"
          ]
        },
        {
          "name": "stderr",
          "output_type": "stream",
          "text": [
            "INFO:root:Writing example 0 of 1\n",
            "INFO:root:Writing example 0 of 1\n",
            "INFO:root:Writing example 0 of 1\n",
            "INFO:root:Writing example 0 of 1\n"
          ]
        },
        {
          "name": "stdout",
          "output_type": "stream",
          "text": [
            "2037\n",
            "2038\n",
            "2039\n",
            "2040\n"
          ]
        },
        {
          "name": "stderr",
          "output_type": "stream",
          "text": [
            "INFO:root:Writing example 0 of 1\n",
            "INFO:root:Writing example 0 of 1\n",
            "INFO:root:Writing example 0 of 1\n",
            "INFO:root:Writing example 0 of 1\n"
          ]
        },
        {
          "name": "stdout",
          "output_type": "stream",
          "text": [
            "2041\n",
            "2042\n",
            "2043\n",
            "2044\n"
          ]
        },
        {
          "name": "stderr",
          "output_type": "stream",
          "text": [
            "INFO:root:Writing example 0 of 1\n",
            "INFO:root:Writing example 0 of 1\n",
            "INFO:root:Writing example 0 of 1\n",
            "INFO:root:Writing example 0 of 1\n"
          ]
        },
        {
          "name": "stdout",
          "output_type": "stream",
          "text": [
            "2045\n",
            "2046\n",
            "2047\n",
            "2048\n"
          ]
        },
        {
          "name": "stderr",
          "output_type": "stream",
          "text": [
            "INFO:root:Writing example 0 of 1\n",
            "INFO:root:Writing example 0 of 1\n",
            "INFO:root:Writing example 0 of 1\n",
            "INFO:root:Writing example 0 of 1\n"
          ]
        },
        {
          "name": "stdout",
          "output_type": "stream",
          "text": [
            "2049\n",
            "2050\n",
            "2051\n",
            "2052\n"
          ]
        },
        {
          "name": "stderr",
          "output_type": "stream",
          "text": [
            "INFO:root:Writing example 0 of 1\n",
            "INFO:root:Writing example 0 of 1\n",
            "INFO:root:Writing example 0 of 1\n",
            "INFO:root:Writing example 0 of 1\n"
          ]
        },
        {
          "name": "stdout",
          "output_type": "stream",
          "text": [
            "2053\n",
            "2054\n",
            "2055\n",
            "2056\n"
          ]
        },
        {
          "name": "stderr",
          "output_type": "stream",
          "text": [
            "INFO:root:Writing example 0 of 1\n",
            "INFO:root:Writing example 0 of 1\n",
            "INFO:root:Writing example 0 of 1\n",
            "INFO:root:Writing example 0 of 1\n"
          ]
        },
        {
          "name": "stdout",
          "output_type": "stream",
          "text": [
            "2057\n",
            "2058\n",
            "2059\n",
            "2060\n"
          ]
        },
        {
          "name": "stderr",
          "output_type": "stream",
          "text": [
            "INFO:root:Writing example 0 of 1\n",
            "INFO:root:Writing example 0 of 1\n",
            "INFO:root:Writing example 0 of 1\n",
            "INFO:root:Writing example 0 of 1\n"
          ]
        },
        {
          "name": "stdout",
          "output_type": "stream",
          "text": [
            "2061\n",
            "2062\n",
            "2063\n",
            "2064\n"
          ]
        },
        {
          "name": "stderr",
          "output_type": "stream",
          "text": [
            "INFO:root:Writing example 0 of 1\n",
            "INFO:root:Writing example 0 of 1\n",
            "INFO:root:Writing example 0 of 1\n",
            "INFO:root:Writing example 0 of 1\n"
          ]
        },
        {
          "name": "stdout",
          "output_type": "stream",
          "text": [
            "2065\n",
            "2066\n",
            "2067\n",
            "2068\n"
          ]
        },
        {
          "name": "stderr",
          "output_type": "stream",
          "text": [
            "INFO:root:Writing example 0 of 1\n",
            "INFO:root:Writing example 0 of 1\n",
            "INFO:root:Writing example 0 of 1\n",
            "INFO:root:Writing example 0 of 1\n"
          ]
        },
        {
          "name": "stdout",
          "output_type": "stream",
          "text": [
            "2069\n",
            "2070\n",
            "2071\n",
            "2072\n"
          ]
        },
        {
          "name": "stderr",
          "output_type": "stream",
          "text": [
            "INFO:root:Writing example 0 of 1\n",
            "INFO:root:Writing example 0 of 1\n",
            "INFO:root:Writing example 0 of 1\n",
            "INFO:root:Writing example 0 of 1\n"
          ]
        },
        {
          "name": "stdout",
          "output_type": "stream",
          "text": [
            "2073\n",
            "2074\n",
            "2075\n",
            "2076\n"
          ]
        },
        {
          "name": "stderr",
          "output_type": "stream",
          "text": [
            "INFO:root:Writing example 0 of 1\n",
            "INFO:root:Writing example 0 of 1\n",
            "INFO:root:Writing example 0 of 1\n",
            "INFO:root:Writing example 0 of 1\n"
          ]
        },
        {
          "name": "stdout",
          "output_type": "stream",
          "text": [
            "2077\n",
            "2078\n",
            "2079\n",
            "2080\n"
          ]
        },
        {
          "name": "stderr",
          "output_type": "stream",
          "text": [
            "INFO:root:Writing example 0 of 1\n",
            "INFO:root:Writing example 0 of 1\n",
            "INFO:root:Writing example 0 of 1\n",
            "INFO:root:Writing example 0 of 1\n"
          ]
        },
        {
          "name": "stdout",
          "output_type": "stream",
          "text": [
            "2081\n",
            "2082\n",
            "2083\n",
            "2084\n"
          ]
        },
        {
          "name": "stderr",
          "output_type": "stream",
          "text": [
            "INFO:root:Writing example 0 of 1\n",
            "INFO:root:Writing example 0 of 1\n",
            "INFO:root:Writing example 0 of 1\n",
            "INFO:root:Writing example 0 of 1\n"
          ]
        },
        {
          "name": "stdout",
          "output_type": "stream",
          "text": [
            "2085\n",
            "2086\n",
            "2087\n",
            "2088\n"
          ]
        },
        {
          "name": "stderr",
          "output_type": "stream",
          "text": [
            "INFO:root:Writing example 0 of 1\n",
            "INFO:root:Writing example 0 of 1\n",
            "INFO:root:Writing example 0 of 1\n",
            "INFO:root:Writing example 0 of 1\n"
          ]
        },
        {
          "name": "stdout",
          "output_type": "stream",
          "text": [
            "2089\n",
            "2090\n",
            "2091\n",
            "2092\n"
          ]
        },
        {
          "name": "stderr",
          "output_type": "stream",
          "text": [
            "INFO:root:Writing example 0 of 1\n",
            "INFO:root:Writing example 0 of 1\n",
            "INFO:root:Writing example 0 of 1\n",
            "INFO:root:Writing example 0 of 1\n"
          ]
        },
        {
          "name": "stdout",
          "output_type": "stream",
          "text": [
            "2093\n",
            "2094\n",
            "2095\n",
            "2096\n"
          ]
        },
        {
          "name": "stderr",
          "output_type": "stream",
          "text": [
            "INFO:root:Writing example 0 of 1\n",
            "INFO:root:Writing example 0 of 1\n",
            "INFO:root:Writing example 0 of 1\n",
            "INFO:root:Writing example 0 of 1\n"
          ]
        },
        {
          "name": "stdout",
          "output_type": "stream",
          "text": [
            "2097\n",
            "2098\n",
            "2099\n",
            "2100\n"
          ]
        },
        {
          "name": "stderr",
          "output_type": "stream",
          "text": [
            "INFO:root:Writing example 0 of 1\n",
            "INFO:root:Writing example 0 of 1\n",
            "INFO:root:Writing example 0 of 1\n",
            "INFO:root:Writing example 0 of 1\n"
          ]
        },
        {
          "name": "stdout",
          "output_type": "stream",
          "text": [
            "2101\n",
            "2102\n",
            "2103\n",
            "2104\n"
          ]
        },
        {
          "name": "stderr",
          "output_type": "stream",
          "text": [
            "INFO:root:Writing example 0 of 1\n",
            "INFO:root:Writing example 0 of 1\n",
            "INFO:root:Writing example 0 of 1\n",
            "INFO:root:Writing example 0 of 1\n"
          ]
        },
        {
          "name": "stdout",
          "output_type": "stream",
          "text": [
            "2105\n",
            "2106\n",
            "2107\n",
            "2108\n"
          ]
        },
        {
          "name": "stderr",
          "output_type": "stream",
          "text": [
            "INFO:root:Writing example 0 of 1\n",
            "INFO:root:Writing example 0 of 1\n",
            "INFO:root:Writing example 0 of 1\n",
            "INFO:root:Writing example 0 of 1\n"
          ]
        },
        {
          "name": "stdout",
          "output_type": "stream",
          "text": [
            "2109\n",
            "2110\n",
            "2111\n",
            "2112\n"
          ]
        },
        {
          "name": "stderr",
          "output_type": "stream",
          "text": [
            "INFO:root:Writing example 0 of 1\n",
            "INFO:root:Writing example 0 of 1\n",
            "INFO:root:Writing example 0 of 1\n",
            "INFO:root:Writing example 0 of 1\n"
          ]
        },
        {
          "name": "stdout",
          "output_type": "stream",
          "text": [
            "2113\n",
            "2114\n",
            "2115\n",
            "2116\n"
          ]
        },
        {
          "name": "stderr",
          "output_type": "stream",
          "text": [
            "INFO:root:Writing example 0 of 1\n",
            "INFO:root:Writing example 0 of 1\n",
            "INFO:root:Writing example 0 of 1\n",
            "INFO:root:Writing example 0 of 1\n"
          ]
        },
        {
          "name": "stdout",
          "output_type": "stream",
          "text": [
            "2117\n",
            "2118\n",
            "2119\n",
            "2120\n"
          ]
        },
        {
          "name": "stderr",
          "output_type": "stream",
          "text": [
            "INFO:root:Writing example 0 of 1\n",
            "INFO:root:Writing example 0 of 1\n",
            "INFO:root:Writing example 0 of 1\n",
            "INFO:root:Writing example 0 of 1\n"
          ]
        },
        {
          "name": "stdout",
          "output_type": "stream",
          "text": [
            "2121\n",
            "2122\n",
            "2123\n",
            "2124\n"
          ]
        },
        {
          "name": "stderr",
          "output_type": "stream",
          "text": [
            "INFO:root:Writing example 0 of 1\n",
            "INFO:root:Writing example 0 of 1\n",
            "INFO:root:Writing example 0 of 1\n",
            "INFO:root:Writing example 0 of 1\n"
          ]
        },
        {
          "name": "stdout",
          "output_type": "stream",
          "text": [
            "2125\n",
            "2126\n",
            "2127\n",
            "2128\n"
          ]
        },
        {
          "name": "stderr",
          "output_type": "stream",
          "text": [
            "INFO:root:Writing example 0 of 1\n",
            "INFO:root:Writing example 0 of 1\n",
            "INFO:root:Writing example 0 of 1\n",
            "INFO:root:Writing example 0 of 1\n"
          ]
        },
        {
          "name": "stdout",
          "output_type": "stream",
          "text": [
            "2129\n",
            "2130\n",
            "2131\n",
            "2132\n"
          ]
        },
        {
          "name": "stderr",
          "output_type": "stream",
          "text": [
            "INFO:root:Writing example 0 of 1\n",
            "INFO:root:Writing example 0 of 1\n",
            "INFO:root:Writing example 0 of 1\n",
            "INFO:root:Writing example 0 of 1\n"
          ]
        },
        {
          "name": "stdout",
          "output_type": "stream",
          "text": [
            "2133\n",
            "2134\n",
            "2135\n",
            "2136\n"
          ]
        },
        {
          "name": "stderr",
          "output_type": "stream",
          "text": [
            "INFO:root:Writing example 0 of 1\n",
            "INFO:root:Writing example 0 of 1\n",
            "INFO:root:Writing example 0 of 1\n",
            "INFO:root:Writing example 0 of 1\n"
          ]
        },
        {
          "name": "stdout",
          "output_type": "stream",
          "text": [
            "2137\n",
            "2138\n",
            "2139\n",
            "2140\n"
          ]
        },
        {
          "name": "stderr",
          "output_type": "stream",
          "text": [
            "INFO:root:Writing example 0 of 1\n",
            "INFO:root:Writing example 0 of 1\n",
            "INFO:root:Writing example 0 of 1\n",
            "INFO:root:Writing example 0 of 1\n"
          ]
        },
        {
          "name": "stdout",
          "output_type": "stream",
          "text": [
            "2141\n",
            "2142\n",
            "2143\n",
            "2144\n"
          ]
        },
        {
          "name": "stderr",
          "output_type": "stream",
          "text": [
            "INFO:root:Writing example 0 of 1\n",
            "INFO:root:Writing example 0 of 1\n",
            "INFO:root:Writing example 0 of 1\n",
            "INFO:root:Writing example 0 of 1\n"
          ]
        },
        {
          "name": "stdout",
          "output_type": "stream",
          "text": [
            "2145\n",
            "2146\n",
            "2147\n",
            "2148\n"
          ]
        },
        {
          "name": "stderr",
          "output_type": "stream",
          "text": [
            "INFO:root:Writing example 0 of 1\n",
            "INFO:root:Writing example 0 of 1\n",
            "INFO:root:Writing example 0 of 1\n",
            "INFO:root:Writing example 0 of 1\n"
          ]
        },
        {
          "name": "stdout",
          "output_type": "stream",
          "text": [
            "2149\n",
            "2150\n",
            "2151\n",
            "2152\n"
          ]
        },
        {
          "name": "stderr",
          "output_type": "stream",
          "text": [
            "INFO:root:Writing example 0 of 1\n",
            "INFO:root:Writing example 0 of 1\n",
            "INFO:root:Writing example 0 of 1\n",
            "INFO:root:Writing example 0 of 1\n"
          ]
        },
        {
          "name": "stdout",
          "output_type": "stream",
          "text": [
            "2153\n",
            "2154\n",
            "2155\n",
            "2156\n"
          ]
        },
        {
          "name": "stderr",
          "output_type": "stream",
          "text": [
            "INFO:root:Writing example 0 of 1\n",
            "INFO:root:Writing example 0 of 1\n",
            "INFO:root:Writing example 0 of 1\n",
            "INFO:root:Writing example 0 of 1\n"
          ]
        },
        {
          "name": "stdout",
          "output_type": "stream",
          "text": [
            "2157\n",
            "2158\n",
            "2159\n",
            "2160\n"
          ]
        },
        {
          "name": "stderr",
          "output_type": "stream",
          "text": [
            "INFO:root:Writing example 0 of 1\n",
            "INFO:root:Writing example 0 of 1\n",
            "INFO:root:Writing example 0 of 1\n",
            "INFO:root:Writing example 0 of 1\n"
          ]
        },
        {
          "name": "stdout",
          "output_type": "stream",
          "text": [
            "2161\n",
            "2162\n",
            "2163\n",
            "2164\n"
          ]
        },
        {
          "name": "stderr",
          "output_type": "stream",
          "text": [
            "INFO:root:Writing example 0 of 1\n",
            "INFO:root:Writing example 0 of 1\n",
            "INFO:root:Writing example 0 of 1\n",
            "INFO:root:Writing example 0 of 1\n"
          ]
        },
        {
          "name": "stdout",
          "output_type": "stream",
          "text": [
            "2165\n",
            "2166\n",
            "2167\n",
            "2168\n"
          ]
        },
        {
          "name": "stderr",
          "output_type": "stream",
          "text": [
            "INFO:root:Writing example 0 of 1\n",
            "INFO:root:Writing example 0 of 1\n",
            "INFO:root:Writing example 0 of 1\n",
            "INFO:root:Writing example 0 of 1\n"
          ]
        },
        {
          "name": "stdout",
          "output_type": "stream",
          "text": [
            "2169\n",
            "2170\n",
            "2171\n",
            "2172\n"
          ]
        },
        {
          "name": "stderr",
          "output_type": "stream",
          "text": [
            "INFO:root:Writing example 0 of 1\n",
            "INFO:root:Writing example 0 of 1\n",
            "INFO:root:Writing example 0 of 1\n",
            "INFO:root:Writing example 0 of 1\n"
          ]
        },
        {
          "name": "stdout",
          "output_type": "stream",
          "text": [
            "2173\n",
            "2174\n",
            "2175\n",
            "2176\n"
          ]
        },
        {
          "name": "stderr",
          "output_type": "stream",
          "text": [
            "INFO:root:Writing example 0 of 1\n",
            "INFO:root:Writing example 0 of 1\n",
            "INFO:root:Writing example 0 of 1\n",
            "INFO:root:Writing example 0 of 1\n"
          ]
        },
        {
          "name": "stdout",
          "output_type": "stream",
          "text": [
            "2177\n",
            "2178\n",
            "2179\n",
            "2180\n"
          ]
        },
        {
          "name": "stderr",
          "output_type": "stream",
          "text": [
            "INFO:root:Writing example 0 of 1\n",
            "INFO:root:Writing example 0 of 1\n",
            "INFO:root:Writing example 0 of 1\n",
            "INFO:root:Writing example 0 of 1\n"
          ]
        },
        {
          "name": "stdout",
          "output_type": "stream",
          "text": [
            "2181\n",
            "2182\n",
            "2183\n",
            "2184\n"
          ]
        },
        {
          "name": "stderr",
          "output_type": "stream",
          "text": [
            "INFO:root:Writing example 0 of 1\n",
            "INFO:root:Writing example 0 of 1\n",
            "INFO:root:Writing example 0 of 1\n",
            "INFO:root:Writing example 0 of 1\n"
          ]
        },
        {
          "name": "stdout",
          "output_type": "stream",
          "text": [
            "2185\n",
            "2186\n",
            "2187\n",
            "2188\n"
          ]
        },
        {
          "name": "stderr",
          "output_type": "stream",
          "text": [
            "INFO:root:Writing example 0 of 1\n",
            "INFO:root:Writing example 0 of 1\n",
            "INFO:root:Writing example 0 of 1\n",
            "INFO:root:Writing example 0 of 1\n"
          ]
        },
        {
          "name": "stdout",
          "output_type": "stream",
          "text": [
            "2189\n",
            "2190\n",
            "2191\n",
            "2192\n"
          ]
        },
        {
          "name": "stderr",
          "output_type": "stream",
          "text": [
            "INFO:root:Writing example 0 of 1\n",
            "INFO:root:Writing example 0 of 1\n",
            "INFO:root:Writing example 0 of 1\n",
            "INFO:root:Writing example 0 of 1\n"
          ]
        },
        {
          "name": "stdout",
          "output_type": "stream",
          "text": [
            "2193\n",
            "2194\n",
            "2195\n",
            "2196\n"
          ]
        },
        {
          "name": "stderr",
          "output_type": "stream",
          "text": [
            "INFO:root:Writing example 0 of 1\n",
            "INFO:root:Writing example 0 of 1\n",
            "INFO:root:Writing example 0 of 1\n",
            "INFO:root:Writing example 0 of 1\n"
          ]
        },
        {
          "name": "stdout",
          "output_type": "stream",
          "text": [
            "2197\n",
            "2198\n",
            "2199\n",
            "2200\n"
          ]
        },
        {
          "name": "stderr",
          "output_type": "stream",
          "text": [
            "INFO:root:Writing example 0 of 1\n",
            "INFO:root:Writing example 0 of 1\n",
            "INFO:root:Writing example 0 of 1\n",
            "INFO:root:Writing example 0 of 1\n"
          ]
        },
        {
          "name": "stdout",
          "output_type": "stream",
          "text": [
            "2201\n",
            "2202\n",
            "2203\n",
            "2204\n"
          ]
        },
        {
          "name": "stderr",
          "output_type": "stream",
          "text": [
            "INFO:root:Writing example 0 of 1\n",
            "INFO:root:Writing example 0 of 1\n",
            "INFO:root:Writing example 0 of 1\n",
            "INFO:root:Writing example 0 of 1\n"
          ]
        },
        {
          "name": "stdout",
          "output_type": "stream",
          "text": [
            "2205\n",
            "2206\n",
            "2207\n",
            "2208\n"
          ]
        },
        {
          "name": "stderr",
          "output_type": "stream",
          "text": [
            "INFO:root:Writing example 0 of 1\n",
            "INFO:root:Writing example 0 of 1\n",
            "INFO:root:Writing example 0 of 1\n",
            "INFO:root:Writing example 0 of 1\n"
          ]
        },
        {
          "name": "stdout",
          "output_type": "stream",
          "text": [
            "2209\n",
            "2210\n",
            "2211\n",
            "2212\n"
          ]
        },
        {
          "name": "stderr",
          "output_type": "stream",
          "text": [
            "INFO:root:Writing example 0 of 1\n",
            "INFO:root:Writing example 0 of 1\n",
            "INFO:root:Writing example 0 of 1\n",
            "INFO:root:Writing example 0 of 1\n"
          ]
        },
        {
          "name": "stdout",
          "output_type": "stream",
          "text": [
            "2213\n",
            "2214\n",
            "2215\n",
            "2216\n"
          ]
        },
        {
          "name": "stderr",
          "output_type": "stream",
          "text": [
            "INFO:root:Writing example 0 of 1\n",
            "INFO:root:Writing example 0 of 1\n",
            "INFO:root:Writing example 0 of 1\n",
            "INFO:root:Writing example 0 of 1\n"
          ]
        },
        {
          "name": "stdout",
          "output_type": "stream",
          "text": [
            "2217\n",
            "2218\n",
            "2219\n",
            "2220\n"
          ]
        },
        {
          "name": "stderr",
          "output_type": "stream",
          "text": [
            "INFO:root:Writing example 0 of 1\n",
            "INFO:root:Writing example 0 of 1\n",
            "INFO:root:Writing example 0 of 1\n",
            "INFO:root:Writing example 0 of 1\n"
          ]
        },
        {
          "name": "stdout",
          "output_type": "stream",
          "text": [
            "2221\n",
            "2222\n",
            "2223\n",
            "2224\n"
          ]
        },
        {
          "name": "stderr",
          "output_type": "stream",
          "text": [
            "INFO:root:Writing example 0 of 1\n",
            "INFO:root:Writing example 0 of 1\n",
            "INFO:root:Writing example 0 of 1\n",
            "INFO:root:Writing example 0 of 1\n"
          ]
        },
        {
          "name": "stdout",
          "output_type": "stream",
          "text": [
            "2225\n",
            "2226\n",
            "2227\n",
            "2228\n"
          ]
        },
        {
          "name": "stderr",
          "output_type": "stream",
          "text": [
            "INFO:root:Writing example 0 of 1\n",
            "INFO:root:Writing example 0 of 1\n",
            "INFO:root:Writing example 0 of 1\n",
            "INFO:root:Writing example 0 of 1\n"
          ]
        },
        {
          "name": "stdout",
          "output_type": "stream",
          "text": [
            "2229\n",
            "2230\n",
            "2231\n",
            "2232\n"
          ]
        },
        {
          "name": "stderr",
          "output_type": "stream",
          "text": [
            "INFO:root:Writing example 0 of 1\n",
            "INFO:root:Writing example 0 of 1\n",
            "INFO:root:Writing example 0 of 1\n",
            "INFO:root:Writing example 0 of 1\n"
          ]
        },
        {
          "name": "stdout",
          "output_type": "stream",
          "text": [
            "2233\n",
            "2234\n",
            "2235\n",
            "2236\n"
          ]
        },
        {
          "name": "stderr",
          "output_type": "stream",
          "text": [
            "INFO:root:Writing example 0 of 1\n",
            "INFO:root:Writing example 0 of 1\n",
            "INFO:root:Writing example 0 of 1\n",
            "INFO:root:Writing example 0 of 1\n"
          ]
        },
        {
          "name": "stdout",
          "output_type": "stream",
          "text": [
            "2237\n",
            "2238\n",
            "2239\n",
            "2240\n"
          ]
        },
        {
          "name": "stderr",
          "output_type": "stream",
          "text": [
            "INFO:root:Writing example 0 of 1\n",
            "INFO:root:Writing example 0 of 1\n",
            "INFO:root:Writing example 0 of 1\n",
            "INFO:root:Writing example 0 of 1\n"
          ]
        },
        {
          "name": "stdout",
          "output_type": "stream",
          "text": [
            "2241\n",
            "2242\n",
            "2243\n",
            "2244\n"
          ]
        },
        {
          "name": "stderr",
          "output_type": "stream",
          "text": [
            "INFO:root:Writing example 0 of 1\n",
            "INFO:root:Writing example 0 of 1\n",
            "INFO:root:Writing example 0 of 1\n",
            "INFO:root:Writing example 0 of 1\n"
          ]
        },
        {
          "name": "stdout",
          "output_type": "stream",
          "text": [
            "2245\n",
            "2246\n",
            "2247\n",
            "2248\n"
          ]
        },
        {
          "name": "stderr",
          "output_type": "stream",
          "text": [
            "INFO:root:Writing example 0 of 1\n",
            "INFO:root:Writing example 0 of 1\n",
            "INFO:root:Writing example 0 of 1\n",
            "INFO:root:Writing example 0 of 1\n"
          ]
        },
        {
          "name": "stdout",
          "output_type": "stream",
          "text": [
            "2249\n",
            "2250\n",
            "2251\n",
            "2252\n"
          ]
        },
        {
          "name": "stderr",
          "output_type": "stream",
          "text": [
            "INFO:root:Writing example 0 of 1\n",
            "INFO:root:Writing example 0 of 1\n",
            "INFO:root:Writing example 0 of 1\n",
            "INFO:root:Writing example 0 of 1\n"
          ]
        },
        {
          "name": "stdout",
          "output_type": "stream",
          "text": [
            "2253\n",
            "2254\n",
            "2255\n",
            "2256\n"
          ]
        },
        {
          "name": "stderr",
          "output_type": "stream",
          "text": [
            "INFO:root:Writing example 0 of 1\n",
            "INFO:root:Writing example 0 of 1\n",
            "INFO:root:Writing example 0 of 1\n",
            "INFO:root:Writing example 0 of 1\n"
          ]
        },
        {
          "name": "stdout",
          "output_type": "stream",
          "text": [
            "2257\n",
            "2258\n",
            "2259\n",
            "2260\n"
          ]
        },
        {
          "name": "stderr",
          "output_type": "stream",
          "text": [
            "INFO:root:Writing example 0 of 1\n",
            "INFO:root:Writing example 0 of 1\n",
            "INFO:root:Writing example 0 of 1\n",
            "INFO:root:Writing example 0 of 1\n"
          ]
        },
        {
          "name": "stdout",
          "output_type": "stream",
          "text": [
            "2261\n",
            "2262\n",
            "2263\n",
            "2264\n"
          ]
        },
        {
          "name": "stderr",
          "output_type": "stream",
          "text": [
            "INFO:root:Writing example 0 of 1\n",
            "INFO:root:Writing example 0 of 1\n",
            "INFO:root:Writing example 0 of 1\n",
            "INFO:root:Writing example 0 of 1\n"
          ]
        },
        {
          "name": "stdout",
          "output_type": "stream",
          "text": [
            "2265\n",
            "2266\n",
            "2267\n",
            "2268\n"
          ]
        },
        {
          "name": "stderr",
          "output_type": "stream",
          "text": [
            "INFO:root:Writing example 0 of 1\n",
            "INFO:root:Writing example 0 of 1\n",
            "INFO:root:Writing example 0 of 1\n",
            "INFO:root:Writing example 0 of 1\n"
          ]
        },
        {
          "name": "stdout",
          "output_type": "stream",
          "text": [
            "2269\n",
            "2270\n",
            "2271\n",
            "2272\n"
          ]
        },
        {
          "name": "stderr",
          "output_type": "stream",
          "text": [
            "INFO:root:Writing example 0 of 1\n",
            "INFO:root:Writing example 0 of 1\n",
            "INFO:root:Writing example 0 of 1\n",
            "INFO:root:Writing example 0 of 1\n"
          ]
        },
        {
          "name": "stdout",
          "output_type": "stream",
          "text": [
            "2273\n",
            "2274\n",
            "2275\n",
            "2276\n"
          ]
        },
        {
          "name": "stderr",
          "output_type": "stream",
          "text": [
            "INFO:root:Writing example 0 of 1\n",
            "INFO:root:Writing example 0 of 1\n",
            "INFO:root:Writing example 0 of 1\n",
            "INFO:root:Writing example 0 of 1\n"
          ]
        },
        {
          "name": "stdout",
          "output_type": "stream",
          "text": [
            "2277\n",
            "2278\n",
            "2279\n",
            "2280\n"
          ]
        },
        {
          "name": "stderr",
          "output_type": "stream",
          "text": [
            "INFO:root:Writing example 0 of 1\n",
            "INFO:root:Writing example 0 of 1\n",
            "INFO:root:Writing example 0 of 1\n",
            "INFO:root:Writing example 0 of 1\n"
          ]
        },
        {
          "name": "stdout",
          "output_type": "stream",
          "text": [
            "2281\n",
            "2282\n",
            "2283\n",
            "2284\n"
          ]
        },
        {
          "name": "stderr",
          "output_type": "stream",
          "text": [
            "INFO:root:Writing example 0 of 1\n",
            "INFO:root:Writing example 0 of 1\n",
            "INFO:root:Writing example 0 of 1\n",
            "INFO:root:Writing example 0 of 1\n"
          ]
        },
        {
          "name": "stdout",
          "output_type": "stream",
          "text": [
            "2285\n",
            "2286\n",
            "2287\n",
            "2288\n"
          ]
        },
        {
          "name": "stderr",
          "output_type": "stream",
          "text": [
            "INFO:root:Writing example 0 of 1\n",
            "INFO:root:Writing example 0 of 1\n",
            "INFO:root:Writing example 0 of 1\n",
            "INFO:root:Writing example 0 of 1\n"
          ]
        },
        {
          "name": "stdout",
          "output_type": "stream",
          "text": [
            "2289\n",
            "2290\n",
            "2291\n",
            "2292\n"
          ]
        },
        {
          "name": "stderr",
          "output_type": "stream",
          "text": [
            "INFO:root:Writing example 0 of 1\n",
            "INFO:root:Writing example 0 of 1\n",
            "INFO:root:Writing example 0 of 1\n",
            "INFO:root:Writing example 0 of 1\n"
          ]
        },
        {
          "name": "stdout",
          "output_type": "stream",
          "text": [
            "2293\n",
            "2294\n",
            "2295\n",
            "2296\n"
          ]
        },
        {
          "name": "stderr",
          "output_type": "stream",
          "text": [
            "INFO:root:Writing example 0 of 1\n",
            "INFO:root:Writing example 0 of 1\n",
            "INFO:root:Writing example 0 of 1\n",
            "INFO:root:Writing example 0 of 1\n"
          ]
        },
        {
          "name": "stdout",
          "output_type": "stream",
          "text": [
            "2297\n",
            "2298\n",
            "2299\n",
            "2300\n"
          ]
        },
        {
          "name": "stderr",
          "output_type": "stream",
          "text": [
            "INFO:root:Writing example 0 of 1\n",
            "INFO:root:Writing example 0 of 1\n",
            "INFO:root:Writing example 0 of 1\n",
            "INFO:root:Writing example 0 of 1\n"
          ]
        },
        {
          "name": "stdout",
          "output_type": "stream",
          "text": [
            "2301\n",
            "2302\n",
            "2303\n",
            "2304\n"
          ]
        },
        {
          "name": "stderr",
          "output_type": "stream",
          "text": [
            "INFO:root:Writing example 0 of 1\n",
            "INFO:root:Writing example 0 of 1\n",
            "INFO:root:Writing example 0 of 1\n",
            "INFO:root:Writing example 0 of 1\n"
          ]
        },
        {
          "name": "stdout",
          "output_type": "stream",
          "text": [
            "2305\n",
            "2306\n",
            "2307\n",
            "2308\n"
          ]
        },
        {
          "name": "stderr",
          "output_type": "stream",
          "text": [
            "INFO:root:Writing example 0 of 1\n",
            "INFO:root:Writing example 0 of 1\n",
            "INFO:root:Writing example 0 of 1\n",
            "INFO:root:Writing example 0 of 1\n"
          ]
        },
        {
          "name": "stdout",
          "output_type": "stream",
          "text": [
            "2309\n",
            "2310\n",
            "2311\n",
            "2312\n"
          ]
        },
        {
          "name": "stderr",
          "output_type": "stream",
          "text": [
            "INFO:root:Writing example 0 of 1\n",
            "INFO:root:Writing example 0 of 1\n",
            "INFO:root:Writing example 0 of 1\n",
            "INFO:root:Writing example 0 of 1\n"
          ]
        },
        {
          "name": "stdout",
          "output_type": "stream",
          "text": [
            "2313\n",
            "2314\n",
            "2315\n",
            "2316\n"
          ]
        },
        {
          "name": "stderr",
          "output_type": "stream",
          "text": [
            "INFO:root:Writing example 0 of 1\n",
            "INFO:root:Writing example 0 of 1\n",
            "INFO:root:Writing example 0 of 1\n",
            "INFO:root:Writing example 0 of 1\n"
          ]
        },
        {
          "name": "stdout",
          "output_type": "stream",
          "text": [
            "2317\n",
            "2318\n",
            "2319\n",
            "2320\n"
          ]
        },
        {
          "name": "stderr",
          "output_type": "stream",
          "text": [
            "INFO:root:Writing example 0 of 1\n",
            "INFO:root:Writing example 0 of 1\n",
            "INFO:root:Writing example 0 of 1\n",
            "INFO:root:Writing example 0 of 1\n"
          ]
        },
        {
          "name": "stdout",
          "output_type": "stream",
          "text": [
            "2321\n",
            "2322\n",
            "2323\n",
            "2324\n"
          ]
        },
        {
          "name": "stderr",
          "output_type": "stream",
          "text": [
            "INFO:root:Writing example 0 of 1\n",
            "INFO:root:Writing example 0 of 1\n",
            "INFO:root:Writing example 0 of 1\n",
            "INFO:root:Writing example 0 of 1\n"
          ]
        },
        {
          "name": "stdout",
          "output_type": "stream",
          "text": [
            "2325\n",
            "2326\n",
            "2327\n",
            "2328\n"
          ]
        },
        {
          "name": "stderr",
          "output_type": "stream",
          "text": [
            "INFO:root:Writing example 0 of 1\n",
            "INFO:root:Writing example 0 of 1\n",
            "INFO:root:Writing example 0 of 1\n",
            "INFO:root:Writing example 0 of 1\n"
          ]
        },
        {
          "name": "stdout",
          "output_type": "stream",
          "text": [
            "2329\n",
            "2330\n",
            "2331\n",
            "2332\n"
          ]
        },
        {
          "name": "stderr",
          "output_type": "stream",
          "text": [
            "INFO:root:Writing example 0 of 1\n",
            "INFO:root:Writing example 0 of 1\n",
            "INFO:root:Writing example 0 of 1\n",
            "INFO:root:Writing example 0 of 1\n"
          ]
        },
        {
          "name": "stdout",
          "output_type": "stream",
          "text": [
            "2333\n",
            "2334\n",
            "2335\n",
            "2336\n"
          ]
        },
        {
          "name": "stderr",
          "output_type": "stream",
          "text": [
            "INFO:root:Writing example 0 of 1\n",
            "INFO:root:Writing example 0 of 1\n",
            "INFO:root:Writing example 0 of 1\n",
            "INFO:root:Writing example 0 of 1\n"
          ]
        },
        {
          "name": "stdout",
          "output_type": "stream",
          "text": [
            "2337\n",
            "2338\n",
            "2339\n",
            "2340\n"
          ]
        },
        {
          "name": "stderr",
          "output_type": "stream",
          "text": [
            "INFO:root:Writing example 0 of 1\n",
            "INFO:root:Writing example 0 of 1\n",
            "INFO:root:Writing example 0 of 1\n",
            "INFO:root:Writing example 0 of 1\n"
          ]
        },
        {
          "name": "stdout",
          "output_type": "stream",
          "text": [
            "2341\n",
            "2342\n",
            "2343\n",
            "2344\n"
          ]
        },
        {
          "name": "stderr",
          "output_type": "stream",
          "text": [
            "INFO:root:Writing example 0 of 1\n",
            "INFO:root:Writing example 0 of 1\n",
            "INFO:root:Writing example 0 of 1\n",
            "INFO:root:Writing example 0 of 1\n"
          ]
        },
        {
          "name": "stdout",
          "output_type": "stream",
          "text": [
            "2345\n",
            "2346\n",
            "2347\n",
            "2348\n"
          ]
        },
        {
          "name": "stderr",
          "output_type": "stream",
          "text": [
            "INFO:root:Writing example 0 of 1\n",
            "INFO:root:Writing example 0 of 1\n",
            "INFO:root:Writing example 0 of 1\n",
            "INFO:root:Writing example 0 of 1\n"
          ]
        },
        {
          "name": "stdout",
          "output_type": "stream",
          "text": [
            "2349\n",
            "2350\n",
            "2351\n",
            "2352\n"
          ]
        },
        {
          "name": "stderr",
          "output_type": "stream",
          "text": [
            "INFO:root:Writing example 0 of 1\n",
            "INFO:root:Writing example 0 of 1\n",
            "INFO:root:Writing example 0 of 1\n",
            "INFO:root:Writing example 0 of 1\n"
          ]
        },
        {
          "name": "stdout",
          "output_type": "stream",
          "text": [
            "2353\n",
            "2354\n",
            "2355\n",
            "2356\n"
          ]
        },
        {
          "name": "stderr",
          "output_type": "stream",
          "text": [
            "INFO:root:Writing example 0 of 1\n",
            "INFO:root:Writing example 0 of 1\n",
            "INFO:root:Writing example 0 of 1\n",
            "INFO:root:Writing example 0 of 1\n"
          ]
        },
        {
          "name": "stdout",
          "output_type": "stream",
          "text": [
            "2357\n",
            "2358\n",
            "2359\n",
            "2360\n"
          ]
        },
        {
          "name": "stderr",
          "output_type": "stream",
          "text": [
            "INFO:root:Writing example 0 of 1\n",
            "INFO:root:Writing example 0 of 1\n",
            "INFO:root:Writing example 0 of 1\n",
            "INFO:root:Writing example 0 of 1\n"
          ]
        },
        {
          "name": "stdout",
          "output_type": "stream",
          "text": [
            "2361\n",
            "2362\n",
            "2363\n",
            "2364\n"
          ]
        },
        {
          "name": "stderr",
          "output_type": "stream",
          "text": [
            "INFO:root:Writing example 0 of 1\n",
            "INFO:root:Writing example 0 of 1\n",
            "INFO:root:Writing example 0 of 1\n",
            "INFO:root:Writing example 0 of 1\n"
          ]
        },
        {
          "name": "stdout",
          "output_type": "stream",
          "text": [
            "2365\n",
            "2366\n",
            "2367\n",
            "2368\n"
          ]
        },
        {
          "name": "stderr",
          "output_type": "stream",
          "text": [
            "INFO:root:Writing example 0 of 1\n",
            "INFO:root:Writing example 0 of 1\n",
            "INFO:root:Writing example 0 of 1\n",
            "INFO:root:Writing example 0 of 1\n"
          ]
        },
        {
          "name": "stdout",
          "output_type": "stream",
          "text": [
            "2369\n",
            "2370\n",
            "2371\n",
            "2372\n"
          ]
        },
        {
          "name": "stderr",
          "output_type": "stream",
          "text": [
            "INFO:root:Writing example 0 of 1\n",
            "INFO:root:Writing example 0 of 1\n",
            "INFO:root:Writing example 0 of 1\n",
            "INFO:root:Writing example 0 of 1\n"
          ]
        },
        {
          "name": "stdout",
          "output_type": "stream",
          "text": [
            "2373\n",
            "2374\n",
            "2375\n",
            "2376\n"
          ]
        },
        {
          "name": "stderr",
          "output_type": "stream",
          "text": [
            "INFO:root:Writing example 0 of 1\n",
            "INFO:root:Writing example 0 of 1\n",
            "INFO:root:Writing example 0 of 1\n",
            "INFO:root:Writing example 0 of 1\n"
          ]
        },
        {
          "name": "stdout",
          "output_type": "stream",
          "text": [
            "2377\n",
            "2378\n",
            "2379\n",
            "2380\n"
          ]
        },
        {
          "name": "stderr",
          "output_type": "stream",
          "text": [
            "INFO:root:Writing example 0 of 1\n",
            "INFO:root:Writing example 0 of 1\n",
            "INFO:root:Writing example 0 of 1\n",
            "INFO:root:Writing example 0 of 1\n"
          ]
        },
        {
          "name": "stdout",
          "output_type": "stream",
          "text": [
            "2381\n",
            "2382\n",
            "2383\n",
            "2384\n"
          ]
        },
        {
          "name": "stderr",
          "output_type": "stream",
          "text": [
            "INFO:root:Writing example 0 of 1\n",
            "INFO:root:Writing example 0 of 1\n",
            "INFO:root:Writing example 0 of 1\n",
            "INFO:root:Writing example 0 of 1\n"
          ]
        },
        {
          "name": "stdout",
          "output_type": "stream",
          "text": [
            "2385\n",
            "2386\n",
            "2387\n",
            "2388\n"
          ]
        },
        {
          "name": "stderr",
          "output_type": "stream",
          "text": [
            "INFO:root:Writing example 0 of 1\n",
            "INFO:root:Writing example 0 of 1\n",
            "INFO:root:Writing example 0 of 1\n",
            "INFO:root:Writing example 0 of 1\n"
          ]
        },
        {
          "name": "stdout",
          "output_type": "stream",
          "text": [
            "2389\n",
            "2390\n",
            "2391\n",
            "2392\n"
          ]
        },
        {
          "name": "stderr",
          "output_type": "stream",
          "text": [
            "INFO:root:Writing example 0 of 1\n",
            "INFO:root:Writing example 0 of 1\n",
            "INFO:root:Writing example 0 of 1\n",
            "INFO:root:Writing example 0 of 1\n"
          ]
        },
        {
          "name": "stdout",
          "output_type": "stream",
          "text": [
            "2393\n",
            "2394\n",
            "2395\n",
            "2396\n"
          ]
        },
        {
          "name": "stderr",
          "output_type": "stream",
          "text": [
            "INFO:root:Writing example 0 of 1\n",
            "INFO:root:Writing example 0 of 1\n",
            "INFO:root:Writing example 0 of 1\n",
            "INFO:root:Writing example 0 of 1\n"
          ]
        },
        {
          "name": "stdout",
          "output_type": "stream",
          "text": [
            "2397\n",
            "2398\n",
            "2399\n",
            "2400\n"
          ]
        },
        {
          "name": "stderr",
          "output_type": "stream",
          "text": [
            "INFO:root:Writing example 0 of 1\n",
            "INFO:root:Writing example 0 of 1\n",
            "INFO:root:Writing example 0 of 1\n",
            "INFO:root:Writing example 0 of 1\n"
          ]
        },
        {
          "name": "stdout",
          "output_type": "stream",
          "text": [
            "2401\n",
            "2402\n",
            "2403\n",
            "2404\n"
          ]
        },
        {
          "name": "stderr",
          "output_type": "stream",
          "text": [
            "INFO:root:Writing example 0 of 1\n",
            "INFO:root:Writing example 0 of 1\n",
            "INFO:root:Writing example 0 of 1\n",
            "INFO:root:Writing example 0 of 1\n"
          ]
        },
        {
          "name": "stdout",
          "output_type": "stream",
          "text": [
            "2405\n",
            "2406\n",
            "2407\n",
            "2408\n"
          ]
        },
        {
          "name": "stderr",
          "output_type": "stream",
          "text": [
            "INFO:root:Writing example 0 of 1\n",
            "INFO:root:Writing example 0 of 1\n",
            "INFO:root:Writing example 0 of 1\n",
            "INFO:root:Writing example 0 of 1\n"
          ]
        },
        {
          "name": "stdout",
          "output_type": "stream",
          "text": [
            "2409\n",
            "2410\n",
            "2411\n",
            "2412\n"
          ]
        },
        {
          "name": "stderr",
          "output_type": "stream",
          "text": [
            "INFO:root:Writing example 0 of 1\n",
            "INFO:root:Writing example 0 of 1\n",
            "INFO:root:Writing example 0 of 1\n",
            "INFO:root:Writing example 0 of 1\n"
          ]
        },
        {
          "name": "stdout",
          "output_type": "stream",
          "text": [
            "2413\n",
            "2414\n",
            "2415\n",
            "2416\n"
          ]
        },
        {
          "name": "stderr",
          "output_type": "stream",
          "text": [
            "INFO:root:Writing example 0 of 1\n",
            "INFO:root:Writing example 0 of 1\n",
            "INFO:root:Writing example 0 of 1\n",
            "INFO:root:Writing example 0 of 1\n"
          ]
        },
        {
          "name": "stdout",
          "output_type": "stream",
          "text": [
            "2417\n",
            "2418\n",
            "2419\n",
            "2420\n"
          ]
        },
        {
          "name": "stderr",
          "output_type": "stream",
          "text": [
            "INFO:root:Writing example 0 of 1\n",
            "INFO:root:Writing example 0 of 1\n",
            "INFO:root:Writing example 0 of 1\n",
            "INFO:root:Writing example 0 of 1\n"
          ]
        },
        {
          "name": "stdout",
          "output_type": "stream",
          "text": [
            "2421\n",
            "2422\n",
            "2423\n",
            "2424\n"
          ]
        },
        {
          "name": "stderr",
          "output_type": "stream",
          "text": [
            "INFO:root:Writing example 0 of 1\n",
            "INFO:root:Writing example 0 of 1\n",
            "INFO:root:Writing example 0 of 1\n",
            "INFO:root:Writing example 0 of 1\n"
          ]
        },
        {
          "name": "stdout",
          "output_type": "stream",
          "text": [
            "2425\n",
            "2426\n",
            "2427\n",
            "2428\n"
          ]
        },
        {
          "name": "stderr",
          "output_type": "stream",
          "text": [
            "INFO:root:Writing example 0 of 1\n",
            "INFO:root:Writing example 0 of 1\n",
            "INFO:root:Writing example 0 of 1\n",
            "INFO:root:Writing example 0 of 1\n"
          ]
        },
        {
          "name": "stdout",
          "output_type": "stream",
          "text": [
            "2429\n",
            "2430\n",
            "2431\n",
            "2432\n"
          ]
        },
        {
          "name": "stderr",
          "output_type": "stream",
          "text": [
            "INFO:root:Writing example 0 of 1\n",
            "INFO:root:Writing example 0 of 1\n",
            "INFO:root:Writing example 0 of 1\n",
            "INFO:root:Writing example 0 of 1\n"
          ]
        },
        {
          "name": "stdout",
          "output_type": "stream",
          "text": [
            "2433\n",
            "2434\n",
            "2435\n",
            "2436\n"
          ]
        },
        {
          "name": "stderr",
          "output_type": "stream",
          "text": [
            "INFO:root:Writing example 0 of 1\n",
            "INFO:root:Writing example 0 of 1\n",
            "INFO:root:Writing example 0 of 1\n",
            "INFO:root:Writing example 0 of 1\n"
          ]
        },
        {
          "name": "stdout",
          "output_type": "stream",
          "text": [
            "2437\n",
            "2438\n",
            "2439\n",
            "2440\n"
          ]
        },
        {
          "name": "stderr",
          "output_type": "stream",
          "text": [
            "INFO:root:Writing example 0 of 1\n",
            "INFO:root:Writing example 0 of 1\n",
            "INFO:root:Writing example 0 of 1\n",
            "INFO:root:Writing example 0 of 1\n"
          ]
        },
        {
          "name": "stdout",
          "output_type": "stream",
          "text": [
            "2441\n",
            "2442\n",
            "2443\n",
            "2444\n"
          ]
        },
        {
          "name": "stderr",
          "output_type": "stream",
          "text": [
            "INFO:root:Writing example 0 of 1\n",
            "INFO:root:Writing example 0 of 1\n",
            "INFO:root:Writing example 0 of 1\n",
            "INFO:root:Writing example 0 of 1\n"
          ]
        },
        {
          "name": "stdout",
          "output_type": "stream",
          "text": [
            "2445\n",
            "2446\n",
            "2447\n",
            "2448\n"
          ]
        },
        {
          "name": "stderr",
          "output_type": "stream",
          "text": [
            "INFO:root:Writing example 0 of 1\n",
            "INFO:root:Writing example 0 of 1\n",
            "INFO:root:Writing example 0 of 1\n",
            "INFO:root:Writing example 0 of 1\n"
          ]
        },
        {
          "name": "stdout",
          "output_type": "stream",
          "text": [
            "2449\n",
            "2450\n",
            "2451\n",
            "2452\n"
          ]
        },
        {
          "name": "stderr",
          "output_type": "stream",
          "text": [
            "INFO:root:Writing example 0 of 1\n",
            "INFO:root:Writing example 0 of 1\n",
            "INFO:root:Writing example 0 of 1\n",
            "INFO:root:Writing example 0 of 1\n"
          ]
        },
        {
          "name": "stdout",
          "output_type": "stream",
          "text": [
            "2453\n",
            "2454\n",
            "2455\n",
            "2456\n"
          ]
        },
        {
          "name": "stderr",
          "output_type": "stream",
          "text": [
            "INFO:root:Writing example 0 of 1\n",
            "INFO:root:Writing example 0 of 1\n",
            "INFO:root:Writing example 0 of 1\n",
            "INFO:root:Writing example 0 of 1\n"
          ]
        },
        {
          "name": "stdout",
          "output_type": "stream",
          "text": [
            "2457\n",
            "2458\n",
            "2459\n",
            "2460\n"
          ]
        },
        {
          "name": "stderr",
          "output_type": "stream",
          "text": [
            "INFO:root:Writing example 0 of 1\n",
            "INFO:root:Writing example 0 of 1\n",
            "INFO:root:Writing example 0 of 1\n",
            "INFO:root:Writing example 0 of 1\n"
          ]
        },
        {
          "name": "stdout",
          "output_type": "stream",
          "text": [
            "2461\n",
            "2462\n",
            "2463\n",
            "2464\n"
          ]
        },
        {
          "name": "stderr",
          "output_type": "stream",
          "text": [
            "INFO:root:Writing example 0 of 1\n",
            "INFO:root:Writing example 0 of 1\n",
            "INFO:root:Writing example 0 of 1\n",
            "INFO:root:Writing example 0 of 1\n"
          ]
        },
        {
          "name": "stdout",
          "output_type": "stream",
          "text": [
            "2465\n",
            "2466\n",
            "2467\n",
            "2468\n"
          ]
        },
        {
          "name": "stderr",
          "output_type": "stream",
          "text": [
            "INFO:root:Writing example 0 of 1\n",
            "INFO:root:Writing example 0 of 1\n",
            "INFO:root:Writing example 0 of 1\n",
            "INFO:root:Writing example 0 of 1\n"
          ]
        },
        {
          "name": "stdout",
          "output_type": "stream",
          "text": [
            "2469\n",
            "2470\n",
            "2471\n",
            "2472\n"
          ]
        },
        {
          "name": "stderr",
          "output_type": "stream",
          "text": [
            "INFO:root:Writing example 0 of 1\n",
            "INFO:root:Writing example 0 of 1\n",
            "INFO:root:Writing example 0 of 1\n",
            "INFO:root:Writing example 0 of 1\n"
          ]
        },
        {
          "name": "stdout",
          "output_type": "stream",
          "text": [
            "2473\n",
            "2474\n",
            "2475\n",
            "2476\n"
          ]
        },
        {
          "name": "stderr",
          "output_type": "stream",
          "text": [
            "INFO:root:Writing example 0 of 1\n",
            "INFO:root:Writing example 0 of 1\n",
            "INFO:root:Writing example 0 of 1\n",
            "INFO:root:Writing example 0 of 1\n"
          ]
        },
        {
          "name": "stdout",
          "output_type": "stream",
          "text": [
            "2477\n",
            "2478\n",
            "2479\n",
            "2480\n"
          ]
        },
        {
          "name": "stderr",
          "output_type": "stream",
          "text": [
            "INFO:root:Writing example 0 of 1\n",
            "INFO:root:Writing example 0 of 1\n",
            "INFO:root:Writing example 0 of 1\n",
            "INFO:root:Writing example 0 of 1\n"
          ]
        },
        {
          "name": "stdout",
          "output_type": "stream",
          "text": [
            "2481\n",
            "2482\n",
            "2483\n",
            "2484\n"
          ]
        },
        {
          "name": "stderr",
          "output_type": "stream",
          "text": [
            "INFO:root:Writing example 0 of 1\n",
            "INFO:root:Writing example 0 of 1\n",
            "INFO:root:Writing example 0 of 1\n",
            "INFO:root:Writing example 0 of 1\n"
          ]
        },
        {
          "name": "stdout",
          "output_type": "stream",
          "text": [
            "2485\n",
            "2486\n",
            "2487\n",
            "2488\n"
          ]
        },
        {
          "name": "stderr",
          "output_type": "stream",
          "text": [
            "INFO:root:Writing example 0 of 1\n",
            "INFO:root:Writing example 0 of 1\n",
            "INFO:root:Writing example 0 of 1\n",
            "INFO:root:Writing example 0 of 1\n"
          ]
        },
        {
          "name": "stdout",
          "output_type": "stream",
          "text": [
            "2489\n",
            "2490\n",
            "2491\n",
            "2492\n"
          ]
        },
        {
          "name": "stderr",
          "output_type": "stream",
          "text": [
            "INFO:root:Writing example 0 of 1\n",
            "INFO:root:Writing example 0 of 1\n",
            "INFO:root:Writing example 0 of 1\n",
            "INFO:root:Writing example 0 of 1\n"
          ]
        },
        {
          "name": "stdout",
          "output_type": "stream",
          "text": [
            "2493\n",
            "2494\n",
            "2495\n",
            "2496\n"
          ]
        },
        {
          "name": "stderr",
          "output_type": "stream",
          "text": [
            "INFO:root:Writing example 0 of 1\n",
            "INFO:root:Writing example 0 of 1\n",
            "INFO:root:Writing example 0 of 1\n",
            "INFO:root:Writing example 0 of 1\n"
          ]
        },
        {
          "name": "stdout",
          "output_type": "stream",
          "text": [
            "2497\n",
            "2498\n",
            "2499\n",
            "2500\n"
          ]
        },
        {
          "name": "stderr",
          "output_type": "stream",
          "text": [
            "INFO:root:Writing example 0 of 1\n",
            "INFO:root:Writing example 0 of 1\n",
            "INFO:root:Writing example 0 of 1\n",
            "INFO:root:Writing example 0 of 1\n"
          ]
        },
        {
          "name": "stdout",
          "output_type": "stream",
          "text": [
            "2501\n",
            "2502\n",
            "2503\n",
            "2504\n"
          ]
        },
        {
          "name": "stderr",
          "output_type": "stream",
          "text": [
            "INFO:root:Writing example 0 of 1\n",
            "INFO:root:Writing example 0 of 1\n",
            "INFO:root:Writing example 0 of 1\n",
            "INFO:root:Writing example 0 of 1\n"
          ]
        },
        {
          "name": "stdout",
          "output_type": "stream",
          "text": [
            "2505\n",
            "2506\n",
            "2507\n",
            "2508\n"
          ]
        },
        {
          "name": "stderr",
          "output_type": "stream",
          "text": [
            "INFO:root:Writing example 0 of 1\n",
            "INFO:root:Writing example 0 of 1\n",
            "INFO:root:Writing example 0 of 1\n",
            "INFO:root:Writing example 0 of 1\n"
          ]
        },
        {
          "name": "stdout",
          "output_type": "stream",
          "text": [
            "2509\n",
            "2510\n",
            "2511\n",
            "2512\n"
          ]
        },
        {
          "name": "stderr",
          "output_type": "stream",
          "text": [
            "INFO:root:Writing example 0 of 1\n",
            "INFO:root:Writing example 0 of 1\n",
            "INFO:root:Writing example 0 of 1\n",
            "INFO:root:Writing example 0 of 1\n"
          ]
        },
        {
          "name": "stdout",
          "output_type": "stream",
          "text": [
            "2513\n",
            "2514\n",
            "2515\n",
            "2516\n"
          ]
        },
        {
          "name": "stderr",
          "output_type": "stream",
          "text": [
            "INFO:root:Writing example 0 of 1\n",
            "INFO:root:Writing example 0 of 1\n",
            "INFO:root:Writing example 0 of 1\n",
            "INFO:root:Writing example 0 of 1\n"
          ]
        },
        {
          "name": "stdout",
          "output_type": "stream",
          "text": [
            "2517\n",
            "2518\n",
            "2519\n",
            "2520\n"
          ]
        },
        {
          "name": "stderr",
          "output_type": "stream",
          "text": [
            "INFO:root:Writing example 0 of 1\n",
            "INFO:root:Writing example 0 of 1\n",
            "INFO:root:Writing example 0 of 1\n",
            "INFO:root:Writing example 0 of 1\n"
          ]
        },
        {
          "name": "stdout",
          "output_type": "stream",
          "text": [
            "2521\n",
            "2522\n",
            "2523\n",
            "2524\n"
          ]
        },
        {
          "name": "stderr",
          "output_type": "stream",
          "text": [
            "INFO:root:Writing example 0 of 1\n",
            "INFO:root:Writing example 0 of 1\n",
            "INFO:root:Writing example 0 of 1\n",
            "INFO:root:Writing example 0 of 1\n"
          ]
        },
        {
          "name": "stdout",
          "output_type": "stream",
          "text": [
            "2525\n",
            "2526\n",
            "2527\n",
            "2528\n"
          ]
        },
        {
          "name": "stderr",
          "output_type": "stream",
          "text": [
            "INFO:root:Writing example 0 of 1\n",
            "INFO:root:Writing example 0 of 1\n",
            "INFO:root:Writing example 0 of 1\n",
            "INFO:root:Writing example 0 of 1\n"
          ]
        },
        {
          "name": "stdout",
          "output_type": "stream",
          "text": [
            "2529\n",
            "2530\n",
            "2531\n",
            "2532\n"
          ]
        },
        {
          "name": "stderr",
          "output_type": "stream",
          "text": [
            "INFO:root:Writing example 0 of 1\n",
            "INFO:root:Writing example 0 of 1\n",
            "INFO:root:Writing example 0 of 1\n",
            "INFO:root:Writing example 0 of 1\n"
          ]
        },
        {
          "name": "stdout",
          "output_type": "stream",
          "text": [
            "2533\n",
            "2534\n",
            "2535\n",
            "2536\n"
          ]
        },
        {
          "name": "stderr",
          "output_type": "stream",
          "text": [
            "INFO:root:Writing example 0 of 1\n",
            "INFO:root:Writing example 0 of 1\n",
            "INFO:root:Writing example 0 of 1\n",
            "INFO:root:Writing example 0 of 1\n"
          ]
        },
        {
          "name": "stdout",
          "output_type": "stream",
          "text": [
            "2537\n",
            "2538\n",
            "2539\n",
            "2540\n"
          ]
        },
        {
          "name": "stderr",
          "output_type": "stream",
          "text": [
            "INFO:root:Writing example 0 of 1\n",
            "INFO:root:Writing example 0 of 1\n",
            "INFO:root:Writing example 0 of 1\n",
            "INFO:root:Writing example 0 of 1\n"
          ]
        },
        {
          "name": "stdout",
          "output_type": "stream",
          "text": [
            "2541\n",
            "2542\n",
            "2543\n",
            "2544\n"
          ]
        },
        {
          "name": "stderr",
          "output_type": "stream",
          "text": [
            "INFO:root:Writing example 0 of 1\n",
            "INFO:root:Writing example 0 of 1\n",
            "INFO:root:Writing example 0 of 1\n",
            "INFO:root:Writing example 0 of 1\n"
          ]
        },
        {
          "name": "stdout",
          "output_type": "stream",
          "text": [
            "2545\n",
            "2546\n",
            "2547\n",
            "2548\n"
          ]
        },
        {
          "name": "stderr",
          "output_type": "stream",
          "text": [
            "INFO:root:Writing example 0 of 1\n",
            "INFO:root:Writing example 0 of 1\n",
            "INFO:root:Writing example 0 of 1\n",
            "INFO:root:Writing example 0 of 1\n"
          ]
        },
        {
          "name": "stdout",
          "output_type": "stream",
          "text": [
            "2549\n",
            "2550\n",
            "2551\n",
            "2552\n"
          ]
        },
        {
          "name": "stderr",
          "output_type": "stream",
          "text": [
            "INFO:root:Writing example 0 of 1\n",
            "INFO:root:Writing example 0 of 1\n",
            "INFO:root:Writing example 0 of 1\n",
            "INFO:root:Writing example 0 of 1\n"
          ]
        },
        {
          "name": "stdout",
          "output_type": "stream",
          "text": [
            "2553\n",
            "2554\n",
            "2555\n",
            "2556\n"
          ]
        },
        {
          "name": "stderr",
          "output_type": "stream",
          "text": [
            "INFO:root:Writing example 0 of 1\n",
            "INFO:root:Writing example 0 of 1\n",
            "INFO:root:Writing example 0 of 1\n",
            "INFO:root:Writing example 0 of 1\n"
          ]
        },
        {
          "name": "stdout",
          "output_type": "stream",
          "text": [
            "2557\n",
            "2558\n",
            "2559\n",
            "2560\n"
          ]
        },
        {
          "name": "stderr",
          "output_type": "stream",
          "text": [
            "INFO:root:Writing example 0 of 1\n",
            "INFO:root:Writing example 0 of 1\n",
            "INFO:root:Writing example 0 of 1\n",
            "INFO:root:Writing example 0 of 1\n"
          ]
        },
        {
          "name": "stdout",
          "output_type": "stream",
          "text": [
            "2561\n",
            "2562\n",
            "2563\n",
            "2564\n"
          ]
        },
        {
          "name": "stderr",
          "output_type": "stream",
          "text": [
            "INFO:root:Writing example 0 of 1\n",
            "INFO:root:Writing example 0 of 1\n",
            "INFO:root:Writing example 0 of 1\n",
            "INFO:root:Writing example 0 of 1\n"
          ]
        },
        {
          "name": "stdout",
          "output_type": "stream",
          "text": [
            "2565\n",
            "2566\n",
            "2567\n",
            "2568\n"
          ]
        },
        {
          "name": "stderr",
          "output_type": "stream",
          "text": [
            "INFO:root:Writing example 0 of 1\n",
            "INFO:root:Writing example 0 of 1\n",
            "INFO:root:Writing example 0 of 1\n",
            "INFO:root:Writing example 0 of 1\n"
          ]
        },
        {
          "name": "stdout",
          "output_type": "stream",
          "text": [
            "2569\n",
            "2570\n",
            "2571\n",
            "2572\n"
          ]
        },
        {
          "name": "stderr",
          "output_type": "stream",
          "text": [
            "INFO:root:Writing example 0 of 1\n",
            "INFO:root:Writing example 0 of 1\n",
            "INFO:root:Writing example 0 of 1\n",
            "INFO:root:Writing example 0 of 1\n"
          ]
        },
        {
          "name": "stdout",
          "output_type": "stream",
          "text": [
            "2573\n",
            "2574\n",
            "2575\n",
            "2576\n"
          ]
        },
        {
          "name": "stderr",
          "output_type": "stream",
          "text": [
            "INFO:root:Writing example 0 of 1\n",
            "INFO:root:Writing example 0 of 1\n",
            "INFO:root:Writing example 0 of 1\n",
            "INFO:root:Writing example 0 of 1\n"
          ]
        },
        {
          "name": "stdout",
          "output_type": "stream",
          "text": [
            "2577\n",
            "2578\n",
            "2579\n",
            "2580\n"
          ]
        },
        {
          "name": "stderr",
          "output_type": "stream",
          "text": [
            "INFO:root:Writing example 0 of 1\n",
            "INFO:root:Writing example 0 of 1\n",
            "INFO:root:Writing example 0 of 1\n",
            "INFO:root:Writing example 0 of 1\n"
          ]
        },
        {
          "name": "stdout",
          "output_type": "stream",
          "text": [
            "2581\n",
            "2582\n",
            "2583\n",
            "2584\n"
          ]
        },
        {
          "name": "stderr",
          "output_type": "stream",
          "text": [
            "INFO:root:Writing example 0 of 1\n",
            "INFO:root:Writing example 0 of 1\n",
            "INFO:root:Writing example 0 of 1\n",
            "INFO:root:Writing example 0 of 1\n"
          ]
        },
        {
          "name": "stdout",
          "output_type": "stream",
          "text": [
            "2585\n",
            "2586\n",
            "2587\n",
            "2588\n"
          ]
        },
        {
          "name": "stderr",
          "output_type": "stream",
          "text": [
            "INFO:root:Writing example 0 of 1\n",
            "INFO:root:Writing example 0 of 1\n",
            "INFO:root:Writing example 0 of 1\n",
            "INFO:root:Writing example 0 of 1\n"
          ]
        },
        {
          "name": "stdout",
          "output_type": "stream",
          "text": [
            "2589\n",
            "2590\n",
            "2591\n",
            "2592\n"
          ]
        },
        {
          "name": "stderr",
          "output_type": "stream",
          "text": [
            "INFO:root:Writing example 0 of 1\n",
            "INFO:root:Writing example 0 of 1\n",
            "INFO:root:Writing example 0 of 1\n",
            "INFO:root:Writing example 0 of 1\n"
          ]
        },
        {
          "name": "stdout",
          "output_type": "stream",
          "text": [
            "2593\n",
            "2594\n",
            "2595\n",
            "2596\n"
          ]
        },
        {
          "name": "stderr",
          "output_type": "stream",
          "text": [
            "INFO:root:Writing example 0 of 1\n",
            "INFO:root:Writing example 0 of 1\n",
            "INFO:root:Writing example 0 of 1\n",
            "INFO:root:Writing example 0 of 1\n"
          ]
        },
        {
          "name": "stdout",
          "output_type": "stream",
          "text": [
            "2597\n",
            "2598\n",
            "2599\n",
            "2600\n"
          ]
        },
        {
          "name": "stderr",
          "output_type": "stream",
          "text": [
            "INFO:root:Writing example 0 of 1\n",
            "INFO:root:Writing example 0 of 1\n",
            "INFO:root:Writing example 0 of 1\n",
            "INFO:root:Writing example 0 of 1\n"
          ]
        },
        {
          "name": "stdout",
          "output_type": "stream",
          "text": [
            "2601\n",
            "2602\n",
            "2603\n",
            "2604\n"
          ]
        },
        {
          "name": "stderr",
          "output_type": "stream",
          "text": [
            "INFO:root:Writing example 0 of 1\n",
            "INFO:root:Writing example 0 of 1\n",
            "INFO:root:Writing example 0 of 1\n",
            "INFO:root:Writing example 0 of 1\n"
          ]
        },
        {
          "name": "stdout",
          "output_type": "stream",
          "text": [
            "2605\n",
            "2606\n",
            "2607\n",
            "2608\n"
          ]
        },
        {
          "name": "stderr",
          "output_type": "stream",
          "text": [
            "INFO:root:Writing example 0 of 1\n",
            "INFO:root:Writing example 0 of 1\n",
            "INFO:root:Writing example 0 of 1\n",
            "INFO:root:Writing example 0 of 1\n"
          ]
        },
        {
          "name": "stdout",
          "output_type": "stream",
          "text": [
            "2609\n",
            "2610\n",
            "2611\n",
            "2612\n"
          ]
        },
        {
          "name": "stderr",
          "output_type": "stream",
          "text": [
            "INFO:root:Writing example 0 of 1\n",
            "INFO:root:Writing example 0 of 1\n",
            "INFO:root:Writing example 0 of 1\n",
            "INFO:root:Writing example 0 of 1\n"
          ]
        },
        {
          "name": "stdout",
          "output_type": "stream",
          "text": [
            "2613\n",
            "2614\n",
            "2615\n",
            "2616\n"
          ]
        },
        {
          "name": "stderr",
          "output_type": "stream",
          "text": [
            "INFO:root:Writing example 0 of 1\n",
            "INFO:root:Writing example 0 of 1\n",
            "INFO:root:Writing example 0 of 1\n",
            "INFO:root:Writing example 0 of 1\n"
          ]
        },
        {
          "name": "stdout",
          "output_type": "stream",
          "text": [
            "2617\n",
            "2618\n",
            "2619\n",
            "2620\n"
          ]
        },
        {
          "name": "stderr",
          "output_type": "stream",
          "text": [
            "INFO:root:Writing example 0 of 1\n",
            "INFO:root:Writing example 0 of 1\n",
            "INFO:root:Writing example 0 of 1\n",
            "INFO:root:Writing example 0 of 1\n"
          ]
        },
        {
          "name": "stdout",
          "output_type": "stream",
          "text": [
            "2621\n",
            "2622\n",
            "2623\n",
            "2624\n"
          ]
        },
        {
          "name": "stderr",
          "output_type": "stream",
          "text": [
            "INFO:root:Writing example 0 of 1\n",
            "INFO:root:Writing example 0 of 1\n",
            "INFO:root:Writing example 0 of 1\n",
            "INFO:root:Writing example 0 of 1\n"
          ]
        },
        {
          "name": "stdout",
          "output_type": "stream",
          "text": [
            "2625\n",
            "2626\n",
            "2627\n",
            "2628\n"
          ]
        },
        {
          "name": "stderr",
          "output_type": "stream",
          "text": [
            "INFO:root:Writing example 0 of 1\n",
            "INFO:root:Writing example 0 of 1\n",
            "INFO:root:Writing example 0 of 1\n",
            "INFO:root:Writing example 0 of 1\n"
          ]
        },
        {
          "name": "stdout",
          "output_type": "stream",
          "text": [
            "2629\n",
            "2630\n",
            "2631\n",
            "2632\n"
          ]
        },
        {
          "name": "stderr",
          "output_type": "stream",
          "text": [
            "INFO:root:Writing example 0 of 1\n",
            "INFO:root:Writing example 0 of 1\n",
            "INFO:root:Writing example 0 of 1\n",
            "INFO:root:Writing example 0 of 1\n"
          ]
        },
        {
          "name": "stdout",
          "output_type": "stream",
          "text": [
            "2633\n",
            "2634\n",
            "2635\n",
            "2636\n"
          ]
        },
        {
          "name": "stderr",
          "output_type": "stream",
          "text": [
            "INFO:root:Writing example 0 of 1\n",
            "INFO:root:Writing example 0 of 1\n",
            "INFO:root:Writing example 0 of 1\n",
            "INFO:root:Writing example 0 of 1\n"
          ]
        },
        {
          "name": "stdout",
          "output_type": "stream",
          "text": [
            "2637\n",
            "2638\n",
            "2639\n",
            "2640\n"
          ]
        },
        {
          "name": "stderr",
          "output_type": "stream",
          "text": [
            "INFO:root:Writing example 0 of 1\n",
            "INFO:root:Writing example 0 of 1\n",
            "INFO:root:Writing example 0 of 1\n",
            "INFO:root:Writing example 0 of 1\n"
          ]
        },
        {
          "name": "stdout",
          "output_type": "stream",
          "text": [
            "2641\n",
            "2642\n",
            "2643\n",
            "2644\n"
          ]
        },
        {
          "name": "stderr",
          "output_type": "stream",
          "text": [
            "INFO:root:Writing example 0 of 1\n",
            "INFO:root:Writing example 0 of 1\n",
            "INFO:root:Writing example 0 of 1\n",
            "INFO:root:Writing example 0 of 1\n"
          ]
        },
        {
          "name": "stdout",
          "output_type": "stream",
          "text": [
            "2645\n",
            "2646\n",
            "2647\n",
            "2648\n"
          ]
        },
        {
          "name": "stderr",
          "output_type": "stream",
          "text": [
            "INFO:root:Writing example 0 of 1\n",
            "INFO:root:Writing example 0 of 1\n",
            "INFO:root:Writing example 0 of 1\n",
            "INFO:root:Writing example 0 of 1\n"
          ]
        },
        {
          "name": "stdout",
          "output_type": "stream",
          "text": [
            "2649\n",
            "2650\n",
            "2651\n",
            "2652\n"
          ]
        },
        {
          "name": "stderr",
          "output_type": "stream",
          "text": [
            "INFO:root:Writing example 0 of 1\n",
            "INFO:root:Writing example 0 of 1\n",
            "INFO:root:Writing example 0 of 1\n",
            "INFO:root:Writing example 0 of 1\n"
          ]
        },
        {
          "name": "stdout",
          "output_type": "stream",
          "text": [
            "2653\n",
            "2654\n",
            "2655\n",
            "2656\n"
          ]
        },
        {
          "name": "stderr",
          "output_type": "stream",
          "text": [
            "INFO:root:Writing example 0 of 1\n",
            "INFO:root:Writing example 0 of 1\n",
            "INFO:root:Writing example 0 of 1\n",
            "INFO:root:Writing example 0 of 1\n"
          ]
        },
        {
          "name": "stdout",
          "output_type": "stream",
          "text": [
            "2657\n",
            "2658\n",
            "2659\n",
            "2660\n"
          ]
        },
        {
          "name": "stderr",
          "output_type": "stream",
          "text": [
            "INFO:root:Writing example 0 of 1\n",
            "INFO:root:Writing example 0 of 1\n",
            "INFO:root:Writing example 0 of 1\n",
            "INFO:root:Writing example 0 of 1\n"
          ]
        },
        {
          "name": "stdout",
          "output_type": "stream",
          "text": [
            "2661\n",
            "2662\n",
            "2663\n",
            "2664\n"
          ]
        },
        {
          "name": "stderr",
          "output_type": "stream",
          "text": [
            "INFO:root:Writing example 0 of 1\n",
            "INFO:root:Writing example 0 of 1\n",
            "INFO:root:Writing example 0 of 1\n",
            "INFO:root:Writing example 0 of 1\n"
          ]
        },
        {
          "name": "stdout",
          "output_type": "stream",
          "text": [
            "2665\n",
            "2666\n",
            "2667\n",
            "2668\n"
          ]
        },
        {
          "name": "stderr",
          "output_type": "stream",
          "text": [
            "INFO:root:Writing example 0 of 1\n",
            "INFO:root:Writing example 0 of 1\n",
            "INFO:root:Writing example 0 of 1\n",
            "INFO:root:Writing example 0 of 1\n"
          ]
        },
        {
          "name": "stdout",
          "output_type": "stream",
          "text": [
            "2669\n",
            "2670\n",
            "2671\n",
            "2672\n"
          ]
        },
        {
          "name": "stderr",
          "output_type": "stream",
          "text": [
            "INFO:root:Writing example 0 of 1\n",
            "INFO:root:Writing example 0 of 1\n",
            "INFO:root:Writing example 0 of 1\n",
            "INFO:root:Writing example 0 of 1\n"
          ]
        },
        {
          "name": "stdout",
          "output_type": "stream",
          "text": [
            "2673\n",
            "2674\n",
            "2675\n",
            "2676\n"
          ]
        },
        {
          "name": "stderr",
          "output_type": "stream",
          "text": [
            "INFO:root:Writing example 0 of 1\n",
            "INFO:root:Writing example 0 of 1\n",
            "INFO:root:Writing example 0 of 1\n",
            "INFO:root:Writing example 0 of 1\n"
          ]
        },
        {
          "name": "stdout",
          "output_type": "stream",
          "text": [
            "2677\n",
            "2678\n",
            "2679\n",
            "2680\n"
          ]
        },
        {
          "name": "stderr",
          "output_type": "stream",
          "text": [
            "INFO:root:Writing example 0 of 1\n",
            "INFO:root:Writing example 0 of 1\n",
            "INFO:root:Writing example 0 of 1\n",
            "INFO:root:Writing example 0 of 1\n"
          ]
        },
        {
          "name": "stdout",
          "output_type": "stream",
          "text": [
            "2681\n",
            "2682\n",
            "2683\n",
            "2684\n"
          ]
        },
        {
          "name": "stderr",
          "output_type": "stream",
          "text": [
            "INFO:root:Writing example 0 of 1\n",
            "INFO:root:Writing example 0 of 1\n",
            "INFO:root:Writing example 0 of 1\n",
            "INFO:root:Writing example 0 of 1\n"
          ]
        },
        {
          "name": "stdout",
          "output_type": "stream",
          "text": [
            "2685\n",
            "2686\n",
            "2687\n",
            "2688\n"
          ]
        },
        {
          "name": "stderr",
          "output_type": "stream",
          "text": [
            "INFO:root:Writing example 0 of 1\n",
            "INFO:root:Writing example 0 of 1\n",
            "INFO:root:Writing example 0 of 1\n",
            "INFO:root:Writing example 0 of 1\n"
          ]
        },
        {
          "name": "stdout",
          "output_type": "stream",
          "text": [
            "2689\n",
            "2690\n",
            "2691\n",
            "2692\n"
          ]
        },
        {
          "name": "stderr",
          "output_type": "stream",
          "text": [
            "INFO:root:Writing example 0 of 1\n",
            "INFO:root:Writing example 0 of 1\n",
            "INFO:root:Writing example 0 of 1\n",
            "INFO:root:Writing example 0 of 1\n"
          ]
        },
        {
          "name": "stdout",
          "output_type": "stream",
          "text": [
            "2693\n",
            "2694\n",
            "2695\n",
            "2696\n"
          ]
        },
        {
          "name": "stderr",
          "output_type": "stream",
          "text": [
            "INFO:root:Writing example 0 of 1\n",
            "INFO:root:Writing example 0 of 1\n",
            "INFO:root:Writing example 0 of 1\n",
            "INFO:root:Writing example 0 of 1\n"
          ]
        },
        {
          "name": "stdout",
          "output_type": "stream",
          "text": [
            "2697\n",
            "2698\n",
            "2699\n",
            "2700\n"
          ]
        },
        {
          "name": "stderr",
          "output_type": "stream",
          "text": [
            "INFO:root:Writing example 0 of 1\n",
            "INFO:root:Writing example 0 of 1\n",
            "INFO:root:Writing example 0 of 1\n",
            "INFO:root:Writing example 0 of 1\n"
          ]
        },
        {
          "name": "stdout",
          "output_type": "stream",
          "text": [
            "2701\n",
            "2702\n",
            "2703\n",
            "2704\n"
          ]
        },
        {
          "name": "stderr",
          "output_type": "stream",
          "text": [
            "INFO:root:Writing example 0 of 1\n",
            "INFO:root:Writing example 0 of 1\n",
            "INFO:root:Writing example 0 of 1\n",
            "INFO:root:Writing example 0 of 1\n"
          ]
        },
        {
          "name": "stdout",
          "output_type": "stream",
          "text": [
            "2705\n",
            "2706\n",
            "2707\n",
            "2708\n"
          ]
        },
        {
          "name": "stderr",
          "output_type": "stream",
          "text": [
            "INFO:root:Writing example 0 of 1\n",
            "INFO:root:Writing example 0 of 1\n",
            "INFO:root:Writing example 0 of 1\n",
            "INFO:root:Writing example 0 of 1\n"
          ]
        },
        {
          "name": "stdout",
          "output_type": "stream",
          "text": [
            "2709\n",
            "2710\n",
            "2711\n",
            "2712\n"
          ]
        },
        {
          "name": "stderr",
          "output_type": "stream",
          "text": [
            "INFO:root:Writing example 0 of 1\n",
            "INFO:root:Writing example 0 of 1\n",
            "INFO:root:Writing example 0 of 1\n",
            "INFO:root:Writing example 0 of 1\n"
          ]
        },
        {
          "name": "stdout",
          "output_type": "stream",
          "text": [
            "2713\n",
            "2714\n",
            "2715\n",
            "2716\n"
          ]
        },
        {
          "name": "stderr",
          "output_type": "stream",
          "text": [
            "INFO:root:Writing example 0 of 1\n",
            "INFO:root:Writing example 0 of 1\n",
            "INFO:root:Writing example 0 of 1\n",
            "INFO:root:Writing example 0 of 1\n"
          ]
        },
        {
          "name": "stdout",
          "output_type": "stream",
          "text": [
            "2717\n",
            "2718\n",
            "2719\n",
            "2720\n"
          ]
        },
        {
          "name": "stderr",
          "output_type": "stream",
          "text": [
            "INFO:root:Writing example 0 of 1\n",
            "INFO:root:Writing example 0 of 1\n",
            "INFO:root:Writing example 0 of 1\n",
            "INFO:root:Writing example 0 of 1\n"
          ]
        },
        {
          "name": "stdout",
          "output_type": "stream",
          "text": [
            "2721\n",
            "2722\n",
            "2723\n",
            "2724\n"
          ]
        },
        {
          "name": "stderr",
          "output_type": "stream",
          "text": [
            "INFO:root:Writing example 0 of 1\n",
            "INFO:root:Writing example 0 of 1\n",
            "INFO:root:Writing example 0 of 1\n",
            "INFO:root:Writing example 0 of 1\n"
          ]
        },
        {
          "name": "stdout",
          "output_type": "stream",
          "text": [
            "2725\n",
            "2726\n",
            "2727\n",
            "2728\n"
          ]
        },
        {
          "name": "stderr",
          "output_type": "stream",
          "text": [
            "INFO:root:Writing example 0 of 1\n",
            "INFO:root:Writing example 0 of 1\n",
            "INFO:root:Writing example 0 of 1\n",
            "INFO:root:Writing example 0 of 1\n"
          ]
        },
        {
          "name": "stdout",
          "output_type": "stream",
          "text": [
            "2729\n",
            "2730\n",
            "2731\n",
            "2732\n"
          ]
        },
        {
          "name": "stderr",
          "output_type": "stream",
          "text": [
            "INFO:root:Writing example 0 of 1\n",
            "INFO:root:Writing example 0 of 1\n",
            "INFO:root:Writing example 0 of 1\n",
            "INFO:root:Writing example 0 of 1\n"
          ]
        },
        {
          "name": "stdout",
          "output_type": "stream",
          "text": [
            "2733\n",
            "2734\n",
            "2735\n",
            "2736\n"
          ]
        },
        {
          "name": "stderr",
          "output_type": "stream",
          "text": [
            "INFO:root:Writing example 0 of 1\n",
            "INFO:root:Writing example 0 of 1\n",
            "INFO:root:Writing example 0 of 1\n",
            "INFO:root:Writing example 0 of 1\n"
          ]
        },
        {
          "name": "stdout",
          "output_type": "stream",
          "text": [
            "2737\n",
            "2738\n",
            "2739\n",
            "2740\n"
          ]
        },
        {
          "name": "stderr",
          "output_type": "stream",
          "text": [
            "INFO:root:Writing example 0 of 1\n",
            "INFO:root:Writing example 0 of 1\n",
            "INFO:root:Writing example 0 of 1\n",
            "INFO:root:Writing example 0 of 1\n"
          ]
        },
        {
          "name": "stdout",
          "output_type": "stream",
          "text": [
            "2741\n",
            "2742\n",
            "2743\n",
            "2744\n"
          ]
        },
        {
          "name": "stderr",
          "output_type": "stream",
          "text": [
            "INFO:root:Writing example 0 of 1\n",
            "INFO:root:Writing example 0 of 1\n",
            "INFO:root:Writing example 0 of 1\n",
            "INFO:root:Writing example 0 of 1\n"
          ]
        },
        {
          "name": "stdout",
          "output_type": "stream",
          "text": [
            "2745\n",
            "2746\n",
            "2747\n",
            "2748\n"
          ]
        },
        {
          "name": "stderr",
          "output_type": "stream",
          "text": [
            "INFO:root:Writing example 0 of 1\n",
            "INFO:root:Writing example 0 of 1\n",
            "INFO:root:Writing example 0 of 1\n",
            "INFO:root:Writing example 0 of 1\n"
          ]
        },
        {
          "name": "stdout",
          "output_type": "stream",
          "text": [
            "2749\n",
            "2750\n",
            "2751\n",
            "2752\n"
          ]
        },
        {
          "name": "stderr",
          "output_type": "stream",
          "text": [
            "INFO:root:Writing example 0 of 1\n",
            "INFO:root:Writing example 0 of 1\n",
            "INFO:root:Writing example 0 of 1\n",
            "INFO:root:Writing example 0 of 1\n"
          ]
        },
        {
          "name": "stdout",
          "output_type": "stream",
          "text": [
            "2753\n",
            "2754\n",
            "2755\n",
            "2756\n"
          ]
        },
        {
          "name": "stderr",
          "output_type": "stream",
          "text": [
            "INFO:root:Writing example 0 of 1\n",
            "INFO:root:Writing example 0 of 1\n",
            "INFO:root:Writing example 0 of 1\n",
            "INFO:root:Writing example 0 of 1\n"
          ]
        },
        {
          "name": "stdout",
          "output_type": "stream",
          "text": [
            "2757\n",
            "2758\n",
            "2759\n",
            "2760\n"
          ]
        },
        {
          "name": "stderr",
          "output_type": "stream",
          "text": [
            "INFO:root:Writing example 0 of 1\n",
            "INFO:root:Writing example 0 of 1\n",
            "INFO:root:Writing example 0 of 1\n",
            "INFO:root:Writing example 0 of 1\n"
          ]
        },
        {
          "name": "stdout",
          "output_type": "stream",
          "text": [
            "2761\n",
            "2762\n",
            "2763\n",
            "2764\n"
          ]
        },
        {
          "name": "stderr",
          "output_type": "stream",
          "text": [
            "INFO:root:Writing example 0 of 1\n",
            "INFO:root:Writing example 0 of 1\n",
            "INFO:root:Writing example 0 of 1\n",
            "INFO:root:Writing example 0 of 1\n"
          ]
        },
        {
          "name": "stdout",
          "output_type": "stream",
          "text": [
            "2765\n",
            "2766\n",
            "2767\n",
            "2768\n"
          ]
        },
        {
          "name": "stderr",
          "output_type": "stream",
          "text": [
            "INFO:root:Writing example 0 of 1\n",
            "INFO:root:Writing example 0 of 1\n",
            "INFO:root:Writing example 0 of 1\n",
            "INFO:root:Writing example 0 of 1\n"
          ]
        },
        {
          "name": "stdout",
          "output_type": "stream",
          "text": [
            "2769\n",
            "2770\n",
            "2771\n",
            "2772\n"
          ]
        },
        {
          "name": "stderr",
          "output_type": "stream",
          "text": [
            "INFO:root:Writing example 0 of 1\n",
            "INFO:root:Writing example 0 of 1\n",
            "INFO:root:Writing example 0 of 1\n",
            "INFO:root:Writing example 0 of 1\n"
          ]
        },
        {
          "name": "stdout",
          "output_type": "stream",
          "text": [
            "2773\n",
            "2774\n",
            "2775\n",
            "2776\n"
          ]
        },
        {
          "name": "stderr",
          "output_type": "stream",
          "text": [
            "INFO:root:Writing example 0 of 1\n",
            "INFO:root:Writing example 0 of 1\n",
            "INFO:root:Writing example 0 of 1\n",
            "INFO:root:Writing example 0 of 1\n"
          ]
        },
        {
          "name": "stdout",
          "output_type": "stream",
          "text": [
            "2777\n",
            "2778\n",
            "2779\n",
            "2780\n"
          ]
        },
        {
          "name": "stderr",
          "output_type": "stream",
          "text": [
            "INFO:root:Writing example 0 of 1\n",
            "INFO:root:Writing example 0 of 1\n",
            "INFO:root:Writing example 0 of 1\n",
            "INFO:root:Writing example 0 of 1\n"
          ]
        },
        {
          "name": "stdout",
          "output_type": "stream",
          "text": [
            "2781\n",
            "2782\n",
            "2783\n",
            "2784\n"
          ]
        },
        {
          "name": "stderr",
          "output_type": "stream",
          "text": [
            "INFO:root:Writing example 0 of 1\n",
            "INFO:root:Writing example 0 of 1\n",
            "INFO:root:Writing example 0 of 1\n",
            "INFO:root:Writing example 0 of 1\n"
          ]
        },
        {
          "name": "stdout",
          "output_type": "stream",
          "text": [
            "2785\n",
            "2786\n",
            "2787\n",
            "2788\n"
          ]
        },
        {
          "name": "stderr",
          "output_type": "stream",
          "text": [
            "INFO:root:Writing example 0 of 1\n",
            "INFO:root:Writing example 0 of 1\n",
            "INFO:root:Writing example 0 of 1\n",
            "INFO:root:Writing example 0 of 1\n"
          ]
        },
        {
          "name": "stdout",
          "output_type": "stream",
          "text": [
            "2789\n",
            "2790\n",
            "2791\n",
            "2792\n"
          ]
        },
        {
          "name": "stderr",
          "output_type": "stream",
          "text": [
            "INFO:root:Writing example 0 of 1\n",
            "INFO:root:Writing example 0 of 1\n",
            "INFO:root:Writing example 0 of 1\n",
            "INFO:root:Writing example 0 of 1\n"
          ]
        },
        {
          "name": "stdout",
          "output_type": "stream",
          "text": [
            "2793\n",
            "2794\n",
            "2795\n",
            "2796\n"
          ]
        },
        {
          "name": "stderr",
          "output_type": "stream",
          "text": [
            "INFO:root:Writing example 0 of 1\n",
            "INFO:root:Writing example 0 of 1\n",
            "INFO:root:Writing example 0 of 1\n",
            "INFO:root:Writing example 0 of 1\n"
          ]
        },
        {
          "name": "stdout",
          "output_type": "stream",
          "text": [
            "2797\n",
            "2798\n",
            "2799\n",
            "2800\n"
          ]
        },
        {
          "name": "stderr",
          "output_type": "stream",
          "text": [
            "INFO:root:Writing example 0 of 1\n",
            "INFO:root:Writing example 0 of 1\n",
            "INFO:root:Writing example 0 of 1\n",
            "INFO:root:Writing example 0 of 1\n"
          ]
        },
        {
          "name": "stdout",
          "output_type": "stream",
          "text": [
            "2801\n",
            "2802\n",
            "2803\n",
            "2804\n"
          ]
        },
        {
          "name": "stderr",
          "output_type": "stream",
          "text": [
            "INFO:root:Writing example 0 of 1\n",
            "INFO:root:Writing example 0 of 1\n",
            "INFO:root:Writing example 0 of 1\n",
            "INFO:root:Writing example 0 of 1\n"
          ]
        },
        {
          "name": "stdout",
          "output_type": "stream",
          "text": [
            "2805\n",
            "2806\n",
            "2807\n",
            "2808\n"
          ]
        },
        {
          "name": "stderr",
          "output_type": "stream",
          "text": [
            "INFO:root:Writing example 0 of 1\n",
            "INFO:root:Writing example 0 of 1\n",
            "INFO:root:Writing example 0 of 1\n",
            "INFO:root:Writing example 0 of 1\n"
          ]
        },
        {
          "name": "stdout",
          "output_type": "stream",
          "text": [
            "2809\n",
            "2810\n",
            "2811\n",
            "2812\n"
          ]
        },
        {
          "name": "stderr",
          "output_type": "stream",
          "text": [
            "INFO:root:Writing example 0 of 1\n",
            "INFO:root:Writing example 0 of 1\n",
            "INFO:root:Writing example 0 of 1\n",
            "INFO:root:Writing example 0 of 1\n"
          ]
        },
        {
          "name": "stdout",
          "output_type": "stream",
          "text": [
            "2813\n",
            "2814\n",
            "2815\n",
            "2816\n"
          ]
        },
        {
          "name": "stderr",
          "output_type": "stream",
          "text": [
            "INFO:root:Writing example 0 of 1\n",
            "INFO:root:Writing example 0 of 1\n",
            "INFO:root:Writing example 0 of 1\n",
            "INFO:root:Writing example 0 of 1\n"
          ]
        },
        {
          "name": "stdout",
          "output_type": "stream",
          "text": [
            "2817\n",
            "2818\n",
            "2819\n",
            "2820\n"
          ]
        },
        {
          "name": "stderr",
          "output_type": "stream",
          "text": [
            "INFO:root:Writing example 0 of 1\n",
            "INFO:root:Writing example 0 of 1\n",
            "INFO:root:Writing example 0 of 1\n",
            "INFO:root:Writing example 0 of 1\n"
          ]
        },
        {
          "name": "stdout",
          "output_type": "stream",
          "text": [
            "2821\n",
            "2822\n",
            "2823\n",
            "2824\n"
          ]
        },
        {
          "name": "stderr",
          "output_type": "stream",
          "text": [
            "INFO:root:Writing example 0 of 1\n",
            "INFO:root:Writing example 0 of 1\n",
            "INFO:root:Writing example 0 of 1\n",
            "INFO:root:Writing example 0 of 1\n"
          ]
        },
        {
          "name": "stdout",
          "output_type": "stream",
          "text": [
            "2825\n",
            "2826\n",
            "2827\n",
            "2828\n"
          ]
        },
        {
          "name": "stderr",
          "output_type": "stream",
          "text": [
            "INFO:root:Writing example 0 of 1\n",
            "INFO:root:Writing example 0 of 1\n",
            "INFO:root:Writing example 0 of 1\n",
            "INFO:root:Writing example 0 of 1\n"
          ]
        },
        {
          "name": "stdout",
          "output_type": "stream",
          "text": [
            "2829\n",
            "2830\n",
            "2831\n",
            "2832\n"
          ]
        },
        {
          "name": "stderr",
          "output_type": "stream",
          "text": [
            "INFO:root:Writing example 0 of 1\n",
            "INFO:root:Writing example 0 of 1\n",
            "INFO:root:Writing example 0 of 1\n",
            "INFO:root:Writing example 0 of 1\n"
          ]
        },
        {
          "name": "stdout",
          "output_type": "stream",
          "text": [
            "2833\n",
            "2834\n",
            "2835\n",
            "2836\n"
          ]
        },
        {
          "name": "stderr",
          "output_type": "stream",
          "text": [
            "INFO:root:Writing example 0 of 1\n",
            "INFO:root:Writing example 0 of 1\n",
            "INFO:root:Writing example 0 of 1\n",
            "INFO:root:Writing example 0 of 1\n"
          ]
        },
        {
          "name": "stdout",
          "output_type": "stream",
          "text": [
            "2837\n",
            "2838\n",
            "2839\n",
            "2840\n"
          ]
        },
        {
          "name": "stderr",
          "output_type": "stream",
          "text": [
            "INFO:root:Writing example 0 of 1\n",
            "INFO:root:Writing example 0 of 1\n",
            "INFO:root:Writing example 0 of 1\n",
            "INFO:root:Writing example 0 of 1\n"
          ]
        },
        {
          "name": "stdout",
          "output_type": "stream",
          "text": [
            "2841\n",
            "2842\n",
            "2843\n",
            "2844\n"
          ]
        },
        {
          "name": "stderr",
          "output_type": "stream",
          "text": [
            "INFO:root:Writing example 0 of 1\n",
            "INFO:root:Writing example 0 of 1\n",
            "INFO:root:Writing example 0 of 1\n",
            "INFO:root:Writing example 0 of 1\n"
          ]
        },
        {
          "name": "stdout",
          "output_type": "stream",
          "text": [
            "2845\n",
            "2846\n",
            "2847\n",
            "2848\n"
          ]
        },
        {
          "name": "stderr",
          "output_type": "stream",
          "text": [
            "INFO:root:Writing example 0 of 1\n",
            "INFO:root:Writing example 0 of 1\n",
            "INFO:root:Writing example 0 of 1\n",
            "INFO:root:Writing example 0 of 1\n"
          ]
        },
        {
          "name": "stdout",
          "output_type": "stream",
          "text": [
            "2849\n",
            "2850\n",
            "2851\n",
            "2852\n"
          ]
        },
        {
          "name": "stderr",
          "output_type": "stream",
          "text": [
            "INFO:root:Writing example 0 of 1\n",
            "INFO:root:Writing example 0 of 1\n",
            "INFO:root:Writing example 0 of 1\n",
            "INFO:root:Writing example 0 of 1\n"
          ]
        },
        {
          "name": "stdout",
          "output_type": "stream",
          "text": [
            "2853\n",
            "2854\n",
            "2855\n",
            "2856\n"
          ]
        },
        {
          "name": "stderr",
          "output_type": "stream",
          "text": [
            "INFO:root:Writing example 0 of 1\n",
            "INFO:root:Writing example 0 of 1\n",
            "INFO:root:Writing example 0 of 1\n",
            "INFO:root:Writing example 0 of 1\n"
          ]
        },
        {
          "name": "stdout",
          "output_type": "stream",
          "text": [
            "2857\n",
            "2858\n",
            "2859\n",
            "2860\n"
          ]
        },
        {
          "name": "stderr",
          "output_type": "stream",
          "text": [
            "INFO:root:Writing example 0 of 1\n",
            "INFO:root:Writing example 0 of 1\n",
            "INFO:root:Writing example 0 of 1\n",
            "INFO:root:Writing example 0 of 1\n"
          ]
        },
        {
          "name": "stdout",
          "output_type": "stream",
          "text": [
            "2861\n",
            "2862\n",
            "2863\n",
            "2864\n"
          ]
        },
        {
          "name": "stderr",
          "output_type": "stream",
          "text": [
            "INFO:root:Writing example 0 of 1\n",
            "INFO:root:Writing example 0 of 1\n",
            "INFO:root:Writing example 0 of 1\n",
            "INFO:root:Writing example 0 of 1\n"
          ]
        },
        {
          "name": "stdout",
          "output_type": "stream",
          "text": [
            "2865\n",
            "2866\n",
            "2867\n",
            "2868\n"
          ]
        },
        {
          "name": "stderr",
          "output_type": "stream",
          "text": [
            "INFO:root:Writing example 0 of 1\n",
            "INFO:root:Writing example 0 of 1\n",
            "INFO:root:Writing example 0 of 1\n",
            "INFO:root:Writing example 0 of 1\n"
          ]
        },
        {
          "name": "stdout",
          "output_type": "stream",
          "text": [
            "2869\n",
            "2870\n",
            "2871\n",
            "2872\n"
          ]
        },
        {
          "name": "stderr",
          "output_type": "stream",
          "text": [
            "INFO:root:Writing example 0 of 1\n",
            "INFO:root:Writing example 0 of 1\n",
            "INFO:root:Writing example 0 of 1\n",
            "INFO:root:Writing example 0 of 1\n"
          ]
        },
        {
          "name": "stdout",
          "output_type": "stream",
          "text": [
            "2873\n",
            "2874\n",
            "2875\n",
            "2876\n"
          ]
        },
        {
          "name": "stderr",
          "output_type": "stream",
          "text": [
            "INFO:root:Writing example 0 of 1\n",
            "INFO:root:Writing example 0 of 1\n",
            "INFO:root:Writing example 0 of 1\n",
            "INFO:root:Writing example 0 of 1\n"
          ]
        },
        {
          "name": "stdout",
          "output_type": "stream",
          "text": [
            "2877\n",
            "2878\n",
            "2879\n",
            "2880\n"
          ]
        },
        {
          "name": "stderr",
          "output_type": "stream",
          "text": [
            "INFO:root:Writing example 0 of 1\n",
            "INFO:root:Writing example 0 of 1\n",
            "INFO:root:Writing example 0 of 1\n",
            "INFO:root:Writing example 0 of 1\n"
          ]
        },
        {
          "name": "stdout",
          "output_type": "stream",
          "text": [
            "2881\n",
            "2882\n",
            "2883\n",
            "2884\n"
          ]
        },
        {
          "name": "stderr",
          "output_type": "stream",
          "text": [
            "INFO:root:Writing example 0 of 1\n",
            "INFO:root:Writing example 0 of 1\n",
            "INFO:root:Writing example 0 of 1\n",
            "INFO:root:Writing example 0 of 1\n"
          ]
        },
        {
          "name": "stdout",
          "output_type": "stream",
          "text": [
            "2885\n",
            "2886\n",
            "2887\n",
            "2888\n"
          ]
        },
        {
          "name": "stderr",
          "output_type": "stream",
          "text": [
            "INFO:root:Writing example 0 of 1\n",
            "INFO:root:Writing example 0 of 1\n",
            "INFO:root:Writing example 0 of 1\n",
            "INFO:root:Writing example 0 of 1\n"
          ]
        },
        {
          "name": "stdout",
          "output_type": "stream",
          "text": [
            "2889\n",
            "2890\n",
            "2891\n",
            "2892\n"
          ]
        },
        {
          "name": "stderr",
          "output_type": "stream",
          "text": [
            "INFO:root:Writing example 0 of 1\n",
            "INFO:root:Writing example 0 of 1\n",
            "INFO:root:Writing example 0 of 1\n",
            "INFO:root:Writing example 0 of 1\n"
          ]
        },
        {
          "name": "stdout",
          "output_type": "stream",
          "text": [
            "2893\n",
            "2894\n",
            "2895\n",
            "2896\n"
          ]
        },
        {
          "name": "stderr",
          "output_type": "stream",
          "text": [
            "INFO:root:Writing example 0 of 1\n",
            "INFO:root:Writing example 0 of 1\n",
            "INFO:root:Writing example 0 of 1\n",
            "INFO:root:Writing example 0 of 1\n"
          ]
        },
        {
          "name": "stdout",
          "output_type": "stream",
          "text": [
            "2897\n",
            "2898\n",
            "2899\n",
            "2900\n"
          ]
        },
        {
          "name": "stderr",
          "output_type": "stream",
          "text": [
            "INFO:root:Writing example 0 of 1\n",
            "INFO:root:Writing example 0 of 1\n",
            "INFO:root:Writing example 0 of 1\n",
            "INFO:root:Writing example 0 of 1\n"
          ]
        },
        {
          "name": "stdout",
          "output_type": "stream",
          "text": [
            "2901\n",
            "2902\n",
            "2903\n",
            "2904\n"
          ]
        },
        {
          "name": "stderr",
          "output_type": "stream",
          "text": [
            "INFO:root:Writing example 0 of 1\n",
            "INFO:root:Writing example 0 of 1\n",
            "INFO:root:Writing example 0 of 1\n",
            "INFO:root:Writing example 0 of 1\n"
          ]
        },
        {
          "name": "stdout",
          "output_type": "stream",
          "text": [
            "2905\n",
            "2906\n",
            "2907\n",
            "2908\n"
          ]
        },
        {
          "name": "stderr",
          "output_type": "stream",
          "text": [
            "INFO:root:Writing example 0 of 1\n",
            "INFO:root:Writing example 0 of 1\n",
            "INFO:root:Writing example 0 of 1\n",
            "INFO:root:Writing example 0 of 1\n"
          ]
        },
        {
          "name": "stdout",
          "output_type": "stream",
          "text": [
            "2909\n",
            "2910\n",
            "2911\n",
            "2912\n"
          ]
        },
        {
          "name": "stderr",
          "output_type": "stream",
          "text": [
            "INFO:root:Writing example 0 of 1\n",
            "INFO:root:Writing example 0 of 1\n",
            "INFO:root:Writing example 0 of 1\n",
            "INFO:root:Writing example 0 of 1\n"
          ]
        },
        {
          "name": "stdout",
          "output_type": "stream",
          "text": [
            "2913\n",
            "2914\n",
            "2915\n",
            "2916\n"
          ]
        },
        {
          "name": "stderr",
          "output_type": "stream",
          "text": [
            "INFO:root:Writing example 0 of 1\n",
            "INFO:root:Writing example 0 of 1\n",
            "INFO:root:Writing example 0 of 1\n",
            "INFO:root:Writing example 0 of 1\n"
          ]
        },
        {
          "name": "stdout",
          "output_type": "stream",
          "text": [
            "2917\n",
            "2918\n",
            "2919\n",
            "2920\n"
          ]
        },
        {
          "name": "stderr",
          "output_type": "stream",
          "text": [
            "INFO:root:Writing example 0 of 1\n",
            "INFO:root:Writing example 0 of 1\n",
            "INFO:root:Writing example 0 of 1\n",
            "INFO:root:Writing example 0 of 1\n"
          ]
        },
        {
          "name": "stdout",
          "output_type": "stream",
          "text": [
            "2921\n",
            "2922\n",
            "2923\n",
            "2924\n"
          ]
        },
        {
          "name": "stderr",
          "output_type": "stream",
          "text": [
            "INFO:root:Writing example 0 of 1\n",
            "INFO:root:Writing example 0 of 1\n",
            "INFO:root:Writing example 0 of 1\n",
            "INFO:root:Writing example 0 of 1\n"
          ]
        },
        {
          "name": "stdout",
          "output_type": "stream",
          "text": [
            "2925\n",
            "2926\n",
            "2927\n",
            "2928\n"
          ]
        },
        {
          "name": "stderr",
          "output_type": "stream",
          "text": [
            "INFO:root:Writing example 0 of 1\n",
            "INFO:root:Writing example 0 of 1\n",
            "INFO:root:Writing example 0 of 1\n",
            "INFO:root:Writing example 0 of 1\n"
          ]
        },
        {
          "name": "stdout",
          "output_type": "stream",
          "text": [
            "2929\n",
            "2930\n",
            "2931\n",
            "2932\n"
          ]
        },
        {
          "name": "stderr",
          "output_type": "stream",
          "text": [
            "INFO:root:Writing example 0 of 1\n",
            "INFO:root:Writing example 0 of 1\n",
            "INFO:root:Writing example 0 of 1\n",
            "INFO:root:Writing example 0 of 1\n"
          ]
        },
        {
          "name": "stdout",
          "output_type": "stream",
          "text": [
            "2933\n",
            "2934\n",
            "2935\n",
            "2936\n"
          ]
        },
        {
          "name": "stderr",
          "output_type": "stream",
          "text": [
            "INFO:root:Writing example 0 of 1\n",
            "INFO:root:Writing example 0 of 1\n",
            "INFO:root:Writing example 0 of 1\n",
            "INFO:root:Writing example 0 of 1\n"
          ]
        },
        {
          "name": "stdout",
          "output_type": "stream",
          "text": [
            "2937\n",
            "2938\n",
            "2939\n",
            "2940\n"
          ]
        },
        {
          "name": "stderr",
          "output_type": "stream",
          "text": [
            "INFO:root:Writing example 0 of 1\n",
            "INFO:root:Writing example 0 of 1\n",
            "INFO:root:Writing example 0 of 1\n",
            "INFO:root:Writing example 0 of 1\n"
          ]
        },
        {
          "name": "stdout",
          "output_type": "stream",
          "text": [
            "2941\n",
            "2942\n",
            "2943\n",
            "2944\n"
          ]
        },
        {
          "name": "stderr",
          "output_type": "stream",
          "text": [
            "INFO:root:Writing example 0 of 1\n",
            "INFO:root:Writing example 0 of 1\n",
            "INFO:root:Writing example 0 of 1\n",
            "INFO:root:Writing example 0 of 1\n"
          ]
        },
        {
          "name": "stdout",
          "output_type": "stream",
          "text": [
            "2945\n",
            "2946\n",
            "2947\n",
            "2948\n"
          ]
        },
        {
          "name": "stderr",
          "output_type": "stream",
          "text": [
            "INFO:root:Writing example 0 of 1\n",
            "INFO:root:Writing example 0 of 1\n",
            "INFO:root:Writing example 0 of 1\n",
            "INFO:root:Writing example 0 of 1\n"
          ]
        },
        {
          "name": "stdout",
          "output_type": "stream",
          "text": [
            "2949\n",
            "2950\n",
            "2951\n",
            "2952\n"
          ]
        },
        {
          "name": "stderr",
          "output_type": "stream",
          "text": [
            "INFO:root:Writing example 0 of 1\n",
            "INFO:root:Writing example 0 of 1\n",
            "INFO:root:Writing example 0 of 1\n",
            "INFO:root:Writing example 0 of 1\n"
          ]
        },
        {
          "name": "stdout",
          "output_type": "stream",
          "text": [
            "2953\n",
            "2954\n",
            "2955\n",
            "2956\n"
          ]
        },
        {
          "name": "stderr",
          "output_type": "stream",
          "text": [
            "INFO:root:Writing example 0 of 1\n",
            "INFO:root:Writing example 0 of 1\n",
            "INFO:root:Writing example 0 of 1\n",
            "INFO:root:Writing example 0 of 1\n"
          ]
        },
        {
          "name": "stdout",
          "output_type": "stream",
          "text": [
            "2957\n",
            "2958\n",
            "2959\n",
            "2960\n"
          ]
        },
        {
          "name": "stderr",
          "output_type": "stream",
          "text": [
            "INFO:root:Writing example 0 of 1\n",
            "INFO:root:Writing example 0 of 1\n",
            "INFO:root:Writing example 0 of 1\n",
            "INFO:root:Writing example 0 of 1\n"
          ]
        },
        {
          "name": "stdout",
          "output_type": "stream",
          "text": [
            "2961\n",
            "2962\n",
            "2963\n",
            "2964\n"
          ]
        },
        {
          "name": "stderr",
          "output_type": "stream",
          "text": [
            "INFO:root:Writing example 0 of 1\n",
            "INFO:root:Writing example 0 of 1\n",
            "INFO:root:Writing example 0 of 1\n",
            "INFO:root:Writing example 0 of 1\n"
          ]
        },
        {
          "name": "stdout",
          "output_type": "stream",
          "text": [
            "2965\n",
            "2966\n",
            "2967\n",
            "2968\n"
          ]
        },
        {
          "name": "stderr",
          "output_type": "stream",
          "text": [
            "INFO:root:Writing example 0 of 1\n",
            "INFO:root:Writing example 0 of 1\n",
            "INFO:root:Writing example 0 of 1\n",
            "INFO:root:Writing example 0 of 1\n"
          ]
        },
        {
          "name": "stdout",
          "output_type": "stream",
          "text": [
            "2969\n",
            "2970\n",
            "2971\n",
            "2972\n"
          ]
        },
        {
          "name": "stderr",
          "output_type": "stream",
          "text": [
            "INFO:root:Writing example 0 of 1\n",
            "INFO:root:Writing example 0 of 1\n",
            "INFO:root:Writing example 0 of 1\n",
            "INFO:root:Writing example 0 of 1\n"
          ]
        },
        {
          "name": "stdout",
          "output_type": "stream",
          "text": [
            "2973\n",
            "2974\n",
            "2975\n",
            "2976\n"
          ]
        },
        {
          "name": "stderr",
          "output_type": "stream",
          "text": [
            "INFO:root:Writing example 0 of 1\n",
            "INFO:root:Writing example 0 of 1\n",
            "INFO:root:Writing example 0 of 1\n",
            "INFO:root:Writing example 0 of 1\n"
          ]
        },
        {
          "name": "stdout",
          "output_type": "stream",
          "text": [
            "2977\n",
            "2978\n",
            "2979\n",
            "2980\n"
          ]
        },
        {
          "name": "stderr",
          "output_type": "stream",
          "text": [
            "INFO:root:Writing example 0 of 1\n",
            "INFO:root:Writing example 0 of 1\n",
            "INFO:root:Writing example 0 of 1\n",
            "INFO:root:Writing example 0 of 1\n"
          ]
        },
        {
          "name": "stdout",
          "output_type": "stream",
          "text": [
            "2981\n",
            "2982\n",
            "2983\n",
            "2984\n"
          ]
        },
        {
          "name": "stderr",
          "output_type": "stream",
          "text": [
            "INFO:root:Writing example 0 of 1\n",
            "INFO:root:Writing example 0 of 1\n",
            "INFO:root:Writing example 0 of 1\n",
            "INFO:root:Writing example 0 of 1\n"
          ]
        },
        {
          "name": "stdout",
          "output_type": "stream",
          "text": [
            "2985\n",
            "2986\n",
            "2987\n",
            "2988\n"
          ]
        },
        {
          "name": "stderr",
          "output_type": "stream",
          "text": [
            "INFO:root:Writing example 0 of 1\n",
            "INFO:root:Writing example 0 of 1\n",
            "INFO:root:Writing example 0 of 1\n",
            "INFO:root:Writing example 0 of 1\n"
          ]
        },
        {
          "name": "stdout",
          "output_type": "stream",
          "text": [
            "2989\n",
            "2990\n",
            "2991\n",
            "2992\n"
          ]
        },
        {
          "name": "stderr",
          "output_type": "stream",
          "text": [
            "INFO:root:Writing example 0 of 1\n",
            "INFO:root:Writing example 0 of 1\n",
            "INFO:root:Writing example 0 of 1\n",
            "INFO:root:Writing example 0 of 1\n"
          ]
        },
        {
          "name": "stdout",
          "output_type": "stream",
          "text": [
            "2993\n",
            "2994\n",
            "2995\n",
            "2996\n"
          ]
        },
        {
          "name": "stderr",
          "output_type": "stream",
          "text": [
            "INFO:root:Writing example 0 of 1\n",
            "INFO:root:Writing example 0 of 1\n",
            "INFO:root:Writing example 0 of 1\n",
            "INFO:root:Writing example 0 of 1\n"
          ]
        },
        {
          "name": "stdout",
          "output_type": "stream",
          "text": [
            "2997\n",
            "2998\n",
            "2999\n",
            "3000\n"
          ]
        },
        {
          "name": "stderr",
          "output_type": "stream",
          "text": [
            "INFO:root:Writing example 0 of 1\n",
            "INFO:root:Writing example 0 of 1\n",
            "INFO:root:Writing example 0 of 1\n",
            "INFO:root:Writing example 0 of 1\n"
          ]
        },
        {
          "name": "stdout",
          "output_type": "stream",
          "text": [
            "3001\n",
            "3002\n",
            "3003\n",
            "3004\n"
          ]
        },
        {
          "name": "stderr",
          "output_type": "stream",
          "text": [
            "INFO:root:Writing example 0 of 1\n",
            "INFO:root:Writing example 0 of 1\n",
            "INFO:root:Writing example 0 of 1\n",
            "INFO:root:Writing example 0 of 1\n"
          ]
        },
        {
          "name": "stdout",
          "output_type": "stream",
          "text": [
            "3005\n",
            "3006\n",
            "3007\n",
            "3008\n"
          ]
        },
        {
          "name": "stderr",
          "output_type": "stream",
          "text": [
            "INFO:root:Writing example 0 of 1\n",
            "INFO:root:Writing example 0 of 1\n",
            "INFO:root:Writing example 0 of 1\n",
            "INFO:root:Writing example 0 of 1\n"
          ]
        },
        {
          "name": "stdout",
          "output_type": "stream",
          "text": [
            "3009\n",
            "3010\n",
            "3011\n",
            "3012\n"
          ]
        },
        {
          "name": "stderr",
          "output_type": "stream",
          "text": [
            "INFO:root:Writing example 0 of 1\n",
            "INFO:root:Writing example 0 of 1\n",
            "INFO:root:Writing example 0 of 1\n",
            "INFO:root:Writing example 0 of 1\n"
          ]
        },
        {
          "name": "stdout",
          "output_type": "stream",
          "text": [
            "3013\n",
            "3014\n",
            "3015\n",
            "3016\n"
          ]
        },
        {
          "name": "stderr",
          "output_type": "stream",
          "text": [
            "INFO:root:Writing example 0 of 1\n",
            "INFO:root:Writing example 0 of 1\n",
            "INFO:root:Writing example 0 of 1\n",
            "INFO:root:Writing example 0 of 1\n"
          ]
        },
        {
          "name": "stdout",
          "output_type": "stream",
          "text": [
            "3017\n",
            "3018\n",
            "3019\n",
            "3020\n"
          ]
        },
        {
          "name": "stderr",
          "output_type": "stream",
          "text": [
            "INFO:root:Writing example 0 of 1\n",
            "INFO:root:Writing example 0 of 1\n",
            "INFO:root:Writing example 0 of 1\n",
            "INFO:root:Writing example 0 of 1\n"
          ]
        },
        {
          "name": "stdout",
          "output_type": "stream",
          "text": [
            "3021\n",
            "3022\n",
            "3023\n",
            "3024\n"
          ]
        },
        {
          "name": "stderr",
          "output_type": "stream",
          "text": [
            "INFO:root:Writing example 0 of 1\n",
            "INFO:root:Writing example 0 of 1\n",
            "INFO:root:Writing example 0 of 1\n",
            "INFO:root:Writing example 0 of 1\n"
          ]
        },
        {
          "name": "stdout",
          "output_type": "stream",
          "text": [
            "3025\n",
            "3026\n",
            "3027\n",
            "3028\n"
          ]
        },
        {
          "name": "stderr",
          "output_type": "stream",
          "text": [
            "INFO:root:Writing example 0 of 1\n",
            "INFO:root:Writing example 0 of 1\n",
            "INFO:root:Writing example 0 of 1\n",
            "INFO:root:Writing example 0 of 1\n"
          ]
        },
        {
          "name": "stdout",
          "output_type": "stream",
          "text": [
            "3029\n",
            "3030\n",
            "3031\n",
            "3032\n"
          ]
        },
        {
          "name": "stderr",
          "output_type": "stream",
          "text": [
            "INFO:root:Writing example 0 of 1\n",
            "INFO:root:Writing example 0 of 1\n",
            "INFO:root:Writing example 0 of 1\n",
            "INFO:root:Writing example 0 of 1\n"
          ]
        },
        {
          "name": "stdout",
          "output_type": "stream",
          "text": [
            "3033\n",
            "3034\n",
            "3035\n",
            "3036\n"
          ]
        },
        {
          "name": "stderr",
          "output_type": "stream",
          "text": [
            "INFO:root:Writing example 0 of 1\n",
            "INFO:root:Writing example 0 of 1\n",
            "INFO:root:Writing example 0 of 1\n",
            "INFO:root:Writing example 0 of 1\n"
          ]
        },
        {
          "name": "stdout",
          "output_type": "stream",
          "text": [
            "3037\n",
            "3038\n",
            "3039\n",
            "3040\n"
          ]
        },
        {
          "name": "stderr",
          "output_type": "stream",
          "text": [
            "INFO:root:Writing example 0 of 1\n",
            "INFO:root:Writing example 0 of 1\n",
            "INFO:root:Writing example 0 of 1\n",
            "INFO:root:Writing example 0 of 1\n"
          ]
        },
        {
          "name": "stdout",
          "output_type": "stream",
          "text": [
            "3041\n",
            "3042\n",
            "3043\n",
            "3044\n"
          ]
        },
        {
          "name": "stderr",
          "output_type": "stream",
          "text": [
            "INFO:root:Writing example 0 of 1\n",
            "INFO:root:Writing example 0 of 1\n",
            "INFO:root:Writing example 0 of 1\n",
            "INFO:root:Writing example 0 of 1\n"
          ]
        },
        {
          "name": "stdout",
          "output_type": "stream",
          "text": [
            "3045\n",
            "3046\n",
            "3047\n",
            "3048\n"
          ]
        },
        {
          "name": "stderr",
          "output_type": "stream",
          "text": [
            "INFO:root:Writing example 0 of 1\n",
            "INFO:root:Writing example 0 of 1\n",
            "INFO:root:Writing example 0 of 1\n",
            "INFO:root:Writing example 0 of 1\n"
          ]
        },
        {
          "name": "stdout",
          "output_type": "stream",
          "text": [
            "3049\n",
            "3050\n",
            "3051\n",
            "3052\n"
          ]
        },
        {
          "name": "stderr",
          "output_type": "stream",
          "text": [
            "INFO:root:Writing example 0 of 1\n",
            "INFO:root:Writing example 0 of 1\n",
            "INFO:root:Writing example 0 of 1\n",
            "INFO:root:Writing example 0 of 1\n"
          ]
        },
        {
          "name": "stdout",
          "output_type": "stream",
          "text": [
            "3053\n",
            "3054\n",
            "3055\n",
            "3056\n"
          ]
        },
        {
          "name": "stderr",
          "output_type": "stream",
          "text": [
            "INFO:root:Writing example 0 of 1\n",
            "INFO:root:Writing example 0 of 1\n",
            "INFO:root:Writing example 0 of 1\n",
            "INFO:root:Writing example 0 of 1\n"
          ]
        },
        {
          "name": "stdout",
          "output_type": "stream",
          "text": [
            "3057\n",
            "3058\n",
            "3059\n",
            "3060\n"
          ]
        },
        {
          "name": "stderr",
          "output_type": "stream",
          "text": [
            "INFO:root:Writing example 0 of 1\n",
            "INFO:root:Writing example 0 of 1\n",
            "INFO:root:Writing example 0 of 1\n",
            "INFO:root:Writing example 0 of 1\n"
          ]
        },
        {
          "name": "stdout",
          "output_type": "stream",
          "text": [
            "3061\n",
            "3062\n",
            "3063\n",
            "3064\n"
          ]
        },
        {
          "name": "stderr",
          "output_type": "stream",
          "text": [
            "INFO:root:Writing example 0 of 1\n",
            "INFO:root:Writing example 0 of 1\n",
            "INFO:root:Writing example 0 of 1\n",
            "INFO:root:Writing example 0 of 1\n"
          ]
        },
        {
          "name": "stdout",
          "output_type": "stream",
          "text": [
            "3065\n",
            "3066\n",
            "3067\n",
            "3068\n"
          ]
        },
        {
          "name": "stderr",
          "output_type": "stream",
          "text": [
            "INFO:root:Writing example 0 of 1\n",
            "INFO:root:Writing example 0 of 1\n",
            "INFO:root:Writing example 0 of 1\n",
            "INFO:root:Writing example 0 of 1\n"
          ]
        },
        {
          "name": "stdout",
          "output_type": "stream",
          "text": [
            "3069\n",
            "3070\n",
            "3071\n",
            "3072\n"
          ]
        },
        {
          "name": "stderr",
          "output_type": "stream",
          "text": [
            "INFO:root:Writing example 0 of 1\n",
            "INFO:root:Writing example 0 of 1\n",
            "INFO:root:Writing example 0 of 1\n",
            "INFO:root:Writing example 0 of 1\n"
          ]
        },
        {
          "name": "stdout",
          "output_type": "stream",
          "text": [
            "3073\n",
            "3074\n",
            "3075\n",
            "3076\n"
          ]
        },
        {
          "name": "stderr",
          "output_type": "stream",
          "text": [
            "INFO:root:Writing example 0 of 1\n",
            "INFO:root:Writing example 0 of 1\n",
            "INFO:root:Writing example 0 of 1\n",
            "INFO:root:Writing example 0 of 1\n"
          ]
        },
        {
          "name": "stdout",
          "output_type": "stream",
          "text": [
            "3077\n",
            "3078\n",
            "3079\n",
            "3080\n"
          ]
        },
        {
          "name": "stderr",
          "output_type": "stream",
          "text": [
            "INFO:root:Writing example 0 of 1\n",
            "INFO:root:Writing example 0 of 1\n",
            "INFO:root:Writing example 0 of 1\n",
            "INFO:root:Writing example 0 of 1\n"
          ]
        },
        {
          "name": "stdout",
          "output_type": "stream",
          "text": [
            "3081\n",
            "3082\n",
            "3083\n",
            "3084\n"
          ]
        },
        {
          "name": "stderr",
          "output_type": "stream",
          "text": [
            "INFO:root:Writing example 0 of 1\n",
            "INFO:root:Writing example 0 of 1\n",
            "INFO:root:Writing example 0 of 1\n",
            "INFO:root:Writing example 0 of 1\n"
          ]
        },
        {
          "name": "stdout",
          "output_type": "stream",
          "text": [
            "3085\n",
            "3086\n",
            "3087\n",
            "3088\n"
          ]
        },
        {
          "name": "stderr",
          "output_type": "stream",
          "text": [
            "INFO:root:Writing example 0 of 1\n",
            "INFO:root:Writing example 0 of 1\n",
            "INFO:root:Writing example 0 of 1\n",
            "INFO:root:Writing example 0 of 1\n"
          ]
        },
        {
          "name": "stdout",
          "output_type": "stream",
          "text": [
            "3089\n",
            "3090\n",
            "3091\n",
            "3092\n"
          ]
        },
        {
          "name": "stderr",
          "output_type": "stream",
          "text": [
            "INFO:root:Writing example 0 of 1\n",
            "INFO:root:Writing example 0 of 1\n",
            "INFO:root:Writing example 0 of 1\n",
            "INFO:root:Writing example 0 of 1\n"
          ]
        },
        {
          "name": "stdout",
          "output_type": "stream",
          "text": [
            "3093\n",
            "3094\n",
            "3095\n",
            "3096\n"
          ]
        },
        {
          "name": "stderr",
          "output_type": "stream",
          "text": [
            "INFO:root:Writing example 0 of 1\n",
            "INFO:root:Writing example 0 of 1\n",
            "INFO:root:Writing example 0 of 1\n",
            "INFO:root:Writing example 0 of 1\n"
          ]
        },
        {
          "name": "stdout",
          "output_type": "stream",
          "text": [
            "3097\n",
            "3098\n",
            "3099\n",
            "3100\n"
          ]
        },
        {
          "name": "stderr",
          "output_type": "stream",
          "text": [
            "INFO:root:Writing example 0 of 1\n",
            "INFO:root:Writing example 0 of 1\n",
            "INFO:root:Writing example 0 of 1\n",
            "INFO:root:Writing example 0 of 1\n"
          ]
        },
        {
          "name": "stdout",
          "output_type": "stream",
          "text": [
            "3101\n",
            "3102\n",
            "3103\n",
            "3104\n"
          ]
        },
        {
          "name": "stderr",
          "output_type": "stream",
          "text": [
            "INFO:root:Writing example 0 of 1\n",
            "INFO:root:Writing example 0 of 1\n",
            "INFO:root:Writing example 0 of 1\n",
            "INFO:root:Writing example 0 of 1\n"
          ]
        },
        {
          "name": "stdout",
          "output_type": "stream",
          "text": [
            "3105\n",
            "3106\n",
            "3107\n",
            "3108\n"
          ]
        },
        {
          "name": "stderr",
          "output_type": "stream",
          "text": [
            "INFO:root:Writing example 0 of 1\n",
            "INFO:root:Writing example 0 of 1\n",
            "INFO:root:Writing example 0 of 1\n",
            "INFO:root:Writing example 0 of 1\n"
          ]
        },
        {
          "name": "stdout",
          "output_type": "stream",
          "text": [
            "3109\n",
            "3110\n",
            "3111\n",
            "3112\n"
          ]
        },
        {
          "name": "stderr",
          "output_type": "stream",
          "text": [
            "INFO:root:Writing example 0 of 1\n",
            "INFO:root:Writing example 0 of 1\n",
            "INFO:root:Writing example 0 of 1\n",
            "INFO:root:Writing example 0 of 1\n"
          ]
        },
        {
          "name": "stdout",
          "output_type": "stream",
          "text": [
            "3113\n",
            "3114\n",
            "3115\n",
            "3116\n"
          ]
        },
        {
          "name": "stderr",
          "output_type": "stream",
          "text": [
            "INFO:root:Writing example 0 of 1\n",
            "INFO:root:Writing example 0 of 1\n",
            "INFO:root:Writing example 0 of 1\n",
            "INFO:root:Writing example 0 of 1\n"
          ]
        },
        {
          "name": "stdout",
          "output_type": "stream",
          "text": [
            "3117\n",
            "3118\n",
            "3119\n",
            "3120\n"
          ]
        },
        {
          "name": "stderr",
          "output_type": "stream",
          "text": [
            "INFO:root:Writing example 0 of 1\n",
            "INFO:root:Writing example 0 of 1\n",
            "INFO:root:Writing example 0 of 1\n",
            "INFO:root:Writing example 0 of 1\n"
          ]
        },
        {
          "name": "stdout",
          "output_type": "stream",
          "text": [
            "3121\n",
            "3122\n",
            "3123\n",
            "3124\n"
          ]
        },
        {
          "name": "stderr",
          "output_type": "stream",
          "text": [
            "INFO:root:Writing example 0 of 1\n",
            "INFO:root:Writing example 0 of 1\n",
            "INFO:root:Writing example 0 of 1\n",
            "INFO:root:Writing example 0 of 1\n"
          ]
        },
        {
          "name": "stdout",
          "output_type": "stream",
          "text": [
            "3125\n",
            "3126\n",
            "3127\n",
            "3128\n"
          ]
        },
        {
          "name": "stderr",
          "output_type": "stream",
          "text": [
            "INFO:root:Writing example 0 of 1\n",
            "INFO:root:Writing example 0 of 1\n",
            "INFO:root:Writing example 0 of 1\n",
            "INFO:root:Writing example 0 of 1\n"
          ]
        },
        {
          "name": "stdout",
          "output_type": "stream",
          "text": [
            "3129\n",
            "3130\n",
            "3131\n",
            "3132\n"
          ]
        },
        {
          "name": "stderr",
          "output_type": "stream",
          "text": [
            "INFO:root:Writing example 0 of 1\n",
            "INFO:root:Writing example 0 of 1\n",
            "INFO:root:Writing example 0 of 1\n",
            "INFO:root:Writing example 0 of 1\n"
          ]
        },
        {
          "name": "stdout",
          "output_type": "stream",
          "text": [
            "3133\n",
            "3134\n",
            "3135\n",
            "3136\n"
          ]
        },
        {
          "name": "stderr",
          "output_type": "stream",
          "text": [
            "INFO:root:Writing example 0 of 1\n",
            "INFO:root:Writing example 0 of 1\n",
            "INFO:root:Writing example 0 of 1\n",
            "INFO:root:Writing example 0 of 1\n"
          ]
        },
        {
          "name": "stdout",
          "output_type": "stream",
          "text": [
            "3137\n",
            "3138\n",
            "3139\n",
            "3140\n"
          ]
        },
        {
          "name": "stderr",
          "output_type": "stream",
          "text": [
            "INFO:root:Writing example 0 of 1\n",
            "INFO:root:Writing example 0 of 1\n",
            "INFO:root:Writing example 0 of 1\n",
            "INFO:root:Writing example 0 of 1\n"
          ]
        },
        {
          "name": "stdout",
          "output_type": "stream",
          "text": [
            "3141\n",
            "3142\n",
            "3143\n",
            "3144\n"
          ]
        },
        {
          "name": "stderr",
          "output_type": "stream",
          "text": [
            "INFO:root:Writing example 0 of 1\n",
            "INFO:root:Writing example 0 of 1\n",
            "INFO:root:Writing example 0 of 1\n",
            "INFO:root:Writing example 0 of 1\n"
          ]
        },
        {
          "name": "stdout",
          "output_type": "stream",
          "text": [
            "3145\n",
            "3146\n",
            "3147\n",
            "3148\n"
          ]
        },
        {
          "name": "stderr",
          "output_type": "stream",
          "text": [
            "INFO:root:Writing example 0 of 1\n",
            "INFO:root:Writing example 0 of 1\n",
            "INFO:root:Writing example 0 of 1\n",
            "INFO:root:Writing example 0 of 1\n"
          ]
        },
        {
          "name": "stdout",
          "output_type": "stream",
          "text": [
            "3149\n",
            "3150\n",
            "3151\n",
            "3152\n"
          ]
        },
        {
          "name": "stderr",
          "output_type": "stream",
          "text": [
            "INFO:root:Writing example 0 of 1\n",
            "INFO:root:Writing example 0 of 1\n",
            "INFO:root:Writing example 0 of 1\n",
            "INFO:root:Writing example 0 of 1\n"
          ]
        },
        {
          "name": "stdout",
          "output_type": "stream",
          "text": [
            "3153\n",
            "3154\n",
            "3155\n",
            "3156\n"
          ]
        },
        {
          "name": "stderr",
          "output_type": "stream",
          "text": [
            "INFO:root:Writing example 0 of 1\n",
            "INFO:root:Writing example 0 of 1\n",
            "INFO:root:Writing example 0 of 1\n",
            "INFO:root:Writing example 0 of 1\n"
          ]
        },
        {
          "name": "stdout",
          "output_type": "stream",
          "text": [
            "3157\n",
            "3158\n",
            "3159\n",
            "3160\n"
          ]
        },
        {
          "name": "stderr",
          "output_type": "stream",
          "text": [
            "INFO:root:Writing example 0 of 1\n",
            "INFO:root:Writing example 0 of 1\n",
            "INFO:root:Writing example 0 of 1\n",
            "INFO:root:Writing example 0 of 1\n"
          ]
        },
        {
          "name": "stdout",
          "output_type": "stream",
          "text": [
            "3161\n",
            "3162\n",
            "3163\n",
            "3164\n"
          ]
        },
        {
          "name": "stderr",
          "output_type": "stream",
          "text": [
            "INFO:root:Writing example 0 of 1\n",
            "INFO:root:Writing example 0 of 1\n",
            "INFO:root:Writing example 0 of 1\n",
            "INFO:root:Writing example 0 of 1\n"
          ]
        },
        {
          "name": "stdout",
          "output_type": "stream",
          "text": [
            "3165\n",
            "3166\n",
            "3167\n",
            "3168\n"
          ]
        },
        {
          "name": "stderr",
          "output_type": "stream",
          "text": [
            "INFO:root:Writing example 0 of 1\n",
            "INFO:root:Writing example 0 of 1\n",
            "INFO:root:Writing example 0 of 1\n",
            "INFO:root:Writing example 0 of 1\n"
          ]
        },
        {
          "name": "stdout",
          "output_type": "stream",
          "text": [
            "3169\n",
            "3170\n",
            "3171\n",
            "3172\n"
          ]
        },
        {
          "name": "stderr",
          "output_type": "stream",
          "text": [
            "INFO:root:Writing example 0 of 1\n",
            "INFO:root:Writing example 0 of 1\n",
            "INFO:root:Writing example 0 of 1\n",
            "INFO:root:Writing example 0 of 1\n"
          ]
        },
        {
          "name": "stdout",
          "output_type": "stream",
          "text": [
            "3173\n",
            "3174\n",
            "3175\n",
            "3176\n"
          ]
        },
        {
          "name": "stderr",
          "output_type": "stream",
          "text": [
            "INFO:root:Writing example 0 of 1\n",
            "INFO:root:Writing example 0 of 1\n",
            "INFO:root:Writing example 0 of 1\n",
            "INFO:root:Writing example 0 of 1\n"
          ]
        },
        {
          "name": "stdout",
          "output_type": "stream",
          "text": [
            "3177\n",
            "3178\n",
            "3179\n",
            "3180\n"
          ]
        },
        {
          "name": "stderr",
          "output_type": "stream",
          "text": [
            "INFO:root:Writing example 0 of 1\n",
            "INFO:root:Writing example 0 of 1\n",
            "INFO:root:Writing example 0 of 1\n",
            "INFO:root:Writing example 0 of 1\n"
          ]
        },
        {
          "name": "stdout",
          "output_type": "stream",
          "text": [
            "3181\n",
            "3182\n",
            "3183\n",
            "3184\n"
          ]
        },
        {
          "name": "stderr",
          "output_type": "stream",
          "text": [
            "INFO:root:Writing example 0 of 1\n",
            "INFO:root:Writing example 0 of 1\n",
            "INFO:root:Writing example 0 of 1\n",
            "INFO:root:Writing example 0 of 1\n"
          ]
        },
        {
          "name": "stdout",
          "output_type": "stream",
          "text": [
            "3185\n",
            "3186\n",
            "3187\n",
            "3188\n"
          ]
        },
        {
          "name": "stderr",
          "output_type": "stream",
          "text": [
            "INFO:root:Writing example 0 of 1\n",
            "INFO:root:Writing example 0 of 1\n",
            "INFO:root:Writing example 0 of 1\n",
            "INFO:root:Writing example 0 of 1\n"
          ]
        },
        {
          "name": "stdout",
          "output_type": "stream",
          "text": [
            "3189\n",
            "3190\n",
            "3191\n",
            "3192\n"
          ]
        },
        {
          "name": "stderr",
          "output_type": "stream",
          "text": [
            "INFO:root:Writing example 0 of 1\n",
            "INFO:root:Writing example 0 of 1\n",
            "INFO:root:Writing example 0 of 1\n",
            "INFO:root:Writing example 0 of 1\n"
          ]
        },
        {
          "name": "stdout",
          "output_type": "stream",
          "text": [
            "3193\n",
            "3194\n",
            "3195\n",
            "3196\n"
          ]
        },
        {
          "name": "stderr",
          "output_type": "stream",
          "text": [
            "INFO:root:Writing example 0 of 1\n",
            "INFO:root:Writing example 0 of 1\n",
            "INFO:root:Writing example 0 of 1\n",
            "INFO:root:Writing example 0 of 1\n"
          ]
        },
        {
          "name": "stdout",
          "output_type": "stream",
          "text": [
            "3197\n",
            "3198\n",
            "3199\n",
            "3200\n"
          ]
        },
        {
          "name": "stderr",
          "output_type": "stream",
          "text": [
            "INFO:root:Writing example 0 of 1\n",
            "INFO:root:Writing example 0 of 1\n",
            "INFO:root:Writing example 0 of 1\n",
            "INFO:root:Writing example 0 of 1\n"
          ]
        },
        {
          "name": "stdout",
          "output_type": "stream",
          "text": [
            "3201\n",
            "3202\n",
            "3203\n",
            "3204\n"
          ]
        },
        {
          "name": "stderr",
          "output_type": "stream",
          "text": [
            "INFO:root:Writing example 0 of 1\n",
            "INFO:root:Writing example 0 of 1\n",
            "INFO:root:Writing example 0 of 1\n",
            "INFO:root:Writing example 0 of 1\n"
          ]
        },
        {
          "name": "stdout",
          "output_type": "stream",
          "text": [
            "3205\n",
            "3206\n",
            "3207\n",
            "3208\n"
          ]
        },
        {
          "name": "stderr",
          "output_type": "stream",
          "text": [
            "INFO:root:Writing example 0 of 1\n",
            "INFO:root:Writing example 0 of 1\n",
            "INFO:root:Writing example 0 of 1\n",
            "INFO:root:Writing example 0 of 1\n"
          ]
        },
        {
          "name": "stdout",
          "output_type": "stream",
          "text": [
            "3209\n",
            "3210\n",
            "3211\n",
            "3212\n"
          ]
        },
        {
          "name": "stderr",
          "output_type": "stream",
          "text": [
            "INFO:root:Writing example 0 of 1\n",
            "INFO:root:Writing example 0 of 1\n",
            "INFO:root:Writing example 0 of 1\n",
            "INFO:root:Writing example 0 of 1\n"
          ]
        },
        {
          "name": "stdout",
          "output_type": "stream",
          "text": [
            "3213\n",
            "3214\n",
            "3215\n",
            "3216\n"
          ]
        },
        {
          "name": "stderr",
          "output_type": "stream",
          "text": [
            "INFO:root:Writing example 0 of 1\n",
            "INFO:root:Writing example 0 of 1\n",
            "INFO:root:Writing example 0 of 1\n",
            "INFO:root:Writing example 0 of 1\n"
          ]
        },
        {
          "name": "stdout",
          "output_type": "stream",
          "text": [
            "3217\n",
            "3218\n",
            "3219\n",
            "3220\n"
          ]
        },
        {
          "name": "stderr",
          "output_type": "stream",
          "text": [
            "INFO:root:Writing example 0 of 1\n",
            "INFO:root:Writing example 0 of 1\n",
            "INFO:root:Writing example 0 of 1\n",
            "INFO:root:Writing example 0 of 1\n"
          ]
        },
        {
          "name": "stdout",
          "output_type": "stream",
          "text": [
            "3221\n",
            "3222\n",
            "3223\n",
            "3224\n"
          ]
        },
        {
          "name": "stderr",
          "output_type": "stream",
          "text": [
            "INFO:root:Writing example 0 of 1\n",
            "INFO:root:Writing example 0 of 1\n",
            "INFO:root:Writing example 0 of 1\n",
            "INFO:root:Writing example 0 of 1\n"
          ]
        },
        {
          "name": "stdout",
          "output_type": "stream",
          "text": [
            "3225\n",
            "3226\n",
            "3227\n",
            "3228\n"
          ]
        },
        {
          "name": "stderr",
          "output_type": "stream",
          "text": [
            "INFO:root:Writing example 0 of 1\n",
            "INFO:root:Writing example 0 of 1\n",
            "INFO:root:Writing example 0 of 1\n",
            "INFO:root:Writing example 0 of 1\n"
          ]
        },
        {
          "name": "stdout",
          "output_type": "stream",
          "text": [
            "3229\n",
            "3230\n",
            "3231\n",
            "3232\n"
          ]
        },
        {
          "name": "stderr",
          "output_type": "stream",
          "text": [
            "INFO:root:Writing example 0 of 1\n",
            "INFO:root:Writing example 0 of 1\n",
            "INFO:root:Writing example 0 of 1\n",
            "INFO:root:Writing example 0 of 1\n"
          ]
        },
        {
          "name": "stdout",
          "output_type": "stream",
          "text": [
            "3233\n",
            "3234\n",
            "3235\n",
            "3236\n"
          ]
        },
        {
          "name": "stderr",
          "output_type": "stream",
          "text": [
            "INFO:root:Writing example 0 of 1\n",
            "INFO:root:Writing example 0 of 1\n",
            "INFO:root:Writing example 0 of 1\n",
            "INFO:root:Writing example 0 of 1\n"
          ]
        },
        {
          "name": "stdout",
          "output_type": "stream",
          "text": [
            "3237\n",
            "3238\n",
            "3239\n",
            "3240\n"
          ]
        },
        {
          "name": "stderr",
          "output_type": "stream",
          "text": [
            "INFO:root:Writing example 0 of 1\n",
            "INFO:root:Writing example 0 of 1\n",
            "INFO:root:Writing example 0 of 1\n",
            "INFO:root:Writing example 0 of 1\n"
          ]
        },
        {
          "name": "stdout",
          "output_type": "stream",
          "text": [
            "3241\n",
            "3242\n",
            "3243\n",
            "3244\n"
          ]
        },
        {
          "name": "stderr",
          "output_type": "stream",
          "text": [
            "INFO:root:Writing example 0 of 1\n",
            "INFO:root:Writing example 0 of 1\n",
            "INFO:root:Writing example 0 of 1\n",
            "INFO:root:Writing example 0 of 1\n"
          ]
        },
        {
          "name": "stdout",
          "output_type": "stream",
          "text": [
            "3245\n",
            "3246\n",
            "3247\n",
            "3248\n"
          ]
        },
        {
          "name": "stderr",
          "output_type": "stream",
          "text": [
            "INFO:root:Writing example 0 of 1\n",
            "INFO:root:Writing example 0 of 1\n",
            "INFO:root:Writing example 0 of 1\n",
            "INFO:root:Writing example 0 of 1\n"
          ]
        },
        {
          "name": "stdout",
          "output_type": "stream",
          "text": [
            "3249\n",
            "3250\n",
            "3251\n",
            "3252\n"
          ]
        },
        {
          "name": "stderr",
          "output_type": "stream",
          "text": [
            "INFO:root:Writing example 0 of 1\n",
            "INFO:root:Writing example 0 of 1\n",
            "INFO:root:Writing example 0 of 1\n",
            "INFO:root:Writing example 0 of 1\n"
          ]
        },
        {
          "name": "stdout",
          "output_type": "stream",
          "text": [
            "3253\n",
            "3254\n",
            "3255\n",
            "3256\n"
          ]
        },
        {
          "name": "stderr",
          "output_type": "stream",
          "text": [
            "INFO:root:Writing example 0 of 1\n",
            "INFO:root:Writing example 0 of 1\n",
            "INFO:root:Writing example 0 of 1\n",
            "INFO:root:Writing example 0 of 1\n"
          ]
        },
        {
          "name": "stdout",
          "output_type": "stream",
          "text": [
            "3257\n",
            "3258\n",
            "3259\n",
            "3260\n"
          ]
        },
        {
          "name": "stderr",
          "output_type": "stream",
          "text": [
            "INFO:root:Writing example 0 of 1\n",
            "INFO:root:Writing example 0 of 1\n",
            "INFO:root:Writing example 0 of 1\n",
            "INFO:root:Writing example 0 of 1\n"
          ]
        },
        {
          "name": "stdout",
          "output_type": "stream",
          "text": [
            "3261\n",
            "3262\n",
            "3263\n",
            "3264\n"
          ]
        },
        {
          "name": "stderr",
          "output_type": "stream",
          "text": [
            "INFO:root:Writing example 0 of 1\n",
            "INFO:root:Writing example 0 of 1\n",
            "INFO:root:Writing example 0 of 1\n",
            "INFO:root:Writing example 0 of 1\n"
          ]
        },
        {
          "name": "stdout",
          "output_type": "stream",
          "text": [
            "3265\n",
            "3266\n",
            "3267\n",
            "3268\n"
          ]
        },
        {
          "name": "stderr",
          "output_type": "stream",
          "text": [
            "INFO:root:Writing example 0 of 1\n",
            "INFO:root:Writing example 0 of 1\n",
            "INFO:root:Writing example 0 of 1\n",
            "INFO:root:Writing example 0 of 1\n"
          ]
        },
        {
          "name": "stdout",
          "output_type": "stream",
          "text": [
            "3269\n",
            "3270\n",
            "3271\n",
            "3272\n"
          ]
        },
        {
          "name": "stderr",
          "output_type": "stream",
          "text": [
            "INFO:root:Writing example 0 of 1\n",
            "INFO:root:Writing example 0 of 1\n",
            "INFO:root:Writing example 0 of 1\n",
            "INFO:root:Writing example 0 of 1\n"
          ]
        },
        {
          "name": "stdout",
          "output_type": "stream",
          "text": [
            "3273\n",
            "3274\n",
            "3275\n",
            "3276\n"
          ]
        },
        {
          "name": "stderr",
          "output_type": "stream",
          "text": [
            "INFO:root:Writing example 0 of 1\n",
            "INFO:root:Writing example 0 of 1\n",
            "INFO:root:Writing example 0 of 1\n",
            "INFO:root:Writing example 0 of 1\n"
          ]
        },
        {
          "name": "stdout",
          "output_type": "stream",
          "text": [
            "3277\n",
            "3278\n",
            "3279\n",
            "3280\n"
          ]
        },
        {
          "name": "stderr",
          "output_type": "stream",
          "text": [
            "INFO:root:Writing example 0 of 1\n",
            "INFO:root:Writing example 0 of 1\n",
            "INFO:root:Writing example 0 of 1\n",
            "INFO:root:Writing example 0 of 1\n"
          ]
        },
        {
          "name": "stdout",
          "output_type": "stream",
          "text": [
            "3281\n",
            "3282\n",
            "3283\n",
            "3284\n"
          ]
        },
        {
          "name": "stderr",
          "output_type": "stream",
          "text": [
            "INFO:root:Writing example 0 of 1\n",
            "INFO:root:Writing example 0 of 1\n",
            "INFO:root:Writing example 0 of 1\n",
            "INFO:root:Writing example 0 of 1\n"
          ]
        },
        {
          "name": "stdout",
          "output_type": "stream",
          "text": [
            "3285\n",
            "3286\n",
            "3287\n",
            "3288\n"
          ]
        },
        {
          "name": "stderr",
          "output_type": "stream",
          "text": [
            "INFO:root:Writing example 0 of 1\n",
            "INFO:root:Writing example 0 of 1\n",
            "INFO:root:Writing example 0 of 1\n",
            "INFO:root:Writing example 0 of 1\n"
          ]
        },
        {
          "name": "stdout",
          "output_type": "stream",
          "text": [
            "3289\n",
            "3290\n",
            "3291\n",
            "3292\n"
          ]
        },
        {
          "name": "stderr",
          "output_type": "stream",
          "text": [
            "INFO:root:Writing example 0 of 1\n",
            "INFO:root:Writing example 0 of 1\n",
            "INFO:root:Writing example 0 of 1\n",
            "INFO:root:Writing example 0 of 1\n"
          ]
        },
        {
          "name": "stdout",
          "output_type": "stream",
          "text": [
            "3293\n",
            "3294\n",
            "3295\n",
            "3296\n"
          ]
        },
        {
          "name": "stderr",
          "output_type": "stream",
          "text": [
            "INFO:root:Writing example 0 of 1\n",
            "INFO:root:Writing example 0 of 1\n",
            "INFO:root:Writing example 0 of 1\n",
            "INFO:root:Writing example 0 of 1\n"
          ]
        },
        {
          "name": "stdout",
          "output_type": "stream",
          "text": [
            "3297\n",
            "3298\n",
            "3299\n",
            "3300\n"
          ]
        },
        {
          "name": "stderr",
          "output_type": "stream",
          "text": [
            "INFO:root:Writing example 0 of 1\n",
            "INFO:root:Writing example 0 of 1\n",
            "INFO:root:Writing example 0 of 1\n",
            "INFO:root:Writing example 0 of 1\n"
          ]
        },
        {
          "name": "stdout",
          "output_type": "stream",
          "text": [
            "3301\n",
            "3302\n",
            "3303\n",
            "3304\n"
          ]
        },
        {
          "name": "stderr",
          "output_type": "stream",
          "text": [
            "INFO:root:Writing example 0 of 1\n",
            "INFO:root:Writing example 0 of 1\n",
            "INFO:root:Writing example 0 of 1\n",
            "INFO:root:Writing example 0 of 1\n"
          ]
        },
        {
          "name": "stdout",
          "output_type": "stream",
          "text": [
            "3305\n",
            "3306\n",
            "3307\n",
            "3308\n"
          ]
        },
        {
          "name": "stderr",
          "output_type": "stream",
          "text": [
            "INFO:root:Writing example 0 of 1\n",
            "INFO:root:Writing example 0 of 1\n",
            "INFO:root:Writing example 0 of 1\n",
            "INFO:root:Writing example 0 of 1\n"
          ]
        },
        {
          "name": "stdout",
          "output_type": "stream",
          "text": [
            "3309\n",
            "3310\n",
            "3311\n",
            "3312\n"
          ]
        },
        {
          "name": "stderr",
          "output_type": "stream",
          "text": [
            "INFO:root:Writing example 0 of 1\n",
            "INFO:root:Writing example 0 of 1\n",
            "INFO:root:Writing example 0 of 1\n",
            "INFO:root:Writing example 0 of 1\n"
          ]
        },
        {
          "name": "stdout",
          "output_type": "stream",
          "text": [
            "3313\n",
            "3314\n",
            "3315\n",
            "3316\n"
          ]
        },
        {
          "name": "stderr",
          "output_type": "stream",
          "text": [
            "INFO:root:Writing example 0 of 1\n",
            "INFO:root:Writing example 0 of 1\n",
            "INFO:root:Writing example 0 of 1\n",
            "INFO:root:Writing example 0 of 1\n"
          ]
        },
        {
          "name": "stdout",
          "output_type": "stream",
          "text": [
            "3317\n",
            "3318\n",
            "3319\n",
            "3320\n"
          ]
        },
        {
          "name": "stderr",
          "output_type": "stream",
          "text": [
            "INFO:root:Writing example 0 of 1\n",
            "INFO:root:Writing example 0 of 1\n",
            "INFO:root:Writing example 0 of 1\n",
            "INFO:root:Writing example 0 of 1\n"
          ]
        },
        {
          "name": "stdout",
          "output_type": "stream",
          "text": [
            "3321\n",
            "3322\n",
            "3323\n",
            "3324\n"
          ]
        },
        {
          "name": "stderr",
          "output_type": "stream",
          "text": [
            "INFO:root:Writing example 0 of 1\n",
            "INFO:root:Writing example 0 of 1\n",
            "INFO:root:Writing example 0 of 1\n",
            "INFO:root:Writing example 0 of 1\n"
          ]
        },
        {
          "name": "stdout",
          "output_type": "stream",
          "text": [
            "3325\n",
            "3326\n",
            "3327\n",
            "3328\n"
          ]
        },
        {
          "name": "stderr",
          "output_type": "stream",
          "text": [
            "INFO:root:Writing example 0 of 1\n",
            "INFO:root:Writing example 0 of 1\n",
            "INFO:root:Writing example 0 of 1\n",
            "INFO:root:Writing example 0 of 1\n"
          ]
        },
        {
          "name": "stdout",
          "output_type": "stream",
          "text": [
            "3329\n",
            "3330\n",
            "3331\n",
            "3332\n"
          ]
        },
        {
          "name": "stderr",
          "output_type": "stream",
          "text": [
            "INFO:root:Writing example 0 of 1\n",
            "INFO:root:Writing example 0 of 1\n",
            "INFO:root:Writing example 0 of 1\n",
            "INFO:root:Writing example 0 of 1\n"
          ]
        },
        {
          "name": "stdout",
          "output_type": "stream",
          "text": [
            "3333\n",
            "3334\n",
            "3335\n",
            "3336\n"
          ]
        },
        {
          "name": "stderr",
          "output_type": "stream",
          "text": [
            "INFO:root:Writing example 0 of 1\n",
            "INFO:root:Writing example 0 of 1\n",
            "INFO:root:Writing example 0 of 1\n",
            "INFO:root:Writing example 0 of 1\n"
          ]
        },
        {
          "name": "stdout",
          "output_type": "stream",
          "text": [
            "3337\n",
            "3338\n",
            "3339\n",
            "3340\n"
          ]
        },
        {
          "name": "stderr",
          "output_type": "stream",
          "text": [
            "INFO:root:Writing example 0 of 1\n",
            "INFO:root:Writing example 0 of 1\n",
            "INFO:root:Writing example 0 of 1\n",
            "INFO:root:Writing example 0 of 1\n"
          ]
        },
        {
          "name": "stdout",
          "output_type": "stream",
          "text": [
            "3341\n",
            "3342\n",
            "3343\n",
            "3344\n"
          ]
        },
        {
          "name": "stderr",
          "output_type": "stream",
          "text": [
            "INFO:root:Writing example 0 of 1\n",
            "INFO:root:Writing example 0 of 1\n",
            "INFO:root:Writing example 0 of 1\n",
            "INFO:root:Writing example 0 of 1\n"
          ]
        },
        {
          "name": "stdout",
          "output_type": "stream",
          "text": [
            "3345\n",
            "3346\n",
            "3347\n",
            "3348\n"
          ]
        },
        {
          "name": "stderr",
          "output_type": "stream",
          "text": [
            "INFO:root:Writing example 0 of 1\n",
            "INFO:root:Writing example 0 of 1\n",
            "INFO:root:Writing example 0 of 1\n",
            "INFO:root:Writing example 0 of 1\n"
          ]
        },
        {
          "name": "stdout",
          "output_type": "stream",
          "text": [
            "3349\n",
            "3350\n",
            "3351\n",
            "3352\n"
          ]
        },
        {
          "name": "stderr",
          "output_type": "stream",
          "text": [
            "INFO:root:Writing example 0 of 1\n",
            "INFO:root:Writing example 0 of 1\n",
            "INFO:root:Writing example 0 of 1\n",
            "INFO:root:Writing example 0 of 1\n"
          ]
        },
        {
          "name": "stdout",
          "output_type": "stream",
          "text": [
            "3353\n",
            "3354\n",
            "3355\n",
            "3356\n"
          ]
        },
        {
          "name": "stderr",
          "output_type": "stream",
          "text": [
            "INFO:root:Writing example 0 of 1\n",
            "INFO:root:Writing example 0 of 1\n",
            "INFO:root:Writing example 0 of 1\n",
            "INFO:root:Writing example 0 of 1\n"
          ]
        },
        {
          "name": "stdout",
          "output_type": "stream",
          "text": [
            "3357\n",
            "3358\n",
            "3359\n",
            "3360\n"
          ]
        },
        {
          "name": "stderr",
          "output_type": "stream",
          "text": [
            "INFO:root:Writing example 0 of 1\n",
            "INFO:root:Writing example 0 of 1\n",
            "INFO:root:Writing example 0 of 1\n",
            "INFO:root:Writing example 0 of 1\n"
          ]
        },
        {
          "name": "stdout",
          "output_type": "stream",
          "text": [
            "3361\n",
            "3362\n",
            "3363\n",
            "3364\n"
          ]
        },
        {
          "name": "stderr",
          "output_type": "stream",
          "text": [
            "INFO:root:Writing example 0 of 1\n",
            "INFO:root:Writing example 0 of 1\n",
            "INFO:root:Writing example 0 of 1\n",
            "INFO:root:Writing example 0 of 1\n"
          ]
        },
        {
          "name": "stdout",
          "output_type": "stream",
          "text": [
            "3365\n",
            "3366\n",
            "3367\n",
            "3368\n"
          ]
        },
        {
          "name": "stderr",
          "output_type": "stream",
          "text": [
            "INFO:root:Writing example 0 of 1\n",
            "INFO:root:Writing example 0 of 1\n",
            "INFO:root:Writing example 0 of 1\n",
            "INFO:root:Writing example 0 of 1\n"
          ]
        },
        {
          "name": "stdout",
          "output_type": "stream",
          "text": [
            "3369\n",
            "3370\n",
            "3371\n",
            "3372\n"
          ]
        },
        {
          "name": "stderr",
          "output_type": "stream",
          "text": [
            "INFO:root:Writing example 0 of 1\n",
            "INFO:root:Writing example 0 of 1\n",
            "INFO:root:Writing example 0 of 1\n",
            "INFO:root:Writing example 0 of 1\n"
          ]
        },
        {
          "name": "stdout",
          "output_type": "stream",
          "text": [
            "3373\n",
            "3374\n",
            "3375\n",
            "3376\n"
          ]
        },
        {
          "name": "stderr",
          "output_type": "stream",
          "text": [
            "INFO:root:Writing example 0 of 1\n",
            "INFO:root:Writing example 0 of 1\n",
            "INFO:root:Writing example 0 of 1\n",
            "INFO:root:Writing example 0 of 1\n"
          ]
        },
        {
          "name": "stdout",
          "output_type": "stream",
          "text": [
            "3377\n",
            "3378\n",
            "3379\n",
            "3380\n"
          ]
        },
        {
          "name": "stderr",
          "output_type": "stream",
          "text": [
            "INFO:root:Writing example 0 of 1\n",
            "INFO:root:Writing example 0 of 1\n",
            "INFO:root:Writing example 0 of 1\n",
            "INFO:root:Writing example 0 of 1\n"
          ]
        },
        {
          "name": "stdout",
          "output_type": "stream",
          "text": [
            "3381\n",
            "3382\n",
            "3383\n",
            "3384\n"
          ]
        },
        {
          "name": "stderr",
          "output_type": "stream",
          "text": [
            "INFO:root:Writing example 0 of 1\n",
            "INFO:root:Writing example 0 of 1\n",
            "INFO:root:Writing example 0 of 1\n",
            "INFO:root:Writing example 0 of 1\n"
          ]
        },
        {
          "name": "stdout",
          "output_type": "stream",
          "text": [
            "3385\n",
            "3386\n",
            "3387\n",
            "3388\n"
          ]
        },
        {
          "name": "stderr",
          "output_type": "stream",
          "text": [
            "INFO:root:Writing example 0 of 1\n",
            "INFO:root:Writing example 0 of 1\n",
            "INFO:root:Writing example 0 of 1\n",
            "INFO:root:Writing example 0 of 1\n"
          ]
        },
        {
          "name": "stdout",
          "output_type": "stream",
          "text": [
            "3389\n",
            "3390\n",
            "3391\n",
            "3392\n"
          ]
        },
        {
          "name": "stderr",
          "output_type": "stream",
          "text": [
            "INFO:root:Writing example 0 of 1\n",
            "INFO:root:Writing example 0 of 1\n",
            "INFO:root:Writing example 0 of 1\n",
            "INFO:root:Writing example 0 of 1\n"
          ]
        },
        {
          "name": "stdout",
          "output_type": "stream",
          "text": [
            "3393\n",
            "3394\n",
            "3395\n",
            "3396\n"
          ]
        },
        {
          "name": "stderr",
          "output_type": "stream",
          "text": [
            "INFO:root:Writing example 0 of 1\n",
            "INFO:root:Writing example 0 of 1\n",
            "INFO:root:Writing example 0 of 1\n",
            "INFO:root:Writing example 0 of 1\n"
          ]
        },
        {
          "name": "stdout",
          "output_type": "stream",
          "text": [
            "3397\n",
            "3398\n",
            "3399\n",
            "3400\n"
          ]
        },
        {
          "name": "stderr",
          "output_type": "stream",
          "text": [
            "INFO:root:Writing example 0 of 1\n",
            "INFO:root:Writing example 0 of 1\n",
            "INFO:root:Writing example 0 of 1\n",
            "INFO:root:Writing example 0 of 1\n"
          ]
        },
        {
          "name": "stdout",
          "output_type": "stream",
          "text": [
            "3401\n",
            "3402\n",
            "3403\n",
            "3404\n"
          ]
        },
        {
          "name": "stderr",
          "output_type": "stream",
          "text": [
            "INFO:root:Writing example 0 of 1\n",
            "INFO:root:Writing example 0 of 1\n",
            "INFO:root:Writing example 0 of 1\n",
            "INFO:root:Writing example 0 of 1\n"
          ]
        },
        {
          "name": "stdout",
          "output_type": "stream",
          "text": [
            "3405\n",
            "3406\n",
            "3407\n",
            "3408\n"
          ]
        },
        {
          "name": "stderr",
          "output_type": "stream",
          "text": [
            "INFO:root:Writing example 0 of 1\n",
            "INFO:root:Writing example 0 of 1\n",
            "INFO:root:Writing example 0 of 1\n",
            "INFO:root:Writing example 0 of 1\n"
          ]
        },
        {
          "name": "stdout",
          "output_type": "stream",
          "text": [
            "3409\n",
            "3410\n",
            "3411\n",
            "3412\n"
          ]
        },
        {
          "name": "stderr",
          "output_type": "stream",
          "text": [
            "INFO:root:Writing example 0 of 1\n",
            "INFO:root:Writing example 0 of 1\n",
            "INFO:root:Writing example 0 of 1\n",
            "INFO:root:Writing example 0 of 1\n"
          ]
        },
        {
          "name": "stdout",
          "output_type": "stream",
          "text": [
            "3413\n",
            "3414\n",
            "3415\n",
            "3416\n"
          ]
        },
        {
          "name": "stderr",
          "output_type": "stream",
          "text": [
            "INFO:root:Writing example 0 of 1\n",
            "INFO:root:Writing example 0 of 1\n",
            "INFO:root:Writing example 0 of 1\n",
            "INFO:root:Writing example 0 of 1\n"
          ]
        },
        {
          "name": "stdout",
          "output_type": "stream",
          "text": [
            "3417\n",
            "3418\n",
            "3419\n",
            "3420\n"
          ]
        },
        {
          "name": "stderr",
          "output_type": "stream",
          "text": [
            "INFO:root:Writing example 0 of 1\n",
            "INFO:root:Writing example 0 of 1\n",
            "INFO:root:Writing example 0 of 1\n",
            "INFO:root:Writing example 0 of 1\n"
          ]
        },
        {
          "name": "stdout",
          "output_type": "stream",
          "text": [
            "3421\n",
            "3422\n",
            "3423\n",
            "3424\n"
          ]
        },
        {
          "name": "stderr",
          "output_type": "stream",
          "text": [
            "INFO:root:Writing example 0 of 1\n",
            "INFO:root:Writing example 0 of 1\n",
            "INFO:root:Writing example 0 of 1\n",
            "INFO:root:Writing example 0 of 1\n"
          ]
        },
        {
          "name": "stdout",
          "output_type": "stream",
          "text": [
            "3425\n",
            "3426\n",
            "3427\n",
            "3428\n"
          ]
        },
        {
          "name": "stderr",
          "output_type": "stream",
          "text": [
            "INFO:root:Writing example 0 of 1\n",
            "INFO:root:Writing example 0 of 1\n",
            "INFO:root:Writing example 0 of 1\n",
            "INFO:root:Writing example 0 of 1\n"
          ]
        },
        {
          "name": "stdout",
          "output_type": "stream",
          "text": [
            "3429\n",
            "3430\n",
            "3431\n",
            "3432\n"
          ]
        },
        {
          "name": "stderr",
          "output_type": "stream",
          "text": [
            "INFO:root:Writing example 0 of 1\n",
            "INFO:root:Writing example 0 of 1\n",
            "INFO:root:Writing example 0 of 1\n",
            "INFO:root:Writing example 0 of 1\n"
          ]
        },
        {
          "name": "stdout",
          "output_type": "stream",
          "text": [
            "3433\n",
            "3434\n",
            "3435\n",
            "3436\n"
          ]
        },
        {
          "name": "stderr",
          "output_type": "stream",
          "text": [
            "INFO:root:Writing example 0 of 1\n",
            "INFO:root:Writing example 0 of 1\n",
            "INFO:root:Writing example 0 of 1\n",
            "INFO:root:Writing example 0 of 1\n"
          ]
        },
        {
          "name": "stdout",
          "output_type": "stream",
          "text": [
            "3437\n",
            "3438\n",
            "3439\n",
            "3440\n"
          ]
        },
        {
          "name": "stderr",
          "output_type": "stream",
          "text": [
            "INFO:root:Writing example 0 of 1\n",
            "INFO:root:Writing example 0 of 1\n",
            "INFO:root:Writing example 0 of 1\n",
            "INFO:root:Writing example 0 of 1\n"
          ]
        },
        {
          "name": "stdout",
          "output_type": "stream",
          "text": [
            "3441\n",
            "3442\n",
            "3443\n",
            "3444\n"
          ]
        },
        {
          "name": "stderr",
          "output_type": "stream",
          "text": [
            "INFO:root:Writing example 0 of 1\n",
            "INFO:root:Writing example 0 of 1\n",
            "INFO:root:Writing example 0 of 1\n",
            "INFO:root:Writing example 0 of 1\n"
          ]
        },
        {
          "name": "stdout",
          "output_type": "stream",
          "text": [
            "3445\n",
            "3446\n",
            "3447\n",
            "3448\n"
          ]
        },
        {
          "name": "stderr",
          "output_type": "stream",
          "text": [
            "INFO:root:Writing example 0 of 1\n",
            "INFO:root:Writing example 0 of 1\n",
            "INFO:root:Writing example 0 of 1\n",
            "INFO:root:Writing example 0 of 1\n"
          ]
        },
        {
          "name": "stdout",
          "output_type": "stream",
          "text": [
            "3449\n",
            "3450\n",
            "3451\n",
            "3452\n"
          ]
        },
        {
          "name": "stderr",
          "output_type": "stream",
          "text": [
            "INFO:root:Writing example 0 of 1\n",
            "INFO:root:Writing example 0 of 1\n",
            "INFO:root:Writing example 0 of 1\n",
            "INFO:root:Writing example 0 of 1\n"
          ]
        },
        {
          "name": "stdout",
          "output_type": "stream",
          "text": [
            "3453\n",
            "3454\n",
            "3455\n",
            "3456\n"
          ]
        },
        {
          "name": "stderr",
          "output_type": "stream",
          "text": [
            "INFO:root:Writing example 0 of 1\n",
            "INFO:root:Writing example 0 of 1\n",
            "INFO:root:Writing example 0 of 1\n",
            "INFO:root:Writing example 0 of 1\n"
          ]
        },
        {
          "name": "stdout",
          "output_type": "stream",
          "text": [
            "3457\n",
            "3458\n",
            "3459\n",
            "3460\n"
          ]
        },
        {
          "name": "stderr",
          "output_type": "stream",
          "text": [
            "INFO:root:Writing example 0 of 1\n",
            "INFO:root:Writing example 0 of 1\n",
            "INFO:root:Writing example 0 of 1\n",
            "INFO:root:Writing example 0 of 1\n"
          ]
        },
        {
          "name": "stdout",
          "output_type": "stream",
          "text": [
            "3461\n",
            "3462\n",
            "3463\n",
            "3464\n"
          ]
        },
        {
          "name": "stderr",
          "output_type": "stream",
          "text": [
            "INFO:root:Writing example 0 of 1\n",
            "INFO:root:Writing example 0 of 1\n",
            "INFO:root:Writing example 0 of 1\n",
            "INFO:root:Writing example 0 of 1\n"
          ]
        },
        {
          "name": "stdout",
          "output_type": "stream",
          "text": [
            "3465\n",
            "3466\n",
            "3467\n",
            "3468\n"
          ]
        },
        {
          "name": "stderr",
          "output_type": "stream",
          "text": [
            "INFO:root:Writing example 0 of 1\n",
            "INFO:root:Writing example 0 of 1\n",
            "INFO:root:Writing example 0 of 1\n",
            "INFO:root:Writing example 0 of 1\n"
          ]
        },
        {
          "name": "stdout",
          "output_type": "stream",
          "text": [
            "3469\n",
            "3470\n",
            "3471\n",
            "3472\n"
          ]
        },
        {
          "name": "stderr",
          "output_type": "stream",
          "text": [
            "INFO:root:Writing example 0 of 1\n",
            "INFO:root:Writing example 0 of 1\n",
            "INFO:root:Writing example 0 of 1\n",
            "INFO:root:Writing example 0 of 1\n"
          ]
        },
        {
          "name": "stdout",
          "output_type": "stream",
          "text": [
            "3473\n",
            "3474\n",
            "3475\n",
            "3476\n"
          ]
        },
        {
          "name": "stderr",
          "output_type": "stream",
          "text": [
            "INFO:root:Writing example 0 of 1\n",
            "INFO:root:Writing example 0 of 1\n",
            "INFO:root:Writing example 0 of 1\n",
            "INFO:root:Writing example 0 of 1\n"
          ]
        },
        {
          "name": "stdout",
          "output_type": "stream",
          "text": [
            "3477\n",
            "3478\n",
            "3479\n",
            "3480\n"
          ]
        },
        {
          "name": "stderr",
          "output_type": "stream",
          "text": [
            "INFO:root:Writing example 0 of 1\n",
            "INFO:root:Writing example 0 of 1\n",
            "INFO:root:Writing example 0 of 1\n",
            "INFO:root:Writing example 0 of 1\n"
          ]
        },
        {
          "name": "stdout",
          "output_type": "stream",
          "text": [
            "3481\n",
            "3482\n",
            "3483\n",
            "3484\n"
          ]
        },
        {
          "name": "stderr",
          "output_type": "stream",
          "text": [
            "INFO:root:Writing example 0 of 1\n",
            "INFO:root:Writing example 0 of 1\n",
            "INFO:root:Writing example 0 of 1\n",
            "INFO:root:Writing example 0 of 1\n"
          ]
        },
        {
          "name": "stdout",
          "output_type": "stream",
          "text": [
            "3485\n",
            "3486\n",
            "3487\n",
            "3488\n"
          ]
        },
        {
          "name": "stderr",
          "output_type": "stream",
          "text": [
            "INFO:root:Writing example 0 of 1\n",
            "INFO:root:Writing example 0 of 1\n",
            "INFO:root:Writing example 0 of 1\n",
            "INFO:root:Writing example 0 of 1\n"
          ]
        },
        {
          "name": "stdout",
          "output_type": "stream",
          "text": [
            "3489\n",
            "3490\n",
            "3491\n",
            "3492\n"
          ]
        },
        {
          "name": "stderr",
          "output_type": "stream",
          "text": [
            "INFO:root:Writing example 0 of 1\n",
            "INFO:root:Writing example 0 of 1\n",
            "INFO:root:Writing example 0 of 1\n",
            "INFO:root:Writing example 0 of 1\n"
          ]
        },
        {
          "name": "stdout",
          "output_type": "stream",
          "text": [
            "3493\n",
            "3494\n",
            "3495\n",
            "3496\n"
          ]
        },
        {
          "name": "stderr",
          "output_type": "stream",
          "text": [
            "INFO:root:Writing example 0 of 1\n",
            "INFO:root:Writing example 0 of 1\n",
            "INFO:root:Writing example 0 of 1\n",
            "INFO:root:Writing example 0 of 1\n"
          ]
        },
        {
          "name": "stdout",
          "output_type": "stream",
          "text": [
            "3497\n",
            "3498\n",
            "3499\n",
            "3500\n"
          ]
        },
        {
          "name": "stderr",
          "output_type": "stream",
          "text": [
            "INFO:root:Writing example 0 of 1\n",
            "INFO:root:Writing example 0 of 1\n",
            "INFO:root:Writing example 0 of 1\n",
            "INFO:root:Writing example 0 of 1\n"
          ]
        },
        {
          "name": "stdout",
          "output_type": "stream",
          "text": [
            "3501\n",
            "3502\n",
            "3503\n",
            "3504\n"
          ]
        },
        {
          "name": "stderr",
          "output_type": "stream",
          "text": [
            "INFO:root:Writing example 0 of 1\n",
            "INFO:root:Writing example 0 of 1\n",
            "INFO:root:Writing example 0 of 1\n",
            "INFO:root:Writing example 0 of 1\n"
          ]
        },
        {
          "name": "stdout",
          "output_type": "stream",
          "text": [
            "3505\n",
            "3506\n",
            "3507\n",
            "3508\n"
          ]
        },
        {
          "name": "stderr",
          "output_type": "stream",
          "text": [
            "INFO:root:Writing example 0 of 1\n",
            "INFO:root:Writing example 0 of 1\n",
            "INFO:root:Writing example 0 of 1\n",
            "INFO:root:Writing example 0 of 1\n"
          ]
        },
        {
          "name": "stdout",
          "output_type": "stream",
          "text": [
            "3509\n",
            "3510\n",
            "3511\n",
            "3512\n"
          ]
        },
        {
          "name": "stderr",
          "output_type": "stream",
          "text": [
            "INFO:root:Writing example 0 of 1\n",
            "INFO:root:Writing example 0 of 1\n",
            "INFO:root:Writing example 0 of 1\n",
            "INFO:root:Writing example 0 of 1\n"
          ]
        },
        {
          "name": "stdout",
          "output_type": "stream",
          "text": [
            "3513\n",
            "3514\n",
            "3515\n",
            "3516\n"
          ]
        },
        {
          "name": "stderr",
          "output_type": "stream",
          "text": [
            "INFO:root:Writing example 0 of 1\n",
            "INFO:root:Writing example 0 of 1\n",
            "INFO:root:Writing example 0 of 1\n",
            "INFO:root:Writing example 0 of 1\n"
          ]
        },
        {
          "name": "stdout",
          "output_type": "stream",
          "text": [
            "3517\n",
            "3518\n",
            "3519\n",
            "3520\n"
          ]
        },
        {
          "name": "stderr",
          "output_type": "stream",
          "text": [
            "INFO:root:Writing example 0 of 1\n",
            "INFO:root:Writing example 0 of 1\n",
            "INFO:root:Writing example 0 of 1\n",
            "INFO:root:Writing example 0 of 1\n"
          ]
        },
        {
          "name": "stdout",
          "output_type": "stream",
          "text": [
            "3521\n",
            "3522\n",
            "3523\n",
            "3524\n"
          ]
        },
        {
          "name": "stderr",
          "output_type": "stream",
          "text": [
            "INFO:root:Writing example 0 of 1\n",
            "INFO:root:Writing example 0 of 1\n",
            "INFO:root:Writing example 0 of 1\n",
            "INFO:root:Writing example 0 of 1\n"
          ]
        },
        {
          "name": "stdout",
          "output_type": "stream",
          "text": [
            "3525\n",
            "3526\n",
            "3527\n",
            "3528\n"
          ]
        },
        {
          "name": "stderr",
          "output_type": "stream",
          "text": [
            "INFO:root:Writing example 0 of 1\n",
            "INFO:root:Writing example 0 of 1\n",
            "INFO:root:Writing example 0 of 1\n",
            "INFO:root:Writing example 0 of 1\n"
          ]
        },
        {
          "name": "stdout",
          "output_type": "stream",
          "text": [
            "3529\n",
            "3530\n",
            "3531\n",
            "3532\n"
          ]
        },
        {
          "name": "stderr",
          "output_type": "stream",
          "text": [
            "INFO:root:Writing example 0 of 1\n",
            "INFO:root:Writing example 0 of 1\n",
            "INFO:root:Writing example 0 of 1\n",
            "INFO:root:Writing example 0 of 1\n"
          ]
        },
        {
          "name": "stdout",
          "output_type": "stream",
          "text": [
            "3533\n",
            "3534\n",
            "3535\n",
            "3536\n"
          ]
        },
        {
          "name": "stderr",
          "output_type": "stream",
          "text": [
            "INFO:root:Writing example 0 of 1\n",
            "INFO:root:Writing example 0 of 1\n",
            "INFO:root:Writing example 0 of 1\n",
            "INFO:root:Writing example 0 of 1\n"
          ]
        },
        {
          "name": "stdout",
          "output_type": "stream",
          "text": [
            "3537\n",
            "3538\n",
            "3539\n",
            "3540\n"
          ]
        },
        {
          "name": "stderr",
          "output_type": "stream",
          "text": [
            "INFO:root:Writing example 0 of 1\n",
            "INFO:root:Writing example 0 of 1\n",
            "INFO:root:Writing example 0 of 1\n",
            "INFO:root:Writing example 0 of 1\n"
          ]
        },
        {
          "name": "stdout",
          "output_type": "stream",
          "text": [
            "3541\n",
            "3542\n",
            "3543\n",
            "3544\n"
          ]
        },
        {
          "name": "stderr",
          "output_type": "stream",
          "text": [
            "INFO:root:Writing example 0 of 1\n",
            "INFO:root:Writing example 0 of 1\n",
            "INFO:root:Writing example 0 of 1\n",
            "INFO:root:Writing example 0 of 1\n"
          ]
        },
        {
          "name": "stdout",
          "output_type": "stream",
          "text": [
            "3545\n",
            "3546\n",
            "3547\n",
            "3548\n"
          ]
        },
        {
          "name": "stderr",
          "output_type": "stream",
          "text": [
            "INFO:root:Writing example 0 of 1\n",
            "INFO:root:Writing example 0 of 1\n",
            "INFO:root:Writing example 0 of 1\n",
            "INFO:root:Writing example 0 of 1\n"
          ]
        },
        {
          "name": "stdout",
          "output_type": "stream",
          "text": [
            "3549\n",
            "3550\n",
            "3551\n",
            "3552\n"
          ]
        },
        {
          "name": "stderr",
          "output_type": "stream",
          "text": [
            "INFO:root:Writing example 0 of 1\n",
            "INFO:root:Writing example 0 of 1\n",
            "INFO:root:Writing example 0 of 1\n",
            "INFO:root:Writing example 0 of 1\n"
          ]
        },
        {
          "name": "stdout",
          "output_type": "stream",
          "text": [
            "3553\n",
            "3554\n",
            "3555\n",
            "3556\n"
          ]
        },
        {
          "name": "stderr",
          "output_type": "stream",
          "text": [
            "INFO:root:Writing example 0 of 1\n",
            "INFO:root:Writing example 0 of 1\n",
            "INFO:root:Writing example 0 of 1\n",
            "INFO:root:Writing example 0 of 1\n"
          ]
        },
        {
          "name": "stdout",
          "output_type": "stream",
          "text": [
            "3557\n",
            "3558\n",
            "3559\n",
            "3560\n"
          ]
        },
        {
          "name": "stderr",
          "output_type": "stream",
          "text": [
            "INFO:root:Writing example 0 of 1\n",
            "INFO:root:Writing example 0 of 1\n",
            "INFO:root:Writing example 0 of 1\n",
            "INFO:root:Writing example 0 of 1\n"
          ]
        },
        {
          "name": "stdout",
          "output_type": "stream",
          "text": [
            "3561\n",
            "3562\n",
            "3563\n",
            "3564\n"
          ]
        },
        {
          "name": "stderr",
          "output_type": "stream",
          "text": [
            "INFO:root:Writing example 0 of 1\n",
            "INFO:root:Writing example 0 of 1\n",
            "INFO:root:Writing example 0 of 1\n",
            "INFO:root:Writing example 0 of 1\n"
          ]
        },
        {
          "name": "stdout",
          "output_type": "stream",
          "text": [
            "3565\n",
            "3566\n",
            "3567\n",
            "3568\n"
          ]
        },
        {
          "name": "stderr",
          "output_type": "stream",
          "text": [
            "INFO:root:Writing example 0 of 1\n",
            "INFO:root:Writing example 0 of 1\n",
            "INFO:root:Writing example 0 of 1\n",
            "INFO:root:Writing example 0 of 1\n"
          ]
        },
        {
          "name": "stdout",
          "output_type": "stream",
          "text": [
            "3569\n",
            "3570\n",
            "3571\n",
            "3572\n"
          ]
        },
        {
          "name": "stderr",
          "output_type": "stream",
          "text": [
            "INFO:root:Writing example 0 of 1\n",
            "INFO:root:Writing example 0 of 1\n",
            "INFO:root:Writing example 0 of 1\n",
            "INFO:root:Writing example 0 of 1\n"
          ]
        },
        {
          "name": "stdout",
          "output_type": "stream",
          "text": [
            "3573\n",
            "3574\n",
            "3575\n",
            "3576\n"
          ]
        },
        {
          "name": "stderr",
          "output_type": "stream",
          "text": [
            "INFO:root:Writing example 0 of 1\n",
            "INFO:root:Writing example 0 of 1\n",
            "INFO:root:Writing example 0 of 1\n",
            "INFO:root:Writing example 0 of 1\n"
          ]
        },
        {
          "name": "stdout",
          "output_type": "stream",
          "text": [
            "3577\n",
            "3578\n",
            "3579\n",
            "3580\n"
          ]
        },
        {
          "name": "stderr",
          "output_type": "stream",
          "text": [
            "INFO:root:Writing example 0 of 1\n",
            "INFO:root:Writing example 0 of 1\n",
            "INFO:root:Writing example 0 of 1\n",
            "INFO:root:Writing example 0 of 1\n"
          ]
        },
        {
          "name": "stdout",
          "output_type": "stream",
          "text": [
            "3581\n",
            "3582\n",
            "3583\n",
            "3584\n"
          ]
        },
        {
          "name": "stderr",
          "output_type": "stream",
          "text": [
            "INFO:root:Writing example 0 of 1\n",
            "INFO:root:Writing example 0 of 1\n",
            "INFO:root:Writing example 0 of 1\n",
            "INFO:root:Writing example 0 of 1\n"
          ]
        },
        {
          "name": "stdout",
          "output_type": "stream",
          "text": [
            "3585\n",
            "3586\n",
            "3587\n",
            "3588\n"
          ]
        },
        {
          "name": "stderr",
          "output_type": "stream",
          "text": [
            "INFO:root:Writing example 0 of 1\n",
            "INFO:root:Writing example 0 of 1\n",
            "INFO:root:Writing example 0 of 1\n",
            "INFO:root:Writing example 0 of 1\n"
          ]
        },
        {
          "name": "stdout",
          "output_type": "stream",
          "text": [
            "3589\n",
            "3590\n",
            "3591\n",
            "3592\n"
          ]
        },
        {
          "name": "stderr",
          "output_type": "stream",
          "text": [
            "INFO:root:Writing example 0 of 1\n",
            "INFO:root:Writing example 0 of 1\n",
            "INFO:root:Writing example 0 of 1\n",
            "INFO:root:Writing example 0 of 1\n"
          ]
        },
        {
          "name": "stdout",
          "output_type": "stream",
          "text": [
            "3593\n",
            "3594\n",
            "3595\n",
            "3596\n"
          ]
        },
        {
          "name": "stderr",
          "output_type": "stream",
          "text": [
            "INFO:root:Writing example 0 of 1\n",
            "INFO:root:Writing example 0 of 1\n",
            "INFO:root:Writing example 0 of 1\n",
            "INFO:root:Writing example 0 of 1\n"
          ]
        },
        {
          "name": "stdout",
          "output_type": "stream",
          "text": [
            "3597\n",
            "3598\n",
            "3599\n",
            "3600\n"
          ]
        },
        {
          "name": "stderr",
          "output_type": "stream",
          "text": [
            "INFO:root:Writing example 0 of 1\n",
            "INFO:root:Writing example 0 of 1\n",
            "INFO:root:Writing example 0 of 1\n",
            "INFO:root:Writing example 0 of 1\n"
          ]
        },
        {
          "name": "stdout",
          "output_type": "stream",
          "text": [
            "3601\n",
            "3602\n",
            "3603\n",
            "3604\n"
          ]
        },
        {
          "name": "stderr",
          "output_type": "stream",
          "text": [
            "INFO:root:Writing example 0 of 1\n",
            "INFO:root:Writing example 0 of 1\n",
            "INFO:root:Writing example 0 of 1\n",
            "INFO:root:Writing example 0 of 1\n"
          ]
        },
        {
          "name": "stdout",
          "output_type": "stream",
          "text": [
            "3605\n",
            "3606\n",
            "3607\n",
            "3608\n"
          ]
        },
        {
          "name": "stderr",
          "output_type": "stream",
          "text": [
            "INFO:root:Writing example 0 of 1\n",
            "INFO:root:Writing example 0 of 1\n",
            "INFO:root:Writing example 0 of 1\n",
            "INFO:root:Writing example 0 of 1\n"
          ]
        },
        {
          "name": "stdout",
          "output_type": "stream",
          "text": [
            "3609\n",
            "3610\n",
            "3611\n",
            "3612\n"
          ]
        },
        {
          "name": "stderr",
          "output_type": "stream",
          "text": [
            "INFO:root:Writing example 0 of 1\n",
            "INFO:root:Writing example 0 of 1\n",
            "INFO:root:Writing example 0 of 1\n",
            "INFO:root:Writing example 0 of 1\n"
          ]
        },
        {
          "name": "stdout",
          "output_type": "stream",
          "text": [
            "3613\n",
            "3614\n",
            "3615\n",
            "3616\n"
          ]
        },
        {
          "name": "stderr",
          "output_type": "stream",
          "text": [
            "INFO:root:Writing example 0 of 1\n",
            "INFO:root:Writing example 0 of 1\n",
            "INFO:root:Writing example 0 of 1\n",
            "INFO:root:Writing example 0 of 1\n"
          ]
        },
        {
          "name": "stdout",
          "output_type": "stream",
          "text": [
            "3617\n",
            "3618\n",
            "3619\n",
            "3620\n"
          ]
        },
        {
          "name": "stderr",
          "output_type": "stream",
          "text": [
            "INFO:root:Writing example 0 of 1\n",
            "INFO:root:Writing example 0 of 1\n",
            "INFO:root:Writing example 0 of 1\n",
            "INFO:root:Writing example 0 of 1\n"
          ]
        },
        {
          "name": "stdout",
          "output_type": "stream",
          "text": [
            "3621\n",
            "3622\n",
            "3623\n",
            "3624\n"
          ]
        },
        {
          "name": "stderr",
          "output_type": "stream",
          "text": [
            "INFO:root:Writing example 0 of 1\n",
            "INFO:root:Writing example 0 of 1\n",
            "INFO:root:Writing example 0 of 1\n",
            "INFO:root:Writing example 0 of 1\n"
          ]
        },
        {
          "name": "stdout",
          "output_type": "stream",
          "text": [
            "3625\n",
            "3626\n",
            "3627\n",
            "3628\n"
          ]
        },
        {
          "name": "stderr",
          "output_type": "stream",
          "text": [
            "INFO:root:Writing example 0 of 1\n",
            "INFO:root:Writing example 0 of 1\n",
            "INFO:root:Writing example 0 of 1\n",
            "INFO:root:Writing example 0 of 1\n"
          ]
        },
        {
          "name": "stdout",
          "output_type": "stream",
          "text": [
            "3629\n",
            "3630\n",
            "3631\n",
            "3632\n"
          ]
        },
        {
          "name": "stderr",
          "output_type": "stream",
          "text": [
            "INFO:root:Writing example 0 of 1\n",
            "INFO:root:Writing example 0 of 1\n",
            "INFO:root:Writing example 0 of 1\n",
            "INFO:root:Writing example 0 of 1\n"
          ]
        },
        {
          "name": "stdout",
          "output_type": "stream",
          "text": [
            "3633\n",
            "3634\n",
            "3635\n",
            "3636\n"
          ]
        },
        {
          "name": "stderr",
          "output_type": "stream",
          "text": [
            "INFO:root:Writing example 0 of 1\n",
            "INFO:root:Writing example 0 of 1\n",
            "INFO:root:Writing example 0 of 1\n",
            "INFO:root:Writing example 0 of 1\n"
          ]
        },
        {
          "name": "stdout",
          "output_type": "stream",
          "text": [
            "3637\n",
            "3638\n",
            "3639\n",
            "3640\n"
          ]
        },
        {
          "name": "stderr",
          "output_type": "stream",
          "text": [
            "INFO:root:Writing example 0 of 1\n",
            "INFO:root:Writing example 0 of 1\n",
            "INFO:root:Writing example 0 of 1\n",
            "INFO:root:Writing example 0 of 1\n"
          ]
        },
        {
          "name": "stdout",
          "output_type": "stream",
          "text": [
            "3641\n",
            "3642\n",
            "3643\n",
            "3644\n"
          ]
        },
        {
          "name": "stderr",
          "output_type": "stream",
          "text": [
            "INFO:root:Writing example 0 of 1\n",
            "INFO:root:Writing example 0 of 1\n",
            "INFO:root:Writing example 0 of 1\n",
            "INFO:root:Writing example 0 of 1\n"
          ]
        },
        {
          "name": "stdout",
          "output_type": "stream",
          "text": [
            "3645\n",
            "3646\n",
            "3647\n",
            "3648\n"
          ]
        },
        {
          "name": "stderr",
          "output_type": "stream",
          "text": [
            "INFO:root:Writing example 0 of 1\n",
            "INFO:root:Writing example 0 of 1\n",
            "INFO:root:Writing example 0 of 1\n",
            "INFO:root:Writing example 0 of 1\n"
          ]
        },
        {
          "name": "stdout",
          "output_type": "stream",
          "text": [
            "3649\n",
            "3650\n",
            "3651\n",
            "3652\n"
          ]
        },
        {
          "name": "stderr",
          "output_type": "stream",
          "text": [
            "INFO:root:Writing example 0 of 1\n",
            "INFO:root:Writing example 0 of 1\n",
            "INFO:root:Writing example 0 of 1\n",
            "INFO:root:Writing example 0 of 1\n"
          ]
        },
        {
          "name": "stdout",
          "output_type": "stream",
          "text": [
            "3653\n",
            "3654\n",
            "3655\n",
            "3656\n"
          ]
        },
        {
          "name": "stderr",
          "output_type": "stream",
          "text": [
            "INFO:root:Writing example 0 of 1\n",
            "INFO:root:Writing example 0 of 1\n",
            "INFO:root:Writing example 0 of 1\n",
            "INFO:root:Writing example 0 of 1\n"
          ]
        },
        {
          "name": "stdout",
          "output_type": "stream",
          "text": [
            "3657\n",
            "3658\n",
            "3659\n",
            "3660\n"
          ]
        },
        {
          "name": "stderr",
          "output_type": "stream",
          "text": [
            "INFO:root:Writing example 0 of 1\n",
            "INFO:root:Writing example 0 of 1\n",
            "INFO:root:Writing example 0 of 1\n",
            "INFO:root:Writing example 0 of 1\n"
          ]
        },
        {
          "name": "stdout",
          "output_type": "stream",
          "text": [
            "3661\n",
            "3662\n",
            "3663\n",
            "3664\n"
          ]
        },
        {
          "name": "stderr",
          "output_type": "stream",
          "text": [
            "INFO:root:Writing example 0 of 1\n",
            "INFO:root:Writing example 0 of 1\n",
            "INFO:root:Writing example 0 of 1\n",
            "INFO:root:Writing example 0 of 1\n"
          ]
        },
        {
          "name": "stdout",
          "output_type": "stream",
          "text": [
            "3665\n",
            "3666\n",
            "3667\n",
            "3668\n"
          ]
        },
        {
          "name": "stderr",
          "output_type": "stream",
          "text": [
            "INFO:root:Writing example 0 of 1\n",
            "INFO:root:Writing example 0 of 1\n",
            "INFO:root:Writing example 0 of 1\n",
            "INFO:root:Writing example 0 of 1\n"
          ]
        },
        {
          "name": "stdout",
          "output_type": "stream",
          "text": [
            "3669\n",
            "3670\n",
            "3671\n",
            "3672\n"
          ]
        },
        {
          "name": "stderr",
          "output_type": "stream",
          "text": [
            "INFO:root:Writing example 0 of 1\n",
            "INFO:root:Writing example 0 of 1\n",
            "INFO:root:Writing example 0 of 1\n",
            "INFO:root:Writing example 0 of 1\n"
          ]
        },
        {
          "name": "stdout",
          "output_type": "stream",
          "text": [
            "3673\n",
            "3674\n",
            "3675\n",
            "3676\n"
          ]
        },
        {
          "name": "stderr",
          "output_type": "stream",
          "text": [
            "INFO:root:Writing example 0 of 1\n",
            "INFO:root:Writing example 0 of 1\n",
            "INFO:root:Writing example 0 of 1\n",
            "INFO:root:Writing example 0 of 1\n"
          ]
        },
        {
          "name": "stdout",
          "output_type": "stream",
          "text": [
            "3677\n",
            "3678\n",
            "3679\n",
            "3680\n"
          ]
        },
        {
          "name": "stderr",
          "output_type": "stream",
          "text": [
            "INFO:root:Writing example 0 of 1\n",
            "INFO:root:Writing example 0 of 1\n",
            "INFO:root:Writing example 0 of 1\n",
            "INFO:root:Writing example 0 of 1\n"
          ]
        },
        {
          "name": "stdout",
          "output_type": "stream",
          "text": [
            "3681\n",
            "3682\n",
            "3683\n",
            "3684\n"
          ]
        },
        {
          "name": "stderr",
          "output_type": "stream",
          "text": [
            "INFO:root:Writing example 0 of 1\n",
            "INFO:root:Writing example 0 of 1\n",
            "INFO:root:Writing example 0 of 1\n",
            "INFO:root:Writing example 0 of 1\n"
          ]
        },
        {
          "name": "stdout",
          "output_type": "stream",
          "text": [
            "3685\n",
            "3686\n",
            "3687\n",
            "3688\n"
          ]
        },
        {
          "name": "stderr",
          "output_type": "stream",
          "text": [
            "INFO:root:Writing example 0 of 1\n",
            "INFO:root:Writing example 0 of 1\n",
            "INFO:root:Writing example 0 of 1\n",
            "INFO:root:Writing example 0 of 1\n"
          ]
        },
        {
          "name": "stdout",
          "output_type": "stream",
          "text": [
            "3689\n",
            "3690\n",
            "3691\n",
            "3692\n"
          ]
        },
        {
          "name": "stderr",
          "output_type": "stream",
          "text": [
            "INFO:root:Writing example 0 of 1\n",
            "INFO:root:Writing example 0 of 1\n",
            "INFO:root:Writing example 0 of 1\n",
            "INFO:root:Writing example 0 of 1\n"
          ]
        },
        {
          "name": "stdout",
          "output_type": "stream",
          "text": [
            "3693\n",
            "3694\n",
            "3695\n",
            "3696\n"
          ]
        },
        {
          "name": "stderr",
          "output_type": "stream",
          "text": [
            "INFO:root:Writing example 0 of 1\n",
            "INFO:root:Writing example 0 of 1\n",
            "INFO:root:Writing example 0 of 1\n",
            "INFO:root:Writing example 0 of 1\n"
          ]
        },
        {
          "name": "stdout",
          "output_type": "stream",
          "text": [
            "3697\n",
            "3698\n",
            "3699\n",
            "3700\n"
          ]
        },
        {
          "name": "stderr",
          "output_type": "stream",
          "text": [
            "INFO:root:Writing example 0 of 1\n",
            "INFO:root:Writing example 0 of 1\n",
            "INFO:root:Writing example 0 of 1\n",
            "INFO:root:Writing example 0 of 1\n"
          ]
        },
        {
          "name": "stdout",
          "output_type": "stream",
          "text": [
            "3701\n",
            "3702\n",
            "3703\n",
            "3704\n"
          ]
        },
        {
          "name": "stderr",
          "output_type": "stream",
          "text": [
            "INFO:root:Writing example 0 of 1\n",
            "INFO:root:Writing example 0 of 1\n",
            "INFO:root:Writing example 0 of 1\n",
            "INFO:root:Writing example 0 of 1\n"
          ]
        },
        {
          "name": "stdout",
          "output_type": "stream",
          "text": [
            "3705\n",
            "3706\n",
            "3707\n",
            "3708\n"
          ]
        },
        {
          "name": "stderr",
          "output_type": "stream",
          "text": [
            "INFO:root:Writing example 0 of 1\n",
            "INFO:root:Writing example 0 of 1\n",
            "INFO:root:Writing example 0 of 1\n",
            "INFO:root:Writing example 0 of 1\n"
          ]
        },
        {
          "name": "stdout",
          "output_type": "stream",
          "text": [
            "3709\n",
            "3710\n",
            "3711\n",
            "3712\n"
          ]
        },
        {
          "name": "stderr",
          "output_type": "stream",
          "text": [
            "INFO:root:Writing example 0 of 1\n",
            "INFO:root:Writing example 0 of 1\n",
            "INFO:root:Writing example 0 of 1\n",
            "INFO:root:Writing example 0 of 1\n"
          ]
        },
        {
          "name": "stdout",
          "output_type": "stream",
          "text": [
            "3713\n",
            "3714\n",
            "3715\n",
            "3716\n"
          ]
        },
        {
          "name": "stderr",
          "output_type": "stream",
          "text": [
            "INFO:root:Writing example 0 of 1\n",
            "INFO:root:Writing example 0 of 1\n",
            "INFO:root:Writing example 0 of 1\n",
            "INFO:root:Writing example 0 of 1\n"
          ]
        },
        {
          "name": "stdout",
          "output_type": "stream",
          "text": [
            "3717\n",
            "3718\n",
            "3719\n",
            "3720\n"
          ]
        },
        {
          "name": "stderr",
          "output_type": "stream",
          "text": [
            "INFO:root:Writing example 0 of 1\n",
            "INFO:root:Writing example 0 of 1\n",
            "INFO:root:Writing example 0 of 1\n",
            "INFO:root:Writing example 0 of 1\n"
          ]
        },
        {
          "name": "stdout",
          "output_type": "stream",
          "text": [
            "3721\n",
            "3722\n",
            "3723\n",
            "3724\n"
          ]
        },
        {
          "name": "stderr",
          "output_type": "stream",
          "text": [
            "INFO:root:Writing example 0 of 1\n",
            "INFO:root:Writing example 0 of 1\n",
            "INFO:root:Writing example 0 of 1\n",
            "INFO:root:Writing example 0 of 1\n"
          ]
        },
        {
          "name": "stdout",
          "output_type": "stream",
          "text": [
            "3725\n",
            "3726\n",
            "3727\n",
            "3728\n"
          ]
        },
        {
          "name": "stderr",
          "output_type": "stream",
          "text": [
            "INFO:root:Writing example 0 of 1\n",
            "INFO:root:Writing example 0 of 1\n",
            "INFO:root:Writing example 0 of 1\n",
            "INFO:root:Writing example 0 of 1\n"
          ]
        },
        {
          "name": "stdout",
          "output_type": "stream",
          "text": [
            "3729\n",
            "3730\n",
            "3731\n",
            "3732\n"
          ]
        },
        {
          "name": "stderr",
          "output_type": "stream",
          "text": [
            "INFO:root:Writing example 0 of 1\n",
            "INFO:root:Writing example 0 of 1\n",
            "INFO:root:Writing example 0 of 1\n",
            "INFO:root:Writing example 0 of 1\n"
          ]
        },
        {
          "name": "stdout",
          "output_type": "stream",
          "text": [
            "3733\n",
            "3734\n",
            "3735\n",
            "3736\n"
          ]
        },
        {
          "name": "stderr",
          "output_type": "stream",
          "text": [
            "INFO:root:Writing example 0 of 1\n",
            "INFO:root:Writing example 0 of 1\n",
            "INFO:root:Writing example 0 of 1\n",
            "INFO:root:Writing example 0 of 1\n"
          ]
        },
        {
          "name": "stdout",
          "output_type": "stream",
          "text": [
            "3737\n",
            "3738\n",
            "3739\n",
            "3740\n"
          ]
        },
        {
          "name": "stderr",
          "output_type": "stream",
          "text": [
            "INFO:root:Writing example 0 of 1\n",
            "INFO:root:Writing example 0 of 1\n",
            "INFO:root:Writing example 0 of 1\n",
            "INFO:root:Writing example 0 of 1\n"
          ]
        },
        {
          "name": "stdout",
          "output_type": "stream",
          "text": [
            "3741\n",
            "3742\n",
            "3743\n",
            "3744\n"
          ]
        },
        {
          "name": "stderr",
          "output_type": "stream",
          "text": [
            "INFO:root:Writing example 0 of 1\n",
            "INFO:root:Writing example 0 of 1\n",
            "INFO:root:Writing example 0 of 1\n",
            "INFO:root:Writing example 0 of 1\n"
          ]
        },
        {
          "name": "stdout",
          "output_type": "stream",
          "text": [
            "3745\n",
            "3746\n",
            "3747\n",
            "3748\n"
          ]
        },
        {
          "name": "stderr",
          "output_type": "stream",
          "text": [
            "INFO:root:Writing example 0 of 1\n",
            "INFO:root:Writing example 0 of 1\n",
            "INFO:root:Writing example 0 of 1\n",
            "INFO:root:Writing example 0 of 1\n"
          ]
        },
        {
          "name": "stdout",
          "output_type": "stream",
          "text": [
            "3749\n",
            "3750\n",
            "3751\n",
            "3752\n"
          ]
        },
        {
          "name": "stderr",
          "output_type": "stream",
          "text": [
            "INFO:root:Writing example 0 of 1\n",
            "INFO:root:Writing example 0 of 1\n",
            "INFO:root:Writing example 0 of 1\n",
            "INFO:root:Writing example 0 of 1\n"
          ]
        },
        {
          "name": "stdout",
          "output_type": "stream",
          "text": [
            "3753\n",
            "3754\n",
            "3755\n",
            "3756\n"
          ]
        },
        {
          "name": "stderr",
          "output_type": "stream",
          "text": [
            "INFO:root:Writing example 0 of 1\n",
            "INFO:root:Writing example 0 of 1\n",
            "INFO:root:Writing example 0 of 1\n",
            "INFO:root:Writing example 0 of 1\n"
          ]
        },
        {
          "name": "stdout",
          "output_type": "stream",
          "text": [
            "3757\n",
            "3758\n",
            "3759\n",
            "3760\n"
          ]
        },
        {
          "name": "stderr",
          "output_type": "stream",
          "text": [
            "INFO:root:Writing example 0 of 1\n",
            "INFO:root:Writing example 0 of 1\n",
            "INFO:root:Writing example 0 of 1\n",
            "INFO:root:Writing example 0 of 1\n"
          ]
        },
        {
          "name": "stdout",
          "output_type": "stream",
          "text": [
            "3761\n",
            "3762\n",
            "3763\n",
            "3764\n"
          ]
        },
        {
          "name": "stderr",
          "output_type": "stream",
          "text": [
            "INFO:root:Writing example 0 of 1\n",
            "INFO:root:Writing example 0 of 1\n",
            "INFO:root:Writing example 0 of 1\n",
            "INFO:root:Writing example 0 of 1\n"
          ]
        },
        {
          "name": "stdout",
          "output_type": "stream",
          "text": [
            "3765\n",
            "3766\n",
            "3767\n",
            "3768\n"
          ]
        },
        {
          "name": "stderr",
          "output_type": "stream",
          "text": [
            "INFO:root:Writing example 0 of 1\n",
            "INFO:root:Writing example 0 of 1\n",
            "INFO:root:Writing example 0 of 1\n",
            "INFO:root:Writing example 0 of 1\n"
          ]
        },
        {
          "name": "stdout",
          "output_type": "stream",
          "text": [
            "3769\n",
            "3770\n",
            "3771\n",
            "3772\n"
          ]
        },
        {
          "name": "stderr",
          "output_type": "stream",
          "text": [
            "INFO:root:Writing example 0 of 1\n",
            "INFO:root:Writing example 0 of 1\n",
            "INFO:root:Writing example 0 of 1\n",
            "INFO:root:Writing example 0 of 1\n"
          ]
        },
        {
          "name": "stdout",
          "output_type": "stream",
          "text": [
            "3773\n",
            "3774\n",
            "3775\n",
            "3776\n"
          ]
        },
        {
          "name": "stderr",
          "output_type": "stream",
          "text": [
            "INFO:root:Writing example 0 of 1\n",
            "INFO:root:Writing example 0 of 1\n",
            "INFO:root:Writing example 0 of 1\n",
            "INFO:root:Writing example 0 of 1\n"
          ]
        },
        {
          "name": "stdout",
          "output_type": "stream",
          "text": [
            "3777\n",
            "3778\n",
            "3779\n",
            "3780\n"
          ]
        },
        {
          "name": "stderr",
          "output_type": "stream",
          "text": [
            "INFO:root:Writing example 0 of 1\n",
            "INFO:root:Writing example 0 of 1\n",
            "INFO:root:Writing example 0 of 1\n",
            "INFO:root:Writing example 0 of 1\n"
          ]
        },
        {
          "name": "stdout",
          "output_type": "stream",
          "text": [
            "3781\n",
            "3782\n",
            "3783\n",
            "3784\n"
          ]
        },
        {
          "name": "stderr",
          "output_type": "stream",
          "text": [
            "INFO:root:Writing example 0 of 1\n",
            "INFO:root:Writing example 0 of 1\n",
            "INFO:root:Writing example 0 of 1\n",
            "INFO:root:Writing example 0 of 1\n"
          ]
        },
        {
          "name": "stdout",
          "output_type": "stream",
          "text": [
            "3785\n",
            "3786\n",
            "3787\n",
            "3788\n"
          ]
        },
        {
          "name": "stderr",
          "output_type": "stream",
          "text": [
            "INFO:root:Writing example 0 of 1\n",
            "INFO:root:Writing example 0 of 1\n",
            "INFO:root:Writing example 0 of 1\n",
            "INFO:root:Writing example 0 of 1\n"
          ]
        },
        {
          "name": "stdout",
          "output_type": "stream",
          "text": [
            "3789\n",
            "3790\n",
            "3791\n",
            "3792\n"
          ]
        },
        {
          "name": "stderr",
          "output_type": "stream",
          "text": [
            "INFO:root:Writing example 0 of 1\n",
            "INFO:root:Writing example 0 of 1\n",
            "INFO:root:Writing example 0 of 1\n",
            "INFO:root:Writing example 0 of 1\n"
          ]
        },
        {
          "name": "stdout",
          "output_type": "stream",
          "text": [
            "3793\n",
            "3794\n",
            "3795\n",
            "3796\n"
          ]
        },
        {
          "name": "stderr",
          "output_type": "stream",
          "text": [
            "INFO:root:Writing example 0 of 1\n",
            "INFO:root:Writing example 0 of 1\n",
            "INFO:root:Writing example 0 of 1\n",
            "INFO:root:Writing example 0 of 1\n"
          ]
        },
        {
          "name": "stdout",
          "output_type": "stream",
          "text": [
            "3797\n",
            "3798\n",
            "3799\n",
            "3800\n"
          ]
        },
        {
          "name": "stderr",
          "output_type": "stream",
          "text": [
            "INFO:root:Writing example 0 of 1\n",
            "INFO:root:Writing example 0 of 1\n",
            "INFO:root:Writing example 0 of 1\n",
            "INFO:root:Writing example 0 of 1\n"
          ]
        },
        {
          "name": "stdout",
          "output_type": "stream",
          "text": [
            "3801\n",
            "3802\n",
            "3803\n",
            "3804\n"
          ]
        },
        {
          "name": "stderr",
          "output_type": "stream",
          "text": [
            "INFO:root:Writing example 0 of 1\n",
            "INFO:root:Writing example 0 of 1\n",
            "INFO:root:Writing example 0 of 1\n",
            "INFO:root:Writing example 0 of 1\n"
          ]
        },
        {
          "name": "stdout",
          "output_type": "stream",
          "text": [
            "3805\n",
            "3806\n",
            "3807\n",
            "3808\n"
          ]
        },
        {
          "name": "stderr",
          "output_type": "stream",
          "text": [
            "INFO:root:Writing example 0 of 1\n",
            "INFO:root:Writing example 0 of 1\n",
            "INFO:root:Writing example 0 of 1\n",
            "INFO:root:Writing example 0 of 1\n"
          ]
        },
        {
          "name": "stdout",
          "output_type": "stream",
          "text": [
            "3809\n",
            "3810\n",
            "3811\n",
            "3812\n"
          ]
        },
        {
          "name": "stderr",
          "output_type": "stream",
          "text": [
            "INFO:root:Writing example 0 of 1\n",
            "INFO:root:Writing example 0 of 1\n",
            "INFO:root:Writing example 0 of 1\n",
            "INFO:root:Writing example 0 of 1\n"
          ]
        },
        {
          "name": "stdout",
          "output_type": "stream",
          "text": [
            "3813\n",
            "3814\n",
            "3815\n",
            "3816\n"
          ]
        },
        {
          "name": "stderr",
          "output_type": "stream",
          "text": [
            "INFO:root:Writing example 0 of 1\n",
            "INFO:root:Writing example 0 of 1\n",
            "INFO:root:Writing example 0 of 1\n",
            "INFO:root:Writing example 0 of 1\n"
          ]
        },
        {
          "name": "stdout",
          "output_type": "stream",
          "text": [
            "3817\n",
            "3818\n",
            "3819\n",
            "3820\n"
          ]
        },
        {
          "name": "stderr",
          "output_type": "stream",
          "text": [
            "INFO:root:Writing example 0 of 1\n",
            "INFO:root:Writing example 0 of 1\n",
            "INFO:root:Writing example 0 of 1\n",
            "INFO:root:Writing example 0 of 1\n"
          ]
        },
        {
          "name": "stdout",
          "output_type": "stream",
          "text": [
            "3821\n",
            "3822\n",
            "3823\n",
            "3824\n"
          ]
        },
        {
          "name": "stderr",
          "output_type": "stream",
          "text": [
            "INFO:root:Writing example 0 of 1\n",
            "INFO:root:Writing example 0 of 1\n",
            "INFO:root:Writing example 0 of 1\n",
            "INFO:root:Writing example 0 of 1\n"
          ]
        },
        {
          "name": "stdout",
          "output_type": "stream",
          "text": [
            "3825\n",
            "3826\n",
            "3827\n",
            "3828\n"
          ]
        },
        {
          "name": "stderr",
          "output_type": "stream",
          "text": [
            "INFO:root:Writing example 0 of 1\n",
            "INFO:root:Writing example 0 of 1\n",
            "INFO:root:Writing example 0 of 1\n",
            "INFO:root:Writing example 0 of 1\n"
          ]
        },
        {
          "name": "stdout",
          "output_type": "stream",
          "text": [
            "3829\n",
            "3830\n",
            "3831\n",
            "3832\n"
          ]
        },
        {
          "name": "stderr",
          "output_type": "stream",
          "text": [
            "INFO:root:Writing example 0 of 1\n",
            "INFO:root:Writing example 0 of 1\n",
            "INFO:root:Writing example 0 of 1\n",
            "INFO:root:Writing example 0 of 1\n"
          ]
        },
        {
          "name": "stdout",
          "output_type": "stream",
          "text": [
            "3833\n",
            "3834\n",
            "3835\n",
            "3836\n"
          ]
        },
        {
          "name": "stderr",
          "output_type": "stream",
          "text": [
            "INFO:root:Writing example 0 of 1\n",
            "INFO:root:Writing example 0 of 1\n",
            "INFO:root:Writing example 0 of 1\n",
            "INFO:root:Writing example 0 of 1\n"
          ]
        },
        {
          "name": "stdout",
          "output_type": "stream",
          "text": [
            "3837\n",
            "3838\n",
            "3839\n",
            "3840\n"
          ]
        },
        {
          "name": "stderr",
          "output_type": "stream",
          "text": [
            "INFO:root:Writing example 0 of 1\n",
            "INFO:root:Writing example 0 of 1\n",
            "INFO:root:Writing example 0 of 1\n",
            "INFO:root:Writing example 0 of 1\n"
          ]
        },
        {
          "name": "stdout",
          "output_type": "stream",
          "text": [
            "3841\n",
            "3842\n",
            "3843\n",
            "3844\n"
          ]
        },
        {
          "name": "stderr",
          "output_type": "stream",
          "text": [
            "INFO:root:Writing example 0 of 1\n",
            "INFO:root:Writing example 0 of 1\n",
            "INFO:root:Writing example 0 of 1\n",
            "INFO:root:Writing example 0 of 1\n"
          ]
        },
        {
          "name": "stdout",
          "output_type": "stream",
          "text": [
            "3845\n",
            "3846\n",
            "3847\n",
            "3848\n"
          ]
        },
        {
          "name": "stderr",
          "output_type": "stream",
          "text": [
            "INFO:root:Writing example 0 of 1\n",
            "INFO:root:Writing example 0 of 1\n",
            "INFO:root:Writing example 0 of 1\n",
            "INFO:root:Writing example 0 of 1\n"
          ]
        },
        {
          "name": "stdout",
          "output_type": "stream",
          "text": [
            "3849\n",
            "3850\n",
            "3851\n",
            "3852\n"
          ]
        },
        {
          "name": "stderr",
          "output_type": "stream",
          "text": [
            "INFO:root:Writing example 0 of 1\n",
            "INFO:root:Writing example 0 of 1\n",
            "INFO:root:Writing example 0 of 1\n",
            "INFO:root:Writing example 0 of 1\n"
          ]
        },
        {
          "name": "stdout",
          "output_type": "stream",
          "text": [
            "3853\n",
            "3854\n",
            "3855\n",
            "3856\n"
          ]
        },
        {
          "name": "stderr",
          "output_type": "stream",
          "text": [
            "INFO:root:Writing example 0 of 1\n",
            "INFO:root:Writing example 0 of 1\n",
            "INFO:root:Writing example 0 of 1\n",
            "INFO:root:Writing example 0 of 1\n"
          ]
        },
        {
          "name": "stdout",
          "output_type": "stream",
          "text": [
            "3857\n",
            "3858\n",
            "3859\n",
            "3860\n"
          ]
        },
        {
          "name": "stderr",
          "output_type": "stream",
          "text": [
            "INFO:root:Writing example 0 of 1\n",
            "INFO:root:Writing example 0 of 1\n",
            "INFO:root:Writing example 0 of 1\n",
            "INFO:root:Writing example 0 of 1\n"
          ]
        },
        {
          "name": "stdout",
          "output_type": "stream",
          "text": [
            "3861\n",
            "3862\n",
            "3863\n",
            "3864\n"
          ]
        },
        {
          "name": "stderr",
          "output_type": "stream",
          "text": [
            "INFO:root:Writing example 0 of 1\n",
            "INFO:root:Writing example 0 of 1\n",
            "INFO:root:Writing example 0 of 1\n",
            "INFO:root:Writing example 0 of 1\n"
          ]
        },
        {
          "name": "stdout",
          "output_type": "stream",
          "text": [
            "3865\n",
            "3866\n",
            "3867\n",
            "3868\n"
          ]
        },
        {
          "name": "stderr",
          "output_type": "stream",
          "text": [
            "INFO:root:Writing example 0 of 1\n",
            "INFO:root:Writing example 0 of 1\n",
            "INFO:root:Writing example 0 of 1\n",
            "INFO:root:Writing example 0 of 1\n"
          ]
        },
        {
          "name": "stdout",
          "output_type": "stream",
          "text": [
            "3869\n",
            "3870\n",
            "3871\n",
            "3872\n"
          ]
        },
        {
          "name": "stderr",
          "output_type": "stream",
          "text": [
            "INFO:root:Writing example 0 of 1\n",
            "INFO:root:Writing example 0 of 1\n",
            "INFO:root:Writing example 0 of 1\n",
            "INFO:root:Writing example 0 of 1\n"
          ]
        },
        {
          "name": "stdout",
          "output_type": "stream",
          "text": [
            "3873\n",
            "3874\n",
            "3875\n",
            "3876\n"
          ]
        },
        {
          "name": "stderr",
          "output_type": "stream",
          "text": [
            "INFO:root:Writing example 0 of 1\n",
            "INFO:root:Writing example 0 of 1\n",
            "INFO:root:Writing example 0 of 1\n",
            "INFO:root:Writing example 0 of 1\n"
          ]
        },
        {
          "name": "stdout",
          "output_type": "stream",
          "text": [
            "3877\n",
            "3878\n",
            "3879\n",
            "3880\n"
          ]
        },
        {
          "name": "stderr",
          "output_type": "stream",
          "text": [
            "INFO:root:Writing example 0 of 1\n",
            "INFO:root:Writing example 0 of 1\n",
            "INFO:root:Writing example 0 of 1\n",
            "INFO:root:Writing example 0 of 1\n"
          ]
        },
        {
          "name": "stdout",
          "output_type": "stream",
          "text": [
            "3881\n",
            "3882\n",
            "3883\n",
            "3884\n"
          ]
        },
        {
          "name": "stderr",
          "output_type": "stream",
          "text": [
            "INFO:root:Writing example 0 of 1\n",
            "INFO:root:Writing example 0 of 1\n",
            "INFO:root:Writing example 0 of 1\n",
            "INFO:root:Writing example 0 of 1\n"
          ]
        },
        {
          "name": "stdout",
          "output_type": "stream",
          "text": [
            "3885\n",
            "3886\n",
            "3887\n",
            "3888\n"
          ]
        },
        {
          "name": "stderr",
          "output_type": "stream",
          "text": [
            "INFO:root:Writing example 0 of 1\n",
            "INFO:root:Writing example 0 of 1\n",
            "INFO:root:Writing example 0 of 1\n",
            "INFO:root:Writing example 0 of 1\n"
          ]
        },
        {
          "name": "stdout",
          "output_type": "stream",
          "text": [
            "3889\n",
            "3890\n",
            "3891\n",
            "3892\n"
          ]
        },
        {
          "name": "stderr",
          "output_type": "stream",
          "text": [
            "INFO:root:Writing example 0 of 1\n",
            "INFO:root:Writing example 0 of 1\n",
            "INFO:root:Writing example 0 of 1\n",
            "INFO:root:Writing example 0 of 1\n"
          ]
        },
        {
          "name": "stdout",
          "output_type": "stream",
          "text": [
            "3893\n",
            "3894\n",
            "3895\n",
            "3896\n"
          ]
        },
        {
          "name": "stderr",
          "output_type": "stream",
          "text": [
            "INFO:root:Writing example 0 of 1\n",
            "INFO:root:Writing example 0 of 1\n",
            "INFO:root:Writing example 0 of 1\n",
            "INFO:root:Writing example 0 of 1\n"
          ]
        },
        {
          "name": "stdout",
          "output_type": "stream",
          "text": [
            "3897\n",
            "3898\n",
            "3899\n",
            "3900\n"
          ]
        },
        {
          "name": "stderr",
          "output_type": "stream",
          "text": [
            "INFO:root:Writing example 0 of 1\n",
            "INFO:root:Writing example 0 of 1\n",
            "INFO:root:Writing example 0 of 1\n",
            "INFO:root:Writing example 0 of 1\n"
          ]
        },
        {
          "name": "stdout",
          "output_type": "stream",
          "text": [
            "3901\n",
            "3902\n",
            "3903\n",
            "3904\n"
          ]
        },
        {
          "name": "stderr",
          "output_type": "stream",
          "text": [
            "INFO:root:Writing example 0 of 1\n",
            "INFO:root:Writing example 0 of 1\n",
            "INFO:root:Writing example 0 of 1\n",
            "INFO:root:Writing example 0 of 1\n"
          ]
        },
        {
          "name": "stdout",
          "output_type": "stream",
          "text": [
            "3905\n",
            "3906\n",
            "3907\n",
            "3908\n"
          ]
        },
        {
          "name": "stderr",
          "output_type": "stream",
          "text": [
            "INFO:root:Writing example 0 of 1\n",
            "INFO:root:Writing example 0 of 1\n",
            "INFO:root:Writing example 0 of 1\n",
            "INFO:root:Writing example 0 of 1\n"
          ]
        },
        {
          "name": "stdout",
          "output_type": "stream",
          "text": [
            "3909\n",
            "3910\n",
            "3911\n",
            "3912\n"
          ]
        },
        {
          "name": "stderr",
          "output_type": "stream",
          "text": [
            "INFO:root:Writing example 0 of 1\n",
            "INFO:root:Writing example 0 of 1\n",
            "INFO:root:Writing example 0 of 1\n",
            "INFO:root:Writing example 0 of 1\n"
          ]
        },
        {
          "name": "stdout",
          "output_type": "stream",
          "text": [
            "3913\n",
            "3914\n",
            "3915\n",
            "3916\n"
          ]
        },
        {
          "name": "stderr",
          "output_type": "stream",
          "text": [
            "INFO:root:Writing example 0 of 1\n",
            "INFO:root:Writing example 0 of 1\n",
            "INFO:root:Writing example 0 of 1\n",
            "INFO:root:Writing example 0 of 1\n"
          ]
        },
        {
          "name": "stdout",
          "output_type": "stream",
          "text": [
            "3917\n",
            "3918\n",
            "3919\n",
            "3920\n"
          ]
        },
        {
          "name": "stderr",
          "output_type": "stream",
          "text": [
            "INFO:root:Writing example 0 of 1\n",
            "INFO:root:Writing example 0 of 1\n",
            "INFO:root:Writing example 0 of 1\n",
            "INFO:root:Writing example 0 of 1\n"
          ]
        },
        {
          "name": "stdout",
          "output_type": "stream",
          "text": [
            "3921\n",
            "3922\n",
            "3923\n",
            "3924\n"
          ]
        },
        {
          "name": "stderr",
          "output_type": "stream",
          "text": [
            "INFO:root:Writing example 0 of 1\n",
            "INFO:root:Writing example 0 of 1\n",
            "INFO:root:Writing example 0 of 1\n",
            "INFO:root:Writing example 0 of 1\n"
          ]
        },
        {
          "name": "stdout",
          "output_type": "stream",
          "text": [
            "3925\n",
            "3926\n",
            "3927\n",
            "3928\n"
          ]
        },
        {
          "name": "stderr",
          "output_type": "stream",
          "text": [
            "INFO:root:Writing example 0 of 1\n",
            "INFO:root:Writing example 0 of 1\n",
            "INFO:root:Writing example 0 of 1\n",
            "INFO:root:Writing example 0 of 1\n"
          ]
        },
        {
          "name": "stdout",
          "output_type": "stream",
          "text": [
            "3929\n",
            "3930\n",
            "3931\n",
            "3932\n"
          ]
        },
        {
          "name": "stderr",
          "output_type": "stream",
          "text": [
            "INFO:root:Writing example 0 of 1\n",
            "INFO:root:Writing example 0 of 1\n",
            "INFO:root:Writing example 0 of 1\n",
            "INFO:root:Writing example 0 of 1\n"
          ]
        },
        {
          "name": "stdout",
          "output_type": "stream",
          "text": [
            "3933\n",
            "3934\n",
            "3935\n",
            "3936\n"
          ]
        },
        {
          "name": "stderr",
          "output_type": "stream",
          "text": [
            "INFO:root:Writing example 0 of 1\n",
            "INFO:root:Writing example 0 of 1\n",
            "INFO:root:Writing example 0 of 1\n",
            "INFO:root:Writing example 0 of 1\n"
          ]
        },
        {
          "name": "stdout",
          "output_type": "stream",
          "text": [
            "3937\n",
            "3938\n",
            "3939\n",
            "3940\n"
          ]
        },
        {
          "name": "stderr",
          "output_type": "stream",
          "text": [
            "INFO:root:Writing example 0 of 1\n",
            "INFO:root:Writing example 0 of 1\n",
            "INFO:root:Writing example 0 of 1\n",
            "INFO:root:Writing example 0 of 1\n"
          ]
        },
        {
          "name": "stdout",
          "output_type": "stream",
          "text": [
            "3941\n",
            "3942\n",
            "3943\n",
            "3944\n"
          ]
        },
        {
          "name": "stderr",
          "output_type": "stream",
          "text": [
            "INFO:root:Writing example 0 of 1\n",
            "INFO:root:Writing example 0 of 1\n",
            "INFO:root:Writing example 0 of 1\n",
            "INFO:root:Writing example 0 of 1\n"
          ]
        },
        {
          "name": "stdout",
          "output_type": "stream",
          "text": [
            "3945\n",
            "3946\n",
            "3947\n",
            "3948\n"
          ]
        },
        {
          "name": "stderr",
          "output_type": "stream",
          "text": [
            "INFO:root:Writing example 0 of 1\n",
            "INFO:root:Writing example 0 of 1\n",
            "INFO:root:Writing example 0 of 1\n",
            "INFO:root:Writing example 0 of 1\n"
          ]
        },
        {
          "name": "stdout",
          "output_type": "stream",
          "text": [
            "3949\n",
            "3950\n",
            "3951\n",
            "3952\n"
          ]
        },
        {
          "name": "stderr",
          "output_type": "stream",
          "text": [
            "INFO:root:Writing example 0 of 1\n",
            "INFO:root:Writing example 0 of 1\n",
            "INFO:root:Writing example 0 of 1\n",
            "INFO:root:Writing example 0 of 1\n"
          ]
        },
        {
          "name": "stdout",
          "output_type": "stream",
          "text": [
            "3953\n",
            "3954\n",
            "3955\n",
            "3956\n"
          ]
        },
        {
          "name": "stderr",
          "output_type": "stream",
          "text": [
            "INFO:root:Writing example 0 of 1\n",
            "INFO:root:Writing example 0 of 1\n",
            "INFO:root:Writing example 0 of 1\n",
            "INFO:root:Writing example 0 of 1\n"
          ]
        },
        {
          "name": "stdout",
          "output_type": "stream",
          "text": [
            "3957\n",
            "3958\n",
            "3959\n",
            "3960\n"
          ]
        },
        {
          "name": "stderr",
          "output_type": "stream",
          "text": [
            "INFO:root:Writing example 0 of 1\n",
            "INFO:root:Writing example 0 of 1\n",
            "INFO:root:Writing example 0 of 1\n",
            "INFO:root:Writing example 0 of 1\n"
          ]
        },
        {
          "name": "stdout",
          "output_type": "stream",
          "text": [
            "3961\n",
            "3962\n",
            "3963\n",
            "3964\n"
          ]
        },
        {
          "name": "stderr",
          "output_type": "stream",
          "text": [
            "INFO:root:Writing example 0 of 1\n",
            "INFO:root:Writing example 0 of 1\n",
            "INFO:root:Writing example 0 of 1\n",
            "INFO:root:Writing example 0 of 1\n"
          ]
        },
        {
          "name": "stdout",
          "output_type": "stream",
          "text": [
            "3965\n",
            "3966\n",
            "3967\n",
            "3968\n"
          ]
        },
        {
          "name": "stderr",
          "output_type": "stream",
          "text": [
            "INFO:root:Writing example 0 of 1\n",
            "INFO:root:Writing example 0 of 1\n",
            "INFO:root:Writing example 0 of 1\n",
            "INFO:root:Writing example 0 of 1\n"
          ]
        },
        {
          "name": "stdout",
          "output_type": "stream",
          "text": [
            "3969\n",
            "3970\n",
            "3971\n",
            "3972\n"
          ]
        },
        {
          "name": "stderr",
          "output_type": "stream",
          "text": [
            "INFO:root:Writing example 0 of 1\n",
            "INFO:root:Writing example 0 of 1\n",
            "INFO:root:Writing example 0 of 1\n",
            "INFO:root:Writing example 0 of 1\n"
          ]
        },
        {
          "name": "stdout",
          "output_type": "stream",
          "text": [
            "3973\n",
            "3974\n",
            "3975\n",
            "3976\n"
          ]
        },
        {
          "name": "stderr",
          "output_type": "stream",
          "text": [
            "INFO:root:Writing example 0 of 1\n",
            "INFO:root:Writing example 0 of 1\n",
            "INFO:root:Writing example 0 of 1\n",
            "INFO:root:Writing example 0 of 1\n"
          ]
        },
        {
          "name": "stdout",
          "output_type": "stream",
          "text": [
            "3977\n",
            "3978\n",
            "3979\n",
            "3980\n"
          ]
        },
        {
          "name": "stderr",
          "output_type": "stream",
          "text": [
            "INFO:root:Writing example 0 of 1\n",
            "INFO:root:Writing example 0 of 1\n",
            "INFO:root:Writing example 0 of 1\n",
            "INFO:root:Writing example 0 of 1\n"
          ]
        },
        {
          "name": "stdout",
          "output_type": "stream",
          "text": [
            "3981\n",
            "3982\n",
            "3983\n",
            "3984\n"
          ]
        },
        {
          "name": "stderr",
          "output_type": "stream",
          "text": [
            "INFO:root:Writing example 0 of 1\n",
            "INFO:root:Writing example 0 of 1\n",
            "INFO:root:Writing example 0 of 1\n",
            "INFO:root:Writing example 0 of 1\n"
          ]
        },
        {
          "name": "stdout",
          "output_type": "stream",
          "text": [
            "3985\n",
            "3986\n",
            "3987\n",
            "3988\n"
          ]
        },
        {
          "name": "stderr",
          "output_type": "stream",
          "text": [
            "INFO:root:Writing example 0 of 1\n",
            "INFO:root:Writing example 0 of 1\n",
            "INFO:root:Writing example 0 of 1\n",
            "INFO:root:Writing example 0 of 1\n"
          ]
        },
        {
          "name": "stdout",
          "output_type": "stream",
          "text": [
            "3989\n",
            "3990\n",
            "3991\n",
            "3992\n"
          ]
        },
        {
          "name": "stderr",
          "output_type": "stream",
          "text": [
            "INFO:root:Writing example 0 of 1\n",
            "INFO:root:Writing example 0 of 1\n",
            "INFO:root:Writing example 0 of 1\n",
            "INFO:root:Writing example 0 of 1\n"
          ]
        },
        {
          "name": "stdout",
          "output_type": "stream",
          "text": [
            "3993\n",
            "3994\n",
            "3995\n",
            "3996\n"
          ]
        },
        {
          "name": "stderr",
          "output_type": "stream",
          "text": [
            "INFO:root:Writing example 0 of 1\n",
            "INFO:root:Writing example 0 of 1\n",
            "INFO:root:Writing example 0 of 1\n",
            "INFO:root:Writing example 0 of 1\n"
          ]
        },
        {
          "name": "stdout",
          "output_type": "stream",
          "text": [
            "3997\n",
            "3998\n",
            "3999\n",
            "4000\n"
          ]
        },
        {
          "name": "stderr",
          "output_type": "stream",
          "text": [
            "INFO:root:Writing example 0 of 1\n",
            "INFO:root:Writing example 0 of 1\n",
            "INFO:root:Writing example 0 of 1\n",
            "INFO:root:Writing example 0 of 1\n"
          ]
        },
        {
          "name": "stdout",
          "output_type": "stream",
          "text": [
            "4001\n",
            "4002\n",
            "4003\n",
            "4004\n"
          ]
        },
        {
          "name": "stderr",
          "output_type": "stream",
          "text": [
            "INFO:root:Writing example 0 of 1\n",
            "INFO:root:Writing example 0 of 1\n",
            "INFO:root:Writing example 0 of 1\n",
            "INFO:root:Writing example 0 of 1\n"
          ]
        },
        {
          "name": "stdout",
          "output_type": "stream",
          "text": [
            "4005\n",
            "4006\n",
            "4007\n",
            "4008\n"
          ]
        },
        {
          "name": "stderr",
          "output_type": "stream",
          "text": [
            "INFO:root:Writing example 0 of 1\n",
            "INFO:root:Writing example 0 of 1\n",
            "INFO:root:Writing example 0 of 1\n",
            "INFO:root:Writing example 0 of 1\n"
          ]
        },
        {
          "name": "stdout",
          "output_type": "stream",
          "text": [
            "4009\n",
            "4010\n",
            "4011\n",
            "4012\n"
          ]
        },
        {
          "name": "stderr",
          "output_type": "stream",
          "text": [
            "INFO:root:Writing example 0 of 1\n",
            "INFO:root:Writing example 0 of 1\n",
            "INFO:root:Writing example 0 of 1\n",
            "INFO:root:Writing example 0 of 1\n"
          ]
        },
        {
          "name": "stdout",
          "output_type": "stream",
          "text": [
            "4013\n",
            "4014\n",
            "4015\n",
            "4016\n"
          ]
        },
        {
          "name": "stderr",
          "output_type": "stream",
          "text": [
            "INFO:root:Writing example 0 of 1\n",
            "INFO:root:Writing example 0 of 1\n",
            "INFO:root:Writing example 0 of 1\n",
            "INFO:root:Writing example 0 of 1\n"
          ]
        },
        {
          "name": "stdout",
          "output_type": "stream",
          "text": [
            "4017\n",
            "4018\n",
            "4019\n",
            "4020\n"
          ]
        },
        {
          "name": "stderr",
          "output_type": "stream",
          "text": [
            "INFO:root:Writing example 0 of 1\n",
            "INFO:root:Writing example 0 of 1\n",
            "INFO:root:Writing example 0 of 1\n",
            "INFO:root:Writing example 0 of 1\n"
          ]
        },
        {
          "name": "stdout",
          "output_type": "stream",
          "text": [
            "4021\n",
            "4022\n",
            "4023\n",
            "4024\n"
          ]
        },
        {
          "name": "stderr",
          "output_type": "stream",
          "text": [
            "INFO:root:Writing example 0 of 1\n",
            "INFO:root:Writing example 0 of 1\n",
            "INFO:root:Writing example 0 of 1\n",
            "INFO:root:Writing example 0 of 1\n"
          ]
        },
        {
          "name": "stdout",
          "output_type": "stream",
          "text": [
            "4025\n",
            "4026\n",
            "4027\n",
            "4028\n"
          ]
        },
        {
          "name": "stderr",
          "output_type": "stream",
          "text": [
            "INFO:root:Writing example 0 of 1\n",
            "INFO:root:Writing example 0 of 1\n",
            "INFO:root:Writing example 0 of 1\n",
            "INFO:root:Writing example 0 of 1\n"
          ]
        },
        {
          "name": "stdout",
          "output_type": "stream",
          "text": [
            "4029\n",
            "4030\n",
            "4031\n",
            "4032\n"
          ]
        },
        {
          "name": "stderr",
          "output_type": "stream",
          "text": [
            "INFO:root:Writing example 0 of 1\n",
            "INFO:root:Writing example 0 of 1\n",
            "INFO:root:Writing example 0 of 1\n",
            "INFO:root:Writing example 0 of 1\n"
          ]
        },
        {
          "name": "stdout",
          "output_type": "stream",
          "text": [
            "4033\n",
            "4034\n",
            "4035\n",
            "4036\n"
          ]
        },
        {
          "name": "stderr",
          "output_type": "stream",
          "text": [
            "INFO:root:Writing example 0 of 1\n",
            "INFO:root:Writing example 0 of 1\n",
            "INFO:root:Writing example 0 of 1\n",
            "INFO:root:Writing example 0 of 1\n"
          ]
        },
        {
          "name": "stdout",
          "output_type": "stream",
          "text": [
            "4037\n",
            "4038\n",
            "4039\n",
            "4040\n"
          ]
        },
        {
          "name": "stderr",
          "output_type": "stream",
          "text": [
            "INFO:root:Writing example 0 of 1\n",
            "INFO:root:Writing example 0 of 1\n",
            "INFO:root:Writing example 0 of 1\n",
            "INFO:root:Writing example 0 of 1\n"
          ]
        },
        {
          "name": "stdout",
          "output_type": "stream",
          "text": [
            "4041\n",
            "4042\n",
            "4043\n",
            "4044\n"
          ]
        },
        {
          "name": "stderr",
          "output_type": "stream",
          "text": [
            "INFO:root:Writing example 0 of 1\n",
            "INFO:root:Writing example 0 of 1\n",
            "INFO:root:Writing example 0 of 1\n",
            "INFO:root:Writing example 0 of 1\n"
          ]
        },
        {
          "name": "stdout",
          "output_type": "stream",
          "text": [
            "4045\n",
            "4046\n",
            "4047\n",
            "4048\n"
          ]
        },
        {
          "name": "stderr",
          "output_type": "stream",
          "text": [
            "INFO:root:Writing example 0 of 1\n",
            "INFO:root:Writing example 0 of 1\n",
            "INFO:root:Writing example 0 of 1\n",
            "INFO:root:Writing example 0 of 1\n"
          ]
        },
        {
          "name": "stdout",
          "output_type": "stream",
          "text": [
            "4049\n",
            "4050\n",
            "4051\n",
            "4052\n"
          ]
        },
        {
          "name": "stderr",
          "output_type": "stream",
          "text": [
            "INFO:root:Writing example 0 of 1\n",
            "INFO:root:Writing example 0 of 1\n",
            "INFO:root:Writing example 0 of 1\n",
            "INFO:root:Writing example 0 of 1\n"
          ]
        },
        {
          "name": "stdout",
          "output_type": "stream",
          "text": [
            "4053\n",
            "4054\n",
            "4055\n",
            "4056\n"
          ]
        },
        {
          "name": "stderr",
          "output_type": "stream",
          "text": [
            "INFO:root:Writing example 0 of 1\n",
            "INFO:root:Writing example 0 of 1\n",
            "INFO:root:Writing example 0 of 1\n",
            "INFO:root:Writing example 0 of 1\n"
          ]
        },
        {
          "name": "stdout",
          "output_type": "stream",
          "text": [
            "4057\n",
            "4058\n",
            "4059\n",
            "4060\n"
          ]
        },
        {
          "name": "stderr",
          "output_type": "stream",
          "text": [
            "INFO:root:Writing example 0 of 1\n",
            "INFO:root:Writing example 0 of 1\n",
            "INFO:root:Writing example 0 of 1\n",
            "INFO:root:Writing example 0 of 1\n"
          ]
        },
        {
          "name": "stdout",
          "output_type": "stream",
          "text": [
            "4061\n",
            "4062\n",
            "4063\n",
            "4064\n"
          ]
        },
        {
          "name": "stderr",
          "output_type": "stream",
          "text": [
            "INFO:root:Writing example 0 of 1\n",
            "INFO:root:Writing example 0 of 1\n",
            "INFO:root:Writing example 0 of 1\n",
            "INFO:root:Writing example 0 of 1\n"
          ]
        },
        {
          "name": "stdout",
          "output_type": "stream",
          "text": [
            "4065\n",
            "4066\n",
            "4067\n",
            "4068\n"
          ]
        },
        {
          "name": "stderr",
          "output_type": "stream",
          "text": [
            "INFO:root:Writing example 0 of 1\n",
            "INFO:root:Writing example 0 of 1\n",
            "INFO:root:Writing example 0 of 1\n",
            "INFO:root:Writing example 0 of 1\n"
          ]
        },
        {
          "name": "stdout",
          "output_type": "stream",
          "text": [
            "4069\n",
            "4070\n",
            "4071\n",
            "4072\n"
          ]
        },
        {
          "name": "stderr",
          "output_type": "stream",
          "text": [
            "INFO:root:Writing example 0 of 1\n",
            "INFO:root:Writing example 0 of 1\n",
            "INFO:root:Writing example 0 of 1\n",
            "INFO:root:Writing example 0 of 1\n"
          ]
        },
        {
          "name": "stdout",
          "output_type": "stream",
          "text": [
            "4073\n",
            "4074\n",
            "4075\n",
            "4076\n"
          ]
        },
        {
          "name": "stderr",
          "output_type": "stream",
          "text": [
            "INFO:root:Writing example 0 of 1\n",
            "INFO:root:Writing example 0 of 1\n",
            "INFO:root:Writing example 0 of 1\n",
            "INFO:root:Writing example 0 of 1\n"
          ]
        },
        {
          "name": "stdout",
          "output_type": "stream",
          "text": [
            "4077\n",
            "4078\n",
            "4079\n",
            "4080\n"
          ]
        },
        {
          "name": "stderr",
          "output_type": "stream",
          "text": [
            "INFO:root:Writing example 0 of 1\n",
            "INFO:root:Writing example 0 of 1\n",
            "INFO:root:Writing example 0 of 1\n",
            "INFO:root:Writing example 0 of 1\n"
          ]
        },
        {
          "name": "stdout",
          "output_type": "stream",
          "text": [
            "4081\n",
            "4082\n",
            "4083\n",
            "4084\n"
          ]
        },
        {
          "name": "stderr",
          "output_type": "stream",
          "text": [
            "INFO:root:Writing example 0 of 1\n",
            "INFO:root:Writing example 0 of 1\n",
            "INFO:root:Writing example 0 of 1\n",
            "INFO:root:Writing example 0 of 1\n"
          ]
        },
        {
          "name": "stdout",
          "output_type": "stream",
          "text": [
            "4085\n",
            "4086\n",
            "4087\n",
            "4088\n"
          ]
        },
        {
          "name": "stderr",
          "output_type": "stream",
          "text": [
            "INFO:root:Writing example 0 of 1\n",
            "INFO:root:Writing example 0 of 1\n",
            "INFO:root:Writing example 0 of 1\n",
            "INFO:root:Writing example 0 of 1\n"
          ]
        },
        {
          "name": "stdout",
          "output_type": "stream",
          "text": [
            "4089\n",
            "4090\n",
            "4091\n",
            "4092\n"
          ]
        },
        {
          "name": "stderr",
          "output_type": "stream",
          "text": [
            "INFO:root:Writing example 0 of 1\n",
            "INFO:root:Writing example 0 of 1\n",
            "INFO:root:Writing example 0 of 1\n",
            "INFO:root:Writing example 0 of 1\n"
          ]
        },
        {
          "name": "stdout",
          "output_type": "stream",
          "text": [
            "4093\n",
            "4094\n",
            "4095\n",
            "4096\n"
          ]
        },
        {
          "name": "stderr",
          "output_type": "stream",
          "text": [
            "INFO:root:Writing example 0 of 1\n",
            "INFO:root:Writing example 0 of 1\n",
            "INFO:root:Writing example 0 of 1\n",
            "INFO:root:Writing example 0 of 1\n"
          ]
        },
        {
          "name": "stdout",
          "output_type": "stream",
          "text": [
            "4097\n",
            "4098\n",
            "4099\n",
            "4100\n"
          ]
        },
        {
          "name": "stderr",
          "output_type": "stream",
          "text": [
            "INFO:root:Writing example 0 of 1\n",
            "INFO:root:Writing example 0 of 1\n",
            "INFO:root:Writing example 0 of 1\n",
            "INFO:root:Writing example 0 of 1\n"
          ]
        },
        {
          "name": "stdout",
          "output_type": "stream",
          "text": [
            "4101\n",
            "4102\n",
            "4103\n",
            "4104\n"
          ]
        },
        {
          "name": "stderr",
          "output_type": "stream",
          "text": [
            "INFO:root:Writing example 0 of 1\n",
            "INFO:root:Writing example 0 of 1\n",
            "INFO:root:Writing example 0 of 1\n",
            "INFO:root:Writing example 0 of 1\n"
          ]
        },
        {
          "name": "stdout",
          "output_type": "stream",
          "text": [
            "4105\n",
            "4106\n",
            "4107\n",
            "4108\n"
          ]
        },
        {
          "name": "stderr",
          "output_type": "stream",
          "text": [
            "INFO:root:Writing example 0 of 1\n",
            "INFO:root:Writing example 0 of 1\n",
            "INFO:root:Writing example 0 of 1\n",
            "INFO:root:Writing example 0 of 1\n"
          ]
        },
        {
          "name": "stdout",
          "output_type": "stream",
          "text": [
            "4109\n",
            "4110\n",
            "4111\n",
            "4112\n"
          ]
        },
        {
          "name": "stderr",
          "output_type": "stream",
          "text": [
            "INFO:root:Writing example 0 of 1\n",
            "INFO:root:Writing example 0 of 1\n",
            "INFO:root:Writing example 0 of 1\n",
            "INFO:root:Writing example 0 of 1\n"
          ]
        },
        {
          "name": "stdout",
          "output_type": "stream",
          "text": [
            "4113\n",
            "4114\n",
            "4115\n",
            "4116\n"
          ]
        },
        {
          "name": "stderr",
          "output_type": "stream",
          "text": [
            "INFO:root:Writing example 0 of 1\n",
            "INFO:root:Writing example 0 of 1\n",
            "INFO:root:Writing example 0 of 1\n",
            "INFO:root:Writing example 0 of 1\n"
          ]
        },
        {
          "name": "stdout",
          "output_type": "stream",
          "text": [
            "4117\n",
            "4118\n",
            "4119\n",
            "4120\n"
          ]
        },
        {
          "name": "stderr",
          "output_type": "stream",
          "text": [
            "INFO:root:Writing example 0 of 1\n",
            "INFO:root:Writing example 0 of 1\n",
            "INFO:root:Writing example 0 of 1\n",
            "INFO:root:Writing example 0 of 1\n"
          ]
        },
        {
          "name": "stdout",
          "output_type": "stream",
          "text": [
            "4121\n",
            "4122\n",
            "4123\n",
            "4124\n"
          ]
        },
        {
          "name": "stderr",
          "output_type": "stream",
          "text": [
            "INFO:root:Writing example 0 of 1\n",
            "INFO:root:Writing example 0 of 1\n",
            "INFO:root:Writing example 0 of 1\n",
            "INFO:root:Writing example 0 of 1\n"
          ]
        },
        {
          "name": "stdout",
          "output_type": "stream",
          "text": [
            "4125\n",
            "4126\n",
            "4127\n",
            "4128\n"
          ]
        },
        {
          "name": "stderr",
          "output_type": "stream",
          "text": [
            "INFO:root:Writing example 0 of 1\n",
            "INFO:root:Writing example 0 of 1\n",
            "INFO:root:Writing example 0 of 1\n",
            "INFO:root:Writing example 0 of 1\n"
          ]
        },
        {
          "name": "stdout",
          "output_type": "stream",
          "text": [
            "4129\n",
            "4130\n",
            "4131\n",
            "4132\n"
          ]
        },
        {
          "name": "stderr",
          "output_type": "stream",
          "text": [
            "INFO:root:Writing example 0 of 1\n",
            "INFO:root:Writing example 0 of 1\n",
            "INFO:root:Writing example 0 of 1\n",
            "INFO:root:Writing example 0 of 1\n"
          ]
        },
        {
          "name": "stdout",
          "output_type": "stream",
          "text": [
            "4133\n",
            "4134\n",
            "4135\n",
            "4136\n"
          ]
        },
        {
          "name": "stderr",
          "output_type": "stream",
          "text": [
            "INFO:root:Writing example 0 of 1\n",
            "INFO:root:Writing example 0 of 1\n",
            "INFO:root:Writing example 0 of 1\n",
            "INFO:root:Writing example 0 of 1\n"
          ]
        },
        {
          "name": "stdout",
          "output_type": "stream",
          "text": [
            "4137\n",
            "4138\n",
            "4139\n",
            "4140\n"
          ]
        },
        {
          "name": "stderr",
          "output_type": "stream",
          "text": [
            "INFO:root:Writing example 0 of 1\n",
            "INFO:root:Writing example 0 of 1\n",
            "INFO:root:Writing example 0 of 1\n",
            "INFO:root:Writing example 0 of 1\n"
          ]
        },
        {
          "name": "stdout",
          "output_type": "stream",
          "text": [
            "4141\n",
            "4142\n",
            "4143\n",
            "4144\n"
          ]
        },
        {
          "name": "stderr",
          "output_type": "stream",
          "text": [
            "INFO:root:Writing example 0 of 1\n",
            "INFO:root:Writing example 0 of 1\n",
            "INFO:root:Writing example 0 of 1\n",
            "INFO:root:Writing example 0 of 1\n"
          ]
        },
        {
          "name": "stdout",
          "output_type": "stream",
          "text": [
            "4145\n",
            "4146\n",
            "4147\n",
            "4148\n"
          ]
        },
        {
          "name": "stderr",
          "output_type": "stream",
          "text": [
            "INFO:root:Writing example 0 of 1\n",
            "INFO:root:Writing example 0 of 1\n",
            "INFO:root:Writing example 0 of 1\n",
            "INFO:root:Writing example 0 of 1\n"
          ]
        },
        {
          "name": "stdout",
          "output_type": "stream",
          "text": [
            "4149\n",
            "4150\n",
            "4151\n",
            "4152\n"
          ]
        },
        {
          "name": "stderr",
          "output_type": "stream",
          "text": [
            "INFO:root:Writing example 0 of 1\n",
            "INFO:root:Writing example 0 of 1\n",
            "INFO:root:Writing example 0 of 1\n",
            "INFO:root:Writing example 0 of 1\n"
          ]
        },
        {
          "name": "stdout",
          "output_type": "stream",
          "text": [
            "4153\n",
            "4154\n",
            "4155\n",
            "4156\n"
          ]
        },
        {
          "name": "stderr",
          "output_type": "stream",
          "text": [
            "INFO:root:Writing example 0 of 1\n",
            "INFO:root:Writing example 0 of 1\n",
            "INFO:root:Writing example 0 of 1\n",
            "INFO:root:Writing example 0 of 1\n"
          ]
        },
        {
          "name": "stdout",
          "output_type": "stream",
          "text": [
            "4157\n",
            "4158\n",
            "4159\n",
            "4160\n"
          ]
        },
        {
          "name": "stderr",
          "output_type": "stream",
          "text": [
            "INFO:root:Writing example 0 of 1\n",
            "INFO:root:Writing example 0 of 1\n",
            "INFO:root:Writing example 0 of 1\n",
            "INFO:root:Writing example 0 of 1\n"
          ]
        },
        {
          "name": "stdout",
          "output_type": "stream",
          "text": [
            "4161\n",
            "4162\n",
            "4163\n",
            "4164\n"
          ]
        },
        {
          "name": "stderr",
          "output_type": "stream",
          "text": [
            "INFO:root:Writing example 0 of 1\n",
            "INFO:root:Writing example 0 of 1\n",
            "INFO:root:Writing example 0 of 1\n",
            "INFO:root:Writing example 0 of 1\n"
          ]
        },
        {
          "name": "stdout",
          "output_type": "stream",
          "text": [
            "4165\n",
            "4166\n",
            "4167\n",
            "4168\n"
          ]
        },
        {
          "name": "stderr",
          "output_type": "stream",
          "text": [
            "INFO:root:Writing example 0 of 1\n",
            "INFO:root:Writing example 0 of 1\n",
            "INFO:root:Writing example 0 of 1\n",
            "INFO:root:Writing example 0 of 1\n"
          ]
        },
        {
          "name": "stdout",
          "output_type": "stream",
          "text": [
            "4169\n",
            "4170\n",
            "4171\n",
            "4172\n"
          ]
        },
        {
          "name": "stderr",
          "output_type": "stream",
          "text": [
            "INFO:root:Writing example 0 of 1\n",
            "INFO:root:Writing example 0 of 1\n",
            "INFO:root:Writing example 0 of 1\n",
            "INFO:root:Writing example 0 of 1\n"
          ]
        },
        {
          "name": "stdout",
          "output_type": "stream",
          "text": [
            "4173\n",
            "4174\n",
            "4175\n",
            "4176\n"
          ]
        },
        {
          "name": "stderr",
          "output_type": "stream",
          "text": [
            "INFO:root:Writing example 0 of 1\n",
            "INFO:root:Writing example 0 of 1\n",
            "INFO:root:Writing example 0 of 1\n",
            "INFO:root:Writing example 0 of 1\n"
          ]
        },
        {
          "name": "stdout",
          "output_type": "stream",
          "text": [
            "4177\n",
            "4178\n",
            "4179\n",
            "4180\n"
          ]
        },
        {
          "name": "stderr",
          "output_type": "stream",
          "text": [
            "INFO:root:Writing example 0 of 1\n",
            "INFO:root:Writing example 0 of 1\n",
            "INFO:root:Writing example 0 of 1\n",
            "INFO:root:Writing example 0 of 1\n"
          ]
        },
        {
          "name": "stdout",
          "output_type": "stream",
          "text": [
            "4181\n",
            "4182\n",
            "4183\n",
            "4184\n"
          ]
        },
        {
          "name": "stderr",
          "output_type": "stream",
          "text": [
            "INFO:root:Writing example 0 of 1\n",
            "INFO:root:Writing example 0 of 1\n",
            "INFO:root:Writing example 0 of 1\n",
            "INFO:root:Writing example 0 of 1\n"
          ]
        },
        {
          "name": "stdout",
          "output_type": "stream",
          "text": [
            "4185\n",
            "4186\n",
            "4187\n",
            "4188\n"
          ]
        },
        {
          "name": "stderr",
          "output_type": "stream",
          "text": [
            "INFO:root:Writing example 0 of 1\n",
            "INFO:root:Writing example 0 of 1\n",
            "INFO:root:Writing example 0 of 1\n",
            "INFO:root:Writing example 0 of 1\n"
          ]
        },
        {
          "name": "stdout",
          "output_type": "stream",
          "text": [
            "4189\n",
            "4190\n",
            "4191\n",
            "4192\n"
          ]
        },
        {
          "name": "stderr",
          "output_type": "stream",
          "text": [
            "INFO:root:Writing example 0 of 1\n",
            "INFO:root:Writing example 0 of 1\n",
            "INFO:root:Writing example 0 of 1\n",
            "INFO:root:Writing example 0 of 1\n"
          ]
        },
        {
          "name": "stdout",
          "output_type": "stream",
          "text": [
            "4193\n",
            "4194\n",
            "4195\n",
            "4196\n"
          ]
        },
        {
          "name": "stderr",
          "output_type": "stream",
          "text": [
            "INFO:root:Writing example 0 of 1\n",
            "INFO:root:Writing example 0 of 1\n",
            "INFO:root:Writing example 0 of 1\n",
            "INFO:root:Writing example 0 of 1\n"
          ]
        },
        {
          "name": "stdout",
          "output_type": "stream",
          "text": [
            "4197\n",
            "4198\n",
            "4199\n",
            "4200\n"
          ]
        },
        {
          "name": "stderr",
          "output_type": "stream",
          "text": [
            "INFO:root:Writing example 0 of 1\n",
            "INFO:root:Writing example 0 of 1\n",
            "INFO:root:Writing example 0 of 1\n",
            "INFO:root:Writing example 0 of 1\n"
          ]
        },
        {
          "name": "stdout",
          "output_type": "stream",
          "text": [
            "4201\n",
            "4202\n",
            "4203\n",
            "4204\n"
          ]
        },
        {
          "name": "stderr",
          "output_type": "stream",
          "text": [
            "INFO:root:Writing example 0 of 1\n",
            "INFO:root:Writing example 0 of 1\n",
            "INFO:root:Writing example 0 of 1\n",
            "INFO:root:Writing example 0 of 1\n"
          ]
        },
        {
          "name": "stdout",
          "output_type": "stream",
          "text": [
            "4205\n",
            "4206\n",
            "4207\n",
            "4208\n"
          ]
        },
        {
          "name": "stderr",
          "output_type": "stream",
          "text": [
            "INFO:root:Writing example 0 of 1\n",
            "INFO:root:Writing example 0 of 1\n",
            "INFO:root:Writing example 0 of 1\n",
            "INFO:root:Writing example 0 of 1\n"
          ]
        },
        {
          "name": "stdout",
          "output_type": "stream",
          "text": [
            "4209\n",
            "4210\n",
            "4211\n",
            "4212\n"
          ]
        },
        {
          "name": "stderr",
          "output_type": "stream",
          "text": [
            "INFO:root:Writing example 0 of 1\n",
            "INFO:root:Writing example 0 of 1\n",
            "INFO:root:Writing example 0 of 1\n",
            "INFO:root:Writing example 0 of 1\n"
          ]
        },
        {
          "name": "stdout",
          "output_type": "stream",
          "text": [
            "4213\n",
            "4214\n",
            "4215\n",
            "4216\n"
          ]
        },
        {
          "name": "stderr",
          "output_type": "stream",
          "text": [
            "INFO:root:Writing example 0 of 1\n",
            "INFO:root:Writing example 0 of 1\n",
            "INFO:root:Writing example 0 of 1\n",
            "INFO:root:Writing example 0 of 1\n"
          ]
        },
        {
          "name": "stdout",
          "output_type": "stream",
          "text": [
            "4217\n",
            "4218\n",
            "4219\n",
            "4220\n"
          ]
        },
        {
          "name": "stderr",
          "output_type": "stream",
          "text": [
            "INFO:root:Writing example 0 of 1\n",
            "INFO:root:Writing example 0 of 1\n",
            "INFO:root:Writing example 0 of 1\n",
            "INFO:root:Writing example 0 of 1\n"
          ]
        },
        {
          "name": "stdout",
          "output_type": "stream",
          "text": [
            "4221\n",
            "4222\n",
            "4223\n",
            "4224\n"
          ]
        },
        {
          "name": "stderr",
          "output_type": "stream",
          "text": [
            "INFO:root:Writing example 0 of 1\n",
            "INFO:root:Writing example 0 of 1\n",
            "INFO:root:Writing example 0 of 1\n",
            "INFO:root:Writing example 0 of 1\n"
          ]
        },
        {
          "name": "stdout",
          "output_type": "stream",
          "text": [
            "4225\n",
            "4226\n",
            "4227\n",
            "4228\n"
          ]
        },
        {
          "name": "stderr",
          "output_type": "stream",
          "text": [
            "INFO:root:Writing example 0 of 1\n",
            "INFO:root:Writing example 0 of 1\n",
            "INFO:root:Writing example 0 of 1\n",
            "INFO:root:Writing example 0 of 1\n"
          ]
        },
        {
          "name": "stdout",
          "output_type": "stream",
          "text": [
            "4229\n",
            "4230\n",
            "4231\n",
            "4232\n"
          ]
        },
        {
          "name": "stderr",
          "output_type": "stream",
          "text": [
            "INFO:root:Writing example 0 of 1\n",
            "INFO:root:Writing example 0 of 1\n",
            "INFO:root:Writing example 0 of 1\n",
            "INFO:root:Writing example 0 of 1\n"
          ]
        },
        {
          "name": "stdout",
          "output_type": "stream",
          "text": [
            "4233\n",
            "4234\n",
            "4235\n",
            "4236\n"
          ]
        },
        {
          "name": "stderr",
          "output_type": "stream",
          "text": [
            "INFO:root:Writing example 0 of 1\n",
            "INFO:root:Writing example 0 of 1\n",
            "INFO:root:Writing example 0 of 1\n",
            "INFO:root:Writing example 0 of 1\n"
          ]
        },
        {
          "name": "stdout",
          "output_type": "stream",
          "text": [
            "4237\n",
            "4238\n",
            "4239\n",
            "4240\n"
          ]
        },
        {
          "name": "stderr",
          "output_type": "stream",
          "text": [
            "INFO:root:Writing example 0 of 1\n",
            "INFO:root:Writing example 0 of 1\n",
            "INFO:root:Writing example 0 of 1\n",
            "INFO:root:Writing example 0 of 1\n"
          ]
        },
        {
          "name": "stdout",
          "output_type": "stream",
          "text": [
            "4241\n",
            "4242\n",
            "4243\n",
            "4244\n"
          ]
        },
        {
          "name": "stderr",
          "output_type": "stream",
          "text": [
            "INFO:root:Writing example 0 of 1\n",
            "INFO:root:Writing example 0 of 1\n",
            "INFO:root:Writing example 0 of 1\n",
            "INFO:root:Writing example 0 of 1\n"
          ]
        },
        {
          "name": "stdout",
          "output_type": "stream",
          "text": [
            "4245\n",
            "4246\n",
            "4247\n",
            "4248\n"
          ]
        },
        {
          "name": "stderr",
          "output_type": "stream",
          "text": [
            "INFO:root:Writing example 0 of 1\n",
            "INFO:root:Writing example 0 of 1\n",
            "INFO:root:Writing example 0 of 1\n",
            "INFO:root:Writing example 0 of 1\n"
          ]
        },
        {
          "name": "stdout",
          "output_type": "stream",
          "text": [
            "4249\n",
            "4250\n",
            "4251\n",
            "4252\n"
          ]
        },
        {
          "name": "stderr",
          "output_type": "stream",
          "text": [
            "INFO:root:Writing example 0 of 1\n",
            "INFO:root:Writing example 0 of 1\n",
            "INFO:root:Writing example 0 of 1\n",
            "INFO:root:Writing example 0 of 1\n"
          ]
        },
        {
          "name": "stdout",
          "output_type": "stream",
          "text": [
            "4253\n",
            "4254\n",
            "4255\n",
            "4256\n"
          ]
        },
        {
          "name": "stderr",
          "output_type": "stream",
          "text": [
            "INFO:root:Writing example 0 of 1\n",
            "INFO:root:Writing example 0 of 1\n",
            "INFO:root:Writing example 0 of 1\n",
            "INFO:root:Writing example 0 of 1\n"
          ]
        },
        {
          "name": "stdout",
          "output_type": "stream",
          "text": [
            "4257\n",
            "4258\n",
            "4259\n",
            "4260\n"
          ]
        },
        {
          "name": "stderr",
          "output_type": "stream",
          "text": [
            "INFO:root:Writing example 0 of 1\n",
            "INFO:root:Writing example 0 of 1\n",
            "INFO:root:Writing example 0 of 1\n",
            "INFO:root:Writing example 0 of 1\n"
          ]
        },
        {
          "name": "stdout",
          "output_type": "stream",
          "text": [
            "4261\n",
            "4262\n",
            "4263\n",
            "4264\n"
          ]
        },
        {
          "name": "stderr",
          "output_type": "stream",
          "text": [
            "INFO:root:Writing example 0 of 1\n",
            "INFO:root:Writing example 0 of 1\n",
            "INFO:root:Writing example 0 of 1\n",
            "INFO:root:Writing example 0 of 1\n"
          ]
        },
        {
          "name": "stdout",
          "output_type": "stream",
          "text": [
            "4265\n",
            "4266\n",
            "4267\n",
            "4268\n"
          ]
        },
        {
          "name": "stderr",
          "output_type": "stream",
          "text": [
            "INFO:root:Writing example 0 of 1\n",
            "INFO:root:Writing example 0 of 1\n",
            "INFO:root:Writing example 0 of 1\n",
            "INFO:root:Writing example 0 of 1\n"
          ]
        },
        {
          "name": "stdout",
          "output_type": "stream",
          "text": [
            "4269\n",
            "4270\n",
            "4271\n",
            "4272\n"
          ]
        },
        {
          "name": "stderr",
          "output_type": "stream",
          "text": [
            "INFO:root:Writing example 0 of 1\n",
            "INFO:root:Writing example 0 of 1\n",
            "INFO:root:Writing example 0 of 1\n",
            "INFO:root:Writing example 0 of 1\n"
          ]
        },
        {
          "name": "stdout",
          "output_type": "stream",
          "text": [
            "4273\n",
            "4274\n",
            "4275\n",
            "4276\n"
          ]
        },
        {
          "name": "stderr",
          "output_type": "stream",
          "text": [
            "INFO:root:Writing example 0 of 1\n",
            "INFO:root:Writing example 0 of 1\n",
            "INFO:root:Writing example 0 of 1\n",
            "INFO:root:Writing example 0 of 1\n"
          ]
        },
        {
          "name": "stdout",
          "output_type": "stream",
          "text": [
            "4277\n",
            "4278\n",
            "4279\n",
            "4280\n"
          ]
        },
        {
          "name": "stderr",
          "output_type": "stream",
          "text": [
            "INFO:root:Writing example 0 of 1\n",
            "INFO:root:Writing example 0 of 1\n",
            "INFO:root:Writing example 0 of 1\n",
            "INFO:root:Writing example 0 of 1\n"
          ]
        },
        {
          "name": "stdout",
          "output_type": "stream",
          "text": [
            "4281\n",
            "4282\n",
            "4283\n",
            "4284\n"
          ]
        },
        {
          "name": "stderr",
          "output_type": "stream",
          "text": [
            "INFO:root:Writing example 0 of 1\n",
            "INFO:root:Writing example 0 of 1\n",
            "INFO:root:Writing example 0 of 1\n",
            "INFO:root:Writing example 0 of 1\n"
          ]
        },
        {
          "name": "stdout",
          "output_type": "stream",
          "text": [
            "4285\n",
            "4286\n",
            "4287\n",
            "4288\n"
          ]
        },
        {
          "name": "stderr",
          "output_type": "stream",
          "text": [
            "INFO:root:Writing example 0 of 1\n",
            "INFO:root:Writing example 0 of 1\n",
            "INFO:root:Writing example 0 of 1\n",
            "INFO:root:Writing example 0 of 1\n"
          ]
        },
        {
          "name": "stdout",
          "output_type": "stream",
          "text": [
            "4289\n",
            "4290\n",
            "4291\n",
            "4292\n"
          ]
        },
        {
          "name": "stderr",
          "output_type": "stream",
          "text": [
            "INFO:root:Writing example 0 of 1\n",
            "INFO:root:Writing example 0 of 1\n",
            "INFO:root:Writing example 0 of 1\n",
            "INFO:root:Writing example 0 of 1\n"
          ]
        },
        {
          "name": "stdout",
          "output_type": "stream",
          "text": [
            "4293\n",
            "4294\n",
            "4295\n",
            "4296\n"
          ]
        },
        {
          "name": "stderr",
          "output_type": "stream",
          "text": [
            "INFO:root:Writing example 0 of 1\n",
            "INFO:root:Writing example 0 of 1\n",
            "INFO:root:Writing example 0 of 1\n",
            "INFO:root:Writing example 0 of 1\n"
          ]
        },
        {
          "name": "stdout",
          "output_type": "stream",
          "text": [
            "4297\n",
            "4298\n",
            "4299\n",
            "4300\n"
          ]
        },
        {
          "name": "stderr",
          "output_type": "stream",
          "text": [
            "INFO:root:Writing example 0 of 1\n",
            "INFO:root:Writing example 0 of 1\n",
            "INFO:root:Writing example 0 of 1\n",
            "INFO:root:Writing example 0 of 1\n"
          ]
        },
        {
          "name": "stdout",
          "output_type": "stream",
          "text": [
            "4301\n",
            "4302\n",
            "4303\n",
            "4304\n"
          ]
        },
        {
          "name": "stderr",
          "output_type": "stream",
          "text": [
            "INFO:root:Writing example 0 of 1\n",
            "INFO:root:Writing example 0 of 1\n",
            "INFO:root:Writing example 0 of 1\n",
            "INFO:root:Writing example 0 of 1\n"
          ]
        },
        {
          "name": "stdout",
          "output_type": "stream",
          "text": [
            "4305\n",
            "4306\n",
            "4307\n",
            "4308\n"
          ]
        },
        {
          "name": "stderr",
          "output_type": "stream",
          "text": [
            "INFO:root:Writing example 0 of 1\n",
            "INFO:root:Writing example 0 of 1\n",
            "INFO:root:Writing example 0 of 1\n",
            "INFO:root:Writing example 0 of 1\n"
          ]
        },
        {
          "name": "stdout",
          "output_type": "stream",
          "text": [
            "4309\n",
            "4310\n",
            "4311\n",
            "4312\n"
          ]
        },
        {
          "name": "stderr",
          "output_type": "stream",
          "text": [
            "INFO:root:Writing example 0 of 1\n",
            "INFO:root:Writing example 0 of 1\n",
            "INFO:root:Writing example 0 of 1\n",
            "INFO:root:Writing example 0 of 1\n"
          ]
        },
        {
          "name": "stdout",
          "output_type": "stream",
          "text": [
            "4313\n",
            "4314\n",
            "4315\n",
            "4316\n"
          ]
        },
        {
          "name": "stderr",
          "output_type": "stream",
          "text": [
            "INFO:root:Writing example 0 of 1\n",
            "INFO:root:Writing example 0 of 1\n",
            "INFO:root:Writing example 0 of 1\n",
            "INFO:root:Writing example 0 of 1\n"
          ]
        },
        {
          "name": "stdout",
          "output_type": "stream",
          "text": [
            "4317\n",
            "4318\n",
            "4319\n",
            "4320\n"
          ]
        },
        {
          "name": "stderr",
          "output_type": "stream",
          "text": [
            "INFO:root:Writing example 0 of 1\n",
            "INFO:root:Writing example 0 of 1\n",
            "INFO:root:Writing example 0 of 1\n",
            "INFO:root:Writing example 0 of 1\n"
          ]
        },
        {
          "name": "stdout",
          "output_type": "stream",
          "text": [
            "4321\n",
            "4322\n",
            "4323\n",
            "4324\n"
          ]
        },
        {
          "name": "stderr",
          "output_type": "stream",
          "text": [
            "INFO:root:Writing example 0 of 1\n",
            "INFO:root:Writing example 0 of 1\n",
            "INFO:root:Writing example 0 of 1\n",
            "INFO:root:Writing example 0 of 1\n"
          ]
        },
        {
          "name": "stdout",
          "output_type": "stream",
          "text": [
            "4325\n",
            "4326\n",
            "4327\n",
            "4328\n"
          ]
        },
        {
          "name": "stderr",
          "output_type": "stream",
          "text": [
            "INFO:root:Writing example 0 of 1\n",
            "INFO:root:Writing example 0 of 1\n",
            "INFO:root:Writing example 0 of 1\n",
            "INFO:root:Writing example 0 of 1\n"
          ]
        },
        {
          "name": "stdout",
          "output_type": "stream",
          "text": [
            "4329\n",
            "4330\n",
            "4331\n",
            "4332\n"
          ]
        },
        {
          "name": "stderr",
          "output_type": "stream",
          "text": [
            "INFO:root:Writing example 0 of 1\n",
            "INFO:root:Writing example 0 of 1\n",
            "INFO:root:Writing example 0 of 1\n",
            "INFO:root:Writing example 0 of 1\n"
          ]
        },
        {
          "name": "stdout",
          "output_type": "stream",
          "text": [
            "4333\n",
            "4334\n",
            "4335\n",
            "4336\n"
          ]
        },
        {
          "name": "stderr",
          "output_type": "stream",
          "text": [
            "INFO:root:Writing example 0 of 1\n",
            "INFO:root:Writing example 0 of 1\n",
            "INFO:root:Writing example 0 of 1\n",
            "INFO:root:Writing example 0 of 1\n"
          ]
        },
        {
          "name": "stdout",
          "output_type": "stream",
          "text": [
            "4337\n",
            "4338\n",
            "4339\n",
            "4340\n"
          ]
        },
        {
          "name": "stderr",
          "output_type": "stream",
          "text": [
            "INFO:root:Writing example 0 of 1\n",
            "INFO:root:Writing example 0 of 1\n",
            "INFO:root:Writing example 0 of 1\n",
            "INFO:root:Writing example 0 of 1\n"
          ]
        },
        {
          "name": "stdout",
          "output_type": "stream",
          "text": [
            "4341\n",
            "4342\n",
            "4343\n",
            "4344\n"
          ]
        },
        {
          "name": "stderr",
          "output_type": "stream",
          "text": [
            "INFO:root:Writing example 0 of 1\n",
            "INFO:root:Writing example 0 of 1\n",
            "INFO:root:Writing example 0 of 1\n",
            "INFO:root:Writing example 0 of 1\n"
          ]
        },
        {
          "name": "stdout",
          "output_type": "stream",
          "text": [
            "4345\n",
            "4346\n",
            "4347\n",
            "4348\n"
          ]
        },
        {
          "name": "stderr",
          "output_type": "stream",
          "text": [
            "INFO:root:Writing example 0 of 1\n",
            "INFO:root:Writing example 0 of 1\n",
            "INFO:root:Writing example 0 of 1\n",
            "INFO:root:Writing example 0 of 1\n"
          ]
        },
        {
          "name": "stdout",
          "output_type": "stream",
          "text": [
            "4349\n",
            "4350\n",
            "4351\n",
            "4352\n"
          ]
        },
        {
          "name": "stderr",
          "output_type": "stream",
          "text": [
            "INFO:root:Writing example 0 of 1\n",
            "INFO:root:Writing example 0 of 1\n",
            "INFO:root:Writing example 0 of 1\n",
            "INFO:root:Writing example 0 of 1\n"
          ]
        },
        {
          "name": "stdout",
          "output_type": "stream",
          "text": [
            "4353\n",
            "4354\n",
            "4355\n",
            "4356\n"
          ]
        },
        {
          "name": "stderr",
          "output_type": "stream",
          "text": [
            "INFO:root:Writing example 0 of 1\n",
            "INFO:root:Writing example 0 of 1\n",
            "INFO:root:Writing example 0 of 1\n",
            "INFO:root:Writing example 0 of 1\n"
          ]
        },
        {
          "name": "stdout",
          "output_type": "stream",
          "text": [
            "4357\n",
            "4358\n",
            "4359\n",
            "4360\n"
          ]
        },
        {
          "name": "stderr",
          "output_type": "stream",
          "text": [
            "INFO:root:Writing example 0 of 1\n",
            "INFO:root:Writing example 0 of 1\n",
            "INFO:root:Writing example 0 of 1\n",
            "INFO:root:Writing example 0 of 1\n"
          ]
        },
        {
          "name": "stdout",
          "output_type": "stream",
          "text": [
            "4361\n",
            "4362\n",
            "4363\n",
            "4364\n"
          ]
        },
        {
          "name": "stderr",
          "output_type": "stream",
          "text": [
            "INFO:root:Writing example 0 of 1\n",
            "INFO:root:Writing example 0 of 1\n",
            "INFO:root:Writing example 0 of 1\n",
            "INFO:root:Writing example 0 of 1\n"
          ]
        },
        {
          "name": "stdout",
          "output_type": "stream",
          "text": [
            "4365\n",
            "4366\n",
            "4367\n",
            "4368\n"
          ]
        },
        {
          "name": "stderr",
          "output_type": "stream",
          "text": [
            "INFO:root:Writing example 0 of 1\n",
            "INFO:root:Writing example 0 of 1\n",
            "INFO:root:Writing example 0 of 1\n",
            "INFO:root:Writing example 0 of 1\n"
          ]
        },
        {
          "name": "stdout",
          "output_type": "stream",
          "text": [
            "4369\n",
            "4370\n",
            "4371\n",
            "4372\n"
          ]
        },
        {
          "name": "stderr",
          "output_type": "stream",
          "text": [
            "INFO:root:Writing example 0 of 1\n",
            "INFO:root:Writing example 0 of 1\n",
            "INFO:root:Writing example 0 of 1\n",
            "INFO:root:Writing example 0 of 1\n"
          ]
        },
        {
          "name": "stdout",
          "output_type": "stream",
          "text": [
            "4373\n",
            "4374\n",
            "4375\n",
            "4376\n"
          ]
        },
        {
          "name": "stderr",
          "output_type": "stream",
          "text": [
            "INFO:root:Writing example 0 of 1\n",
            "INFO:root:Writing example 0 of 1\n",
            "INFO:root:Writing example 0 of 1\n",
            "INFO:root:Writing example 0 of 1\n"
          ]
        },
        {
          "name": "stdout",
          "output_type": "stream",
          "text": [
            "4377\n",
            "4378\n",
            "4379\n",
            "4380\n"
          ]
        },
        {
          "name": "stderr",
          "output_type": "stream",
          "text": [
            "INFO:root:Writing example 0 of 1\n",
            "INFO:root:Writing example 0 of 1\n",
            "INFO:root:Writing example 0 of 1\n",
            "INFO:root:Writing example 0 of 1\n"
          ]
        },
        {
          "name": "stdout",
          "output_type": "stream",
          "text": [
            "4381\n",
            "4382\n",
            "4383\n",
            "4384\n"
          ]
        },
        {
          "name": "stderr",
          "output_type": "stream",
          "text": [
            "INFO:root:Writing example 0 of 1\n",
            "INFO:root:Writing example 0 of 1\n",
            "INFO:root:Writing example 0 of 1\n",
            "INFO:root:Writing example 0 of 1\n"
          ]
        },
        {
          "name": "stdout",
          "output_type": "stream",
          "text": [
            "4385\n",
            "4386\n",
            "4387\n",
            "4388\n"
          ]
        },
        {
          "name": "stderr",
          "output_type": "stream",
          "text": [
            "INFO:root:Writing example 0 of 1\n",
            "INFO:root:Writing example 0 of 1\n",
            "INFO:root:Writing example 0 of 1\n",
            "INFO:root:Writing example 0 of 1\n"
          ]
        },
        {
          "name": "stdout",
          "output_type": "stream",
          "text": [
            "4389\n",
            "4390\n",
            "4391\n",
            "4392\n"
          ]
        },
        {
          "name": "stderr",
          "output_type": "stream",
          "text": [
            "INFO:root:Writing example 0 of 1\n",
            "INFO:root:Writing example 0 of 1\n",
            "INFO:root:Writing example 0 of 1\n",
            "INFO:root:Writing example 0 of 1\n"
          ]
        },
        {
          "name": "stdout",
          "output_type": "stream",
          "text": [
            "4393\n",
            "4394\n",
            "4395\n",
            "4396\n"
          ]
        },
        {
          "name": "stderr",
          "output_type": "stream",
          "text": [
            "INFO:root:Writing example 0 of 1\n",
            "INFO:root:Writing example 0 of 1\n",
            "INFO:root:Writing example 0 of 1\n",
            "INFO:root:Writing example 0 of 1\n"
          ]
        },
        {
          "name": "stdout",
          "output_type": "stream",
          "text": [
            "4397\n",
            "4398\n",
            "4399\n",
            "4400\n"
          ]
        },
        {
          "name": "stderr",
          "output_type": "stream",
          "text": [
            "INFO:root:Writing example 0 of 1\n",
            "INFO:root:Writing example 0 of 1\n",
            "INFO:root:Writing example 0 of 1\n",
            "INFO:root:Writing example 0 of 1\n"
          ]
        },
        {
          "name": "stdout",
          "output_type": "stream",
          "text": [
            "4401\n",
            "4402\n",
            "4403\n",
            "4404\n"
          ]
        },
        {
          "name": "stderr",
          "output_type": "stream",
          "text": [
            "INFO:root:Writing example 0 of 1\n",
            "INFO:root:Writing example 0 of 1\n",
            "INFO:root:Writing example 0 of 1\n",
            "INFO:root:Writing example 0 of 1\n"
          ]
        },
        {
          "name": "stdout",
          "output_type": "stream",
          "text": [
            "4405\n",
            "4406\n",
            "4407\n",
            "4408\n"
          ]
        },
        {
          "name": "stderr",
          "output_type": "stream",
          "text": [
            "INFO:root:Writing example 0 of 1\n",
            "INFO:root:Writing example 0 of 1\n",
            "INFO:root:Writing example 0 of 1\n",
            "INFO:root:Writing example 0 of 1\n"
          ]
        },
        {
          "name": "stdout",
          "output_type": "stream",
          "text": [
            "4409\n",
            "4410\n",
            "4411\n",
            "4412\n"
          ]
        },
        {
          "name": "stderr",
          "output_type": "stream",
          "text": [
            "INFO:root:Writing example 0 of 1\n",
            "INFO:root:Writing example 0 of 1\n",
            "INFO:root:Writing example 0 of 1\n",
            "INFO:root:Writing example 0 of 1\n"
          ]
        },
        {
          "name": "stdout",
          "output_type": "stream",
          "text": [
            "4413\n",
            "4414\n",
            "4415\n",
            "4416\n"
          ]
        },
        {
          "name": "stderr",
          "output_type": "stream",
          "text": [
            "INFO:root:Writing example 0 of 1\n",
            "INFO:root:Writing example 0 of 1\n",
            "INFO:root:Writing example 0 of 1\n",
            "INFO:root:Writing example 0 of 1\n"
          ]
        },
        {
          "name": "stdout",
          "output_type": "stream",
          "text": [
            "4417\n",
            "4418\n",
            "4419\n",
            "4420\n"
          ]
        },
        {
          "name": "stderr",
          "output_type": "stream",
          "text": [
            "INFO:root:Writing example 0 of 1\n",
            "INFO:root:Writing example 0 of 1\n",
            "INFO:root:Writing example 0 of 1\n",
            "INFO:root:Writing example 0 of 1\n"
          ]
        },
        {
          "name": "stdout",
          "output_type": "stream",
          "text": [
            "4421\n",
            "4422\n",
            "4423\n",
            "4424\n"
          ]
        },
        {
          "name": "stderr",
          "output_type": "stream",
          "text": [
            "INFO:root:Writing example 0 of 1\n",
            "INFO:root:Writing example 0 of 1\n",
            "INFO:root:Writing example 0 of 1\n",
            "INFO:root:Writing example 0 of 1\n"
          ]
        },
        {
          "name": "stdout",
          "output_type": "stream",
          "text": [
            "4425\n",
            "4426\n",
            "4427\n",
            "4428\n"
          ]
        },
        {
          "name": "stderr",
          "output_type": "stream",
          "text": [
            "INFO:root:Writing example 0 of 1\n",
            "INFO:root:Writing example 0 of 1\n",
            "INFO:root:Writing example 0 of 1\n",
            "INFO:root:Writing example 0 of 1\n"
          ]
        },
        {
          "name": "stdout",
          "output_type": "stream",
          "text": [
            "4429\n",
            "4430\n",
            "4431\n",
            "4432\n"
          ]
        },
        {
          "name": "stderr",
          "output_type": "stream",
          "text": [
            "INFO:root:Writing example 0 of 1\n",
            "INFO:root:Writing example 0 of 1\n",
            "INFO:root:Writing example 0 of 1\n",
            "INFO:root:Writing example 0 of 1\n"
          ]
        },
        {
          "name": "stdout",
          "output_type": "stream",
          "text": [
            "4433\n",
            "4434\n",
            "4435\n",
            "4436\n"
          ]
        },
        {
          "name": "stderr",
          "output_type": "stream",
          "text": [
            "INFO:root:Writing example 0 of 1\n",
            "INFO:root:Writing example 0 of 1\n",
            "INFO:root:Writing example 0 of 1\n",
            "INFO:root:Writing example 0 of 1\n"
          ]
        },
        {
          "name": "stdout",
          "output_type": "stream",
          "text": [
            "4437\n",
            "4438\n",
            "4439\n",
            "4440\n"
          ]
        },
        {
          "name": "stderr",
          "output_type": "stream",
          "text": [
            "INFO:root:Writing example 0 of 1\n",
            "INFO:root:Writing example 0 of 1\n",
            "INFO:root:Writing example 0 of 1\n",
            "INFO:root:Writing example 0 of 1\n"
          ]
        },
        {
          "name": "stdout",
          "output_type": "stream",
          "text": [
            "4441\n",
            "4442\n",
            "4443\n",
            "4444\n"
          ]
        },
        {
          "name": "stderr",
          "output_type": "stream",
          "text": [
            "INFO:root:Writing example 0 of 1\n",
            "INFO:root:Writing example 0 of 1\n",
            "INFO:root:Writing example 0 of 1\n",
            "INFO:root:Writing example 0 of 1\n"
          ]
        },
        {
          "name": "stdout",
          "output_type": "stream",
          "text": [
            "4445\n",
            "4446\n",
            "4447\n",
            "4448\n"
          ]
        },
        {
          "name": "stderr",
          "output_type": "stream",
          "text": [
            "INFO:root:Writing example 0 of 1\n",
            "INFO:root:Writing example 0 of 1\n",
            "INFO:root:Writing example 0 of 1\n",
            "INFO:root:Writing example 0 of 1\n"
          ]
        },
        {
          "name": "stdout",
          "output_type": "stream",
          "text": [
            "4449\n",
            "4450\n",
            "4451\n",
            "4452\n"
          ]
        },
        {
          "name": "stderr",
          "output_type": "stream",
          "text": [
            "INFO:root:Writing example 0 of 1\n",
            "INFO:root:Writing example 0 of 1\n",
            "INFO:root:Writing example 0 of 1\n",
            "INFO:root:Writing example 0 of 1\n"
          ]
        },
        {
          "name": "stdout",
          "output_type": "stream",
          "text": [
            "4453\n",
            "4454\n",
            "4455\n",
            "4456\n"
          ]
        },
        {
          "name": "stderr",
          "output_type": "stream",
          "text": [
            "INFO:root:Writing example 0 of 1\n",
            "INFO:root:Writing example 0 of 1\n",
            "INFO:root:Writing example 0 of 1\n",
            "INFO:root:Writing example 0 of 1\n"
          ]
        },
        {
          "name": "stdout",
          "output_type": "stream",
          "text": [
            "4457\n",
            "4458\n",
            "4459\n",
            "4460\n"
          ]
        },
        {
          "name": "stderr",
          "output_type": "stream",
          "text": [
            "INFO:root:Writing example 0 of 1\n",
            "INFO:root:Writing example 0 of 1\n",
            "INFO:root:Writing example 0 of 1\n",
            "INFO:root:Writing example 0 of 1\n"
          ]
        },
        {
          "name": "stdout",
          "output_type": "stream",
          "text": [
            "4461\n",
            "4462\n",
            "4463\n",
            "4464\n"
          ]
        },
        {
          "name": "stderr",
          "output_type": "stream",
          "text": [
            "INFO:root:Writing example 0 of 1\n",
            "INFO:root:Writing example 0 of 1\n",
            "INFO:root:Writing example 0 of 1\n",
            "INFO:root:Writing example 0 of 1\n"
          ]
        },
        {
          "name": "stdout",
          "output_type": "stream",
          "text": [
            "4465\n",
            "4466\n",
            "4467\n",
            "4468\n"
          ]
        },
        {
          "name": "stderr",
          "output_type": "stream",
          "text": [
            "INFO:root:Writing example 0 of 1\n",
            "INFO:root:Writing example 0 of 1\n",
            "INFO:root:Writing example 0 of 1\n",
            "INFO:root:Writing example 0 of 1\n"
          ]
        },
        {
          "name": "stdout",
          "output_type": "stream",
          "text": [
            "4469\n",
            "4470\n",
            "4471\n",
            "4472\n"
          ]
        },
        {
          "name": "stderr",
          "output_type": "stream",
          "text": [
            "INFO:root:Writing example 0 of 1\n",
            "INFO:root:Writing example 0 of 1\n",
            "INFO:root:Writing example 0 of 1\n",
            "INFO:root:Writing example 0 of 1\n"
          ]
        },
        {
          "name": "stdout",
          "output_type": "stream",
          "text": [
            "4473\n",
            "4474\n",
            "4475\n",
            "4476\n"
          ]
        },
        {
          "name": "stderr",
          "output_type": "stream",
          "text": [
            "INFO:root:Writing example 0 of 1\n",
            "INFO:root:Writing example 0 of 1\n",
            "INFO:root:Writing example 0 of 1\n",
            "INFO:root:Writing example 0 of 1\n"
          ]
        },
        {
          "name": "stdout",
          "output_type": "stream",
          "text": [
            "4477\n",
            "4478\n",
            "4479\n",
            "4480\n"
          ]
        },
        {
          "name": "stderr",
          "output_type": "stream",
          "text": [
            "INFO:root:Writing example 0 of 1\n",
            "INFO:root:Writing example 0 of 1\n",
            "INFO:root:Writing example 0 of 1\n",
            "INFO:root:Writing example 0 of 1\n"
          ]
        },
        {
          "name": "stdout",
          "output_type": "stream",
          "text": [
            "4481\n",
            "4482\n",
            "4483\n",
            "4484\n"
          ]
        },
        {
          "name": "stderr",
          "output_type": "stream",
          "text": [
            "INFO:root:Writing example 0 of 1\n",
            "INFO:root:Writing example 0 of 1\n",
            "INFO:root:Writing example 0 of 1\n",
            "INFO:root:Writing example 0 of 1\n"
          ]
        },
        {
          "name": "stdout",
          "output_type": "stream",
          "text": [
            "4485\n",
            "4486\n",
            "4487\n",
            "4488\n"
          ]
        },
        {
          "name": "stderr",
          "output_type": "stream",
          "text": [
            "INFO:root:Writing example 0 of 1\n",
            "INFO:root:Writing example 0 of 1\n",
            "INFO:root:Writing example 0 of 1\n",
            "INFO:root:Writing example 0 of 1\n"
          ]
        },
        {
          "name": "stdout",
          "output_type": "stream",
          "text": [
            "4489\n",
            "4490\n",
            "4491\n",
            "4492\n"
          ]
        },
        {
          "name": "stderr",
          "output_type": "stream",
          "text": [
            "INFO:root:Writing example 0 of 1\n",
            "INFO:root:Writing example 0 of 1\n",
            "INFO:root:Writing example 0 of 1\n",
            "INFO:root:Writing example 0 of 1\n"
          ]
        },
        {
          "name": "stdout",
          "output_type": "stream",
          "text": [
            "4493\n",
            "4494\n",
            "4495\n",
            "4496\n"
          ]
        },
        {
          "name": "stderr",
          "output_type": "stream",
          "text": [
            "INFO:root:Writing example 0 of 1\n",
            "INFO:root:Writing example 0 of 1\n",
            "INFO:root:Writing example 0 of 1\n",
            "INFO:root:Writing example 0 of 1\n"
          ]
        },
        {
          "name": "stdout",
          "output_type": "stream",
          "text": [
            "4497\n",
            "4498\n",
            "4499\n",
            "4500\n"
          ]
        },
        {
          "name": "stderr",
          "output_type": "stream",
          "text": [
            "INFO:root:Writing example 0 of 1\n",
            "INFO:root:Writing example 0 of 1\n",
            "INFO:root:Writing example 0 of 1\n",
            "INFO:root:Writing example 0 of 1\n"
          ]
        },
        {
          "name": "stdout",
          "output_type": "stream",
          "text": [
            "4501\n",
            "4502\n",
            "4503\n",
            "4504\n"
          ]
        },
        {
          "name": "stderr",
          "output_type": "stream",
          "text": [
            "INFO:root:Writing example 0 of 1\n",
            "INFO:root:Writing example 0 of 1\n",
            "INFO:root:Writing example 0 of 1\n",
            "INFO:root:Writing example 0 of 1\n"
          ]
        },
        {
          "name": "stdout",
          "output_type": "stream",
          "text": [
            "4505\n",
            "4506\n",
            "4507\n",
            "4508\n"
          ]
        },
        {
          "name": "stderr",
          "output_type": "stream",
          "text": [
            "INFO:root:Writing example 0 of 1\n",
            "INFO:root:Writing example 0 of 1\n",
            "INFO:root:Writing example 0 of 1\n",
            "INFO:root:Writing example 0 of 1\n"
          ]
        },
        {
          "name": "stdout",
          "output_type": "stream",
          "text": [
            "4509\n",
            "4510\n",
            "4511\n",
            "4512\n"
          ]
        },
        {
          "name": "stderr",
          "output_type": "stream",
          "text": [
            "INFO:root:Writing example 0 of 1\n",
            "INFO:root:Writing example 0 of 1\n",
            "INFO:root:Writing example 0 of 1\n",
            "INFO:root:Writing example 0 of 1\n"
          ]
        },
        {
          "name": "stdout",
          "output_type": "stream",
          "text": [
            "4513\n",
            "4514\n",
            "4515\n",
            "4516\n"
          ]
        },
        {
          "name": "stderr",
          "output_type": "stream",
          "text": [
            "INFO:root:Writing example 0 of 1\n",
            "INFO:root:Writing example 0 of 1\n",
            "INFO:root:Writing example 0 of 1\n",
            "INFO:root:Writing example 0 of 1\n"
          ]
        },
        {
          "name": "stdout",
          "output_type": "stream",
          "text": [
            "4517\n",
            "4518\n",
            "4519\n",
            "4520\n"
          ]
        },
        {
          "name": "stderr",
          "output_type": "stream",
          "text": [
            "INFO:root:Writing example 0 of 1\n",
            "INFO:root:Writing example 0 of 1\n",
            "INFO:root:Writing example 0 of 1\n",
            "INFO:root:Writing example 0 of 1\n"
          ]
        },
        {
          "name": "stdout",
          "output_type": "stream",
          "text": [
            "4521\n",
            "4522\n",
            "4523\n",
            "4524\n"
          ]
        },
        {
          "name": "stderr",
          "output_type": "stream",
          "text": [
            "INFO:root:Writing example 0 of 1\n",
            "INFO:root:Writing example 0 of 1\n",
            "INFO:root:Writing example 0 of 1\n",
            "INFO:root:Writing example 0 of 1\n"
          ]
        },
        {
          "name": "stdout",
          "output_type": "stream",
          "text": [
            "4525\n",
            "4526\n",
            "4527\n",
            "4528\n"
          ]
        },
        {
          "name": "stderr",
          "output_type": "stream",
          "text": [
            "INFO:root:Writing example 0 of 1\n",
            "INFO:root:Writing example 0 of 1\n",
            "INFO:root:Writing example 0 of 1\n",
            "INFO:root:Writing example 0 of 1\n"
          ]
        },
        {
          "name": "stdout",
          "output_type": "stream",
          "text": [
            "4529\n",
            "4530\n",
            "4531\n",
            "4532\n"
          ]
        },
        {
          "name": "stderr",
          "output_type": "stream",
          "text": [
            "INFO:root:Writing example 0 of 1\n",
            "INFO:root:Writing example 0 of 1\n",
            "INFO:root:Writing example 0 of 1\n",
            "INFO:root:Writing example 0 of 1\n"
          ]
        },
        {
          "name": "stdout",
          "output_type": "stream",
          "text": [
            "4533\n",
            "4534\n",
            "4535\n",
            "4536\n"
          ]
        },
        {
          "name": "stderr",
          "output_type": "stream",
          "text": [
            "INFO:root:Writing example 0 of 1\n",
            "INFO:root:Writing example 0 of 1\n",
            "INFO:root:Writing example 0 of 1\n",
            "INFO:root:Writing example 0 of 1\n"
          ]
        },
        {
          "name": "stdout",
          "output_type": "stream",
          "text": [
            "4537\n",
            "4538\n",
            "4539\n",
            "4540\n"
          ]
        },
        {
          "name": "stderr",
          "output_type": "stream",
          "text": [
            "INFO:root:Writing example 0 of 1\n",
            "INFO:root:Writing example 0 of 1\n",
            "INFO:root:Writing example 0 of 1\n",
            "INFO:root:Writing example 0 of 1\n"
          ]
        },
        {
          "name": "stdout",
          "output_type": "stream",
          "text": [
            "4541\n",
            "4542\n",
            "4543\n",
            "4544\n"
          ]
        },
        {
          "name": "stderr",
          "output_type": "stream",
          "text": [
            "INFO:root:Writing example 0 of 1\n",
            "INFO:root:Writing example 0 of 1\n",
            "INFO:root:Writing example 0 of 1\n",
            "INFO:root:Writing example 0 of 1\n"
          ]
        },
        {
          "name": "stdout",
          "output_type": "stream",
          "text": [
            "4545\n",
            "4546\n",
            "4547\n",
            "4548\n"
          ]
        },
        {
          "name": "stderr",
          "output_type": "stream",
          "text": [
            "INFO:root:Writing example 0 of 1\n",
            "INFO:root:Writing example 0 of 1\n",
            "INFO:root:Writing example 0 of 1\n",
            "INFO:root:Writing example 0 of 1\n"
          ]
        },
        {
          "name": "stdout",
          "output_type": "stream",
          "text": [
            "4549\n",
            "4550\n",
            "4551\n",
            "4552\n"
          ]
        },
        {
          "name": "stderr",
          "output_type": "stream",
          "text": [
            "INFO:root:Writing example 0 of 1\n",
            "INFO:root:Writing example 0 of 1\n",
            "INFO:root:Writing example 0 of 1\n",
            "INFO:root:Writing example 0 of 1\n"
          ]
        },
        {
          "name": "stdout",
          "output_type": "stream",
          "text": [
            "4553\n",
            "4554\n",
            "4555\n",
            "4556\n"
          ]
        },
        {
          "name": "stderr",
          "output_type": "stream",
          "text": [
            "INFO:root:Writing example 0 of 1\n",
            "INFO:root:Writing example 0 of 1\n",
            "INFO:root:Writing example 0 of 1\n",
            "INFO:root:Writing example 0 of 1\n"
          ]
        },
        {
          "name": "stdout",
          "output_type": "stream",
          "text": [
            "4557\n",
            "4558\n",
            "4559\n",
            "4560\n"
          ]
        },
        {
          "name": "stderr",
          "output_type": "stream",
          "text": [
            "INFO:root:Writing example 0 of 1\n",
            "INFO:root:Writing example 0 of 1\n",
            "INFO:root:Writing example 0 of 1\n",
            "INFO:root:Writing example 0 of 1\n"
          ]
        },
        {
          "name": "stdout",
          "output_type": "stream",
          "text": [
            "4561\n",
            "4562\n",
            "4563\n",
            "4564\n"
          ]
        },
        {
          "name": "stderr",
          "output_type": "stream",
          "text": [
            "INFO:root:Writing example 0 of 1\n",
            "INFO:root:Writing example 0 of 1\n",
            "INFO:root:Writing example 0 of 1\n",
            "INFO:root:Writing example 0 of 1\n"
          ]
        },
        {
          "name": "stdout",
          "output_type": "stream",
          "text": [
            "4565\n",
            "4566\n",
            "4567\n",
            "4568\n"
          ]
        },
        {
          "name": "stderr",
          "output_type": "stream",
          "text": [
            "INFO:root:Writing example 0 of 1\n",
            "INFO:root:Writing example 0 of 1\n",
            "INFO:root:Writing example 0 of 1\n",
            "INFO:root:Writing example 0 of 1\n"
          ]
        },
        {
          "name": "stdout",
          "output_type": "stream",
          "text": [
            "4569\n",
            "4570\n",
            "4571\n",
            "4572\n"
          ]
        },
        {
          "name": "stderr",
          "output_type": "stream",
          "text": [
            "INFO:root:Writing example 0 of 1\n",
            "INFO:root:Writing example 0 of 1\n",
            "INFO:root:Writing example 0 of 1\n",
            "INFO:root:Writing example 0 of 1\n"
          ]
        },
        {
          "name": "stdout",
          "output_type": "stream",
          "text": [
            "4573\n",
            "4574\n",
            "4575\n",
            "4576\n"
          ]
        },
        {
          "name": "stderr",
          "output_type": "stream",
          "text": [
            "INFO:root:Writing example 0 of 1\n",
            "INFO:root:Writing example 0 of 1\n",
            "INFO:root:Writing example 0 of 1\n",
            "INFO:root:Writing example 0 of 1\n"
          ]
        },
        {
          "name": "stdout",
          "output_type": "stream",
          "text": [
            "4577\n",
            "4578\n",
            "4579\n",
            "4580\n"
          ]
        },
        {
          "name": "stderr",
          "output_type": "stream",
          "text": [
            "INFO:root:Writing example 0 of 1\n",
            "INFO:root:Writing example 0 of 1\n",
            "INFO:root:Writing example 0 of 1\n",
            "INFO:root:Writing example 0 of 1\n"
          ]
        },
        {
          "name": "stdout",
          "output_type": "stream",
          "text": [
            "4581\n",
            "4582\n",
            "4583\n",
            "4584\n"
          ]
        },
        {
          "name": "stderr",
          "output_type": "stream",
          "text": [
            "INFO:root:Writing example 0 of 1\n",
            "INFO:root:Writing example 0 of 1\n",
            "INFO:root:Writing example 0 of 1\n",
            "INFO:root:Writing example 0 of 1\n"
          ]
        },
        {
          "name": "stdout",
          "output_type": "stream",
          "text": [
            "4585\n",
            "4586\n",
            "4587\n",
            "4588\n"
          ]
        },
        {
          "name": "stderr",
          "output_type": "stream",
          "text": [
            "INFO:root:Writing example 0 of 1\n",
            "INFO:root:Writing example 0 of 1\n",
            "INFO:root:Writing example 0 of 1\n",
            "INFO:root:Writing example 0 of 1\n"
          ]
        },
        {
          "name": "stdout",
          "output_type": "stream",
          "text": [
            "4589\n",
            "4590\n",
            "4591\n",
            "4592\n"
          ]
        },
        {
          "name": "stderr",
          "output_type": "stream",
          "text": [
            "INFO:root:Writing example 0 of 1\n",
            "INFO:root:Writing example 0 of 1\n",
            "INFO:root:Writing example 0 of 1\n",
            "INFO:root:Writing example 0 of 1\n"
          ]
        },
        {
          "name": "stdout",
          "output_type": "stream",
          "text": [
            "4593\n",
            "4594\n",
            "4595\n",
            "4596\n"
          ]
        },
        {
          "name": "stderr",
          "output_type": "stream",
          "text": [
            "INFO:root:Writing example 0 of 1\n",
            "INFO:root:Writing example 0 of 1\n",
            "INFO:root:Writing example 0 of 1\n",
            "INFO:root:Writing example 0 of 1\n"
          ]
        },
        {
          "name": "stdout",
          "output_type": "stream",
          "text": [
            "4597\n",
            "4598\n",
            "4599\n",
            "4600\n"
          ]
        },
        {
          "name": "stderr",
          "output_type": "stream",
          "text": [
            "INFO:root:Writing example 0 of 1\n",
            "INFO:root:Writing example 0 of 1\n",
            "INFO:root:Writing example 0 of 1\n",
            "INFO:root:Writing example 0 of 1\n"
          ]
        },
        {
          "name": "stdout",
          "output_type": "stream",
          "text": [
            "4601\n",
            "4602\n",
            "4603\n",
            "4604\n"
          ]
        },
        {
          "name": "stderr",
          "output_type": "stream",
          "text": [
            "INFO:root:Writing example 0 of 1\n",
            "INFO:root:Writing example 0 of 1\n",
            "INFO:root:Writing example 0 of 1\n",
            "INFO:root:Writing example 0 of 1\n"
          ]
        },
        {
          "name": "stdout",
          "output_type": "stream",
          "text": [
            "4605\n",
            "4606\n",
            "4607\n",
            "4608\n"
          ]
        },
        {
          "name": "stderr",
          "output_type": "stream",
          "text": [
            "INFO:root:Writing example 0 of 1\n",
            "INFO:root:Writing example 0 of 1\n",
            "INFO:root:Writing example 0 of 1\n",
            "INFO:root:Writing example 0 of 1\n"
          ]
        },
        {
          "name": "stdout",
          "output_type": "stream",
          "text": [
            "4609\n",
            "4610\n",
            "4611\n",
            "4612\n"
          ]
        },
        {
          "name": "stderr",
          "output_type": "stream",
          "text": [
            "INFO:root:Writing example 0 of 1\n",
            "INFO:root:Writing example 0 of 1\n",
            "INFO:root:Writing example 0 of 1\n",
            "INFO:root:Writing example 0 of 1\n"
          ]
        },
        {
          "name": "stdout",
          "output_type": "stream",
          "text": [
            "4613\n",
            "4614\n",
            "4615\n",
            "4616\n"
          ]
        },
        {
          "name": "stderr",
          "output_type": "stream",
          "text": [
            "INFO:root:Writing example 0 of 1\n",
            "INFO:root:Writing example 0 of 1\n",
            "INFO:root:Writing example 0 of 1\n",
            "INFO:root:Writing example 0 of 1\n"
          ]
        },
        {
          "name": "stdout",
          "output_type": "stream",
          "text": [
            "4617\n",
            "4618\n",
            "4619\n",
            "4620\n"
          ]
        },
        {
          "name": "stderr",
          "output_type": "stream",
          "text": [
            "INFO:root:Writing example 0 of 1\n",
            "INFO:root:Writing example 0 of 1\n",
            "INFO:root:Writing example 0 of 1\n",
            "INFO:root:Writing example 0 of 1\n"
          ]
        },
        {
          "name": "stdout",
          "output_type": "stream",
          "text": [
            "4621\n",
            "4622\n",
            "4623\n",
            "4624\n"
          ]
        },
        {
          "name": "stderr",
          "output_type": "stream",
          "text": [
            "INFO:root:Writing example 0 of 1\n",
            "INFO:root:Writing example 0 of 1\n",
            "INFO:root:Writing example 0 of 1\n",
            "INFO:root:Writing example 0 of 1\n"
          ]
        },
        {
          "name": "stdout",
          "output_type": "stream",
          "text": [
            "4625\n",
            "4626\n",
            "4627\n",
            "4628\n"
          ]
        },
        {
          "name": "stderr",
          "output_type": "stream",
          "text": [
            "INFO:root:Writing example 0 of 1\n",
            "INFO:root:Writing example 0 of 1\n",
            "INFO:root:Writing example 0 of 1\n",
            "INFO:root:Writing example 0 of 1\n"
          ]
        },
        {
          "name": "stdout",
          "output_type": "stream",
          "text": [
            "4629\n",
            "4630\n",
            "4631\n",
            "4632\n"
          ]
        },
        {
          "name": "stderr",
          "output_type": "stream",
          "text": [
            "INFO:root:Writing example 0 of 1\n",
            "INFO:root:Writing example 0 of 1\n",
            "INFO:root:Writing example 0 of 1\n",
            "INFO:root:Writing example 0 of 1\n"
          ]
        },
        {
          "name": "stdout",
          "output_type": "stream",
          "text": [
            "4633\n",
            "4634\n",
            "4635\n",
            "4636\n"
          ]
        },
        {
          "name": "stderr",
          "output_type": "stream",
          "text": [
            "INFO:root:Writing example 0 of 1\n",
            "INFO:root:Writing example 0 of 1\n",
            "INFO:root:Writing example 0 of 1\n",
            "INFO:root:Writing example 0 of 1\n"
          ]
        },
        {
          "name": "stdout",
          "output_type": "stream",
          "text": [
            "4637\n",
            "4638\n",
            "4639\n",
            "4640\n"
          ]
        },
        {
          "name": "stderr",
          "output_type": "stream",
          "text": [
            "INFO:root:Writing example 0 of 1\n",
            "INFO:root:Writing example 0 of 1\n",
            "INFO:root:Writing example 0 of 1\n",
            "INFO:root:Writing example 0 of 1\n"
          ]
        },
        {
          "name": "stdout",
          "output_type": "stream",
          "text": [
            "4641\n",
            "4642\n",
            "4643\n",
            "4644\n"
          ]
        },
        {
          "name": "stderr",
          "output_type": "stream",
          "text": [
            "INFO:root:Writing example 0 of 1\n",
            "INFO:root:Writing example 0 of 1\n",
            "INFO:root:Writing example 0 of 1\n",
            "INFO:root:Writing example 0 of 1\n"
          ]
        },
        {
          "name": "stdout",
          "output_type": "stream",
          "text": [
            "4645\n",
            "4646\n",
            "4647\n",
            "4648\n"
          ]
        },
        {
          "name": "stderr",
          "output_type": "stream",
          "text": [
            "INFO:root:Writing example 0 of 1\n",
            "INFO:root:Writing example 0 of 1\n",
            "INFO:root:Writing example 0 of 1\n",
            "INFO:root:Writing example 0 of 1\n"
          ]
        },
        {
          "name": "stdout",
          "output_type": "stream",
          "text": [
            "4649\n",
            "4650\n",
            "4651\n",
            "4652\n"
          ]
        },
        {
          "name": "stderr",
          "output_type": "stream",
          "text": [
            "INFO:root:Writing example 0 of 1\n",
            "INFO:root:Writing example 0 of 1\n",
            "INFO:root:Writing example 0 of 1\n",
            "INFO:root:Writing example 0 of 1\n"
          ]
        },
        {
          "name": "stdout",
          "output_type": "stream",
          "text": [
            "4653\n",
            "4654\n",
            "4655\n",
            "4656\n"
          ]
        },
        {
          "name": "stderr",
          "output_type": "stream",
          "text": [
            "INFO:root:Writing example 0 of 1\n",
            "INFO:root:Writing example 0 of 1\n",
            "INFO:root:Writing example 0 of 1\n",
            "INFO:root:Writing example 0 of 1\n"
          ]
        },
        {
          "name": "stdout",
          "output_type": "stream",
          "text": [
            "4657\n",
            "4658\n",
            "4659\n",
            "4660\n"
          ]
        },
        {
          "name": "stderr",
          "output_type": "stream",
          "text": [
            "INFO:root:Writing example 0 of 1\n",
            "INFO:root:Writing example 0 of 1\n",
            "INFO:root:Writing example 0 of 1\n",
            "INFO:root:Writing example 0 of 1\n"
          ]
        },
        {
          "name": "stdout",
          "output_type": "stream",
          "text": [
            "4661\n",
            "4662\n",
            "4663\n",
            "4664\n"
          ]
        },
        {
          "name": "stderr",
          "output_type": "stream",
          "text": [
            "INFO:root:Writing example 0 of 1\n",
            "INFO:root:Writing example 0 of 1\n",
            "INFO:root:Writing example 0 of 1\n",
            "INFO:root:Writing example 0 of 1\n"
          ]
        },
        {
          "name": "stdout",
          "output_type": "stream",
          "text": [
            "4665\n",
            "4666\n",
            "4667\n",
            "4668\n"
          ]
        },
        {
          "name": "stderr",
          "output_type": "stream",
          "text": [
            "INFO:root:Writing example 0 of 1\n",
            "INFO:root:Writing example 0 of 1\n",
            "INFO:root:Writing example 0 of 1\n",
            "INFO:root:Writing example 0 of 1\n"
          ]
        },
        {
          "name": "stdout",
          "output_type": "stream",
          "text": [
            "4669\n",
            "4670\n",
            "4671\n",
            "4672\n"
          ]
        },
        {
          "name": "stderr",
          "output_type": "stream",
          "text": [
            "INFO:root:Writing example 0 of 1\n",
            "INFO:root:Writing example 0 of 1\n",
            "INFO:root:Writing example 0 of 1\n",
            "INFO:root:Writing example 0 of 1\n"
          ]
        },
        {
          "name": "stdout",
          "output_type": "stream",
          "text": [
            "4673\n",
            "4674\n",
            "4675\n",
            "4676\n"
          ]
        },
        {
          "name": "stderr",
          "output_type": "stream",
          "text": [
            "INFO:root:Writing example 0 of 1\n",
            "INFO:root:Writing example 0 of 1\n",
            "INFO:root:Writing example 0 of 1\n",
            "INFO:root:Writing example 0 of 1\n"
          ]
        },
        {
          "name": "stdout",
          "output_type": "stream",
          "text": [
            "4677\n",
            "4678\n",
            "4679\n",
            "4680\n"
          ]
        },
        {
          "name": "stderr",
          "output_type": "stream",
          "text": [
            "INFO:root:Writing example 0 of 1\n",
            "INFO:root:Writing example 0 of 1\n",
            "INFO:root:Writing example 0 of 1\n",
            "INFO:root:Writing example 0 of 1\n"
          ]
        },
        {
          "name": "stdout",
          "output_type": "stream",
          "text": [
            "4681\n",
            "4682\n",
            "4683\n",
            "4684\n"
          ]
        },
        {
          "name": "stderr",
          "output_type": "stream",
          "text": [
            "INFO:root:Writing example 0 of 1\n",
            "INFO:root:Writing example 0 of 1\n",
            "INFO:root:Writing example 0 of 1\n",
            "INFO:root:Writing example 0 of 1\n"
          ]
        },
        {
          "name": "stdout",
          "output_type": "stream",
          "text": [
            "4685\n",
            "4686\n",
            "4687\n",
            "4688\n"
          ]
        },
        {
          "name": "stderr",
          "output_type": "stream",
          "text": [
            "INFO:root:Writing example 0 of 1\n",
            "INFO:root:Writing example 0 of 1\n",
            "INFO:root:Writing example 0 of 1\n",
            "INFO:root:Writing example 0 of 1\n"
          ]
        },
        {
          "name": "stdout",
          "output_type": "stream",
          "text": [
            "4689\n",
            "4690\n",
            "4691\n",
            "4692\n"
          ]
        },
        {
          "name": "stderr",
          "output_type": "stream",
          "text": [
            "INFO:root:Writing example 0 of 1\n",
            "INFO:root:Writing example 0 of 1\n",
            "INFO:root:Writing example 0 of 1\n",
            "INFO:root:Writing example 0 of 1\n"
          ]
        },
        {
          "name": "stdout",
          "output_type": "stream",
          "text": [
            "4693\n",
            "4694\n",
            "4695\n",
            "4696\n"
          ]
        },
        {
          "name": "stderr",
          "output_type": "stream",
          "text": [
            "INFO:root:Writing example 0 of 1\n",
            "INFO:root:Writing example 0 of 1\n",
            "INFO:root:Writing example 0 of 1\n",
            "INFO:root:Writing example 0 of 1\n"
          ]
        },
        {
          "name": "stdout",
          "output_type": "stream",
          "text": [
            "4697\n",
            "4698\n",
            "4699\n",
            "4700\n"
          ]
        },
        {
          "name": "stderr",
          "output_type": "stream",
          "text": [
            "INFO:root:Writing example 0 of 1\n",
            "INFO:root:Writing example 0 of 1\n",
            "INFO:root:Writing example 0 of 1\n",
            "INFO:root:Writing example 0 of 1\n"
          ]
        },
        {
          "name": "stdout",
          "output_type": "stream",
          "text": [
            "4701\n",
            "4702\n",
            "4703\n",
            "4704\n"
          ]
        },
        {
          "name": "stderr",
          "output_type": "stream",
          "text": [
            "INFO:root:Writing example 0 of 1\n",
            "INFO:root:Writing example 0 of 1\n",
            "INFO:root:Writing example 0 of 1\n",
            "INFO:root:Writing example 0 of 1\n"
          ]
        },
        {
          "name": "stdout",
          "output_type": "stream",
          "text": [
            "4705\n",
            "4706\n",
            "4707\n",
            "4708\n"
          ]
        },
        {
          "name": "stderr",
          "output_type": "stream",
          "text": [
            "INFO:root:Writing example 0 of 1\n",
            "INFO:root:Writing example 0 of 1\n",
            "INFO:root:Writing example 0 of 1\n",
            "INFO:root:Writing example 0 of 1\n"
          ]
        },
        {
          "name": "stdout",
          "output_type": "stream",
          "text": [
            "4709\n",
            "4710\n",
            "4711\n",
            "4712\n"
          ]
        },
        {
          "name": "stderr",
          "output_type": "stream",
          "text": [
            "INFO:root:Writing example 0 of 1\n",
            "INFO:root:Writing example 0 of 1\n",
            "INFO:root:Writing example 0 of 1\n",
            "INFO:root:Writing example 0 of 1\n"
          ]
        },
        {
          "name": "stdout",
          "output_type": "stream",
          "text": [
            "4713\n",
            "4714\n",
            "4715\n",
            "4716\n"
          ]
        },
        {
          "name": "stderr",
          "output_type": "stream",
          "text": [
            "INFO:root:Writing example 0 of 1\n",
            "INFO:root:Writing example 0 of 1\n",
            "INFO:root:Writing example 0 of 1\n",
            "INFO:root:Writing example 0 of 1\n"
          ]
        },
        {
          "name": "stdout",
          "output_type": "stream",
          "text": [
            "4717\n",
            "4718\n",
            "4719\n",
            "4720\n"
          ]
        },
        {
          "name": "stderr",
          "output_type": "stream",
          "text": [
            "INFO:root:Writing example 0 of 1\n",
            "INFO:root:Writing example 0 of 1\n",
            "INFO:root:Writing example 0 of 1\n",
            "INFO:root:Writing example 0 of 1\n"
          ]
        },
        {
          "name": "stdout",
          "output_type": "stream",
          "text": [
            "4721\n",
            "4722\n",
            "4723\n",
            "4724\n"
          ]
        },
        {
          "name": "stderr",
          "output_type": "stream",
          "text": [
            "INFO:root:Writing example 0 of 1\n",
            "INFO:root:Writing example 0 of 1\n",
            "INFO:root:Writing example 0 of 1\n",
            "INFO:root:Writing example 0 of 1\n"
          ]
        },
        {
          "name": "stdout",
          "output_type": "stream",
          "text": [
            "4725\n",
            "4726\n",
            "4727\n",
            "4728\n"
          ]
        },
        {
          "name": "stderr",
          "output_type": "stream",
          "text": [
            "INFO:root:Writing example 0 of 1\n",
            "INFO:root:Writing example 0 of 1\n",
            "INFO:root:Writing example 0 of 1\n",
            "INFO:root:Writing example 0 of 1\n"
          ]
        },
        {
          "name": "stdout",
          "output_type": "stream",
          "text": [
            "4729\n",
            "4730\n",
            "4731\n",
            "4732\n"
          ]
        },
        {
          "name": "stderr",
          "output_type": "stream",
          "text": [
            "INFO:root:Writing example 0 of 1\n",
            "INFO:root:Writing example 0 of 1\n",
            "INFO:root:Writing example 0 of 1\n",
            "INFO:root:Writing example 0 of 1\n"
          ]
        },
        {
          "name": "stdout",
          "output_type": "stream",
          "text": [
            "4733\n",
            "4734\n",
            "4735\n",
            "4736\n"
          ]
        },
        {
          "name": "stderr",
          "output_type": "stream",
          "text": [
            "INFO:root:Writing example 0 of 1\n",
            "INFO:root:Writing example 0 of 1\n",
            "INFO:root:Writing example 0 of 1\n",
            "INFO:root:Writing example 0 of 1\n"
          ]
        },
        {
          "name": "stdout",
          "output_type": "stream",
          "text": [
            "4737\n",
            "4738\n",
            "4739\n",
            "4740\n"
          ]
        },
        {
          "name": "stderr",
          "output_type": "stream",
          "text": [
            "INFO:root:Writing example 0 of 1\n",
            "INFO:root:Writing example 0 of 1\n",
            "INFO:root:Writing example 0 of 1\n",
            "INFO:root:Writing example 0 of 1\n"
          ]
        },
        {
          "name": "stdout",
          "output_type": "stream",
          "text": [
            "4741\n",
            "4742\n",
            "4743\n",
            "4744\n"
          ]
        },
        {
          "name": "stderr",
          "output_type": "stream",
          "text": [
            "INFO:root:Writing example 0 of 1\n",
            "INFO:root:Writing example 0 of 1\n",
            "INFO:root:Writing example 0 of 1\n",
            "INFO:root:Writing example 0 of 1\n"
          ]
        },
        {
          "name": "stdout",
          "output_type": "stream",
          "text": [
            "4745\n",
            "4746\n",
            "4747\n",
            "4748\n"
          ]
        },
        {
          "name": "stderr",
          "output_type": "stream",
          "text": [
            "INFO:root:Writing example 0 of 1\n",
            "INFO:root:Writing example 0 of 1\n",
            "INFO:root:Writing example 0 of 1\n",
            "INFO:root:Writing example 0 of 1\n"
          ]
        },
        {
          "name": "stdout",
          "output_type": "stream",
          "text": [
            "4749\n",
            "4750\n",
            "4751\n",
            "4752\n"
          ]
        },
        {
          "name": "stderr",
          "output_type": "stream",
          "text": [
            "INFO:root:Writing example 0 of 1\n",
            "INFO:root:Writing example 0 of 1\n",
            "INFO:root:Writing example 0 of 1\n",
            "INFO:root:Writing example 0 of 1\n"
          ]
        },
        {
          "name": "stdout",
          "output_type": "stream",
          "text": [
            "4753\n",
            "4754\n",
            "4755\n",
            "4756\n"
          ]
        },
        {
          "name": "stderr",
          "output_type": "stream",
          "text": [
            "INFO:root:Writing example 0 of 1\n",
            "INFO:root:Writing example 0 of 1\n",
            "INFO:root:Writing example 0 of 1\n",
            "INFO:root:Writing example 0 of 1\n"
          ]
        },
        {
          "name": "stdout",
          "output_type": "stream",
          "text": [
            "4757\n",
            "4758\n",
            "4759\n",
            "4760\n"
          ]
        },
        {
          "name": "stderr",
          "output_type": "stream",
          "text": [
            "INFO:root:Writing example 0 of 1\n",
            "INFO:root:Writing example 0 of 1\n",
            "INFO:root:Writing example 0 of 1\n",
            "INFO:root:Writing example 0 of 1\n"
          ]
        },
        {
          "name": "stdout",
          "output_type": "stream",
          "text": [
            "4761\n",
            "4762\n",
            "4763\n",
            "4764\n"
          ]
        },
        {
          "name": "stderr",
          "output_type": "stream",
          "text": [
            "INFO:root:Writing example 0 of 1\n",
            "INFO:root:Writing example 0 of 1\n",
            "INFO:root:Writing example 0 of 1\n",
            "INFO:root:Writing example 0 of 1\n"
          ]
        },
        {
          "name": "stdout",
          "output_type": "stream",
          "text": [
            "4765\n",
            "4766\n",
            "4767\n",
            "4768\n"
          ]
        },
        {
          "name": "stderr",
          "output_type": "stream",
          "text": [
            "INFO:root:Writing example 0 of 1\n",
            "INFO:root:Writing example 0 of 1\n",
            "INFO:root:Writing example 0 of 1\n",
            "INFO:root:Writing example 0 of 1\n"
          ]
        },
        {
          "name": "stdout",
          "output_type": "stream",
          "text": [
            "4769\n",
            "4770\n",
            "4771\n",
            "4772\n"
          ]
        },
        {
          "name": "stderr",
          "output_type": "stream",
          "text": [
            "INFO:root:Writing example 0 of 1\n",
            "INFO:root:Writing example 0 of 1\n",
            "INFO:root:Writing example 0 of 1\n",
            "INFO:root:Writing example 0 of 1\n"
          ]
        },
        {
          "name": "stdout",
          "output_type": "stream",
          "text": [
            "4773\n",
            "4774\n",
            "4775\n",
            "4776\n"
          ]
        },
        {
          "name": "stderr",
          "output_type": "stream",
          "text": [
            "INFO:root:Writing example 0 of 1\n",
            "INFO:root:Writing example 0 of 1\n",
            "INFO:root:Writing example 0 of 1\n",
            "INFO:root:Writing example 0 of 1\n"
          ]
        },
        {
          "name": "stdout",
          "output_type": "stream",
          "text": [
            "4777\n",
            "4778\n",
            "4779\n",
            "4780\n"
          ]
        },
        {
          "name": "stderr",
          "output_type": "stream",
          "text": [
            "INFO:root:Writing example 0 of 1\n",
            "INFO:root:Writing example 0 of 1\n",
            "INFO:root:Writing example 0 of 1\n",
            "INFO:root:Writing example 0 of 1\n"
          ]
        },
        {
          "name": "stdout",
          "output_type": "stream",
          "text": [
            "4781\n",
            "4782\n",
            "4783\n",
            "4784\n"
          ]
        },
        {
          "name": "stderr",
          "output_type": "stream",
          "text": [
            "INFO:root:Writing example 0 of 1\n",
            "INFO:root:Writing example 0 of 1\n",
            "INFO:root:Writing example 0 of 1\n",
            "INFO:root:Writing example 0 of 1\n"
          ]
        },
        {
          "name": "stdout",
          "output_type": "stream",
          "text": [
            "4785\n",
            "4786\n",
            "4787\n",
            "4788\n"
          ]
        },
        {
          "name": "stderr",
          "output_type": "stream",
          "text": [
            "INFO:root:Writing example 0 of 1\n",
            "INFO:root:Writing example 0 of 1\n",
            "INFO:root:Writing example 0 of 1\n",
            "INFO:root:Writing example 0 of 1\n"
          ]
        },
        {
          "name": "stdout",
          "output_type": "stream",
          "text": [
            "4789\n",
            "4790\n",
            "4791\n",
            "4792\n"
          ]
        },
        {
          "name": "stderr",
          "output_type": "stream",
          "text": [
            "INFO:root:Writing example 0 of 1\n",
            "INFO:root:Writing example 0 of 1\n",
            "INFO:root:Writing example 0 of 1\n",
            "INFO:root:Writing example 0 of 1\n"
          ]
        },
        {
          "name": "stdout",
          "output_type": "stream",
          "text": [
            "4793\n",
            "4794\n",
            "4795\n",
            "4796\n"
          ]
        },
        {
          "name": "stderr",
          "output_type": "stream",
          "text": [
            "INFO:root:Writing example 0 of 1\n",
            "INFO:root:Writing example 0 of 1\n",
            "INFO:root:Writing example 0 of 1\n",
            "INFO:root:Writing example 0 of 1\n"
          ]
        },
        {
          "name": "stdout",
          "output_type": "stream",
          "text": [
            "4797\n",
            "4798\n",
            "4799\n",
            "4800\n"
          ]
        },
        {
          "name": "stderr",
          "output_type": "stream",
          "text": [
            "INFO:root:Writing example 0 of 1\n",
            "INFO:root:Writing example 0 of 1\n",
            "INFO:root:Writing example 0 of 1\n",
            "INFO:root:Writing example 0 of 1\n"
          ]
        },
        {
          "name": "stdout",
          "output_type": "stream",
          "text": [
            "4801\n",
            "4802\n",
            "4803\n",
            "4804\n"
          ]
        },
        {
          "name": "stderr",
          "output_type": "stream",
          "text": [
            "INFO:root:Writing example 0 of 1\n",
            "INFO:root:Writing example 0 of 1\n",
            "INFO:root:Writing example 0 of 1\n",
            "INFO:root:Writing example 0 of 1\n"
          ]
        },
        {
          "name": "stdout",
          "output_type": "stream",
          "text": [
            "4805\n",
            "4806\n",
            "4807\n",
            "4808\n"
          ]
        },
        {
          "name": "stderr",
          "output_type": "stream",
          "text": [
            "INFO:root:Writing example 0 of 1\n",
            "INFO:root:Writing example 0 of 1\n",
            "INFO:root:Writing example 0 of 1\n",
            "INFO:root:Writing example 0 of 1\n"
          ]
        },
        {
          "name": "stdout",
          "output_type": "stream",
          "text": [
            "4809\n",
            "4810\n",
            "4811\n",
            "4812\n"
          ]
        },
        {
          "name": "stderr",
          "output_type": "stream",
          "text": [
            "INFO:root:Writing example 0 of 1\n",
            "INFO:root:Writing example 0 of 1\n",
            "INFO:root:Writing example 0 of 1\n",
            "INFO:root:Writing example 0 of 1\n"
          ]
        },
        {
          "name": "stdout",
          "output_type": "stream",
          "text": [
            "4813\n",
            "4814\n",
            "4815\n",
            "4816\n"
          ]
        },
        {
          "name": "stderr",
          "output_type": "stream",
          "text": [
            "INFO:root:Writing example 0 of 1\n",
            "INFO:root:Writing example 0 of 1\n",
            "INFO:root:Writing example 0 of 1\n",
            "INFO:root:Writing example 0 of 1\n"
          ]
        },
        {
          "name": "stdout",
          "output_type": "stream",
          "text": [
            "4817\n",
            "4818\n",
            "4819\n",
            "4820\n"
          ]
        },
        {
          "name": "stderr",
          "output_type": "stream",
          "text": [
            "INFO:root:Writing example 0 of 1\n",
            "INFO:root:Writing example 0 of 1\n",
            "INFO:root:Writing example 0 of 1\n",
            "INFO:root:Writing example 0 of 1\n"
          ]
        },
        {
          "name": "stdout",
          "output_type": "stream",
          "text": [
            "4821\n",
            "4822\n",
            "4823\n",
            "4824\n"
          ]
        },
        {
          "name": "stderr",
          "output_type": "stream",
          "text": [
            "INFO:root:Writing example 0 of 1\n",
            "INFO:root:Writing example 0 of 1\n",
            "INFO:root:Writing example 0 of 1\n",
            "INFO:root:Writing example 0 of 1\n"
          ]
        },
        {
          "name": "stdout",
          "output_type": "stream",
          "text": [
            "4825\n",
            "4826\n",
            "4827\n",
            "4828\n"
          ]
        },
        {
          "name": "stderr",
          "output_type": "stream",
          "text": [
            "INFO:root:Writing example 0 of 1\n",
            "INFO:root:Writing example 0 of 1\n",
            "INFO:root:Writing example 0 of 1\n",
            "INFO:root:Writing example 0 of 1\n"
          ]
        },
        {
          "name": "stdout",
          "output_type": "stream",
          "text": [
            "4829\n",
            "4830\n",
            "4831\n",
            "4832\n"
          ]
        },
        {
          "name": "stderr",
          "output_type": "stream",
          "text": [
            "INFO:root:Writing example 0 of 1\n",
            "INFO:root:Writing example 0 of 1\n",
            "INFO:root:Writing example 0 of 1\n",
            "INFO:root:Writing example 0 of 1\n"
          ]
        },
        {
          "name": "stdout",
          "output_type": "stream",
          "text": [
            "4833\n",
            "4834\n",
            "4835\n",
            "4836\n"
          ]
        },
        {
          "name": "stderr",
          "output_type": "stream",
          "text": [
            "INFO:root:Writing example 0 of 1\n",
            "INFO:root:Writing example 0 of 1\n",
            "INFO:root:Writing example 0 of 1\n",
            "INFO:root:Writing example 0 of 1\n"
          ]
        },
        {
          "name": "stdout",
          "output_type": "stream",
          "text": [
            "4837\n",
            "4838\n",
            "4839\n",
            "4840\n"
          ]
        },
        {
          "name": "stderr",
          "output_type": "stream",
          "text": [
            "INFO:root:Writing example 0 of 1\n",
            "INFO:root:Writing example 0 of 1\n",
            "INFO:root:Writing example 0 of 1\n",
            "INFO:root:Writing example 0 of 1\n"
          ]
        },
        {
          "name": "stdout",
          "output_type": "stream",
          "text": [
            "4841\n",
            "4842\n",
            "4843\n",
            "4844\n"
          ]
        },
        {
          "name": "stderr",
          "output_type": "stream",
          "text": [
            "INFO:root:Writing example 0 of 1\n",
            "INFO:root:Writing example 0 of 1\n",
            "INFO:root:Writing example 0 of 1\n",
            "INFO:root:Writing example 0 of 1\n"
          ]
        },
        {
          "name": "stdout",
          "output_type": "stream",
          "text": [
            "4845\n",
            "4846\n",
            "4847\n",
            "4848\n"
          ]
        },
        {
          "name": "stderr",
          "output_type": "stream",
          "text": [
            "INFO:root:Writing example 0 of 1\n",
            "INFO:root:Writing example 0 of 1\n",
            "INFO:root:Writing example 0 of 1\n",
            "INFO:root:Writing example 0 of 1\n"
          ]
        },
        {
          "name": "stdout",
          "output_type": "stream",
          "text": [
            "4849\n",
            "4850\n",
            "4851\n",
            "4852\n"
          ]
        },
        {
          "name": "stderr",
          "output_type": "stream",
          "text": [
            "INFO:root:Writing example 0 of 1\n",
            "INFO:root:Writing example 0 of 1\n",
            "INFO:root:Writing example 0 of 1\n",
            "INFO:root:Writing example 0 of 1\n"
          ]
        },
        {
          "name": "stdout",
          "output_type": "stream",
          "text": [
            "4853\n",
            "4854\n",
            "4855\n",
            "4856\n"
          ]
        },
        {
          "name": "stderr",
          "output_type": "stream",
          "text": [
            "INFO:root:Writing example 0 of 1\n",
            "INFO:root:Writing example 0 of 1\n",
            "INFO:root:Writing example 0 of 1\n",
            "INFO:root:Writing example 0 of 1\n"
          ]
        },
        {
          "name": "stdout",
          "output_type": "stream",
          "text": [
            "4857\n",
            "4858\n",
            "4859\n",
            "4860\n"
          ]
        },
        {
          "name": "stderr",
          "output_type": "stream",
          "text": [
            "INFO:root:Writing example 0 of 1\n",
            "INFO:root:Writing example 0 of 1\n",
            "INFO:root:Writing example 0 of 1\n",
            "INFO:root:Writing example 0 of 1\n"
          ]
        },
        {
          "name": "stdout",
          "output_type": "stream",
          "text": [
            "4861\n",
            "4862\n",
            "4863\n",
            "4864\n"
          ]
        },
        {
          "name": "stderr",
          "output_type": "stream",
          "text": [
            "INFO:root:Writing example 0 of 1\n",
            "INFO:root:Writing example 0 of 1\n",
            "INFO:root:Writing example 0 of 1\n",
            "INFO:root:Writing example 0 of 1\n"
          ]
        },
        {
          "name": "stdout",
          "output_type": "stream",
          "text": [
            "4865\n",
            "4866\n",
            "4867\n",
            "4868\n"
          ]
        },
        {
          "name": "stderr",
          "output_type": "stream",
          "text": [
            "INFO:root:Writing example 0 of 1\n",
            "INFO:root:Writing example 0 of 1\n",
            "INFO:root:Writing example 0 of 1\n",
            "INFO:root:Writing example 0 of 1\n"
          ]
        },
        {
          "name": "stdout",
          "output_type": "stream",
          "text": [
            "4869\n",
            "4870\n",
            "4871\n",
            "4872\n"
          ]
        },
        {
          "name": "stderr",
          "output_type": "stream",
          "text": [
            "INFO:root:Writing example 0 of 1\n",
            "INFO:root:Writing example 0 of 1\n",
            "INFO:root:Writing example 0 of 1\n",
            "INFO:root:Writing example 0 of 1\n"
          ]
        },
        {
          "name": "stdout",
          "output_type": "stream",
          "text": [
            "4873\n",
            "4874\n",
            "4875\n",
            "4876\n"
          ]
        },
        {
          "name": "stderr",
          "output_type": "stream",
          "text": [
            "INFO:root:Writing example 0 of 1\n",
            "INFO:root:Writing example 0 of 1\n",
            "INFO:root:Writing example 0 of 1\n",
            "INFO:root:Writing example 0 of 1\n"
          ]
        },
        {
          "name": "stdout",
          "output_type": "stream",
          "text": [
            "4877\n",
            "4878\n",
            "4879\n",
            "4880\n"
          ]
        },
        {
          "name": "stderr",
          "output_type": "stream",
          "text": [
            "INFO:root:Writing example 0 of 1\n",
            "INFO:root:Writing example 0 of 1\n",
            "INFO:root:Writing example 0 of 1\n",
            "INFO:root:Writing example 0 of 1\n"
          ]
        },
        {
          "name": "stdout",
          "output_type": "stream",
          "text": [
            "4881\n",
            "4882\n",
            "4883\n",
            "4884\n"
          ]
        },
        {
          "name": "stderr",
          "output_type": "stream",
          "text": [
            "INFO:root:Writing example 0 of 1\n",
            "INFO:root:Writing example 0 of 1\n",
            "INFO:root:Writing example 0 of 1\n",
            "INFO:root:Writing example 0 of 1\n"
          ]
        },
        {
          "name": "stdout",
          "output_type": "stream",
          "text": [
            "4885\n",
            "4886\n",
            "4887\n",
            "4888\n"
          ]
        },
        {
          "name": "stderr",
          "output_type": "stream",
          "text": [
            "INFO:root:Writing example 0 of 1\n",
            "INFO:root:Writing example 0 of 1\n",
            "INFO:root:Writing example 0 of 1\n",
            "INFO:root:Writing example 0 of 1\n"
          ]
        },
        {
          "name": "stdout",
          "output_type": "stream",
          "text": [
            "4889\n",
            "4890\n",
            "4891\n",
            "4892\n"
          ]
        },
        {
          "name": "stderr",
          "output_type": "stream",
          "text": [
            "INFO:root:Writing example 0 of 1\n",
            "INFO:root:Writing example 0 of 1\n",
            "INFO:root:Writing example 0 of 1\n",
            "INFO:root:Writing example 0 of 1\n"
          ]
        },
        {
          "name": "stdout",
          "output_type": "stream",
          "text": [
            "4893\n",
            "4894\n",
            "4895\n",
            "4896\n"
          ]
        },
        {
          "name": "stderr",
          "output_type": "stream",
          "text": [
            "INFO:root:Writing example 0 of 1\n",
            "INFO:root:Writing example 0 of 1\n",
            "INFO:root:Writing example 0 of 1\n",
            "INFO:root:Writing example 0 of 1\n"
          ]
        },
        {
          "name": "stdout",
          "output_type": "stream",
          "text": [
            "4897\n",
            "4898\n",
            "4899\n",
            "4900\n"
          ]
        },
        {
          "name": "stderr",
          "output_type": "stream",
          "text": [
            "INFO:root:Writing example 0 of 1\n",
            "INFO:root:Writing example 0 of 1\n",
            "INFO:root:Writing example 0 of 1\n",
            "INFO:root:Writing example 0 of 1\n"
          ]
        },
        {
          "name": "stdout",
          "output_type": "stream",
          "text": [
            "4901\n",
            "4902\n",
            "4903\n",
            "4904\n"
          ]
        },
        {
          "name": "stderr",
          "output_type": "stream",
          "text": [
            "INFO:root:Writing example 0 of 1\n",
            "INFO:root:Writing example 0 of 1\n",
            "INFO:root:Writing example 0 of 1\n",
            "INFO:root:Writing example 0 of 1\n"
          ]
        },
        {
          "name": "stdout",
          "output_type": "stream",
          "text": [
            "4905\n",
            "4906\n",
            "4907\n",
            "4908\n"
          ]
        },
        {
          "name": "stderr",
          "output_type": "stream",
          "text": [
            "INFO:root:Writing example 0 of 1\n",
            "INFO:root:Writing example 0 of 1\n",
            "INFO:root:Writing example 0 of 1\n",
            "INFO:root:Writing example 0 of 1\n"
          ]
        },
        {
          "name": "stdout",
          "output_type": "stream",
          "text": [
            "4909\n",
            "4910\n",
            "4911\n",
            "4912\n"
          ]
        },
        {
          "name": "stderr",
          "output_type": "stream",
          "text": [
            "INFO:root:Writing example 0 of 1\n",
            "INFO:root:Writing example 0 of 1\n",
            "INFO:root:Writing example 0 of 1\n",
            "INFO:root:Writing example 0 of 1\n"
          ]
        },
        {
          "name": "stdout",
          "output_type": "stream",
          "text": [
            "4913\n",
            "4914\n",
            "4915\n",
            "4916\n"
          ]
        },
        {
          "name": "stderr",
          "output_type": "stream",
          "text": [
            "INFO:root:Writing example 0 of 1\n",
            "INFO:root:Writing example 0 of 1\n",
            "INFO:root:Writing example 0 of 1\n",
            "INFO:root:Writing example 0 of 1\n"
          ]
        },
        {
          "name": "stdout",
          "output_type": "stream",
          "text": [
            "4917\n",
            "4918\n",
            "4919\n",
            "4920\n"
          ]
        },
        {
          "name": "stderr",
          "output_type": "stream",
          "text": [
            "INFO:root:Writing example 0 of 1\n",
            "INFO:root:Writing example 0 of 1\n",
            "INFO:root:Writing example 0 of 1\n",
            "INFO:root:Writing example 0 of 1\n"
          ]
        },
        {
          "name": "stdout",
          "output_type": "stream",
          "text": [
            "4921\n",
            "4922\n",
            "4923\n",
            "4924\n"
          ]
        },
        {
          "name": "stderr",
          "output_type": "stream",
          "text": [
            "INFO:root:Writing example 0 of 1\n",
            "INFO:root:Writing example 0 of 1\n",
            "INFO:root:Writing example 0 of 1\n",
            "INFO:root:Writing example 0 of 1\n"
          ]
        },
        {
          "name": "stdout",
          "output_type": "stream",
          "text": [
            "4925\n",
            "4926\n",
            "4927\n",
            "4928\n"
          ]
        },
        {
          "name": "stderr",
          "output_type": "stream",
          "text": [
            "INFO:root:Writing example 0 of 1\n",
            "INFO:root:Writing example 0 of 1\n",
            "INFO:root:Writing example 0 of 1\n",
            "INFO:root:Writing example 0 of 1\n"
          ]
        },
        {
          "name": "stdout",
          "output_type": "stream",
          "text": [
            "4929\n",
            "4930\n",
            "4931\n",
            "4932\n"
          ]
        },
        {
          "name": "stderr",
          "output_type": "stream",
          "text": [
            "INFO:root:Writing example 0 of 1\n",
            "INFO:root:Writing example 0 of 1\n",
            "INFO:root:Writing example 0 of 1\n",
            "INFO:root:Writing example 0 of 1\n"
          ]
        },
        {
          "name": "stdout",
          "output_type": "stream",
          "text": [
            "4933\n",
            "4934\n",
            "4935\n",
            "4936\n"
          ]
        },
        {
          "name": "stderr",
          "output_type": "stream",
          "text": [
            "INFO:root:Writing example 0 of 1\n",
            "INFO:root:Writing example 0 of 1\n",
            "INFO:root:Writing example 0 of 1\n",
            "INFO:root:Writing example 0 of 1\n"
          ]
        },
        {
          "name": "stdout",
          "output_type": "stream",
          "text": [
            "4937\n",
            "4938\n",
            "4939\n",
            "4940\n"
          ]
        },
        {
          "name": "stderr",
          "output_type": "stream",
          "text": [
            "INFO:root:Writing example 0 of 1\n",
            "INFO:root:Writing example 0 of 1\n",
            "INFO:root:Writing example 0 of 1\n",
            "INFO:root:Writing example 0 of 1\n"
          ]
        },
        {
          "name": "stdout",
          "output_type": "stream",
          "text": [
            "4941\n",
            "4942\n",
            "4943\n",
            "4944\n"
          ]
        },
        {
          "name": "stderr",
          "output_type": "stream",
          "text": [
            "INFO:root:Writing example 0 of 1\n",
            "INFO:root:Writing example 0 of 1\n",
            "INFO:root:Writing example 0 of 1\n",
            "INFO:root:Writing example 0 of 1\n"
          ]
        },
        {
          "name": "stdout",
          "output_type": "stream",
          "text": [
            "4945\n",
            "4946\n",
            "4947\n",
            "4948\n"
          ]
        },
        {
          "name": "stderr",
          "output_type": "stream",
          "text": [
            "INFO:root:Writing example 0 of 1\n",
            "INFO:root:Writing example 0 of 1\n",
            "INFO:root:Writing example 0 of 1\n",
            "INFO:root:Writing example 0 of 1\n"
          ]
        },
        {
          "name": "stdout",
          "output_type": "stream",
          "text": [
            "4949\n",
            "4950\n",
            "4951\n",
            "4952\n"
          ]
        },
        {
          "name": "stderr",
          "output_type": "stream",
          "text": [
            "INFO:root:Writing example 0 of 1\n",
            "INFO:root:Writing example 0 of 1\n",
            "INFO:root:Writing example 0 of 1\n",
            "INFO:root:Writing example 0 of 1\n"
          ]
        },
        {
          "name": "stdout",
          "output_type": "stream",
          "text": [
            "4953\n",
            "4954\n",
            "4955\n",
            "4956\n"
          ]
        },
        {
          "name": "stderr",
          "output_type": "stream",
          "text": [
            "INFO:root:Writing example 0 of 1\n",
            "INFO:root:Writing example 0 of 1\n",
            "INFO:root:Writing example 0 of 1\n",
            "INFO:root:Writing example 0 of 1\n"
          ]
        },
        {
          "name": "stdout",
          "output_type": "stream",
          "text": [
            "4957\n",
            "4958\n",
            "4959\n",
            "4960\n"
          ]
        },
        {
          "name": "stderr",
          "output_type": "stream",
          "text": [
            "INFO:root:Writing example 0 of 1\n",
            "INFO:root:Writing example 0 of 1\n",
            "INFO:root:Writing example 0 of 1\n",
            "INFO:root:Writing example 0 of 1\n"
          ]
        },
        {
          "name": "stdout",
          "output_type": "stream",
          "text": [
            "4961\n",
            "4962\n",
            "4963\n",
            "4964\n"
          ]
        },
        {
          "name": "stderr",
          "output_type": "stream",
          "text": [
            "INFO:root:Writing example 0 of 1\n",
            "INFO:root:Writing example 0 of 1\n",
            "INFO:root:Writing example 0 of 1\n",
            "INFO:root:Writing example 0 of 1\n"
          ]
        },
        {
          "name": "stdout",
          "output_type": "stream",
          "text": [
            "4965\n",
            "4966\n",
            "4967\n",
            "4968\n"
          ]
        },
        {
          "name": "stderr",
          "output_type": "stream",
          "text": [
            "INFO:root:Writing example 0 of 1\n",
            "INFO:root:Writing example 0 of 1\n",
            "INFO:root:Writing example 0 of 1\n",
            "INFO:root:Writing example 0 of 1\n"
          ]
        },
        {
          "name": "stdout",
          "output_type": "stream",
          "text": [
            "4969\n",
            "4970\n",
            "4971\n",
            "4972\n"
          ]
        },
        {
          "name": "stderr",
          "output_type": "stream",
          "text": [
            "INFO:root:Writing example 0 of 1\n",
            "INFO:root:Writing example 0 of 1\n",
            "INFO:root:Writing example 0 of 1\n",
            "INFO:root:Writing example 0 of 1\n"
          ]
        },
        {
          "name": "stdout",
          "output_type": "stream",
          "text": [
            "4973\n",
            "4974\n",
            "4975\n",
            "4976\n"
          ]
        },
        {
          "name": "stderr",
          "output_type": "stream",
          "text": [
            "INFO:root:Writing example 0 of 1\n",
            "INFO:root:Writing example 0 of 1\n",
            "INFO:root:Writing example 0 of 1\n",
            "INFO:root:Writing example 0 of 1\n"
          ]
        },
        {
          "name": "stdout",
          "output_type": "stream",
          "text": [
            "4977\n",
            "4978\n",
            "4979\n",
            "4980\n"
          ]
        },
        {
          "name": "stderr",
          "output_type": "stream",
          "text": [
            "INFO:root:Writing example 0 of 1\n",
            "INFO:root:Writing example 0 of 1\n",
            "INFO:root:Writing example 0 of 1\n",
            "INFO:root:Writing example 0 of 1\n"
          ]
        },
        {
          "name": "stdout",
          "output_type": "stream",
          "text": [
            "4981\n",
            "4982\n",
            "4983\n",
            "4984\n"
          ]
        },
        {
          "name": "stderr",
          "output_type": "stream",
          "text": [
            "INFO:root:Writing example 0 of 1\n",
            "INFO:root:Writing example 0 of 1\n",
            "INFO:root:Writing example 0 of 1\n",
            "INFO:root:Writing example 0 of 1\n"
          ]
        },
        {
          "name": "stdout",
          "output_type": "stream",
          "text": [
            "4985\n",
            "4986\n",
            "4987\n",
            "4988\n"
          ]
        },
        {
          "name": "stderr",
          "output_type": "stream",
          "text": [
            "INFO:root:Writing example 0 of 1\n",
            "INFO:root:Writing example 0 of 1\n",
            "INFO:root:Writing example 0 of 1\n",
            "INFO:root:Writing example 0 of 1\n"
          ]
        },
        {
          "name": "stdout",
          "output_type": "stream",
          "text": [
            "4989\n",
            "4990\n",
            "4991\n",
            "4992\n"
          ]
        },
        {
          "name": "stderr",
          "output_type": "stream",
          "text": [
            "INFO:root:Writing example 0 of 1\n",
            "INFO:root:Writing example 0 of 1\n",
            "INFO:root:Writing example 0 of 1\n",
            "INFO:root:Writing example 0 of 1\n"
          ]
        },
        {
          "name": "stdout",
          "output_type": "stream",
          "text": [
            "4993\n",
            "4994\n",
            "4995\n",
            "4996\n"
          ]
        },
        {
          "name": "stderr",
          "output_type": "stream",
          "text": [
            "INFO:root:Writing example 0 of 1\n",
            "INFO:root:Writing example 0 of 1\n",
            "INFO:root:Writing example 0 of 1\n",
            "INFO:root:Writing example 0 of 1\n"
          ]
        },
        {
          "name": "stdout",
          "output_type": "stream",
          "text": [
            "4997\n",
            "4998\n",
            "4999\n",
            "5000\n"
          ]
        },
        {
          "name": "stderr",
          "output_type": "stream",
          "text": [
            "INFO:root:Writing example 0 of 1\n",
            "INFO:root:Writing example 0 of 1\n",
            "INFO:root:Writing example 0 of 1\n",
            "INFO:root:Writing example 0 of 1\n"
          ]
        },
        {
          "name": "stdout",
          "output_type": "stream",
          "text": [
            "5001\n",
            "5002\n",
            "5003\n",
            "5004\n"
          ]
        },
        {
          "name": "stderr",
          "output_type": "stream",
          "text": [
            "INFO:root:Writing example 0 of 1\n",
            "INFO:root:Writing example 0 of 1\n",
            "INFO:root:Writing example 0 of 1\n",
            "INFO:root:Writing example 0 of 1\n"
          ]
        },
        {
          "name": "stdout",
          "output_type": "stream",
          "text": [
            "5005\n",
            "5006\n",
            "5007\n",
            "5008\n"
          ]
        },
        {
          "name": "stderr",
          "output_type": "stream",
          "text": [
            "INFO:root:Writing example 0 of 1\n",
            "INFO:root:Writing example 0 of 1\n",
            "INFO:root:Writing example 0 of 1\n",
            "INFO:root:Writing example 0 of 1\n"
          ]
        },
        {
          "name": "stdout",
          "output_type": "stream",
          "text": [
            "5009\n",
            "5010\n",
            "5011\n",
            "5012\n"
          ]
        },
        {
          "name": "stderr",
          "output_type": "stream",
          "text": [
            "INFO:root:Writing example 0 of 1\n",
            "INFO:root:Writing example 0 of 1\n",
            "INFO:root:Writing example 0 of 1\n",
            "INFO:root:Writing example 0 of 1\n"
          ]
        },
        {
          "name": "stdout",
          "output_type": "stream",
          "text": [
            "5013\n",
            "5014\n",
            "5015\n",
            "5016\n"
          ]
        },
        {
          "name": "stderr",
          "output_type": "stream",
          "text": [
            "INFO:root:Writing example 0 of 1\n",
            "INFO:root:Writing example 0 of 1\n",
            "INFO:root:Writing example 0 of 1\n",
            "INFO:root:Writing example 0 of 1\n"
          ]
        },
        {
          "name": "stdout",
          "output_type": "stream",
          "text": [
            "5017\n",
            "5018\n",
            "5019\n",
            "5020\n"
          ]
        },
        {
          "name": "stderr",
          "output_type": "stream",
          "text": [
            "INFO:root:Writing example 0 of 1\n",
            "INFO:root:Writing example 0 of 1\n",
            "INFO:root:Writing example 0 of 1\n",
            "INFO:root:Writing example 0 of 1\n"
          ]
        },
        {
          "name": "stdout",
          "output_type": "stream",
          "text": [
            "5021\n",
            "5022\n",
            "5023\n",
            "5024\n"
          ]
        },
        {
          "name": "stderr",
          "output_type": "stream",
          "text": [
            "INFO:root:Writing example 0 of 1\n",
            "INFO:root:Writing example 0 of 1\n",
            "INFO:root:Writing example 0 of 1\n",
            "INFO:root:Writing example 0 of 1\n"
          ]
        },
        {
          "name": "stdout",
          "output_type": "stream",
          "text": [
            "5025\n",
            "5026\n",
            "5027\n",
            "5028\n"
          ]
        },
        {
          "name": "stderr",
          "output_type": "stream",
          "text": [
            "INFO:root:Writing example 0 of 1\n",
            "INFO:root:Writing example 0 of 1\n",
            "INFO:root:Writing example 0 of 1\n",
            "INFO:root:Writing example 0 of 1\n"
          ]
        },
        {
          "name": "stdout",
          "output_type": "stream",
          "text": [
            "5029\n",
            "5030\n",
            "5031\n",
            "5032\n"
          ]
        },
        {
          "name": "stderr",
          "output_type": "stream",
          "text": [
            "INFO:root:Writing example 0 of 1\n",
            "INFO:root:Writing example 0 of 1\n",
            "INFO:root:Writing example 0 of 1\n",
            "INFO:root:Writing example 0 of 1\n"
          ]
        },
        {
          "name": "stdout",
          "output_type": "stream",
          "text": [
            "5033\n",
            "5034\n",
            "5035\n",
            "5036\n"
          ]
        },
        {
          "name": "stderr",
          "output_type": "stream",
          "text": [
            "INFO:root:Writing example 0 of 1\n",
            "INFO:root:Writing example 0 of 1\n",
            "INFO:root:Writing example 0 of 1\n",
            "INFO:root:Writing example 0 of 1\n"
          ]
        },
        {
          "name": "stdout",
          "output_type": "stream",
          "text": [
            "5037\n",
            "5038\n",
            "5039\n",
            "5040\n"
          ]
        },
        {
          "name": "stderr",
          "output_type": "stream",
          "text": [
            "INFO:root:Writing example 0 of 1\n",
            "INFO:root:Writing example 0 of 1\n",
            "INFO:root:Writing example 0 of 1\n",
            "INFO:root:Writing example 0 of 1\n"
          ]
        },
        {
          "name": "stdout",
          "output_type": "stream",
          "text": [
            "5041\n",
            "5042\n",
            "5043\n",
            "5044\n"
          ]
        },
        {
          "name": "stderr",
          "output_type": "stream",
          "text": [
            "INFO:root:Writing example 0 of 1\n",
            "INFO:root:Writing example 0 of 1\n",
            "INFO:root:Writing example 0 of 1\n",
            "INFO:root:Writing example 0 of 1\n"
          ]
        },
        {
          "name": "stdout",
          "output_type": "stream",
          "text": [
            "5045\n",
            "5046\n",
            "5047\n",
            "5048\n"
          ]
        },
        {
          "name": "stderr",
          "output_type": "stream",
          "text": [
            "INFO:root:Writing example 0 of 1\n",
            "INFO:root:Writing example 0 of 1\n",
            "INFO:root:Writing example 0 of 1\n",
            "INFO:root:Writing example 0 of 1\n"
          ]
        },
        {
          "name": "stdout",
          "output_type": "stream",
          "text": [
            "5049\n",
            "5050\n",
            "5051\n",
            "5052\n"
          ]
        },
        {
          "name": "stderr",
          "output_type": "stream",
          "text": [
            "INFO:root:Writing example 0 of 1\n",
            "INFO:root:Writing example 0 of 1\n",
            "INFO:root:Writing example 0 of 1\n",
            "INFO:root:Writing example 0 of 1\n"
          ]
        },
        {
          "name": "stdout",
          "output_type": "stream",
          "text": [
            "5053\n",
            "5054\n",
            "5055\n",
            "5056\n"
          ]
        },
        {
          "name": "stderr",
          "output_type": "stream",
          "text": [
            "INFO:root:Writing example 0 of 1\n",
            "INFO:root:Writing example 0 of 1\n",
            "INFO:root:Writing example 0 of 1\n",
            "INFO:root:Writing example 0 of 1\n"
          ]
        },
        {
          "name": "stdout",
          "output_type": "stream",
          "text": [
            "5057\n",
            "5058\n",
            "5059\n",
            "5060\n"
          ]
        },
        {
          "name": "stderr",
          "output_type": "stream",
          "text": [
            "INFO:root:Writing example 0 of 1\n",
            "INFO:root:Writing example 0 of 1\n",
            "INFO:root:Writing example 0 of 1\n",
            "INFO:root:Writing example 0 of 1\n"
          ]
        },
        {
          "name": "stdout",
          "output_type": "stream",
          "text": [
            "5061\n",
            "5062\n",
            "5063\n",
            "5064\n"
          ]
        },
        {
          "name": "stderr",
          "output_type": "stream",
          "text": [
            "INFO:root:Writing example 0 of 1\n",
            "INFO:root:Writing example 0 of 1\n",
            "INFO:root:Writing example 0 of 1\n",
            "INFO:root:Writing example 0 of 1\n"
          ]
        },
        {
          "name": "stdout",
          "output_type": "stream",
          "text": [
            "5065\n",
            "5066\n",
            "5067\n",
            "5068\n"
          ]
        },
        {
          "name": "stderr",
          "output_type": "stream",
          "text": [
            "INFO:root:Writing example 0 of 1\n",
            "INFO:root:Writing example 0 of 1\n",
            "INFO:root:Writing example 0 of 1\n",
            "INFO:root:Writing example 0 of 1\n"
          ]
        },
        {
          "name": "stdout",
          "output_type": "stream",
          "text": [
            "5069\n",
            "5070\n",
            "5071\n",
            "5072\n"
          ]
        },
        {
          "name": "stderr",
          "output_type": "stream",
          "text": [
            "INFO:root:Writing example 0 of 1\n",
            "INFO:root:Writing example 0 of 1\n",
            "INFO:root:Writing example 0 of 1\n",
            "INFO:root:Writing example 0 of 1\n"
          ]
        },
        {
          "name": "stdout",
          "output_type": "stream",
          "text": [
            "5073\n",
            "5074\n",
            "5075\n",
            "5076\n"
          ]
        },
        {
          "name": "stderr",
          "output_type": "stream",
          "text": [
            "INFO:root:Writing example 0 of 1\n",
            "INFO:root:Writing example 0 of 1\n",
            "INFO:root:Writing example 0 of 1\n",
            "INFO:root:Writing example 0 of 1\n"
          ]
        },
        {
          "name": "stdout",
          "output_type": "stream",
          "text": [
            "5077\n",
            "5078\n",
            "5079\n",
            "5080\n"
          ]
        },
        {
          "name": "stderr",
          "output_type": "stream",
          "text": [
            "INFO:root:Writing example 0 of 1\n",
            "INFO:root:Writing example 0 of 1\n",
            "INFO:root:Writing example 0 of 1\n",
            "INFO:root:Writing example 0 of 1\n"
          ]
        },
        {
          "name": "stdout",
          "output_type": "stream",
          "text": [
            "5081\n",
            "5082\n",
            "5083\n",
            "5084\n"
          ]
        },
        {
          "name": "stderr",
          "output_type": "stream",
          "text": [
            "INFO:root:Writing example 0 of 1\n",
            "INFO:root:Writing example 0 of 1\n",
            "INFO:root:Writing example 0 of 1\n",
            "INFO:root:Writing example 0 of 1\n"
          ]
        },
        {
          "name": "stdout",
          "output_type": "stream",
          "text": [
            "5085\n",
            "5086\n",
            "5087\n",
            "5088\n"
          ]
        },
        {
          "name": "stderr",
          "output_type": "stream",
          "text": [
            "INFO:root:Writing example 0 of 1\n",
            "INFO:root:Writing example 0 of 1\n",
            "INFO:root:Writing example 0 of 1\n",
            "INFO:root:Writing example 0 of 1\n"
          ]
        },
        {
          "name": "stdout",
          "output_type": "stream",
          "text": [
            "5089\n",
            "5090\n",
            "5091\n",
            "5092\n"
          ]
        },
        {
          "name": "stderr",
          "output_type": "stream",
          "text": [
            "INFO:root:Writing example 0 of 1\n",
            "INFO:root:Writing example 0 of 1\n",
            "INFO:root:Writing example 0 of 1\n",
            "INFO:root:Writing example 0 of 1\n"
          ]
        },
        {
          "name": "stdout",
          "output_type": "stream",
          "text": [
            "5093\n",
            "5094\n",
            "5095\n",
            "5096\n"
          ]
        },
        {
          "name": "stderr",
          "output_type": "stream",
          "text": [
            "INFO:root:Writing example 0 of 1\n",
            "INFO:root:Writing example 0 of 1\n",
            "INFO:root:Writing example 0 of 1\n",
            "INFO:root:Writing example 0 of 1\n"
          ]
        },
        {
          "name": "stdout",
          "output_type": "stream",
          "text": [
            "5097\n",
            "5098\n",
            "5099\n",
            "5100\n"
          ]
        },
        {
          "name": "stderr",
          "output_type": "stream",
          "text": [
            "INFO:root:Writing example 0 of 1\n",
            "INFO:root:Writing example 0 of 1\n",
            "INFO:root:Writing example 0 of 1\n",
            "INFO:root:Writing example 0 of 1\n"
          ]
        },
        {
          "name": "stdout",
          "output_type": "stream",
          "text": [
            "5101\n",
            "5102\n",
            "5103\n",
            "5104\n"
          ]
        },
        {
          "name": "stderr",
          "output_type": "stream",
          "text": [
            "INFO:root:Writing example 0 of 1\n",
            "INFO:root:Writing example 0 of 1\n",
            "INFO:root:Writing example 0 of 1\n",
            "INFO:root:Writing example 0 of 1\n"
          ]
        },
        {
          "name": "stdout",
          "output_type": "stream",
          "text": [
            "5105\n",
            "5106\n",
            "5107\n",
            "5108\n"
          ]
        },
        {
          "name": "stderr",
          "output_type": "stream",
          "text": [
            "INFO:root:Writing example 0 of 1\n",
            "INFO:root:Writing example 0 of 1\n",
            "INFO:root:Writing example 0 of 1\n",
            "INFO:root:Writing example 0 of 1\n"
          ]
        },
        {
          "name": "stdout",
          "output_type": "stream",
          "text": [
            "5109\n",
            "5110\n",
            "5111\n",
            "5112\n"
          ]
        },
        {
          "name": "stderr",
          "output_type": "stream",
          "text": [
            "INFO:root:Writing example 0 of 1\n",
            "INFO:root:Writing example 0 of 1\n",
            "INFO:root:Writing example 0 of 1\n",
            "INFO:root:Writing example 0 of 1\n"
          ]
        },
        {
          "name": "stdout",
          "output_type": "stream",
          "text": [
            "5113\n",
            "5114\n",
            "5115\n",
            "5116\n"
          ]
        },
        {
          "name": "stderr",
          "output_type": "stream",
          "text": [
            "INFO:root:Writing example 0 of 1\n",
            "INFO:root:Writing example 0 of 1\n",
            "INFO:root:Writing example 0 of 1\n",
            "INFO:root:Writing example 0 of 1\n"
          ]
        },
        {
          "name": "stdout",
          "output_type": "stream",
          "text": [
            "5117\n",
            "5118\n",
            "5119\n",
            "5120\n"
          ]
        },
        {
          "name": "stderr",
          "output_type": "stream",
          "text": [
            "INFO:root:Writing example 0 of 1\n",
            "INFO:root:Writing example 0 of 1\n",
            "INFO:root:Writing example 0 of 1\n",
            "INFO:root:Writing example 0 of 1\n"
          ]
        },
        {
          "name": "stdout",
          "output_type": "stream",
          "text": [
            "5121\n",
            "5122\n",
            "5123\n",
            "5124\n"
          ]
        },
        {
          "name": "stderr",
          "output_type": "stream",
          "text": [
            "INFO:root:Writing example 0 of 1\n",
            "INFO:root:Writing example 0 of 1\n",
            "INFO:root:Writing example 0 of 1\n",
            "INFO:root:Writing example 0 of 1\n"
          ]
        },
        {
          "name": "stdout",
          "output_type": "stream",
          "text": [
            "5125\n",
            "5126\n",
            "5127\n",
            "5128\n"
          ]
        },
        {
          "name": "stderr",
          "output_type": "stream",
          "text": [
            "INFO:root:Writing example 0 of 1\n",
            "INFO:root:Writing example 0 of 1\n",
            "INFO:root:Writing example 0 of 1\n",
            "INFO:root:Writing example 0 of 1\n"
          ]
        },
        {
          "name": "stdout",
          "output_type": "stream",
          "text": [
            "5129\n",
            "5130\n",
            "5131\n",
            "5132\n"
          ]
        },
        {
          "name": "stderr",
          "output_type": "stream",
          "text": [
            "INFO:root:Writing example 0 of 1\n",
            "INFO:root:Writing example 0 of 1\n",
            "INFO:root:Writing example 0 of 1\n",
            "INFO:root:Writing example 0 of 1\n"
          ]
        },
        {
          "name": "stdout",
          "output_type": "stream",
          "text": [
            "5133\n",
            "5134\n",
            "5135\n",
            "5136\n"
          ]
        },
        {
          "name": "stderr",
          "output_type": "stream",
          "text": [
            "INFO:root:Writing example 0 of 1\n",
            "INFO:root:Writing example 0 of 1\n",
            "INFO:root:Writing example 0 of 1\n",
            "INFO:root:Writing example 0 of 1\n"
          ]
        },
        {
          "name": "stdout",
          "output_type": "stream",
          "text": [
            "5137\n",
            "5138\n",
            "5139\n",
            "5140\n"
          ]
        },
        {
          "name": "stderr",
          "output_type": "stream",
          "text": [
            "INFO:root:Writing example 0 of 1\n",
            "INFO:root:Writing example 0 of 1\n",
            "INFO:root:Writing example 0 of 1\n",
            "INFO:root:Writing example 0 of 1\n"
          ]
        },
        {
          "name": "stdout",
          "output_type": "stream",
          "text": [
            "5141\n",
            "5142\n",
            "5143\n",
            "5144\n"
          ]
        },
        {
          "name": "stderr",
          "output_type": "stream",
          "text": [
            "INFO:root:Writing example 0 of 1\n",
            "INFO:root:Writing example 0 of 1\n",
            "INFO:root:Writing example 0 of 1\n",
            "INFO:root:Writing example 0 of 1\n"
          ]
        },
        {
          "name": "stdout",
          "output_type": "stream",
          "text": [
            "5145\n",
            "5146\n",
            "5147\n",
            "5148\n"
          ]
        },
        {
          "name": "stderr",
          "output_type": "stream",
          "text": [
            "INFO:root:Writing example 0 of 1\n",
            "INFO:root:Writing example 0 of 1\n",
            "INFO:root:Writing example 0 of 1\n",
            "INFO:root:Writing example 0 of 1\n"
          ]
        },
        {
          "name": "stdout",
          "output_type": "stream",
          "text": [
            "5149\n",
            "5150\n",
            "5151\n",
            "5152\n"
          ]
        },
        {
          "name": "stderr",
          "output_type": "stream",
          "text": [
            "INFO:root:Writing example 0 of 1\n",
            "INFO:root:Writing example 0 of 1\n",
            "INFO:root:Writing example 0 of 1\n",
            "INFO:root:Writing example 0 of 1\n"
          ]
        },
        {
          "name": "stdout",
          "output_type": "stream",
          "text": [
            "5153\n",
            "5154\n",
            "5155\n",
            "5156\n"
          ]
        },
        {
          "name": "stderr",
          "output_type": "stream",
          "text": [
            "INFO:root:Writing example 0 of 1\n",
            "INFO:root:Writing example 0 of 1\n",
            "INFO:root:Writing example 0 of 1\n",
            "INFO:root:Writing example 0 of 1\n"
          ]
        },
        {
          "name": "stdout",
          "output_type": "stream",
          "text": [
            "5157\n",
            "5158\n",
            "5159\n",
            "5160\n"
          ]
        },
        {
          "name": "stderr",
          "output_type": "stream",
          "text": [
            "INFO:root:Writing example 0 of 1\n",
            "INFO:root:Writing example 0 of 1\n",
            "INFO:root:Writing example 0 of 1\n",
            "INFO:root:Writing example 0 of 1\n"
          ]
        },
        {
          "name": "stdout",
          "output_type": "stream",
          "text": [
            "5161\n",
            "5162\n",
            "5163\n",
            "5164\n"
          ]
        },
        {
          "name": "stderr",
          "output_type": "stream",
          "text": [
            "INFO:root:Writing example 0 of 1\n",
            "INFO:root:Writing example 0 of 1\n",
            "INFO:root:Writing example 0 of 1\n",
            "INFO:root:Writing example 0 of 1\n"
          ]
        },
        {
          "name": "stdout",
          "output_type": "stream",
          "text": [
            "5165\n",
            "5166\n",
            "5167\n",
            "5168\n"
          ]
        },
        {
          "name": "stderr",
          "output_type": "stream",
          "text": [
            "INFO:root:Writing example 0 of 1\n",
            "INFO:root:Writing example 0 of 1\n",
            "INFO:root:Writing example 0 of 1\n",
            "INFO:root:Writing example 0 of 1\n"
          ]
        },
        {
          "name": "stdout",
          "output_type": "stream",
          "text": [
            "5169\n",
            "5170\n",
            "5171\n",
            "5172\n"
          ]
        },
        {
          "name": "stderr",
          "output_type": "stream",
          "text": [
            "INFO:root:Writing example 0 of 1\n",
            "INFO:root:Writing example 0 of 1\n",
            "INFO:root:Writing example 0 of 1\n",
            "INFO:root:Writing example 0 of 1\n"
          ]
        },
        {
          "name": "stdout",
          "output_type": "stream",
          "text": [
            "5173\n",
            "5174\n",
            "5175\n",
            "5176\n"
          ]
        },
        {
          "name": "stderr",
          "output_type": "stream",
          "text": [
            "INFO:root:Writing example 0 of 1\n",
            "INFO:root:Writing example 0 of 1\n",
            "INFO:root:Writing example 0 of 1\n",
            "INFO:root:Writing example 0 of 1\n"
          ]
        },
        {
          "name": "stdout",
          "output_type": "stream",
          "text": [
            "5177\n",
            "5178\n",
            "5179\n",
            "5180\n"
          ]
        },
        {
          "name": "stderr",
          "output_type": "stream",
          "text": [
            "INFO:root:Writing example 0 of 1\n",
            "INFO:root:Writing example 0 of 1\n",
            "INFO:root:Writing example 0 of 1\n",
            "INFO:root:Writing example 0 of 1\n"
          ]
        },
        {
          "name": "stdout",
          "output_type": "stream",
          "text": [
            "5181\n",
            "5182\n",
            "5183\n",
            "5184\n"
          ]
        },
        {
          "name": "stderr",
          "output_type": "stream",
          "text": [
            "INFO:root:Writing example 0 of 1\n",
            "INFO:root:Writing example 0 of 1\n",
            "INFO:root:Writing example 0 of 1\n",
            "INFO:root:Writing example 0 of 1\n"
          ]
        },
        {
          "name": "stdout",
          "output_type": "stream",
          "text": [
            "5185\n",
            "5186\n",
            "5187\n",
            "5188\n"
          ]
        },
        {
          "name": "stderr",
          "output_type": "stream",
          "text": [
            "INFO:root:Writing example 0 of 1\n",
            "INFO:root:Writing example 0 of 1\n",
            "INFO:root:Writing example 0 of 1\n",
            "INFO:root:Writing example 0 of 1\n"
          ]
        },
        {
          "name": "stdout",
          "output_type": "stream",
          "text": [
            "5189\n",
            "5190\n",
            "5191\n",
            "5192\n"
          ]
        },
        {
          "name": "stderr",
          "output_type": "stream",
          "text": [
            "INFO:root:Writing example 0 of 1\n",
            "INFO:root:Writing example 0 of 1\n",
            "INFO:root:Writing example 0 of 1\n",
            "INFO:root:Writing example 0 of 1\n"
          ]
        },
        {
          "name": "stdout",
          "output_type": "stream",
          "text": [
            "5193\n",
            "5194\n",
            "5195\n",
            "5196\n"
          ]
        },
        {
          "name": "stderr",
          "output_type": "stream",
          "text": [
            "INFO:root:Writing example 0 of 1\n",
            "INFO:root:Writing example 0 of 1\n",
            "INFO:root:Writing example 0 of 1\n",
            "INFO:root:Writing example 0 of 1\n"
          ]
        },
        {
          "name": "stdout",
          "output_type": "stream",
          "text": [
            "5197\n",
            "5198\n",
            "5199\n",
            "5200\n"
          ]
        },
        {
          "name": "stderr",
          "output_type": "stream",
          "text": [
            "INFO:root:Writing example 0 of 1\n",
            "INFO:root:Writing example 0 of 1\n",
            "INFO:root:Writing example 0 of 1\n",
            "INFO:root:Writing example 0 of 1\n"
          ]
        },
        {
          "name": "stdout",
          "output_type": "stream",
          "text": [
            "5201\n",
            "5202\n",
            "5203\n",
            "5204\n"
          ]
        },
        {
          "name": "stderr",
          "output_type": "stream",
          "text": [
            "INFO:root:Writing example 0 of 1\n",
            "INFO:root:Writing example 0 of 1\n",
            "INFO:root:Writing example 0 of 1\n",
            "INFO:root:Writing example 0 of 1\n"
          ]
        },
        {
          "name": "stdout",
          "output_type": "stream",
          "text": [
            "5205\n",
            "5206\n",
            "5207\n",
            "5208\n"
          ]
        },
        {
          "name": "stderr",
          "output_type": "stream",
          "text": [
            "INFO:root:Writing example 0 of 1\n",
            "INFO:root:Writing example 0 of 1\n",
            "INFO:root:Writing example 0 of 1\n",
            "INFO:root:Writing example 0 of 1\n"
          ]
        },
        {
          "name": "stdout",
          "output_type": "stream",
          "text": [
            "5209\n",
            "5210\n",
            "5211\n",
            "5212\n"
          ]
        },
        {
          "name": "stderr",
          "output_type": "stream",
          "text": [
            "INFO:root:Writing example 0 of 1\n",
            "INFO:root:Writing example 0 of 1\n",
            "INFO:root:Writing example 0 of 1\n",
            "INFO:root:Writing example 0 of 1\n"
          ]
        },
        {
          "name": "stdout",
          "output_type": "stream",
          "text": [
            "5213\n",
            "5214\n",
            "5215\n",
            "5216\n"
          ]
        },
        {
          "name": "stderr",
          "output_type": "stream",
          "text": [
            "INFO:root:Writing example 0 of 1\n",
            "INFO:root:Writing example 0 of 1\n",
            "INFO:root:Writing example 0 of 1\n",
            "INFO:root:Writing example 0 of 1\n"
          ]
        },
        {
          "name": "stdout",
          "output_type": "stream",
          "text": [
            "5217\n",
            "5218\n",
            "5219\n",
            "5220\n"
          ]
        },
        {
          "name": "stderr",
          "output_type": "stream",
          "text": [
            "INFO:root:Writing example 0 of 1\n",
            "INFO:root:Writing example 0 of 1\n",
            "INFO:root:Writing example 0 of 1\n",
            "INFO:root:Writing example 0 of 1\n"
          ]
        },
        {
          "name": "stdout",
          "output_type": "stream",
          "text": [
            "5221\n",
            "5222\n",
            "5223\n",
            "5224\n"
          ]
        },
        {
          "name": "stderr",
          "output_type": "stream",
          "text": [
            "INFO:root:Writing example 0 of 1\n",
            "INFO:root:Writing example 0 of 1\n",
            "INFO:root:Writing example 0 of 1\n",
            "INFO:root:Writing example 0 of 1\n"
          ]
        },
        {
          "name": "stdout",
          "output_type": "stream",
          "text": [
            "5225\n",
            "5226\n",
            "5227\n",
            "5228\n"
          ]
        },
        {
          "name": "stderr",
          "output_type": "stream",
          "text": [
            "INFO:root:Writing example 0 of 1\n",
            "INFO:root:Writing example 0 of 1\n",
            "INFO:root:Writing example 0 of 1\n",
            "INFO:root:Writing example 0 of 1\n"
          ]
        },
        {
          "name": "stdout",
          "output_type": "stream",
          "text": [
            "5229\n",
            "5230\n",
            "5231\n",
            "5232\n"
          ]
        },
        {
          "name": "stderr",
          "output_type": "stream",
          "text": [
            "INFO:root:Writing example 0 of 1\n",
            "INFO:root:Writing example 0 of 1\n",
            "INFO:root:Writing example 0 of 1\n",
            "INFO:root:Writing example 0 of 1\n"
          ]
        },
        {
          "name": "stdout",
          "output_type": "stream",
          "text": [
            "5233\n",
            "5234\n",
            "5235\n",
            "5236\n"
          ]
        },
        {
          "name": "stderr",
          "output_type": "stream",
          "text": [
            "INFO:root:Writing example 0 of 1\n",
            "INFO:root:Writing example 0 of 1\n",
            "INFO:root:Writing example 0 of 1\n",
            "INFO:root:Writing example 0 of 1\n"
          ]
        },
        {
          "name": "stdout",
          "output_type": "stream",
          "text": [
            "5237\n",
            "5238\n",
            "5239\n",
            "5240\n"
          ]
        },
        {
          "name": "stderr",
          "output_type": "stream",
          "text": [
            "INFO:root:Writing example 0 of 1\n",
            "INFO:root:Writing example 0 of 1\n",
            "INFO:root:Writing example 0 of 1\n",
            "INFO:root:Writing example 0 of 1\n"
          ]
        },
        {
          "name": "stdout",
          "output_type": "stream",
          "text": [
            "5241\n",
            "5242\n",
            "5243\n",
            "5244\n"
          ]
        },
        {
          "name": "stderr",
          "output_type": "stream",
          "text": [
            "INFO:root:Writing example 0 of 1\n",
            "INFO:root:Writing example 0 of 1\n",
            "INFO:root:Writing example 0 of 1\n",
            "INFO:root:Writing example 0 of 1\n"
          ]
        },
        {
          "name": "stdout",
          "output_type": "stream",
          "text": [
            "5245\n",
            "5246\n",
            "5247\n",
            "5248\n"
          ]
        },
        {
          "name": "stderr",
          "output_type": "stream",
          "text": [
            "INFO:root:Writing example 0 of 1\n",
            "INFO:root:Writing example 0 of 1\n",
            "INFO:root:Writing example 0 of 1\n",
            "INFO:root:Writing example 0 of 1\n"
          ]
        },
        {
          "name": "stdout",
          "output_type": "stream",
          "text": [
            "5249\n",
            "5250\n",
            "5251\n",
            "5252\n"
          ]
        },
        {
          "name": "stderr",
          "output_type": "stream",
          "text": [
            "INFO:root:Writing example 0 of 1\n",
            "INFO:root:Writing example 0 of 1\n",
            "INFO:root:Writing example 0 of 1\n",
            "INFO:root:Writing example 0 of 1\n"
          ]
        },
        {
          "name": "stdout",
          "output_type": "stream",
          "text": [
            "5253\n",
            "5254\n",
            "5255\n",
            "5256\n"
          ]
        },
        {
          "name": "stderr",
          "output_type": "stream",
          "text": [
            "INFO:root:Writing example 0 of 1\n",
            "INFO:root:Writing example 0 of 1\n",
            "INFO:root:Writing example 0 of 1\n",
            "INFO:root:Writing example 0 of 1\n"
          ]
        },
        {
          "name": "stdout",
          "output_type": "stream",
          "text": [
            "5257\n",
            "5258\n",
            "5259\n",
            "5260\n"
          ]
        },
        {
          "name": "stderr",
          "output_type": "stream",
          "text": [
            "INFO:root:Writing example 0 of 1\n",
            "INFO:root:Writing example 0 of 1\n",
            "INFO:root:Writing example 0 of 1\n",
            "INFO:root:Writing example 0 of 1\n"
          ]
        },
        {
          "name": "stdout",
          "output_type": "stream",
          "text": [
            "5261\n",
            "5262\n",
            "5263\n",
            "5264\n"
          ]
        },
        {
          "name": "stderr",
          "output_type": "stream",
          "text": [
            "INFO:root:Writing example 0 of 1\n",
            "INFO:root:Writing example 0 of 1\n",
            "INFO:root:Writing example 0 of 1\n",
            "INFO:root:Writing example 0 of 1\n"
          ]
        },
        {
          "name": "stdout",
          "output_type": "stream",
          "text": [
            "5265\n",
            "5266\n",
            "5267\n",
            "5268\n"
          ]
        },
        {
          "name": "stderr",
          "output_type": "stream",
          "text": [
            "INFO:root:Writing example 0 of 1\n",
            "INFO:root:Writing example 0 of 1\n",
            "INFO:root:Writing example 0 of 1\n",
            "INFO:root:Writing example 0 of 1\n"
          ]
        },
        {
          "name": "stdout",
          "output_type": "stream",
          "text": [
            "5269\n",
            "5270\n",
            "5271\n",
            "5272\n"
          ]
        },
        {
          "name": "stderr",
          "output_type": "stream",
          "text": [
            "INFO:root:Writing example 0 of 1\n",
            "INFO:root:Writing example 0 of 1\n",
            "INFO:root:Writing example 0 of 1\n",
            "INFO:root:Writing example 0 of 1\n"
          ]
        },
        {
          "name": "stdout",
          "output_type": "stream",
          "text": [
            "5273\n",
            "5274\n",
            "5275\n",
            "5276\n"
          ]
        },
        {
          "name": "stderr",
          "output_type": "stream",
          "text": [
            "INFO:root:Writing example 0 of 1\n",
            "INFO:root:Writing example 0 of 1\n",
            "INFO:root:Writing example 0 of 1\n",
            "INFO:root:Writing example 0 of 1\n"
          ]
        },
        {
          "name": "stdout",
          "output_type": "stream",
          "text": [
            "5277\n",
            "5278\n",
            "5279\n",
            "5280\n"
          ]
        },
        {
          "name": "stderr",
          "output_type": "stream",
          "text": [
            "INFO:root:Writing example 0 of 1\n",
            "INFO:root:Writing example 0 of 1\n",
            "INFO:root:Writing example 0 of 1\n",
            "INFO:root:Writing example 0 of 1\n"
          ]
        },
        {
          "name": "stdout",
          "output_type": "stream",
          "text": [
            "5281\n",
            "5282\n",
            "5283\n",
            "5284\n"
          ]
        },
        {
          "name": "stderr",
          "output_type": "stream",
          "text": [
            "INFO:root:Writing example 0 of 1\n",
            "INFO:root:Writing example 0 of 1\n",
            "INFO:root:Writing example 0 of 1\n",
            "INFO:root:Writing example 0 of 1\n"
          ]
        },
        {
          "name": "stdout",
          "output_type": "stream",
          "text": [
            "5285\n",
            "5286\n",
            "5287\n",
            "5288\n"
          ]
        },
        {
          "name": "stderr",
          "output_type": "stream",
          "text": [
            "INFO:root:Writing example 0 of 1\n",
            "INFO:root:Writing example 0 of 1\n",
            "INFO:root:Writing example 0 of 1\n",
            "INFO:root:Writing example 0 of 1\n"
          ]
        },
        {
          "name": "stdout",
          "output_type": "stream",
          "text": [
            "5289\n",
            "5290\n",
            "5291\n",
            "5292\n"
          ]
        },
        {
          "name": "stderr",
          "output_type": "stream",
          "text": [
            "INFO:root:Writing example 0 of 1\n",
            "INFO:root:Writing example 0 of 1\n",
            "INFO:root:Writing example 0 of 1\n",
            "INFO:root:Writing example 0 of 1\n"
          ]
        },
        {
          "name": "stdout",
          "output_type": "stream",
          "text": [
            "5293\n",
            "5294\n",
            "5295\n",
            "5296\n"
          ]
        },
        {
          "name": "stderr",
          "output_type": "stream",
          "text": [
            "INFO:root:Writing example 0 of 1\n",
            "INFO:root:Writing example 0 of 1\n",
            "INFO:root:Writing example 0 of 1\n",
            "INFO:root:Writing example 0 of 1\n"
          ]
        },
        {
          "name": "stdout",
          "output_type": "stream",
          "text": [
            "5297\n",
            "5298\n",
            "5299\n",
            "5300\n"
          ]
        },
        {
          "name": "stderr",
          "output_type": "stream",
          "text": [
            "INFO:root:Writing example 0 of 1\n",
            "INFO:root:Writing example 0 of 1\n",
            "INFO:root:Writing example 0 of 1\n",
            "INFO:root:Writing example 0 of 1\n"
          ]
        },
        {
          "name": "stdout",
          "output_type": "stream",
          "text": [
            "5301\n",
            "5302\n",
            "5303\n",
            "5304\n"
          ]
        },
        {
          "name": "stderr",
          "output_type": "stream",
          "text": [
            "INFO:root:Writing example 0 of 1\n",
            "INFO:root:Writing example 0 of 1\n",
            "INFO:root:Writing example 0 of 1\n",
            "INFO:root:Writing example 0 of 1\n"
          ]
        },
        {
          "name": "stdout",
          "output_type": "stream",
          "text": [
            "5305\n",
            "5306\n",
            "5307\n",
            "5308\n"
          ]
        },
        {
          "name": "stderr",
          "output_type": "stream",
          "text": [
            "INFO:root:Writing example 0 of 1\n",
            "INFO:root:Writing example 0 of 1\n",
            "INFO:root:Writing example 0 of 1\n",
            "INFO:root:Writing example 0 of 1\n"
          ]
        },
        {
          "name": "stdout",
          "output_type": "stream",
          "text": [
            "5309\n",
            "5310\n",
            "5311\n",
            "5312\n"
          ]
        },
        {
          "name": "stderr",
          "output_type": "stream",
          "text": [
            "INFO:root:Writing example 0 of 1\n",
            "INFO:root:Writing example 0 of 1\n",
            "INFO:root:Writing example 0 of 1\n",
            "INFO:root:Writing example 0 of 1\n"
          ]
        },
        {
          "name": "stdout",
          "output_type": "stream",
          "text": [
            "5313\n",
            "5314\n",
            "5315\n",
            "5316\n"
          ]
        },
        {
          "name": "stderr",
          "output_type": "stream",
          "text": [
            "INFO:root:Writing example 0 of 1\n",
            "INFO:root:Writing example 0 of 1\n",
            "INFO:root:Writing example 0 of 1\n",
            "INFO:root:Writing example 0 of 1\n"
          ]
        },
        {
          "name": "stdout",
          "output_type": "stream",
          "text": [
            "5317\n",
            "5318\n",
            "5319\n",
            "5320\n"
          ]
        },
        {
          "name": "stderr",
          "output_type": "stream",
          "text": [
            "INFO:root:Writing example 0 of 1\n",
            "INFO:root:Writing example 0 of 1\n",
            "INFO:root:Writing example 0 of 1\n",
            "INFO:root:Writing example 0 of 1\n"
          ]
        },
        {
          "name": "stdout",
          "output_type": "stream",
          "text": [
            "5321\n",
            "5322\n",
            "5323\n",
            "5324\n"
          ]
        },
        {
          "name": "stderr",
          "output_type": "stream",
          "text": [
            "INFO:root:Writing example 0 of 1\n",
            "INFO:root:Writing example 0 of 1\n",
            "INFO:root:Writing example 0 of 1\n",
            "INFO:root:Writing example 0 of 1\n"
          ]
        },
        {
          "name": "stdout",
          "output_type": "stream",
          "text": [
            "5325\n",
            "5326\n",
            "5327\n",
            "5328\n"
          ]
        },
        {
          "name": "stderr",
          "output_type": "stream",
          "text": [
            "INFO:root:Writing example 0 of 1\n",
            "INFO:root:Writing example 0 of 1\n",
            "INFO:root:Writing example 0 of 1\n",
            "INFO:root:Writing example 0 of 1\n"
          ]
        },
        {
          "name": "stdout",
          "output_type": "stream",
          "text": [
            "5329\n",
            "5330\n",
            "5331\n",
            "5332\n"
          ]
        },
        {
          "name": "stderr",
          "output_type": "stream",
          "text": [
            "INFO:root:Writing example 0 of 1\n",
            "INFO:root:Writing example 0 of 1\n",
            "INFO:root:Writing example 0 of 1\n",
            "INFO:root:Writing example 0 of 1\n"
          ]
        },
        {
          "name": "stdout",
          "output_type": "stream",
          "text": [
            "5333\n",
            "5334\n",
            "5335\n",
            "5336\n"
          ]
        },
        {
          "name": "stderr",
          "output_type": "stream",
          "text": [
            "INFO:root:Writing example 0 of 1\n",
            "INFO:root:Writing example 0 of 1\n",
            "INFO:root:Writing example 0 of 1\n",
            "INFO:root:Writing example 0 of 1\n"
          ]
        },
        {
          "name": "stdout",
          "output_type": "stream",
          "text": [
            "5337\n",
            "5338\n",
            "5339\n",
            "5340\n"
          ]
        },
        {
          "name": "stderr",
          "output_type": "stream",
          "text": [
            "INFO:root:Writing example 0 of 1\n",
            "INFO:root:Writing example 0 of 1\n",
            "INFO:root:Writing example 0 of 1\n",
            "INFO:root:Writing example 0 of 1\n"
          ]
        },
        {
          "name": "stdout",
          "output_type": "stream",
          "text": [
            "5341\n",
            "5342\n",
            "5343\n",
            "5344\n"
          ]
        },
        {
          "name": "stderr",
          "output_type": "stream",
          "text": [
            "INFO:root:Writing example 0 of 1\n",
            "INFO:root:Writing example 0 of 1\n",
            "INFO:root:Writing example 0 of 1\n",
            "INFO:root:Writing example 0 of 1\n"
          ]
        },
        {
          "name": "stdout",
          "output_type": "stream",
          "text": [
            "5345\n",
            "5346\n",
            "5347\n",
            "5348\n"
          ]
        },
        {
          "name": "stderr",
          "output_type": "stream",
          "text": [
            "INFO:root:Writing example 0 of 1\n",
            "INFO:root:Writing example 0 of 1\n",
            "INFO:root:Writing example 0 of 1\n",
            "INFO:root:Writing example 0 of 1\n"
          ]
        },
        {
          "name": "stdout",
          "output_type": "stream",
          "text": [
            "5349\n",
            "5350\n",
            "5351\n",
            "5352\n"
          ]
        },
        {
          "name": "stderr",
          "output_type": "stream",
          "text": [
            "INFO:root:Writing example 0 of 1\n",
            "INFO:root:Writing example 0 of 1\n",
            "INFO:root:Writing example 0 of 1\n",
            "INFO:root:Writing example 0 of 1\n"
          ]
        },
        {
          "name": "stdout",
          "output_type": "stream",
          "text": [
            "5353\n",
            "5354\n",
            "5355\n",
            "5356\n"
          ]
        },
        {
          "name": "stderr",
          "output_type": "stream",
          "text": [
            "INFO:root:Writing example 0 of 1\n",
            "INFO:root:Writing example 0 of 1\n",
            "INFO:root:Writing example 0 of 1\n",
            "INFO:root:Writing example 0 of 1\n"
          ]
        },
        {
          "name": "stdout",
          "output_type": "stream",
          "text": [
            "5357\n",
            "5358\n",
            "5359\n",
            "5360\n"
          ]
        },
        {
          "name": "stderr",
          "output_type": "stream",
          "text": [
            "INFO:root:Writing example 0 of 1\n",
            "INFO:root:Writing example 0 of 1\n",
            "INFO:root:Writing example 0 of 1\n",
            "INFO:root:Writing example 0 of 1\n"
          ]
        },
        {
          "name": "stdout",
          "output_type": "stream",
          "text": [
            "5361\n",
            "5362\n",
            "5363\n",
            "5364\n"
          ]
        },
        {
          "name": "stderr",
          "output_type": "stream",
          "text": [
            "INFO:root:Writing example 0 of 1\n",
            "INFO:root:Writing example 0 of 1\n",
            "INFO:root:Writing example 0 of 1\n",
            "INFO:root:Writing example 0 of 1\n"
          ]
        },
        {
          "name": "stdout",
          "output_type": "stream",
          "text": [
            "5365\n",
            "5366\n",
            "5367\n",
            "5368\n"
          ]
        },
        {
          "name": "stderr",
          "output_type": "stream",
          "text": [
            "INFO:root:Writing example 0 of 1\n",
            "INFO:root:Writing example 0 of 1\n",
            "INFO:root:Writing example 0 of 1\n",
            "INFO:root:Writing example 0 of 1\n"
          ]
        },
        {
          "name": "stdout",
          "output_type": "stream",
          "text": [
            "5369\n",
            "5370\n",
            "5371\n",
            "5372\n"
          ]
        },
        {
          "name": "stderr",
          "output_type": "stream",
          "text": [
            "INFO:root:Writing example 0 of 1\n",
            "INFO:root:Writing example 0 of 1\n",
            "INFO:root:Writing example 0 of 1\n",
            "INFO:root:Writing example 0 of 1\n"
          ]
        },
        {
          "name": "stdout",
          "output_type": "stream",
          "text": [
            "5373\n",
            "5374\n",
            "5375\n",
            "5376\n"
          ]
        },
        {
          "name": "stderr",
          "output_type": "stream",
          "text": [
            "INFO:root:Writing example 0 of 1\n",
            "INFO:root:Writing example 0 of 1\n",
            "INFO:root:Writing example 0 of 1\n",
            "INFO:root:Writing example 0 of 1\n"
          ]
        },
        {
          "name": "stdout",
          "output_type": "stream",
          "text": [
            "5377\n",
            "5378\n",
            "5379\n",
            "5380\n"
          ]
        },
        {
          "name": "stderr",
          "output_type": "stream",
          "text": [
            "INFO:root:Writing example 0 of 1\n",
            "INFO:root:Writing example 0 of 1\n",
            "INFO:root:Writing example 0 of 1\n",
            "INFO:root:Writing example 0 of 1\n"
          ]
        },
        {
          "name": "stdout",
          "output_type": "stream",
          "text": [
            "5381\n",
            "5382\n",
            "5383\n",
            "5384\n"
          ]
        },
        {
          "name": "stderr",
          "output_type": "stream",
          "text": [
            "INFO:root:Writing example 0 of 1\n",
            "INFO:root:Writing example 0 of 1\n",
            "INFO:root:Writing example 0 of 1\n",
            "INFO:root:Writing example 0 of 1\n"
          ]
        },
        {
          "name": "stdout",
          "output_type": "stream",
          "text": [
            "5385\n",
            "5386\n",
            "5387\n",
            "5388\n"
          ]
        },
        {
          "name": "stderr",
          "output_type": "stream",
          "text": [
            "INFO:root:Writing example 0 of 1\n",
            "INFO:root:Writing example 0 of 1\n",
            "INFO:root:Writing example 0 of 1\n",
            "INFO:root:Writing example 0 of 1\n"
          ]
        },
        {
          "name": "stdout",
          "output_type": "stream",
          "text": [
            "5389\n",
            "5390\n",
            "5391\n",
            "5392\n"
          ]
        },
        {
          "name": "stderr",
          "output_type": "stream",
          "text": [
            "INFO:root:Writing example 0 of 1\n",
            "INFO:root:Writing example 0 of 1\n",
            "INFO:root:Writing example 0 of 1\n",
            "INFO:root:Writing example 0 of 1\n"
          ]
        },
        {
          "name": "stdout",
          "output_type": "stream",
          "text": [
            "5393\n",
            "5394\n",
            "5395\n",
            "5396\n"
          ]
        },
        {
          "name": "stderr",
          "output_type": "stream",
          "text": [
            "INFO:root:Writing example 0 of 1\n",
            "INFO:root:Writing example 0 of 1\n",
            "INFO:root:Writing example 0 of 1\n",
            "INFO:root:Writing example 0 of 1\n"
          ]
        },
        {
          "name": "stdout",
          "output_type": "stream",
          "text": [
            "5397\n",
            "5398\n",
            "5399\n",
            "5400\n"
          ]
        },
        {
          "name": "stderr",
          "output_type": "stream",
          "text": [
            "INFO:root:Writing example 0 of 1\n",
            "INFO:root:Writing example 0 of 1\n",
            "INFO:root:Writing example 0 of 1\n",
            "INFO:root:Writing example 0 of 1\n"
          ]
        },
        {
          "name": "stdout",
          "output_type": "stream",
          "text": [
            "5401\n",
            "5402\n",
            "5403\n",
            "5404\n"
          ]
        },
        {
          "name": "stderr",
          "output_type": "stream",
          "text": [
            "INFO:root:Writing example 0 of 1\n",
            "INFO:root:Writing example 0 of 1\n",
            "INFO:root:Writing example 0 of 1\n",
            "INFO:root:Writing example 0 of 1\n"
          ]
        },
        {
          "name": "stdout",
          "output_type": "stream",
          "text": [
            "5405\n",
            "5406\n",
            "5407\n",
            "5408\n"
          ]
        },
        {
          "name": "stderr",
          "output_type": "stream",
          "text": [
            "INFO:root:Writing example 0 of 1\n",
            "INFO:root:Writing example 0 of 1\n",
            "INFO:root:Writing example 0 of 1\n",
            "INFO:root:Writing example 0 of 1\n"
          ]
        },
        {
          "name": "stdout",
          "output_type": "stream",
          "text": [
            "5409\n",
            "5410\n",
            "5411\n",
            "5412\n"
          ]
        },
        {
          "name": "stderr",
          "output_type": "stream",
          "text": [
            "INFO:root:Writing example 0 of 1\n",
            "INFO:root:Writing example 0 of 1\n",
            "INFO:root:Writing example 0 of 1\n",
            "INFO:root:Writing example 0 of 1\n"
          ]
        },
        {
          "name": "stdout",
          "output_type": "stream",
          "text": [
            "5413\n",
            "5414\n",
            "5415\n",
            "5416\n"
          ]
        },
        {
          "name": "stderr",
          "output_type": "stream",
          "text": [
            "INFO:root:Writing example 0 of 1\n",
            "INFO:root:Writing example 0 of 1\n",
            "INFO:root:Writing example 0 of 1\n",
            "INFO:root:Writing example 0 of 1\n"
          ]
        },
        {
          "name": "stdout",
          "output_type": "stream",
          "text": [
            "5417\n",
            "5418\n",
            "5419\n",
            "5420\n"
          ]
        },
        {
          "name": "stderr",
          "output_type": "stream",
          "text": [
            "INFO:root:Writing example 0 of 1\n",
            "INFO:root:Writing example 0 of 1\n",
            "INFO:root:Writing example 0 of 1\n",
            "INFO:root:Writing example 0 of 1\n"
          ]
        },
        {
          "name": "stdout",
          "output_type": "stream",
          "text": [
            "5421\n",
            "5422\n",
            "5423\n",
            "5424\n"
          ]
        },
        {
          "name": "stderr",
          "output_type": "stream",
          "text": [
            "INFO:root:Writing example 0 of 1\n",
            "INFO:root:Writing example 0 of 1\n"
          ]
        },
        {
          "name": "stdout",
          "output_type": "stream",
          "text": [
            "5425\n",
            "5426\n",
            "Empty DataFrame\n",
            "Columns: []\n",
            "Index: []\n",
            "[[0 0 0 ... 0 0 0]\n",
            " [0 0 0 ... 0 0 0]\n",
            " [0 0 0 ... 0 0 0]\n",
            " ...\n",
            " [0 0 0 ... 0 0 1]\n",
            " [0 0 0 ... 0 0 0]\n",
            " [0 0 0 ... 0 0 1]] [[0 0 0 ... 1 0 0]\n",
            " [0 0 0 ... 0 0 0]\n",
            " [0 0 0 ... 0 0 0]\n",
            " ...\n",
            " [0 0 0 ... 0 0 1]\n",
            " [0 0 0 ... 0 0 0]\n",
            " [0 0 0 ... 0 0 1]]\n",
            "              precision    recall  f1-score   support\n",
            "\n",
            "       anger       0.61      0.44      0.51       726\n",
            "     disgust       0.55      0.38      0.45       123\n",
            "        fear       0.66      0.64      0.65        98\n",
            "         joy       0.83      0.80      0.81      2104\n",
            "     sadness       0.67      0.48      0.56       379\n",
            "    surprise       0.62      0.56      0.59       677\n",
            "     neutral       0.66      0.67      0.66      1787\n",
            "\n",
            "   micro avg       0.71      0.65      0.68      5894\n",
            "   macro avg       0.66      0.57      0.60      5894\n",
            "weighted avg       0.71      0.65      0.68      5894\n",
            " samples avg       0.71      0.68      0.69      5894\n",
            "\n"
          ]
        }
      ],
      "source": [
        "#Evaluation metric\n",
        "\n",
        "import pandas as pd\n",
        "from sklearn.metrics import f1_score\n",
        "from fast_bert.prediction import BertClassificationPredictor\n",
        "import torch\n",
        "import numpy as np\n",
        "from sklearn.metrics import f1_score, precision_score, recall_score\n",
        "from sklearn.metrics import classification_report\n",
        "\n",
        "\n",
        "labels_list = ['anger', 'disgust', 'fear', 'joy', 'sadness', 'surprise', 'neutral']\n",
        "\n",
        "\n",
        "# Label to index mapping (assuming predictor returns label names)\n",
        "label_to_index = {label: i for i, label in enumerate(labels_list)}\n",
        "\n",
        "\n",
        "# Load validation dataset\n",
        "val_df = pd.read_csv('nlp_data/val.csv')\n",
        "\n",
        "# Initialize FastBert predictor\n",
        "predictor = BertClassificationPredictor(\n",
        "    model_path=\"model_path\",\n",
        "    label_path='nlp_data',\n",
        "    multi_label=True,\n",
        "    model_type='bert',\n",
        "    do_lower_case=False)\n",
        "\n",
        "\n",
        "texts = val_df['Clean_text'].tolist()\n",
        "\n",
        "true_labels = val_df[labels_list].values\n",
        "\n",
        "predictions = []\n",
        "count =0\n",
        "for text in texts:\n",
        "    print(count)\n",
        "    count=count+ 1\n",
        "    prediction = predictor.predict(text)\n",
        "\n",
        "    if prediction:\n",
        "        top_label = prediction[0][0]\n",
        "        top_index = label_to_index.get(top_label, -1)\n",
        "    else:\n",
        "        top_index = -1\n",
        "    binary_pred = [1 if i == top_index else 0 for i in range(len(labels_list))]\n",
        "    predictions.append(binary_pred)\n",
        "\n",
        "predictions = np.array(predictions)\n",
        "\n",
        "y_pred = torch.tensor(predictions, dtype=torch.float32)\n",
        "y_true = torch.tensor(true_labels, dtype=torch.float32)\n",
        "\n",
        "\n",
        "print(predictions,true_labels)\n",
        "report = classification_report(true_labels, predictions, target_names=labels_list)\n",
        "print(report)\n"
      ]
    }
  ],
  "metadata": {
    "accelerator": "GPU",
    "colab": {
      "gpuType": "T4",
      "provenance": []
    },
    "kernelspec": {
      "display_name": "Python 3",
      "language": "python",
      "name": "python3"
    },
    "language_info": {
      "codemirror_mode": {
        "name": "ipython",
        "version": 3
      },
      "file_extension": ".py",
      "mimetype": "text/x-python",
      "name": "python",
      "nbconvert_exporter": "python",
      "pygments_lexer": "ipython3",
      "version": "3.6.9"
    },
    "papermill": {
      "default_parameters": {},
      "duration": 11086.02875,
      "end_time": "2021-02-19T12:56:11.259504",
      "environment_variables": {},
      "exception": null,
      "input_path": "__notebook__.ipynb",
      "output_path": "__notebook__.ipynb",
      "parameters": {},
      "start_time": "2021-02-19T09:51:25.230754",
      "version": "2.2.2"
    }
  },
  "nbformat": 4,
  "nbformat_minor": 0
}